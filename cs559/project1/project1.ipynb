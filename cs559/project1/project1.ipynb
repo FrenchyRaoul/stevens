{
 "cells": [
  {
   "cell_type": "markdown",
   "metadata": {},
   "source": [
    "# Project 1\n",
    "### Nicholai L'Esperance"
   ]
  },
  {
   "cell_type": "code",
   "execution_count": 1,
   "metadata": {},
   "outputs": [],
   "source": [
    "# Imports\n",
    "from datetime import datetime as dt\n",
    "import numpy as np\n",
    "import pandas as pd\n",
    "import seaborn as sns\n",
    "from matplotlib import pyplot as plt\n",
    "import logging\n",
    "\n",
    "from sklearn.linear_model import LinearRegression, Lasso, Ridge, ElasticNet, LogisticRegression\n",
    "from sklearn.metrics import mean_squared_error, accuracy_score, precision_score, f1_score, confusion_matrix, recall_score\n",
    "from sklearn.preprocessing import StandardScaler"
   ]
  },
  {
   "cell_type": "code",
   "execution_count": 2,
   "metadata": {},
   "outputs": [
    {
     "name": "stderr",
     "output_type": "stream",
     "text": [
      "/Library/Frameworks/Python.framework/Versions/3.7/lib/python3.7/site-packages/IPython/core/interactiveshell.py:3072: DtypeWarning: Columns (22,32,34,49,55) have mixed types.Specify dtype option on import or set low_memory=False.\n",
      "  interactivity=interactivity, compiler=compiler, result=result)\n"
     ]
    },
    {
     "name": "stdout",
     "output_type": "stream",
     "text": [
      "(90275, 3)\n",
      "(2985217, 58)\n"
     ]
    }
   ],
   "source": [
    "# Read in raw data sources\n",
    "raw_2016_train = pd.read_csv('train_2016_v2.csv')\n",
    "raw_2016_property = pd.read_csv('properties_2016.csv')\n",
    "\n",
    "print(raw_2016_train.shape)\n",
    "print(raw_2016_property.shape)"
   ]
  },
  {
   "cell_type": "markdown",
   "metadata": {},
   "source": [
    "I used linear regression to impute so many times in this notebook, I decided to wrap it in a function."
   ]
  },
  {
   "cell_type": "code",
   "execution_count": 3,
   "metadata": {},
   "outputs": [],
   "source": [
    "def lr_impute(dataset: pd.DataFrame, column_name: str, x_cols: list):\n",
    "    model = LinearRegression()\n",
    "    train = dataset[dataset[column_name].notnull()] \n",
    "    model.fit(X=train[x_cols], y=train[column_name])\n",
    "    impute = model.predict(dataset[x_cols])\n",
    "    return dataset[column_name].fillna(pd.Series(impute, index=dataset.index)), model"
   ]
  },
  {
   "cell_type": "markdown",
   "metadata": {},
   "source": [
    "## EDA"
   ]
  },
  {
   "cell_type": "markdown",
   "metadata": {},
   "source": [
    "### a. Determine the number of missing values on each feature."
   ]
  },
  {
   "cell_type": "code",
   "execution_count": 4,
   "metadata": {},
   "outputs": [
    {
     "name": "stdout",
     "output_type": "stream",
     "text": [
      "(90275, 60)\n"
     ]
    }
   ],
   "source": [
    "raw_2016_data = raw_2016_train.merge(raw_2016_property, how='inner', on='parcelid')\n",
    "print(raw_2016_data.shape)"
   ]
  },
  {
   "cell_type": "code",
   "execution_count": 5,
   "metadata": {},
   "outputs": [
    {
     "data": {
      "text/plain": [
       "buildingclasstypeid             99.982276\n",
       "finishedsquarefeet13            99.963445\n",
       "basementsqft                    99.952368\n",
       "storytypeid                     99.952368\n",
       "yardbuildingsqft26              99.894766\n",
       "fireplaceflag                   99.754085\n",
       "architecturalstyletypeid        99.710883\n",
       "typeconstructiontypeid          99.668790\n",
       "finishedsquarefeet6             99.533647\n",
       "decktypeid                      99.271116\n",
       "poolsizesum                     98.926613\n",
       "pooltypeid10                    98.713930\n",
       "pooltypeid2                     98.666297\n",
       "taxdelinquencyyear              98.024924\n",
       "taxdelinquencyflag              98.024924\n",
       "hashottuborspa                  97.380227\n",
       "yardbuildingsqft17              97.068956\n",
       "finishedsquarefeet15            96.052063\n",
       "finishedsquarefeet50            92.405428\n",
       "finishedfloor1squarefeet        92.405428\n",
       "fireplacecnt                    89.358073\n",
       "threequarterbathnbr             86.697314\n",
       "pooltypeid7                     81.504292\n",
       "poolcnt                         80.170590\n",
       "numberofstories                 77.214068\n",
       "airconditioningtypeid           68.118527\n",
       "garagecarcnt                    66.837995\n",
       "garagetotalsqft                 66.837995\n",
       "regionidneighborhood            60.108557\n",
       "heatingorsystemtypeid           37.878704\n",
       "buildingqualitytypeid           36.456383\n",
       "propertyzoningdesc              35.405151\n",
       "unitcnt                         35.360842\n",
       "lotsizesquarefeet               11.243423\n",
       "finishedsquarefeet12             5.183052\n",
       "regionidcity                     1.997231\n",
       "calculatedbathnbr                1.309333\n",
       "fullbathcnt                      1.309333\n",
       "yearbuilt                        0.837441\n",
       "calculatedfinishedsquarefeet     0.732207\n",
       "censustractandblock              0.670174\n",
       "structuretaxvaluedollarcnt       0.420936\n",
       "regionidzip                      0.038770\n",
       "taxamount                        0.006646\n",
       "propertycountylandusecode        0.001108\n",
       "landtaxvaluedollarcnt            0.001108\n",
       "taxvaluedollarcnt                0.001108\n",
       "bedroomcnt                       0.000000\n",
       "logerror                         0.000000\n",
       "transactiondate                  0.000000\n",
       "assessmentyear                   0.000000\n",
       "bathroomcnt                      0.000000\n",
       "fips                             0.000000\n",
       "latitude                         0.000000\n",
       "roomcnt                          0.000000\n",
       "regionidcounty                   0.000000\n",
       "rawcensustractandblock           0.000000\n",
       "propertylandusetypeid            0.000000\n",
       "longitude                        0.000000\n",
       "parcelid                         0.000000\n",
       "dtype: float64"
      ]
     },
     "execution_count": 5,
     "metadata": {},
     "output_type": "execute_result"
    }
   ],
   "source": [
    "raw_2016_data.isna().sum().sort_values(ascending=False) / raw_2016_data.shape[0] * 100"
   ]
  },
  {
   "cell_type": "markdown",
   "metadata": {},
   "source": [
    "### What parcel ID has the more missing features?"
   ]
  },
  {
   "cell_type": "code",
   "execution_count": 6,
   "metadata": {},
   "outputs": [
    {
     "data": {
      "text/plain": [
       "17188934"
      ]
     },
     "execution_count": 6,
     "metadata": {},
     "output_type": "execute_result"
    }
   ],
   "source": [
    "raw_2016_data.loc[raw_2016_data.isna().sum(axis=1).idxmax(), 'parcelid']"
   ]
  },
  {
   "cell_type": "markdown",
   "metadata": {},
   "source": [
    "## Rows to Keep"
   ]
  },
  {
   "cell_type": "code",
   "execution_count": 7,
   "metadata": {},
   "outputs": [
    {
     "data": {
      "text/plain": [
       "28"
      ]
     },
     "execution_count": 7,
     "metadata": {},
     "output_type": "execute_result"
    }
   ],
   "source": [
    "cols_to_keep = ['parcelid', 'logerror', 'bathroomcnt', 'bedroomcnt', 'buildingqualitytypeid', 'calculatedfinishedsquarefeet', 'finishedsquarefeet6', \n",
    "                'fullbathcnt', 'garagecarcnt', 'garagetotalsqft', 'latitude', 'longitude', 'lotsizesquarefeet', 'poolcnt', 'poolsizesum', 'rawcensustractandblock', \n",
    "                'regionidcity', 'regionidcounty', 'roomcnt', 'threequarterbathnbr', 'unitcnt', 'yearbuilt', 'numberofstories', 'structuretaxvaluedollarcnt', \n",
    "                'taxvaluedollarcnt', 'assessmentyear', 'landtaxvaluedollarcnt', 'taxamount']\n",
    "len(cols_to_keep)"
   ]
  },
  {
   "cell_type": "code",
   "execution_count": 8,
   "metadata": {},
   "outputs": [
    {
     "data": {
      "text/plain": [
       "count    90275.000000\n",
       "mean         6.645849\n",
       "std          1.041990\n",
       "min          3.000000\n",
       "25%          6.000000\n",
       "50%          7.000000\n",
       "75%          7.000000\n",
       "max         15.000000\n",
       "dtype: float64"
      ]
     },
     "execution_count": 8,
     "metadata": {},
     "output_type": "execute_result"
    }
   ],
   "source": [
    "null_count = raw_2016_data[cols_to_keep].isna().sum(axis=1)\n",
    "null_count.describe()"
   ]
  },
  {
   "cell_type": "code",
   "execution_count": 9,
   "metadata": {},
   "outputs": [
    {
     "name": "stdout",
     "output_type": "stream",
     "text": [
      "1139\n"
     ]
    }
   ],
   "source": [
    "print(null_count.ge(10).sum())"
   ]
  },
  {
   "cell_type": "code",
   "execution_count": 10,
   "metadata": {},
   "outputs": [],
   "source": [
    "raw_2016_data = raw_2016_data[null_count.lt(10)]"
   ]
  },
  {
   "cell_type": "code",
   "execution_count": 11,
   "metadata": {},
   "outputs": [
    {
     "data": {
      "text/plain": [
       "(89136, 60)"
      ]
     },
     "execution_count": 11,
     "metadata": {},
     "output_type": "execute_result"
    }
   ],
   "source": [
    "raw_2016_data.shape"
   ]
  },
  {
   "cell_type": "markdown",
   "metadata": {},
   "source": [
    "### b) Determine the number of cities in each county"
   ]
  },
  {
   "cell_type": "code",
   "execution_count": 12,
   "metadata": {},
   "outputs": [
    {
     "data": {
      "text/html": [
       "<div>\n",
       "<style scoped>\n",
       "    .dataframe tbody tr th:only-of-type {\n",
       "        vertical-align: middle;\n",
       "    }\n",
       "\n",
       "    .dataframe tbody tr th {\n",
       "        vertical-align: top;\n",
       "    }\n",
       "\n",
       "    .dataframe thead th {\n",
       "        text-align: right;\n",
       "    }\n",
       "</style>\n",
       "<table border=\"1\" class=\"dataframe\">\n",
       "  <thead>\n",
       "    <tr style=\"text-align: right;\">\n",
       "      <th></th>\n",
       "      <th>regionidcity</th>\n",
       "    </tr>\n",
       "    <tr>\n",
       "      <th>regionidcounty</th>\n",
       "      <th></th>\n",
       "    </tr>\n",
       "  </thead>\n",
       "  <tbody>\n",
       "    <tr>\n",
       "      <th>1286.0</th>\n",
       "      <td>43</td>\n",
       "    </tr>\n",
       "    <tr>\n",
       "      <th>2061.0</th>\n",
       "      <td>19</td>\n",
       "    </tr>\n",
       "    <tr>\n",
       "      <th>3101.0</th>\n",
       "      <td>127</td>\n",
       "    </tr>\n",
       "  </tbody>\n",
       "</table>\n",
       "</div>"
      ],
      "text/plain": [
       "                regionidcity\n",
       "regionidcounty              \n",
       "1286.0                    43\n",
       "2061.0                    19\n",
       "3101.0                   127"
      ]
     },
     "execution_count": 12,
     "metadata": {},
     "output_type": "execute_result"
    }
   ],
   "source": [
    "raw_2016_data.groupby('regionidcounty').agg({'regionidcity': 'nunique'})"
   ]
  },
  {
   "cell_type": "markdown",
   "metadata": {},
   "source": [
    "### c) Determine which county has the highest logerror\n",
    "Let's do this by using the median for each county."
   ]
  },
  {
   "cell_type": "code",
   "execution_count": 13,
   "metadata": {},
   "outputs": [
    {
     "data": {
      "text/html": [
       "<div>\n",
       "<style scoped>\n",
       "    .dataframe tbody tr th:only-of-type {\n",
       "        vertical-align: middle;\n",
       "    }\n",
       "\n",
       "    .dataframe tbody tr th {\n",
       "        vertical-align: top;\n",
       "    }\n",
       "\n",
       "    .dataframe thead tr th {\n",
       "        text-align: left;\n",
       "    }\n",
       "\n",
       "    .dataframe thead tr:last-of-type th {\n",
       "        text-align: right;\n",
       "    }\n",
       "</style>\n",
       "<table border=\"1\" class=\"dataframe\">\n",
       "  <thead>\n",
       "    <tr>\n",
       "      <th></th>\n",
       "      <th colspan=\"2\" halign=\"left\">logerror</th>\n",
       "    </tr>\n",
       "    <tr>\n",
       "      <th></th>\n",
       "      <th>median</th>\n",
       "      <th>max</th>\n",
       "    </tr>\n",
       "    <tr>\n",
       "      <th>regionidcounty</th>\n",
       "      <th></th>\n",
       "      <th></th>\n",
       "    </tr>\n",
       "  </thead>\n",
       "  <tbody>\n",
       "    <tr>\n",
       "      <th>1286.0</th>\n",
       "      <td>0.006</td>\n",
       "      <td>3.289</td>\n",
       "    </tr>\n",
       "    <tr>\n",
       "      <th>2061.0</th>\n",
       "      <td>0.007</td>\n",
       "      <td>3.018</td>\n",
       "    </tr>\n",
       "    <tr>\n",
       "      <th>3101.0</th>\n",
       "      <td>0.005</td>\n",
       "      <td>4.737</td>\n",
       "    </tr>\n",
       "  </tbody>\n",
       "</table>\n",
       "</div>"
      ],
      "text/plain": [
       "               logerror       \n",
       "                 median    max\n",
       "regionidcounty                \n",
       "1286.0            0.006  3.289\n",
       "2061.0            0.007  3.018\n",
       "3101.0            0.005  4.737"
      ]
     },
     "execution_count": 13,
     "metadata": {},
     "output_type": "execute_result"
    }
   ],
   "source": [
    "raw_2016_data.groupby('regionidcounty').agg({'logerror': ['median', 'max']})"
   ]
  },
  {
   "cell_type": "markdown",
   "metadata": {},
   "source": [
    "So, county 2061 has the highest logerror on average."
   ]
  },
  {
   "cell_type": "markdown",
   "metadata": {},
   "source": [
    "### d) There are total of 17 columns containing column names with ‘id’. Referring to the data dictionary, which id’s can be eliminated? Justify your reasons. "
   ]
  },
  {
   "cell_type": "code",
   "execution_count": 14,
   "metadata": {},
   "outputs": [
    {
     "name": "stdout",
     "output_type": "stream",
     "text": [
      "parcelid, airconditioningtypeid, architecturalstyletypeid, buildingclasstypeid, buildingqualitytypeid, decktypeid, heatingorsystemtypeid, pooltypeid10, pooltypeid2, pooltypeid7, propertylandusetypeid, regionidcity, regionidcounty, regionidneighborhood, regionidzip, storytypeid, typeconstructiontypeid\n"
     ]
    }
   ],
   "source": [
    "id_cols = [col for col in raw_2016_data if 'id' in col]\n",
    "print(', '.join(id_cols))"
   ]
  },
  {
   "cell_type": "code",
   "execution_count": 15,
   "metadata": {},
   "outputs": [
    {
     "data": {
      "text/plain": [
       "buildingclasstypeid         99.982050\n",
       "storytypeid                 99.951759\n",
       "architecturalstyletypeid    99.707189\n",
       "typeconstructiontypeid      99.664558\n",
       "decktypeid                  99.261802\n",
       "pooltypeid10                98.699740\n",
       "pooltypeid2                 98.649255\n",
       "pooltypeid7                 81.267950\n",
       "airconditioningtypeid       67.739185\n",
       "regionidneighborhood        60.016155\n",
       "heatingorsystemtypeid       37.126414\n",
       "buildingqualitytypeid       35.651140\n",
       "regionidzip                  0.015706\n",
       "propertylandusetypeid        0.000000\n",
       "regionidcity                 0.000000\n",
       "regionidcounty               0.000000\n",
       "parcelid                     0.000000\n",
       "dtype: float64"
      ]
     },
     "execution_count": 15,
     "metadata": {},
     "output_type": "execute_result"
    }
   ],
   "source": [
    "raw_2016_data[id_cols].isna().sum().sort_values(ascending=False) / raw_2016_data.shape[0] * 100"
   ]
  },
  {
   "cell_type": "markdown",
   "metadata": {},
   "source": [
    "**1)** buildingclasstypeid will be dropped. There are not enough values.  \n",
    "**2)** storytypeid (same)  \n",
    "**3)** architecturalstyletypeid (same)  \n",
    "**4)** typecontructiontypeid (same)  \n",
    "**5)** decktypeid (same)  \n",
    "**6-8)** pooltype id cols are mostly useless, but perhaps we can scrape something from these columns along with poolcnt and poolsizesum   \n",
    "**9)** airconditioningtypeid has enough values we can work with it. It will require a bit of imputation.  \n",
    "**10)** regionidneighborhood I think will have to go. There are ~500 unique values, and they are not an 'ordered' column. If we don't mind 500 features from this column alone, we can try keeping it, but it would blow up our feature space.  \n",
    "**11** buildingqualitytypeid we can attempt to imput this, this is actually a 'continuous' variable.  \n",
    "**12)** heatingorsystemtypeid will definitely be kept. Has significant value to the price of a house (from prior knowledge) and is not missing many values.  \n",
    "**13)** regionidzip we can get rid of, we can just use city/county instead.  \n",
    "**14)** propertylandusetypeid we will keep, as it can greatly affect home value.  \n",
    "**15)** regionidcity we can keep, it could contain good information  \n",
    "**16)** regionidcounty we can keep, it could contain good information  \n",
    "**17)** parcelid is just our index, we will not use it as a feature  "
   ]
  },
  {
   "cell_type": "markdown",
   "metadata": {},
   "source": [
    "### e) Determine the correlations between the size and the room numbers. Are there any ways you can fill in NaN using the correlations?  \n",
    "By size, I think we're referring to finishedsquarefeet6, finishedsquarefeet12, and calculatedfinishedsquarefeet; our total area, finished living area, and calculated finished area, respectively.  "
   ]
  },
  {
   "cell_type": "code",
   "execution_count": 16,
   "metadata": {},
   "outputs": [
    {
     "data": {
      "text/plain": [
       "<matplotlib.axes._subplots.AxesSubplot at 0x159d5f4d0>"
      ]
     },
     "execution_count": 16,
     "metadata": {},
     "output_type": "execute_result"
    },
    {
     "data": {
      "image/png": "[encoded data removed]",
      "text/plain": [
       "<Figure size 432x288 with 2 Axes>"
      ]
     },
     "metadata": {
      "needs_background": "light"
     },
     "output_type": "display_data"
    }
   ],
   "source": [
    "columns = ['roomcnt', 'bathroomcnt', 'bedroomcnt', 'finishedsquarefeet6', 'finishedsquarefeet12', 'calculatedfinishedsquarefeet']\n",
    "sns.heatmap(raw_2016_data[columns].corr(), vmin=-1, vmax=1, cmap=sns.diverging_palette(220, 20, n=7))"
   ]
  },
  {
   "cell_type": "markdown",
   "metadata": {},
   "source": [
    "Interestingly, there is almost zero correlation between roomcnt and finishedsquarefeet12, while there is a slight correlation between roomcnt and finishedsquarefeet6. We can impute the finishedsquarefeet columns as a function of the two columns each here is correlated with. I'll use a simple linear regression for each. Before we impute, we can take a look at the distributions of each. Calculated square footage is redundant with finishedsqft12, so we will drop one of them."
   ]
  },
  {
   "cell_type": "code",
   "execution_count": 17,
   "metadata": {},
   "outputs": [
    {
     "data": {
      "text/plain": [
       "Text(0.5, 1.0, 'Distribution of calculatedfinishedsquarefeet')"
      ]
     },
     "execution_count": 17,
     "metadata": {},
     "output_type": "execute_result"
    },
    {
     "data": {
      "image/png": "[encoded data removed]",
      "text/plain": [
       "<Figure size 1440x576 with 2 Axes>"
      ]
     },
     "metadata": {
      "needs_background": "light"
     },
     "output_type": "display_data"
    }
   ],
   "source": [
    "fig, (ax0, ax1) = plt.subplots(1, 2, figsize=(20,8))\n",
    "raw_2016_data['finishedsquarefeet6'].plot(kind='hist', ax=ax0)\n",
    "ax0.set_title('Distribution of finishedsquarefeet6', fontsize=24)\n",
    "raw_2016_data['calculatedfinishedsquarefeet'].plot(kind='hist', ax=ax1)\n",
    "plt.title('Distribution of calculatedfinishedsquarefeet', fontsize=24)"
   ]
  },
  {
   "cell_type": "code",
   "execution_count": 18,
   "metadata": {},
   "outputs": [],
   "source": [
    "raw_2016_data['finishedsquarefeet6'], fsqft6_model = lr_impute(raw_2016_data, 'finishedsquarefeet6', ['roomcnt', 'bedroomcnt'])\n",
    "raw_2016_data['calculatedfinishedsquarefeet'], calcsqft_model = lr_impute(raw_2016_data, 'calculatedfinishedsquarefeet', ['bathroomcnt', 'bedroomcnt'])"
   ]
  },
  {
   "cell_type": "markdown",
   "metadata": {},
   "source": [
    "### After you fill-in, make histrograms and observe if such method is meaningful. Explain how the new correlation changed after you fill-in NaN from the correlation. Did it improve?"
   ]
  },
  {
   "cell_type": "code",
   "execution_count": 19,
   "metadata": {},
   "outputs": [
    {
     "data": {
      "text/plain": [
       "Text(0.5, 1.0, 'Distribution of imputed calculatedfinishedsquarefeet')"
      ]
     },
     "execution_count": 19,
     "metadata": {},
     "output_type": "execute_result"
    },
    {
     "data": {
      "image/png": "[encoded data removed]",
      "text/plain": [
       "<Figure size 1440x576 with 2 Axes>"
      ]
     },
     "metadata": {
      "needs_background": "light"
     },
     "output_type": "display_data"
    }
   ],
   "source": [
    "fig, (ax0, ax1) = plt.subplots(1, 2, figsize=(20,8))\n",
    "raw_2016_data['finishedsquarefeet6'].plot(kind='hist', ax=ax0)\n",
    "ax0.set_title('Distribution of imputed finishedsquarefeet6', fontsize=24)\n",
    "raw_2016_data['calculatedfinishedsquarefeet'].plot(kind='hist', ax=ax1)\n",
    "ax1.set_title('Distribution of imputed calculatedfinishedsquarefeet', fontsize=24)"
   ]
  },
  {
   "cell_type": "markdown",
   "metadata": {},
   "source": [
    "Silly me, I didn't realize that finishedsquarefeet6 was 99% missing. Notice how the distribution for this histogram changed so wildly. I will drop this column in its entirety. The finishedsquarefeet12 column appears to have been imputed well, the hisogram did not change much."
   ]
  },
  {
   "cell_type": "markdown",
   "metadata": {},
   "source": [
    "### f) Determine if the roomcnt is the sum of all room features, bedroomcnt and bathroomcnt."
   ]
  },
  {
   "cell_type": "code",
   "execution_count": 20,
   "metadata": {},
   "outputs": [
    {
     "data": {
      "text/plain": [
       "['bathroomcnt', 'bedroomcnt', 'roomcnt']"
      ]
     },
     "execution_count": 20,
     "metadata": {},
     "output_type": "execute_result"
    }
   ],
   "source": [
    "room_cols = [col for col in raw_2016_data.columns if 'room' in col]\n",
    "room_cols"
   ]
  },
  {
   "cell_type": "code",
   "execution_count": 21,
   "metadata": {},
   "outputs": [],
   "source": [
    "room_diff = raw_2016_data['roomcnt'] - raw_2016_data['bedroomcnt'] - raw_2016_data['bathroomcnt']"
   ]
  },
  {
   "cell_type": "code",
   "execution_count": 22,
   "metadata": {},
   "outputs": [
    {
     "data": {
      "text/plain": [
       "count    89136.000000\n",
       "mean        -3.868297\n",
       "std          3.234974\n",
       "min        -26.000000\n",
       "25%         -6.000000\n",
       "50%         -5.000000\n",
       "75%         -2.000000\n",
       "max          9.000000\n",
       "dtype: float64"
      ]
     },
     "execution_count": 22,
     "metadata": {},
     "output_type": "execute_result"
    }
   ],
   "source": [
    "room_diff.describe()"
   ]
  },
  {
   "cell_type": "markdown",
   "metadata": {},
   "source": [
    "Interestingly, there are almost always more bedrooms+bathrooms than there are rooms in 'roomcnt'. I wonder what percentage of houses have strictly more bedroomcnt and bathroomcnt than roomcnt..."
   ]
  },
  {
   "cell_type": "code",
   "execution_count": 23,
   "metadata": {},
   "outputs": [
    {
     "name": "stdout",
     "output_type": "stream",
     "text": [
      "Percent of parcels with bedroom+bathroom > roomcnt: 78.14%\n"
     ]
    }
   ],
   "source": [
    "print(f'Percent of parcels with bedroom+bathroom > roomcnt: {room_diff.lt(0).sum() / room_diff.shape[0] * 100:0.2f}%')"
   ]
  },
  {
   "cell_type": "markdown",
   "metadata": {},
   "source": [
    "### g. After you investigate more, delete features and rows that do not carry enough information and report the final dimension of the dataframe."
   ]
  },
  {
   "cell_type": "code",
   "execution_count": 24,
   "metadata": {},
   "outputs": [],
   "source": [
    "to_drop = set()"
   ]
  },
  {
   "cell_type": "markdown",
   "metadata": {},
   "source": [
    "#### Calculate threequarterbath and fullbath from the other columns as best we can"
   ]
  },
  {
   "cell_type": "code",
   "execution_count": 25,
   "metadata": {},
   "outputs": [],
   "source": [
    "raw_2016_data.loc[raw_2016_data['threequarterbathnbr'].isnull() &\n",
    "                  raw_2016_data['fullbathcnt'].isnull(), 'fullbathcnt'] = raw_2016_data.loc[raw_2016_data['threequarterbathnbr'].isnull() &\n",
    "                                                                                            raw_2016_data['fullbathcnt'].isnull(), 'bathroomcnt']\n",
    "\n",
    "raw_2016_data['threequarterbathnbr'] = np.where(raw_2016_data['threequarterbathnbr'].isnull(), \n",
    "                                                (raw_2016_data['bathroomcnt'] - raw_2016_data['fullbathcnt']) * 2,\n",
    "                                                raw_2016_data['threequarterbathnbr'])"
   ]
  },
  {
   "cell_type": "markdown",
   "metadata": {},
   "source": [
    "While we are at it, lets impute calculatedbathnbr using a linear model based on correlated columns. We could possibly throw this out as redundant, but we can keep it for now."
   ]
  },
  {
   "cell_type": "code",
   "execution_count": 26,
   "metadata": {},
   "outputs": [
    {
     "data": {
      "text/plain": [
       "bathroomcnt                     1.000000\n",
       "calculatedbathnbr               1.000000\n",
       "fullbathcnt                     0.984074\n",
       "finishedsquarefeet12            0.805033\n",
       "calculatedfinishedsquarefeet    0.800752\n",
       "finishedsquarefeet15            0.700673\n",
       "bedroomcnt                      0.616599\n",
       "structuretaxvaluedollarcnt      0.612251\n",
       "taxvaluedollarcnt               0.497892\n",
       "finishedfloor1squarefeet        0.491804\n",
       "Name: calculatedbathnbr, dtype: float64"
      ]
     },
     "execution_count": 26,
     "metadata": {},
     "output_type": "execute_result"
    }
   ],
   "source": [
    "raw_2016_data.drop(columns=to_drop).corr().loc['calculatedbathnbr'].sort_values(ascending=False)[:10]"
   ]
  },
  {
   "cell_type": "markdown",
   "metadata": {},
   "source": [
    "Nevermind, this column is 100% redundant. We will drop it."
   ]
  },
  {
   "cell_type": "code",
   "execution_count": 27,
   "metadata": {},
   "outputs": [],
   "source": [
    "to_drop.add('calculatedbathnbr')"
   ]
  },
  {
   "cell_type": "markdown",
   "metadata": {},
   "source": [
    "#### Pool count is just a 1/0, but all the zeros are nans. We can fill those with zero. We will impute pool size with the median."
   ]
  },
  {
   "cell_type": "code",
   "execution_count": 28,
   "metadata": {},
   "outputs": [
    {
     "name": "stdout",
     "output_type": "stream",
     "text": [
      "[nan  1.]\n"
     ]
    }
   ],
   "source": [
    "print(raw_2016_data.poolcnt.unique())"
   ]
  },
  {
   "cell_type": "code",
   "execution_count": 29,
   "metadata": {},
   "outputs": [],
   "source": [
    "median_pool_sqft = raw_2016_data['poolsizesum'].median()\n",
    "raw_2016_data['poolcnt'] = raw_2016_data['poolcnt'].fillna(0)\n",
    "raw_2016_data['poolsizesum'] = np.where(raw_2016_data['poolsizesum'].isna(), \n",
    "                                        raw_2016_data['poolcnt'] * median_pool_sqft, \n",
    "                                        raw_2016_data['poolsizesum'])\n",
    "raw_2016_data['spa_hottub'] = raw_2016_data['pooltypeid2'].astype(bool) | raw_2016_data['pooltypeid10'].astype(bool) | raw_2016_data['hashottuborspa'].astype(bool)\n",
    "\n",
    "to_drop.update(['pooltypeid10', 'pooltypeid2', 'pooltypeid7'])"
   ]
  },
  {
   "cell_type": "markdown",
   "metadata": {},
   "source": [
    "#### Assume that missing garagecarcnt is simply houses without garages. We can impute the garage sqft as well, based on numer of cars."
   ]
  },
  {
   "cell_type": "code",
   "execution_count": 30,
   "metadata": {},
   "outputs": [
    {
     "name": "stdout",
     "output_type": "stream",
     "text": [
      "[nan  2.  1.  3.  0.  4.  6.  8.  5.  7. 11. 10. 24.  9. 13. 14.]\n"
     ]
    }
   ],
   "source": [
    "print(raw_2016_data.garagecarcnt.unique())"
   ]
  },
  {
   "cell_type": "code",
   "execution_count": 31,
   "metadata": {},
   "outputs": [],
   "source": [
    "raw_2016_data['garagecarcnt'] = raw_2016_data['garagecarcnt'].fillna(0)\n",
    "\n",
    "# Now, lets fill missing square footage by the mean sqft/bay. First, we notice some listings have sqft=0, despite having 1+ car locations. We wipe these.\n",
    "raw_2016_data.loc[raw_2016_data['garagecarcnt'].ge(1) &\n",
    "                  raw_2016_data['garagetotalsqft'].eq(0), 'garagetotalsqft'] = np.NaN\n",
    "\n",
    "# Grab the mean square footage per car\n",
    "valid_garage = raw_2016_data[raw_2016_data['garagecarcnt'].ge(1) &\n",
    "                             raw_2016_data['garagetotalsqft'].gt(0)]\n",
    "ave_sq_ft_per_car = valid_garage['garagetotalsqft'].sum() / valid_garage['garagecarcnt'].sum()\n",
    "\n",
    "# Fill the NaN/None values scaled by num cars\n",
    "raw_2016_data['garagetotalsqft'] = raw_2016_data.garagetotalsqft.fillna(raw_2016_data.garagecarcnt*ave_sq_ft_per_car)"
   ]
  },
  {
   "cell_type": "markdown",
   "metadata": {},
   "source": [
    "#### Air conditioning is tricky. We need to convert the ID into a usable form"
   ]
  },
  {
   "cell_type": "markdown",
   "metadata": {},
   "source": [
    "AirConditioningTypeID\tAirConditioningDesc  \n",
    "1\tCentral  \n",
    "2\tChilled Water  \n",
    "3\tEvaporative Cooler  \n",
    "4\tGeo Thermal  \n",
    "5\tNone  \n",
    "6\tOther  \n",
    "7\tPackaged AC Unit  \n",
    "8\tPartial  \n",
    "9\tRefrigeration  \n",
    "10\tVentilation  \n",
    "11\tWall Unit  \n",
    "12\tWindow Unit  \n",
    "13\tYes  "
   ]
  },
  {
   "cell_type": "code",
   "execution_count": 32,
   "metadata": {},
   "outputs": [],
   "source": [
    "raw_2016_data['airconditioningtypeid'] = raw_2016_data['airconditioningtypeid'].fillna(5)\n",
    "\n",
    "# I am going to attempt to make a new feature, 'advanced_ac', to capture the perceived more premium AC systems.\n",
    "raw_2016_data['has_airconditioning'] = raw_2016_data['airconditioningtypeid'].ne(5).astype(int)\n",
    "raw_2016_data['advanced_ac'] = raw_2016_data['airconditioningtypeid'].isin((2,3,4,9)).astype(int)\n",
    "\n",
    "ac_dummies = pd.get_dummies(raw_2016_data['airconditioningtypeid'])\n",
    "ac_dummies.columns = \"ac_id__\" + ac_dummies.columns.astype(int).astype(str)\n",
    "\n",
    "to_drop.add('airconditioningtypeid')"
   ]
  },
  {
   "cell_type": "markdown",
   "metadata": {},
   "source": [
    "#### Heating is similar to AC.\n",
    "\n",
    "HeatingOrSystemTypeID\tHeatingOrSystemDesc  \n",
    "1\tBaseboard  \n",
    "2\tCentral  \n",
    "3\tCoal  \n",
    "4\tConvection  \n",
    "5\tElectric  \n",
    "6\tForced air  \n",
    "7\tFloor/Wall  \n",
    "8\tGas  \n",
    "9\tGeo Thermal  \n",
    "10\tGravity  \n",
    "11\tHeat Pump  \n",
    "12\tHot Water  \n",
    "13\tNone  \n",
    "14\tOther   \n",
    "15\tOil  \n",
    "16\tPartial  \n",
    "17\tPropane  \n",
    "18\tRadiant  \n",
    "19\tSteam    \n",
    "20\tSolar  \n",
    "21\tSpace/Suspended  \n",
    "22\tVent   \n",
    "23\tWood Burning  \n",
    "24\tYes  \n",
    "25\tZone!"
   ]
  },
  {
   "cell_type": "code",
   "execution_count": 33,
   "metadata": {},
   "outputs": [
    {
     "data": {
      "text/plain": [
       "<matplotlib.axes._subplots.AxesSubplot at 0x13297d810>"
      ]
     },
     "execution_count": 33,
     "metadata": {},
     "output_type": "execute_result"
    },
    {
     "data": {
      "image/png": "[encoded data removed]",
      "text/plain": [
       "<Figure size 432x288 with 1 Axes>"
      ]
     },
     "metadata": {
      "needs_background": "light"
     },
     "output_type": "display_data"
    }
   ],
   "source": [
    "raw_2016_data['heatingorsystemtypeid'].plot(kind='hist')"
   ]
  },
  {
   "cell_type": "markdown",
   "metadata": {},
   "source": [
    "#### Rather than impute with just one value, because we don't have any good strong correlations, I'm going to impute randomly using the distribution above."
   ]
  },
  {
   "cell_type": "code",
   "execution_count": 34,
   "metadata": {},
   "outputs": [],
   "source": [
    "heat_dist_dict = (raw_2016_data['heatingorsystemtypeid'].value_counts() / raw_2016_data['heatingorsystemtypeid'].notnull().sum()).to_dict()\n",
    "heat_impute = np.random.choice(a=list(heat_dist_dict.keys()), p=list(heat_dist_dict.values()), size=raw_2016_data['heatingorsystemtypeid'].isna().sum())\n",
    "\n",
    "# I will engineer a few extra featuers as well, of what I think might be valuable\n",
    "raw_2016_data.loc[raw_2016_data['heatingorsystemtypeid'].isna(), 'heatingorsystemtypeid'] = heat_impute\n",
    "raw_2016_data['has_heat'] = raw_2016_data['airconditioningtypeid'].eq(1) | raw_2016_data['heatingorsystemtypeid'].eq(2).astype(int)\n",
    "raw_2016_data['central_air'] = raw_2016_data['airconditioningtypeid'].eq(1) | raw_2016_data['heatingorsystemtypeid'].eq(2).astype(int)\n",
    "\n",
    "heat_dummies = pd.get_dummies(raw_2016_data['heatingorsystemtypeid'])\n",
    "heat_dummies.columns = \"heating_id__\" + heat_dummies.columns.astype(int).astype(str)\n",
    "\n",
    "to_drop.add('heatingorsystemtypeid')"
   ]
  },
  {
   "cell_type": "code",
   "execution_count": 35,
   "metadata": {},
   "outputs": [
    {
     "data": {
      "text/plain": [
       "<matplotlib.axes._subplots.AxesSubplot at 0x131a2d4d0>"
      ]
     },
     "execution_count": 35,
     "metadata": {},
     "output_type": "execute_result"
    },
    {
     "data": {
      "image/png": "[encoded data removed]",
      "text/plain": [
       "<Figure size 432x288 with 1 Axes>"
      ]
     },
     "metadata": {
      "needs_background": "light"
     },
     "output_type": "display_data"
    }
   ],
   "source": [
    "# Now, verify our distribution has not changed:\n",
    "raw_2016_data['heatingorsystemtypeid'].plot(kind='hist')"
   ]
  },
  {
   "cell_type": "markdown",
   "metadata": {},
   "source": [
    "### Finally, we can check out buildingqualityid"
   ]
  },
  {
   "cell_type": "code",
   "execution_count": 36,
   "metadata": {},
   "outputs": [
    {
     "data": {
      "text/plain": [
       "7.0     29307\n",
       "4.0     23836\n",
       "1.0      2627\n",
       "10.0     1461\n",
       "12.0      119\n",
       "8.0         5\n",
       "6.0         2\n",
       "11.0        1\n",
       "Name: buildingqualitytypeid, dtype: int64"
      ]
     },
     "execution_count": 36,
     "metadata": {},
     "output_type": "execute_result"
    }
   ],
   "source": [
    "raw_2016_data['buildingqualitytypeid'].value_counts()"
   ]
  },
  {
   "cell_type": "code",
   "execution_count": 37,
   "metadata": {},
   "outputs": [
    {
     "data": {
      "text/plain": [
       "<matplotlib.axes._subplots.AxesSubplot at 0x131973950>"
      ]
     },
     "execution_count": 37,
     "metadata": {},
     "output_type": "execute_result"
    },
    {
     "data": {
      "image/png": "[encoded data removed]",
      "text/plain": [
       "<Figure size 432x288 with 1 Axes>"
      ]
     },
     "metadata": {
      "needs_background": "light"
     },
     "output_type": "display_data"
    }
   ],
   "source": [
    "raw_2016_data['buildingqualitytypeid'].plot(kind='hist')"
   ]
  },
  {
   "cell_type": "markdown",
   "metadata": {},
   "source": [
    "This looks normally distributed, so I will imput with the mean."
   ]
  },
  {
   "cell_type": "code",
   "execution_count": 38,
   "metadata": {},
   "outputs": [],
   "source": [
    "raw_2016_data['buildingqualitytypeid'] = raw_2016_data['buildingqualitytypeid'].fillna(raw_2016_data['buildingqualitytypeid'].mean())"
   ]
  },
  {
   "cell_type": "code",
   "execution_count": 39,
   "metadata": {},
   "outputs": [
    {
     "data": {
      "text/plain": [
       "<matplotlib.axes._subplots.AxesSubplot at 0x132eedbd0>"
      ]
     },
     "execution_count": 39,
     "metadata": {},
     "output_type": "execute_result"
    },
    {
     "data": {
      "image/png": "[encoded data removed]",
      "text/plain": [
       "<Figure size 432x288 with 1 Axes>"
      ]
     },
     "metadata": {
      "needs_background": "light"
     },
     "output_type": "display_data"
    }
   ],
   "source": [
    "raw_2016_data['buildingqualitytypeid'].plot(kind='hist')"
   ]
  },
  {
   "cell_type": "markdown",
   "metadata": {},
   "source": [
    "This imputation looks very good to me."
   ]
  },
  {
   "cell_type": "markdown",
   "metadata": {},
   "source": [
    "### Let's clean up our data some, and determine what still needs imputation."
   ]
  },
  {
   "cell_type": "code",
   "execution_count": 40,
   "metadata": {},
   "outputs": [],
   "source": [
    "to_drop.update(['finishedsquarefeet6', 'finishedsquarefeet12', 'buildingclasstypeid', 'storytypeid', 'typeconstructiontypeid', 'decktypeid', 'regionidneighborhood', 'fips', 'regionidzip'])"
   ]
  },
  {
   "cell_type": "code",
   "execution_count": 41,
   "metadata": {},
   "outputs": [
    {
     "data": {
      "text/plain": [
       "finishedsquarefeet13          99.997756\n",
       "basementsqft                  99.951759\n",
       "yardbuildingsqft26            99.893421\n",
       "fireplaceflag                 99.750942\n",
       "architecturalstyletypeid      99.707189\n",
       "taxdelinquencyflag            98.017636\n",
       "taxdelinquencyyear            98.017636\n",
       "hashottuborspa                97.348995\n",
       "yardbuildingsqft17            97.031502\n",
       "finishedsquarefeet15          96.017322\n",
       "finishedfloor1squarefeet      92.309505\n",
       "finishedsquarefeet50          92.309505\n",
       "fireplacecnt                  89.232185\n",
       "numberofstories               76.933001\n",
       "propertyzoningdesc            34.999327\n",
       "unitcnt                       34.565159\n",
       "lotsizesquarefeet             10.579339\n",
       "censustractandblock            0.261398\n",
       "yearbuilt                      0.088629\n",
       "structuretaxvaluedollarcnt     0.072922\n",
       "taxamount                      0.003366\n",
       "propertycountylandusecode      0.001122\n",
       "landtaxvaluedollarcnt          0.001122\n",
       "taxvaluedollarcnt              0.001122\n",
       "dtype: float64"
      ]
     },
     "execution_count": 41,
     "metadata": {},
     "output_type": "execute_result"
    }
   ],
   "source": [
    "missing = raw_2016_data.drop(columns=to_drop).isna().sum().sort_values(ascending=False) / raw_2016_data.shape[0] * 100\n",
    "missing[missing.gt(0)]"
   ]
  },
  {
   "cell_type": "markdown",
   "metadata": {},
   "source": [
    "I'm going to drop all of the columns that are about 90% missing as well. We can always go back to try and do imputation on them if we think there is information there we want."
   ]
  },
  {
   "cell_type": "code",
   "execution_count": 42,
   "metadata": {},
   "outputs": [],
   "source": [
    "to_drop.update(['finishedsquarefeet13', 'basementsqft', 'yardbuildingsqft26', 'fireplaceflag', 'architecturalstyletypeid', 'taxdelinquencyyear', \n",
    "                'taxdelinquencyflag', 'hashottuborspa', 'yardbuildingsqft17', 'finishedsquarefeet15', 'finishedsquarefeet50', 'finishedfloor1squarefeet', \n",
    "                'fireplacecnt'])"
   ]
  },
  {
   "cell_type": "code",
   "execution_count": 43,
   "metadata": {},
   "outputs": [
    {
     "data": {
      "text/plain": [
       "numberofstories               76.933001\n",
       "propertyzoningdesc            34.999327\n",
       "unitcnt                       34.565159\n",
       "lotsizesquarefeet             10.579339\n",
       "censustractandblock            0.261398\n",
       "yearbuilt                      0.088629\n",
       "structuretaxvaluedollarcnt     0.072922\n",
       "taxamount                      0.003366\n",
       "propertycountylandusecode      0.001122\n",
       "landtaxvaluedollarcnt          0.001122\n",
       "taxvaluedollarcnt              0.001122\n",
       "dtype: float64"
      ]
     },
     "execution_count": 43,
     "metadata": {},
     "output_type": "execute_result"
    }
   ],
   "source": [
    "missing = raw_2016_data.drop(columns=to_drop).isna().sum().sort_values(ascending=False) / raw_2016_data.shape[0] * 100\n",
    "missing[missing.gt(0)]"
   ]
  },
  {
   "cell_type": "markdown",
   "metadata": {},
   "source": [
    "### Let's check out year built"
   ]
  },
  {
   "cell_type": "code",
   "execution_count": 44,
   "metadata": {},
   "outputs": [
    {
     "name": "stdout",
     "output_type": "stream",
     "text": [
      "1968.4291521160605\n",
      "1970.0\n"
     ]
    },
    {
     "data": {
      "text/plain": [
       "yearbuilt                1.000000\n",
       "bathroomcnt              0.373773\n",
       "propertylandusetypeid    0.351078\n",
       "central_air              0.333354\n",
       "has_heat                 0.333354\n",
       "numberofstories          0.331543\n",
       "fullbathcnt              0.326989\n",
       "has_airconditioning      0.325839\n",
       "garagetotalsqft          0.320925\n",
       "garagecarcnt             0.313872\n",
       "Name: yearbuilt, dtype: float64"
      ]
     },
     "execution_count": 44,
     "metadata": {},
     "output_type": "execute_result"
    }
   ],
   "source": [
    "print(raw_2016_data['yearbuilt'].mean())\n",
    "print(raw_2016_data['yearbuilt'].median())\n",
    "raw_2016_data.drop(columns=to_drop).corr().loc['yearbuilt'].sort_values(ascending=False)[:10]"
   ]
  },
  {
   "cell_type": "markdown",
   "metadata": {},
   "source": [
    "There are no strong correlations here, and coupling that with me not *expecting* there to be a strong relationship outside of random variance, I am going to impute with the mean."
   ]
  },
  {
   "cell_type": "code",
   "execution_count": 45,
   "metadata": {},
   "outputs": [],
   "source": [
    "raw_2016_data['yearbuilt'] = raw_2016_data['yearbuilt'].fillna(raw_2016_data['yearbuilt'].mean())"
   ]
  },
  {
   "cell_type": "markdown",
   "metadata": {},
   "source": [
    "### Tackling the unitcnt column"
   ]
  },
  {
   "cell_type": "code",
   "execution_count": 46,
   "metadata": {},
   "outputs": [
    {
     "data": {
      "text/plain": [
       "1.0      54496\n",
       "2.0       2342\n",
       "4.0        867\n",
       "3.0        615\n",
       "6.0          1\n",
       "5.0          1\n",
       "9.0          1\n",
       "11.0         1\n",
       "143.0        1\n",
       "70.0         1\n",
       "Name: unitcnt, dtype: int64"
      ]
     },
     "execution_count": 46,
     "metadata": {},
     "output_type": "execute_result"
    }
   ],
   "source": [
    "raw_2016_data['unitcnt'].value_counts()"
   ]
  },
  {
   "cell_type": "code",
   "execution_count": 47,
   "metadata": {},
   "outputs": [
    {
     "data": {
      "text/plain": [
       "unitcnt                         1.000000\n",
       "numberofstories                 0.306778\n",
       "bedroomcnt                      0.182628\n",
       "calculatedfinishedsquarefeet    0.145825\n",
       "rawcensustractandblock          0.123502\n",
       "censustractandblock             0.122133\n",
       "bathroomcnt                     0.120496\n",
       "fullbathcnt                     0.120489\n",
       "buildingqualitytypeid           0.077071\n",
       "parcelid                        0.072932\n",
       "Name: unitcnt, dtype: float64"
      ]
     },
     "execution_count": 47,
     "metadata": {},
     "output_type": "execute_result"
    }
   ],
   "source": [
    "raw_2016_data.drop(columns=to_drop).corr().loc['unitcnt'].sort_values(ascending=False)[:10]"
   ]
  },
  {
   "cell_type": "markdown",
   "metadata": {},
   "source": [
    "Again, there are no very strong correlations, and this data is very, very skewed towards unitcnt=1. I am going to impute with 1."
   ]
  },
  {
   "cell_type": "code",
   "execution_count": 48,
   "metadata": {},
   "outputs": [],
   "source": [
    "raw_2016_data['unitcnt'] = raw_2016_data['unitcnt'].fillna(1)"
   ]
  },
  {
   "cell_type": "markdown",
   "metadata": {},
   "source": [
    "### Let's take a look at number of stories. \n",
    "First, is there any semblance of valuable data?"
   ]
  },
  {
   "cell_type": "code",
   "execution_count": 49,
   "metadata": {},
   "outputs": [
    {
     "data": {
      "text/plain": [
       "1.0    12009\n",
       "2.0     8043\n",
       "3.0      507\n",
       "4.0        2\n",
       "Name: numberofstories, dtype: int64"
      ]
     },
     "execution_count": 49,
     "metadata": {},
     "output_type": "execute_result"
    }
   ],
   "source": [
    "raw_2016_data['numberofstories'].value_counts()"
   ]
  },
  {
   "cell_type": "markdown",
   "metadata": {},
   "source": [
    "This looks good. Lets build another linear model based on the highest correlations, and impute with a prediction."
   ]
  },
  {
   "cell_type": "code",
   "execution_count": 50,
   "metadata": {},
   "outputs": [
    {
     "data": {
      "text/plain": [
       "numberofstories                 1.000000\n",
       "threequarterbathnbr             0.410750\n",
       "calculatedfinishedsquarefeet    0.346947\n",
       "yearbuilt                       0.331367\n",
       "bathroomcnt                     0.321464\n",
       "roomcnt                         0.243330\n",
       "structuretaxvaluedollarcnt      0.222860\n",
       "fullbathcnt                     0.209900\n",
       "garagetotalsqft                 0.165906\n",
       "bedroomcnt                      0.151008\n",
       "Name: numberofstories, dtype: float64"
      ]
     },
     "execution_count": 50,
     "metadata": {},
     "output_type": "execute_result"
    }
   ],
   "source": [
    "raw_2016_data.drop(columns=to_drop).corr().loc['numberofstories'].sort_values(ascending=False)[:10]"
   ]
  },
  {
   "cell_type": "code",
   "execution_count": 51,
   "metadata": {},
   "outputs": [],
   "source": [
    "x_cols = ['threequarterbathnbr', 'buildingqualitytypeid', 'calculatedfinishedsquarefeet', 'yearbuilt', 'bathroomcnt', 'unitcnt']\n",
    "raw_2016_data['numberofstories'], stories_model = lr_impute(raw_2016_data, 'numberofstories', x_cols)"
   ]
  },
  {
   "cell_type": "markdown",
   "metadata": {},
   "source": [
    "### There are only a few columns left to fill in. Lets take a look at propertyzoningdesc"
   ]
  },
  {
   "cell_type": "code",
   "execution_count": 52,
   "metadata": {},
   "outputs": [
    {
     "name": "stdout",
     "output_type": "stream",
     "text": [
      "1986\n",
      "['LARS' nan 'PSR6' 'LAR3' 'HBR3YY']\n"
     ]
    }
   ],
   "source": [
    "print(raw_2016_data['propertyzoningdesc'].nunique())\n",
    "print(raw_2016_data['propertyzoningdesc'].unique()[:5])"
   ]
  },
  {
   "cell_type": "markdown",
   "metadata": {},
   "source": [
    "We have close to 2000 distinct values, and I don't really understand how they are ordered or what they mean. we can drop this column."
   ]
  },
  {
   "cell_type": "code",
   "execution_count": 53,
   "metadata": {},
   "outputs": [],
   "source": [
    "to_drop.add('propertyzoningdesc')"
   ]
  },
  {
   "cell_type": "markdown",
   "metadata": {},
   "source": [
    "### propertylandusetypeid"
   ]
  },
  {
   "cell_type": "code",
   "execution_count": 54,
   "metadata": {},
   "outputs": [
    {
     "data": {
      "text/plain": [
       "array([261., 266., 265., 246., 263., 269., 248., 247., 267., 260.,  31.,\n",
       "       264., 275.,  47.])"
      ]
     },
     "execution_count": 54,
     "metadata": {},
     "output_type": "execute_result"
    }
   ],
   "source": [
    "raw_2016_data['propertylandusetypeid'].unique()"
   ]
  },
  {
   "cell_type": "markdown",
   "metadata": {},
   "source": [
    "This column is not missing any values, but it is not a numerical column as far as I can tell. We will make dummies out of this."
   ]
  },
  {
   "cell_type": "code",
   "execution_count": 55,
   "metadata": {},
   "outputs": [],
   "source": [
    "land_use_dummies = pd.get_dummies(raw_2016_data['propertylandusetypeid'])\n",
    "land_use_dummies.columns = \"land_use_id__\" + land_use_dummies.columns.astype(int).astype(str)\n",
    "\n",
    "to_drop.add('propertylandusetypeid')"
   ]
  },
  {
   "cell_type": "markdown",
   "metadata": {},
   "source": [
    "### propertycountylandusecode"
   ]
  },
  {
   "cell_type": "code",
   "execution_count": 56,
   "metadata": {},
   "outputs": [
    {
     "data": {
      "text/plain": [
       "array(['0100', '1', '010C', '122', '1129', '34', '1128', '010E', '0104',\n",
       "       '0101', '0200', '0700', '1111', '01DC', '010D', '1110', '0400',\n",
       "       '012C', '1116', '01HC', '010G', '0300', '010F', '0103', '38',\n",
       "       '1210', '0111', '010M', '96', '135', '0108', '0201', '0109',\n",
       "       '1310', '010H', '1410', '010V', '1222', '1720', '1321', '1432',\n",
       "       '0401', '0102', '012D', '1011', '105', '0110', '0130', '0303',\n",
       "       '0210', '1333', '0114', '020G', '040A', '012E', '1117', '020M',\n",
       "       '070D', '1200', '030G', '1722', '1421', '010', nan, '200', '1420',\n",
       "       '0131', '0301'], dtype=object)"
      ]
     },
     "execution_count": 56,
     "metadata": {},
     "output_type": "execute_result"
    }
   ],
   "source": [
    "raw_2016_data['propertycountylandusecode'].unique()"
   ]
  },
  {
   "cell_type": "markdown",
   "metadata": {},
   "source": [
    "This column is not missing any values, but it is not a numerical column as far as I can tell. I don't want this many dummies, so I am scrapping it for now."
   ]
  },
  {
   "cell_type": "code",
   "execution_count": 57,
   "metadata": {},
   "outputs": [],
   "source": [
    "to_drop.add('propertycountylandusecode')"
   ]
  },
  {
   "cell_type": "markdown",
   "metadata": {},
   "source": [
    "### lotsizesquarefeet"
   ]
  },
  {
   "cell_type": "code",
   "execution_count": 58,
   "metadata": {},
   "outputs": [
    {
     "data": {
      "text/plain": [
       "count    79706.000000\n",
       "mean        28.859626\n",
       "std        120.729286\n",
       "min          0.167000\n",
       "25%          5.711250\n",
       "50%          7.200000\n",
       "75%         11.677750\n",
       "max       6971.010000\n",
       "Name: lotsizesquarefeet, dtype: float64"
      ]
     },
     "execution_count": 58,
     "metadata": {},
     "output_type": "execute_result"
    }
   ],
   "source": [
    "(raw_2016_data['lotsizesquarefeet']/1000).describe()"
   ]
  },
  {
   "cell_type": "code",
   "execution_count": 59,
   "metadata": {},
   "outputs": [
    {
     "data": {
      "text/plain": [
       "<matplotlib.axes._subplots.AxesSubplot at 0x1330e2d10>"
      ]
     },
     "execution_count": 59,
     "metadata": {},
     "output_type": "execute_result"
    },
    {
     "data": {
      "image/png": "[encoded data removed]",
      "text/plain": [
       "<Figure size 432x288 with 1 Axes>"
      ]
     },
     "metadata": {
      "needs_background": "light"
     },
     "output_type": "display_data"
    }
   ],
   "source": [
    "raw_2016_data['lotsizesquarefeet'].hist()"
   ]
  },
  {
   "cell_type": "markdown",
   "metadata": {},
   "source": [
    "It looks like this column has an outlier. I would like to disinclude this value when determining our imputation. I'll use the 5% to 95% range."
   ]
  },
  {
   "cell_type": "code",
   "execution_count": 60,
   "metadata": {},
   "outputs": [
    {
     "data": {
      "text/plain": [
       "lotsizesquarefeet             1.000000\n",
       "has_airconditioning           0.312073\n",
       "yearbuilt                     0.235879\n",
       "poolsizesum                   0.231425\n",
       "poolcnt                       0.229378\n",
       "has_heat                      0.186759\n",
       "central_air                   0.186759\n",
       "regionidcounty                0.173185\n",
       "latitude                      0.146323\n",
       "structuretaxvaluedollarcnt    0.108838\n",
       "Name: lotsizesquarefeet, dtype: float64"
      ]
     },
     "execution_count": 60,
     "metadata": {},
     "output_type": "execute_result"
    }
   ],
   "source": [
    "lower = raw_2016_data['lotsizesquarefeet'].quantile(0.05)\n",
    "upper = raw_2016_data['lotsizesquarefeet'].quantile(0.95)\n",
    "filtered = raw_2016_data[raw_2016_data['lotsizesquarefeet'].ge(lower) & \n",
    "                         raw_2016_data['lotsizesquarefeet'].le(upper)]\n",
    "filtered.drop(columns=to_drop).corr().loc['lotsizesquarefeet'].sort_values(ascending=False)[:10]"
   ]
  },
  {
   "cell_type": "code",
   "execution_count": 61,
   "metadata": {},
   "outputs": [],
   "source": [
    "x_cols = ['has_airconditioning', 'yearbuilt', 'poolsizesum']\n",
    "raw_2016_data['lotsizesquarefeet'], lotsqft_model = lr_impute(raw_2016_data, 'lotsizesquarefeet', x_cols)"
   ]
  },
  {
   "cell_type": "markdown",
   "metadata": {},
   "source": [
    "### censustractandblock"
   ]
  },
  {
   "cell_type": "code",
   "execution_count": 62,
   "metadata": {},
   "outputs": [
    {
     "data": {
      "text/plain": [
       "censustractandblock             1.000000\n",
       "rawcensustractandblock          0.999835\n",
       "garagecarcnt                    0.718500\n",
       "garagetotalsqft                 0.715248\n",
       "roomcnt                         0.710329\n",
       "parcelid                        0.674548\n",
       "threequarterbathnbr             0.400933\n",
       "yearbuilt                       0.243029\n",
       "numberofstories                 0.188863\n",
       "calculatedfinishedsquarefeet    0.061369\n",
       "Name: censustractandblock, dtype: float64"
      ]
     },
     "execution_count": 62,
     "metadata": {},
     "output_type": "execute_result"
    }
   ],
   "source": [
    "raw_2016_data.drop(columns=to_drop).corr().loc['censustractandblock'].sort_values(ascending=False)[:10]"
   ]
  },
  {
   "cell_type": "markdown",
   "metadata": {},
   "source": [
    "This has 99.9% correlation with rawcensustractandblock. Dropping this column."
   ]
  },
  {
   "cell_type": "code",
   "execution_count": 63,
   "metadata": {},
   "outputs": [],
   "source": [
    "to_drop.add('censustractandblock')"
   ]
  },
  {
   "cell_type": "markdown",
   "metadata": {},
   "source": [
    "### Tax columns"
   ]
  },
  {
   "cell_type": "markdown",
   "metadata": {},
   "source": [
    "There are a number of tax columns that are all correlated with each other, but are missing values. I am going to impute the values with the least number of missing rows, and then impute the rest based on that."
   ]
  },
  {
   "cell_type": "code",
   "execution_count": 64,
   "metadata": {},
   "outputs": [],
   "source": [
    "x_cols = ['calculatedfinishedsquarefeet', 'bathroomcnt']\n",
    "raw_2016_data['taxvaluedollarcnt'], tax_model0 = lr_impute(raw_2016_data, 'taxvaluedollarcnt', x_cols)\n",
    "\n",
    "raw_2016_data['landtaxvaluedollarcnt'], tax_model1 = lr_impute(raw_2016_data, 'landtaxvaluedollarcnt', ['taxvaluedollarcnt'] + x_cols)\n",
    "raw_2016_data['structuretaxvaluedollarcnt'], tax_model2 = lr_impute(raw_2016_data, 'structuretaxvaluedollarcnt', ['taxvaluedollarcnt', 'landtaxvaluedollarcnt'] + x_cols)\n",
    "raw_2016_data['taxamount'], tax_model3 = lr_impute(raw_2016_data, 'taxamount', ['taxvaluedollarcnt', 'landtaxvaluedollarcnt', 'structuretaxvaluedollarcnt'] + x_cols)"
   ]
  },
  {
   "cell_type": "markdown",
   "metadata": {},
   "source": [
    "### Finally, lets change the transaction date to a numerical column we can actually use. This will be a feature we can learn on, and will affect how we split our data."
   ]
  },
  {
   "cell_type": "code",
   "execution_count": 65,
   "metadata": {},
   "outputs": [],
   "source": [
    "date_int = pd.to_datetime(raw_2016_data['transactiondate']).astype(int)\n",
    "# We now can shave off the 11 unchanging zeros on the end of our datetime objects. These represenect hours/minutes/seconds\n",
    "raw_2016_data['date_numeric'] = date_int.astype(str).str[:-11].astype(int)\n",
    "\n",
    "to_drop.add('transactiondate')"
   ]
  },
  {
   "cell_type": "markdown",
   "metadata": {},
   "source": [
    "## Finalizing our dataset"
   ]
  },
  {
   "cell_type": "code",
   "execution_count": 66,
   "metadata": {},
   "outputs": [
    {
     "data": {
      "text/html": [
       "<div>\n",
       "<style scoped>\n",
       "    .dataframe tbody tr th:only-of-type {\n",
       "        vertical-align: middle;\n",
       "    }\n",
       "\n",
       "    .dataframe tbody tr th {\n",
       "        vertical-align: top;\n",
       "    }\n",
       "\n",
       "    .dataframe thead th {\n",
       "        text-align: right;\n",
       "    }\n",
       "</style>\n",
       "<table border=\"1\" class=\"dataframe\">\n",
       "  <thead>\n",
       "    <tr style=\"text-align: right;\">\n",
       "      <th></th>\n",
       "      <th>logerror</th>\n",
       "      <th>bathroomcnt</th>\n",
       "      <th>bedroomcnt</th>\n",
       "      <th>buildingqualitytypeid</th>\n",
       "      <th>calculatedfinishedsquarefeet</th>\n",
       "      <th>fullbathcnt</th>\n",
       "      <th>garagecarcnt</th>\n",
       "      <th>garagetotalsqft</th>\n",
       "      <th>latitude</th>\n",
       "      <th>longitude</th>\n",
       "      <th>...</th>\n",
       "      <th>land_use_id__248</th>\n",
       "      <th>land_use_id__260</th>\n",
       "      <th>land_use_id__261</th>\n",
       "      <th>land_use_id__263</th>\n",
       "      <th>land_use_id__264</th>\n",
       "      <th>land_use_id__265</th>\n",
       "      <th>land_use_id__266</th>\n",
       "      <th>land_use_id__267</th>\n",
       "      <th>land_use_id__269</th>\n",
       "      <th>land_use_id__275</th>\n",
       "    </tr>\n",
       "    <tr>\n",
       "      <th>parcelid</th>\n",
       "      <th></th>\n",
       "      <th></th>\n",
       "      <th></th>\n",
       "      <th></th>\n",
       "      <th></th>\n",
       "      <th></th>\n",
       "      <th></th>\n",
       "      <th></th>\n",
       "      <th></th>\n",
       "      <th></th>\n",
       "      <th></th>\n",
       "      <th></th>\n",
       "      <th></th>\n",
       "      <th></th>\n",
       "      <th></th>\n",
       "      <th></th>\n",
       "      <th></th>\n",
       "      <th></th>\n",
       "      <th></th>\n",
       "      <th></th>\n",
       "      <th></th>\n",
       "    </tr>\n",
       "  </thead>\n",
       "  <tbody>\n",
       "    <tr>\n",
       "      <th>11016594</th>\n",
       "      <td>0.0276</td>\n",
       "      <td>2.0</td>\n",
       "      <td>3.0</td>\n",
       "      <td>4.000000</td>\n",
       "      <td>1684.0</td>\n",
       "      <td>2.0</td>\n",
       "      <td>0.0</td>\n",
       "      <td>0.0</td>\n",
       "      <td>34280990.0</td>\n",
       "      <td>-118488536.0</td>\n",
       "      <td>...</td>\n",
       "      <td>0</td>\n",
       "      <td>0</td>\n",
       "      <td>1</td>\n",
       "      <td>0</td>\n",
       "      <td>0</td>\n",
       "      <td>0</td>\n",
       "      <td>0</td>\n",
       "      <td>0</td>\n",
       "      <td>0</td>\n",
       "      <td>0</td>\n",
       "    </tr>\n",
       "    <tr>\n",
       "      <th>14366692</th>\n",
       "      <td>-0.1684</td>\n",
       "      <td>3.5</td>\n",
       "      <td>4.0</td>\n",
       "      <td>5.565414</td>\n",
       "      <td>2263.0</td>\n",
       "      <td>3.0</td>\n",
       "      <td>2.0</td>\n",
       "      <td>468.0</td>\n",
       "      <td>33668120.0</td>\n",
       "      <td>-117677556.0</td>\n",
       "      <td>...</td>\n",
       "      <td>0</td>\n",
       "      <td>0</td>\n",
       "      <td>1</td>\n",
       "      <td>0</td>\n",
       "      <td>0</td>\n",
       "      <td>0</td>\n",
       "      <td>0</td>\n",
       "      <td>0</td>\n",
       "      <td>0</td>\n",
       "      <td>0</td>\n",
       "    </tr>\n",
       "    <tr>\n",
       "      <th>12098116</th>\n",
       "      <td>-0.0040</td>\n",
       "      <td>3.0</td>\n",
       "      <td>2.0</td>\n",
       "      <td>4.000000</td>\n",
       "      <td>2217.0</td>\n",
       "      <td>3.0</td>\n",
       "      <td>0.0</td>\n",
       "      <td>0.0</td>\n",
       "      <td>34136312.0</td>\n",
       "      <td>-118175032.0</td>\n",
       "      <td>...</td>\n",
       "      <td>0</td>\n",
       "      <td>0</td>\n",
       "      <td>1</td>\n",
       "      <td>0</td>\n",
       "      <td>0</td>\n",
       "      <td>0</td>\n",
       "      <td>0</td>\n",
       "      <td>0</td>\n",
       "      <td>0</td>\n",
       "      <td>0</td>\n",
       "    </tr>\n",
       "    <tr>\n",
       "      <th>12643413</th>\n",
       "      <td>0.0218</td>\n",
       "      <td>2.0</td>\n",
       "      <td>2.0</td>\n",
       "      <td>4.000000</td>\n",
       "      <td>839.0</td>\n",
       "      <td>2.0</td>\n",
       "      <td>0.0</td>\n",
       "      <td>0.0</td>\n",
       "      <td>33755800.0</td>\n",
       "      <td>-118309000.0</td>\n",
       "      <td>...</td>\n",
       "      <td>0</td>\n",
       "      <td>0</td>\n",
       "      <td>0</td>\n",
       "      <td>0</td>\n",
       "      <td>0</td>\n",
       "      <td>0</td>\n",
       "      <td>1</td>\n",
       "      <td>0</td>\n",
       "      <td>0</td>\n",
       "      <td>0</td>\n",
       "    </tr>\n",
       "    <tr>\n",
       "      <th>14432541</th>\n",
       "      <td>-0.0050</td>\n",
       "      <td>2.5</td>\n",
       "      <td>4.0</td>\n",
       "      <td>5.565414</td>\n",
       "      <td>2283.0</td>\n",
       "      <td>2.0</td>\n",
       "      <td>2.0</td>\n",
       "      <td>598.0</td>\n",
       "      <td>33485643.0</td>\n",
       "      <td>-117700234.0</td>\n",
       "      <td>...</td>\n",
       "      <td>0</td>\n",
       "      <td>0</td>\n",
       "      <td>1</td>\n",
       "      <td>0</td>\n",
       "      <td>0</td>\n",
       "      <td>0</td>\n",
       "      <td>0</td>\n",
       "      <td>0</td>\n",
       "      <td>0</td>\n",
       "      <td>0</td>\n",
       "    </tr>\n",
       "  </tbody>\n",
       "</table>\n",
       "<p>5 rows × 64 columns</p>\n",
       "</div>"
      ],
      "text/plain": [
       "          logerror  bathroomcnt  bedroomcnt  buildingqualitytypeid  \\\n",
       "parcelid                                                             \n",
       "11016594    0.0276          2.0         3.0               4.000000   \n",
       "14366692   -0.1684          3.5         4.0               5.565414   \n",
       "12098116   -0.0040          3.0         2.0               4.000000   \n",
       "12643413    0.0218          2.0         2.0               4.000000   \n",
       "14432541   -0.0050          2.5         4.0               5.565414   \n",
       "\n",
       "          calculatedfinishedsquarefeet  fullbathcnt  garagecarcnt  \\\n",
       "parcelid                                                            \n",
       "11016594                        1684.0          2.0           0.0   \n",
       "14366692                        2263.0          3.0           2.0   \n",
       "12098116                        2217.0          3.0           0.0   \n",
       "12643413                         839.0          2.0           0.0   \n",
       "14432541                        2283.0          2.0           2.0   \n",
       "\n",
       "          garagetotalsqft    latitude    longitude  ...  land_use_id__248  \\\n",
       "parcelid                                            ...                     \n",
       "11016594              0.0  34280990.0 -118488536.0  ...                 0   \n",
       "14366692            468.0  33668120.0 -117677556.0  ...                 0   \n",
       "12098116              0.0  34136312.0 -118175032.0  ...                 0   \n",
       "12643413              0.0  33755800.0 -118309000.0  ...                 0   \n",
       "14432541            598.0  33485643.0 -117700234.0  ...                 0   \n",
       "\n",
       "          land_use_id__260  land_use_id__261  land_use_id__263  \\\n",
       "parcelid                                                         \n",
       "11016594                 0                 1                 0   \n",
       "14366692                 0                 1                 0   \n",
       "12098116                 0                 1                 0   \n",
       "12643413                 0                 0                 0   \n",
       "14432541                 0                 1                 0   \n",
       "\n",
       "          land_use_id__264  land_use_id__265  land_use_id__266  \\\n",
       "parcelid                                                         \n",
       "11016594                 0                 0                 0   \n",
       "14366692                 0                 0                 0   \n",
       "12098116                 0                 0                 0   \n",
       "12643413                 0                 0                 1   \n",
       "14432541                 0                 0                 0   \n",
       "\n",
       "          land_use_id__267  land_use_id__269  land_use_id__275  \n",
       "parcelid                                                        \n",
       "11016594                 0                 0                 0  \n",
       "14366692                 0                 0                 0  \n",
       "12098116                 0                 0                 0  \n",
       "12643413                 0                 0                 0  \n",
       "14432541                 0                 0                 0  \n",
       "\n",
       "[5 rows x 64 columns]"
      ]
     },
     "execution_count": 66,
     "metadata": {},
     "output_type": "execute_result"
    }
   ],
   "source": [
    "final_2016_data = pd.concat((raw_2016_data.drop(columns=to_drop), heat_dummies, ac_dummies, land_use_dummies), axis=1).set_index('parcelid').sort_values('date_numeric')\n",
    "final_2016_data.head()"
   ]
  },
  {
   "cell_type": "code",
   "execution_count": 67,
   "metadata": {},
   "outputs": [
    {
     "name": "stdout",
     "output_type": "stream",
     "text": [
      "(89136, 64)\n"
     ]
    }
   ],
   "source": [
    "print(final_2016_data.shape)"
   ]
  },
  {
   "cell_type": "markdown",
   "metadata": {},
   "source": [
    "So, with all the dummies, we have 66 features and 90,275 samples."
   ]
  },
  {
   "cell_type": "markdown",
   "metadata": {},
   "source": [
    "## Train/Test Split"
   ]
  },
  {
   "cell_type": "markdown",
   "metadata": {},
   "source": [
    "Because I made transaction date an integer feature, splitting on 10/15/2016 requires an extra step."
   ]
  },
  {
   "cell_type": "code",
   "execution_count": 68,
   "metadata": {},
   "outputs": [],
   "source": [
    "split_date_int = int(dt(2016, 10, 15).timestamp()/100)\n",
    "\n",
    "y_col = 'logerror'\n",
    "X_cols = [col for col in final_2016_data.columns if col != y_col]\n",
    "\n",
    "X_train = final_2016_data.loc[final_2016_data.date_numeric.lt(split_date_int), X_cols]\n",
    "y_train = final_2016_data.loc[final_2016_data.date_numeric.lt(split_date_int), y_col]\n",
    "\n",
    "X_test = final_2016_data.loc[final_2016_data.date_numeric.ge(split_date_int), X_cols]\n",
    "y_test = final_2016_data.loc[final_2016_data.date_numeric.ge(split_date_int), y_col]"
   ]
  },
  {
   "cell_type": "markdown",
   "metadata": {},
   "source": [
    "Because we need to break this data into five folds for different tests, we will again do this splitting by the transaction date. This will help isolate our folds from each other. The data is already sorted by date, so I'll split into five chunks"
   ]
  },
  {
   "cell_type": "code",
   "execution_count": 69,
   "metadata": {},
   "outputs": [],
   "source": [
    "n_per_fold = int(X_train.shape[0] / 5)\n",
    "five_fold_data = [(X_train.iloc[fold*n_per_fold: (fold+1)*n_per_fold], \n",
    "                   y_train.iloc[fold*n_per_fold: (fold+1)*n_per_fold]) for fold in range(5)]"
   ]
  },
  {
   "cell_type": "markdown",
   "metadata": {},
   "source": [
    "### a. One the 1st sample - Do a normal linear regression. Report MSE value."
   ]
  },
  {
   "cell_type": "markdown",
   "metadata": {},
   "source": [
    "I will train each model on 4/5 of the folds, and report the MSE of the last fold."
   ]
  },
  {
   "cell_type": "code",
   "execution_count": 70,
   "metadata": {},
   "outputs": [
    {
     "name": "stdout",
     "output_type": "stream",
     "text": [
      "Simple Linear Regression (all features) MSE: 0.03362757685177706\n"
     ]
    }
   ],
   "source": [
    "k = 0\n",
    "fold_train_X = pd.concat([five_fold_data[n][0] for n in range(5) if n!=k])\n",
    "fold_train_y = pd.concat([five_fold_data[n][1] for n in range(5) if n!=k])\n",
    "\n",
    "fold_test_X = five_fold_data[k][0]\n",
    "fold_test_y = five_fold_data[k][1]\n",
    "\n",
    "lr = LinearRegression()\n",
    "lr.fit(fold_train_X, fold_train_y)\n",
    "predict = lr.predict(fold_test_X)\n",
    "mse = mean_squared_error(fold_test_y, predict)\n",
    "\n",
    "print(f'Simple Linear Regression (all features) MSE: {mse}')"
   ]
  },
  {
   "cell_type": "markdown",
   "metadata": {},
   "source": [
    "### b. 2nd sample - make the lasso penalty, l1 and predict logerror. Report MSE value. "
   ]
  },
  {
   "cell_type": "code",
   "execution_count": 71,
   "metadata": {},
   "outputs": [
    {
     "name": "stdout",
     "output_type": "stream",
     "text": [
      "Lasso (all features) MSE: 0.02513413191639093\n"
     ]
    }
   ],
   "source": [
    "k = 1\n",
    "fold_train_X = pd.concat([five_fold_data[n][0] for n in range(5) if n!=k])\n",
    "fold_train_y = pd.concat([five_fold_data[n][1] for n in range(5) if n!=k])\n",
    "\n",
    "fold_test_X = five_fold_data[k][0]\n",
    "fold_test_y = five_fold_data[k][1]\n",
    "\n",
    "lasso = Lasso(alpha=0.75, max_iter=5000)  # default 1000 'did not converge'\n",
    "lasso.fit(fold_train_X, fold_train_y)\n",
    "predict = lasso.predict(fold_test_X)\n",
    "mse = mean_squared_error(fold_test_y, predict)\n",
    "\n",
    "print(f'Lasso (all features) MSE: {mse}')"
   ]
  },
  {
   "cell_type": "markdown",
   "metadata": {},
   "source": [
    "### c. 3rd sample - Use the result of 2nd validation and reduce the number of features."
   ]
  },
  {
   "cell_type": "markdown",
   "metadata": {},
   "source": [
    "To do this, we can look at the coefficients of the lasso model."
   ]
  },
  {
   "cell_type": "code",
   "execution_count": 72,
   "metadata": {},
   "outputs": [
    {
     "data": {
      "text/plain": [
       "array([ 0.00000000e+00,  0.00000000e+00, -0.00000000e+00,  7.59709175e-06,\n",
       "        0.00000000e+00, -0.00000000e+00, -0.00000000e+00,  1.00340274e-09,\n",
       "       -1.92802254e-09,  9.20765236e-09, -0.00000000e+00, -0.00000000e+00,\n",
       "       -3.02802577e-09,  1.61780376e-22,  0.00000000e+00, -0.00000000e+00,\n",
       "       -0.00000000e+00, -0.00000000e+00,  0.00000000e+00,  0.00000000e+00,\n",
       "        1.62178362e-08,  2.54317681e-08,  0.00000000e+00,  0.00000000e+00,\n",
       "       -3.19228212e-06,  0.00000000e+00, -0.00000000e+00,  0.00000000e+00,\n",
       "        0.00000000e+00,  0.00000000e+00, -5.97475769e-09,  0.00000000e+00,\n",
       "        0.00000000e+00, -0.00000000e+00, -0.00000000e+00, -0.00000000e+00,\n",
       "       -0.00000000e+00, -0.00000000e+00, -0.00000000e+00, -0.00000000e+00,\n",
       "       -0.00000000e+00, -0.00000000e+00, -0.00000000e+00, -0.00000000e+00,\n",
       "        0.00000000e+00,  0.00000000e+00,  0.00000000e+00,  0.00000000e+00,\n",
       "        0.00000000e+00, -0.00000000e+00,  0.00000000e+00, -0.00000000e+00,\n",
       "       -0.00000000e+00, -0.00000000e+00, -0.00000000e+00, -0.00000000e+00,\n",
       "        0.00000000e+00,  0.00000000e+00, -0.00000000e+00,  0.00000000e+00,\n",
       "        0.00000000e+00,  0.00000000e+00,  0.00000000e+00])"
      ]
     },
     "execution_count": 72,
     "metadata": {},
     "output_type": "execute_result"
    }
   ],
   "source": [
    "lasso.coef_"
   ]
  },
  {
   "cell_type": "markdown",
   "metadata": {},
   "source": [
    "This model only has nine non-zero coefficients. We can use this to determine what our reduced feature set might look like."
   ]
  },
  {
   "cell_type": "code",
   "execution_count": 73,
   "metadata": {},
   "outputs": [
    {
     "name": "stdout",
     "output_type": "stream",
     "text": [
      "10\n",
      "calculatedfinishedsquarefeet, latitude, longitude, lotsizesquarefeet, rawcensustractandblock, regionidcity, structuretaxvaluedollarcnt, taxvaluedollarcnt, taxamount, date_numeric\n"
     ]
    }
   ],
   "source": [
    "features = fold_train_X.columns[lasso.coef_ != 0].tolist()\n",
    "print(len(features))\n",
    "print(', '.join(features))"
   ]
  },
  {
   "cell_type": "markdown",
   "metadata": {},
   "source": [
    "It looks like this model is content with only 10 features. Looking at them, this seems to make sense. We have four basic variables included in these 10 features: house size, house value (based on taxes), location information, and time."
   ]
  },
  {
   "cell_type": "code",
   "execution_count": 74,
   "metadata": {},
   "outputs": [
    {
     "name": "stdout",
     "output_type": "stream",
     "text": [
      "Lasso (reduced features, alpha=0.1) MSE: 0.02325754577302926\n",
      "Lasso (reduced features, alpha=0.2) MSE: 0.023257635686943307\n",
      "Lasso (reduced features, alpha=0.3) MSE: 0.023257787288435847\n",
      "Lasso (reduced features, alpha=0.4) MSE: 0.023258000577506873\n",
      "Lasso (reduced features, alpha=0.5) MSE: 0.023258275554156407\n",
      "Lasso (reduced features, alpha=0.6) MSE: 0.02325861221838443\n",
      "Lasso (reduced features, alpha=0.7) MSE: 0.02325901057019095\n",
      "Lasso (reduced features, alpha=0.8) MSE: 0.023259470609575963\n"
     ]
    }
   ],
   "source": [
    "k = 2\n",
    "fold_train_X = pd.concat([five_fold_data[n][0] for n in range(5) if n!=k])[features]\n",
    "fold_train_y = pd.concat([five_fold_data[n][1] for n in range(5) if n!=k])\n",
    "\n",
    "fold_test_X = five_fold_data[k][0][features]\n",
    "fold_test_y = five_fold_data[k][1]\n",
    "\n",
    "for alpha in (0.1, 0.2, 0.3, 0.4, 0.5, 0.6, 0.7, 0.8):\n",
    "    lasso = Lasso(alpha=alpha, max_iter=10000)  # default 1000 'did not converge'\n",
    "    lasso.fit(fold_train_X, fold_train_y)\n",
    "    predict = lasso.predict(fold_test_X)\n",
    "    mse = mean_squared_error(fold_test_y, predict)\n",
    "\n",
    "    print(f'Lasso (reduced features, alpha={alpha}) MSE: {mse}')"
   ]
  },
  {
   "cell_type": "markdown",
   "metadata": {},
   "source": [
    "### d. 4th sample - Using the ridge regularization, predict logerror and report MSE value. You can try with many  𝜆  values."
   ]
  },
  {
   "cell_type": "markdown",
   "metadata": {},
   "source": [
    "I was getting I'll conditioned matrix error, so for this fold I will attempt to use standardscaler."
   ]
  },
  {
   "cell_type": "code",
   "execution_count": 75,
   "metadata": {},
   "outputs": [
    {
     "name": "stdout",
     "output_type": "stream",
     "text": [
      "Ridge (all features, lambda=0.001) MSE: 0.02274066985055421\n",
      "Ridge (all features, lambda=0.01) MSE: 0.022740669861660085\n",
      "Ridge (all features, lambda=0.1) MSE: 0.022740669972774134\n",
      "Ridge (all features, lambda=1) MSE: 0.022740671089437763\n",
      "Ridge (all features, lambda=10) MSE: 0.022740682806829775\n"
     ]
    }
   ],
   "source": [
    "k = 3\n",
    "\n",
    "scaler = StandardScaler()\n",
    "\n",
    "fold_train_X = pd.DataFrame(scaler.fit_transform(pd.concat([five_fold_data[n][0] for n in range(5) if n!=k])))\n",
    "fold_train_y = pd.concat([five_fold_data[n][1] for n in range(5) if n!=k])\n",
    "\n",
    "fold_test_X = scaler.transform(five_fold_data[k][0])\n",
    "fold_test_y = five_fold_data[k][1]\n",
    "\n",
    "for lambda_ in (0.001, 0.01, 0.1, 1, 10):\n",
    "    ridge = Ridge(alpha=lambda_)  # default 1000 'did not converge'\n",
    "    ridge.fit(fold_train_X, fold_train_y)\n",
    "    predict = ridge.predict(fold_test_X)\n",
    "    mse = mean_squared_error(fold_test_y, predict)\n",
    "    print(f'Ridge (all features, lambda={lambda_}) MSE: {mse}')"
   ]
  },
  {
   "cell_type": "markdown",
   "metadata": {},
   "source": [
    "In these cases, even if different orders of magnitude, we don't see lambda making a difference in our MSE."
   ]
  },
  {
   "cell_type": "markdown",
   "metadata": {},
   "source": [
    "### e. 5th sample - Predict logerror using elasticnet regularization. You can try with many  𝜆  values."
   ]
  },
  {
   "cell_type": "code",
   "execution_count": 76,
   "metadata": {},
   "outputs": [
    {
     "name": "stdout",
     "output_type": "stream",
     "text": [
      "ElasticNet (all features, lambda=0.001) MSE: 0.021439273187723713\n",
      "ElasticNet (all features, lambda=0.01) MSE: 0.021502242002595123\n",
      "ElasticNet (all features, lambda=0.1) MSE: 0.021516649487153712\n",
      "ElasticNet (all features, lambda=1) MSE: 0.021516649487153712\n",
      "ElasticNet (all features, lambda=10) MSE: 0.021516649487153712\n"
     ]
    }
   ],
   "source": [
    "k = 4\n",
    "\n",
    "scaler = StandardScaler()\n",
    "\n",
    "fold_train_X = pd.DataFrame(scaler.fit_transform(pd.concat([five_fold_data[n][0] for n in range(5) if n!=k])))\n",
    "fold_train_y = pd.concat([five_fold_data[n][1] for n in range(5) if n!=k])\n",
    "\n",
    "fold_test_X = scaler.transform(five_fold_data[k][0])\n",
    "fold_test_y = five_fold_data[k][1]\n",
    "\n",
    "for lambda_ in (0.001, 0.01, 0.1, 1, 10):\n",
    "    en = ElasticNet(alpha=lambda_)\n",
    "    en.fit(fold_train_X, fold_train_y)\n",
    "    predict = en.predict(fold_test_X)\n",
    "    mse = mean_squared_error(fold_test_y, predict)\n",
    "    print(f'ElasticNet (all features, lambda={lambda_}) MSE: {mse}')"
   ]
  },
  {
   "cell_type": "markdown",
   "metadata": {},
   "source": [
    "### f. Report the best model from 5-folds."
   ]
  },
  {
   "cell_type": "markdown",
   "metadata": {},
   "source": [
    "Of the 5 models, the highest performing on it's respective fold was the ElasticNet model. The best of the five lamdas we tried was lambda=0.001. This is the value of the hyperparameter that we will use moving forward."
   ]
  },
  {
   "cell_type": "markdown",
   "metadata": {},
   "source": [
    "## Among the tasks you made in step 3, choose the best model you have and predict logerror on the test set, that made transactions after 10/15/2016."
   ]
  },
  {
   "cell_type": "code",
   "execution_count": 77,
   "metadata": {},
   "outputs": [
    {
     "name": "stdout",
     "output_type": "stream",
     "text": [
      "ElasticNet Post 10/15/2016 MSE: 0.02736157267179499\n"
     ]
    }
   ],
   "source": [
    "scaler = StandardScaler()\n",
    "\n",
    "en = ElasticNet(alpha=0.001)\n",
    "en.fit(scaler.fit_transform(X_train), y_train)\n",
    "\n",
    "predict = en.predict(scaler.transform(X_test))\n",
    "\n",
    "mse = mean_squared_error(y_test, predict)\n",
    "\n",
    "print(f'ElasticNet Post 10/15/2016 MSE: {mse}')"
   ]
  },
  {
   "cell_type": "markdown",
   "metadata": {},
   "source": [
    "### Using the logerror given values, make the dataset a binary problem - overestimated with “+1” and underestimated with “0”. Using a linear classifier, determine at least three properties that over estimates the price of house."
   ]
  },
  {
   "cell_type": "markdown",
   "metadata": {},
   "source": [
    "Over-estimated houses are houses in which the Z-estimate is greater than the actual sale price (the house was worth less than the Zillow estimate). This corresponds to positive values of logerror."
   ]
  },
  {
   "cell_type": "code",
   "execution_count": 78,
   "metadata": {},
   "outputs": [],
   "source": [
    "y_train_class = y_train.gt(0).astype(int)\n",
    "y_test_class = y_test.gt(0).astype(int)"
   ]
  },
  {
   "cell_type": "code",
   "execution_count": 79,
   "metadata": {},
   "outputs": [
    {
     "data": {
      "text/plain": [
       "LogisticRegression(C=1.0, class_weight=None, dual=False, fit_intercept=True,\n",
       "                   intercept_scaling=1, l1_ratio=None, max_iter=100,\n",
       "                   multi_class='auto', n_jobs=None, penalty='l2',\n",
       "                   random_state=None, solver='lbfgs', tol=0.0001, verbose=0,\n",
       "                   warm_start=False)"
      ]
     },
     "execution_count": 79,
     "metadata": {},
     "output_type": "execute_result"
    }
   ],
   "source": [
    "logr_scaler = StandardScaler()\n",
    "\n",
    "logr = LogisticRegression()\n",
    "logr.fit(logr_scaler.fit_transform(X_train), y_train_class)"
   ]
  },
  {
   "cell_type": "code",
   "execution_count": 80,
   "metadata": {},
   "outputs": [
    {
     "name": "stdout",
     "output_type": "stream",
     "text": [
      "Logistic Regression Overpriced Classifier Accuracy: 0.6028896672504378\n",
      "Logistic Regression Overpriced Classifier Class 0 Accuracy: 0.12866449511400652\n",
      "Logistic Regression Overpriced Classifier Class 1 Accuracy: 0.9233308877476155\n",
      "\n",
      "Logistic Regression Overpriced Classifier Precision: 0.6106259097525473\n",
      "Logistic Regression Overpriced Classifier Recall: 0.9233308877476155\n"
     ]
    }
   ],
   "source": [
    "predict = logr.predict(logr_scaler.transform(X_test))\n",
    "\n",
    "acc = accuracy_score(y_test_class, predict)\n",
    "acc_0 = accuracy_score(y_test_class[~y_test_class.astype(bool)], predict[~y_test_class.astype(bool)])\n",
    "acc_1 = accuracy_score(y_test_class[y_test_class.astype(bool)], predict[y_test_class.astype(bool)])\n",
    "\n",
    "prc = precision_score(y_test_class, predict)\n",
    "recall = recall_score(y_test_class, predict)\n",
    "\n",
    "print(f'Logistic Regression Overpriced Classifier Accuracy: {acc}')  # correct/predictions\n",
    "print(f'Logistic Regression Overpriced Classifier Class 0 Accuracy: {acc_0}')  # correct/predictions for class 0\n",
    "print(f'Logistic Regression Overpriced Classifier Class 1 Accuracy: {acc_1}')  # correct/predictions for class 1\n",
    "\n",
    "print()\n",
    "\n",
    "print(f'Logistic Regression Overpriced Classifier Precision: {prc}')  # not label negative as positive\n",
    "print(f'Logistic Regression Overpriced Classifier Recall: {recall}')  # likelyhood positive is actually correct"
   ]
  },
  {
   "cell_type": "code",
   "execution_count": 81,
   "metadata": {},
   "outputs": [
    {
     "data": {
      "text/html": [
       "<div>\n",
       "<style scoped>\n",
       "    .dataframe tbody tr th:only-of-type {\n",
       "        vertical-align: middle;\n",
       "    }\n",
       "\n",
       "    .dataframe tbody tr th {\n",
       "        vertical-align: top;\n",
       "    }\n",
       "\n",
       "    .dataframe thead th {\n",
       "        text-align: right;\n",
       "    }\n",
       "</style>\n",
       "<table border=\"1\" class=\"dataframe\">\n",
       "  <thead>\n",
       "    <tr style=\"text-align: right;\">\n",
       "      <th></th>\n",
       "      <th>predict_0</th>\n",
       "      <th>predict_1</th>\n",
       "    </tr>\n",
       "  </thead>\n",
       "  <tbody>\n",
       "    <tr>\n",
       "      <th>class 0</th>\n",
       "      <td>237</td>\n",
       "      <td>1605</td>\n",
       "    </tr>\n",
       "    <tr>\n",
       "      <th>class 1</th>\n",
       "      <td>209</td>\n",
       "      <td>2517</td>\n",
       "    </tr>\n",
       "  </tbody>\n",
       "</table>\n",
       "</div>"
      ],
      "text/plain": [
       "         predict_0  predict_1\n",
       "class 0        237       1605\n",
       "class 1        209       2517"
      ]
     },
     "execution_count": 81,
     "metadata": {},
     "output_type": "execute_result"
    }
   ],
   "source": [
    "pd.DataFrame(confusion_matrix(y_test_class, predict), columns=['predict_0', 'predict_1'], index=['class 0', 'class 1'])"
   ]
  },
  {
   "cell_type": "markdown",
   "metadata": {},
   "source": [
    "So, this model is very good at predicting overpriced houses, but not good at predicting an underpriced house. To get three houses where we overestimated the price, we can grab the three highest predicted probabilities."
   ]
  },
  {
   "cell_type": "code",
   "execution_count": 82,
   "metadata": {},
   "outputs": [],
   "source": [
    "probs = logr.predict_proba(scaler.transform(X_test))"
   ]
  },
  {
   "cell_type": "code",
   "execution_count": 83,
   "metadata": {},
   "outputs": [],
   "source": [
    "prob1 = [pair[1] for pair in probs]\n",
    "index_prob = [(index, prob) for index, prob in enumerate(prob1)]\n",
    "\n",
    "index_prob = sorted(index_prob, key=lambda pair: pair[1], reverse=True)\n",
    "top_10_idx = [pair[0] for pair in index_prob[:10]]"
   ]
  },
  {
   "cell_type": "markdown",
   "metadata": {},
   "source": [
    "### Here are the three parcels that we estimated the Zillow price is greater than the sale price."
   ]
  },
  {
   "cell_type": "code",
   "execution_count": 84,
   "metadata": {},
   "outputs": [
    {
     "data": {
      "text/html": [
       "<div>\n",
       "<style scoped>\n",
       "    .dataframe tbody tr th:only-of-type {\n",
       "        vertical-align: middle;\n",
       "    }\n",
       "\n",
       "    .dataframe tbody tr th {\n",
       "        vertical-align: top;\n",
       "    }\n",
       "\n",
       "    .dataframe thead th {\n",
       "        text-align: right;\n",
       "    }\n",
       "</style>\n",
       "<table border=\"1\" class=\"dataframe\">\n",
       "  <thead>\n",
       "    <tr style=\"text-align: right;\">\n",
       "      <th></th>\n",
       "      <th>bathroomcnt</th>\n",
       "      <th>bedroomcnt</th>\n",
       "      <th>buildingqualitytypeid</th>\n",
       "      <th>calculatedfinishedsquarefeet</th>\n",
       "      <th>fullbathcnt</th>\n",
       "      <th>garagecarcnt</th>\n",
       "      <th>garagetotalsqft</th>\n",
       "      <th>latitude</th>\n",
       "      <th>longitude</th>\n",
       "      <th>lotsizesquarefeet</th>\n",
       "      <th>...</th>\n",
       "      <th>land_use_id__248</th>\n",
       "      <th>land_use_id__260</th>\n",
       "      <th>land_use_id__261</th>\n",
       "      <th>land_use_id__263</th>\n",
       "      <th>land_use_id__264</th>\n",
       "      <th>land_use_id__265</th>\n",
       "      <th>land_use_id__266</th>\n",
       "      <th>land_use_id__267</th>\n",
       "      <th>land_use_id__269</th>\n",
       "      <th>land_use_id__275</th>\n",
       "    </tr>\n",
       "    <tr>\n",
       "      <th>parcelid</th>\n",
       "      <th></th>\n",
       "      <th></th>\n",
       "      <th></th>\n",
       "      <th></th>\n",
       "      <th></th>\n",
       "      <th></th>\n",
       "      <th></th>\n",
       "      <th></th>\n",
       "      <th></th>\n",
       "      <th></th>\n",
       "      <th></th>\n",
       "      <th></th>\n",
       "      <th></th>\n",
       "      <th></th>\n",
       "      <th></th>\n",
       "      <th></th>\n",
       "      <th></th>\n",
       "      <th></th>\n",
       "      <th></th>\n",
       "      <th></th>\n",
       "      <th></th>\n",
       "    </tr>\n",
       "  </thead>\n",
       "  <tbody>\n",
       "    <tr>\n",
       "      <th>11654953</th>\n",
       "      <td>15.0</td>\n",
       "      <td>7.0</td>\n",
       "      <td>5.565414</td>\n",
       "      <td>20013.0</td>\n",
       "      <td>15.0</td>\n",
       "      <td>0.0</td>\n",
       "      <td>0.0</td>\n",
       "      <td>34122666.0</td>\n",
       "      <td>-118414718.0</td>\n",
       "      <td>99022.0</td>\n",
       "      <td>...</td>\n",
       "      <td>0</td>\n",
       "      <td>0</td>\n",
       "      <td>1</td>\n",
       "      <td>0</td>\n",
       "      <td>0</td>\n",
       "      <td>0</td>\n",
       "      <td>0</td>\n",
       "      <td>0</td>\n",
       "      <td>0</td>\n",
       "      <td>0</td>\n",
       "    </tr>\n",
       "    <tr>\n",
       "      <th>11989106</th>\n",
       "      <td>5.0</td>\n",
       "      <td>5.0</td>\n",
       "      <td>12.000000</td>\n",
       "      <td>8163.0</td>\n",
       "      <td>5.0</td>\n",
       "      <td>0.0</td>\n",
       "      <td>0.0</td>\n",
       "      <td>34073187.0</td>\n",
       "      <td>-118326893.0</td>\n",
       "      <td>20095.0</td>\n",
       "      <td>...</td>\n",
       "      <td>0</td>\n",
       "      <td>0</td>\n",
       "      <td>1</td>\n",
       "      <td>0</td>\n",
       "      <td>0</td>\n",
       "      <td>0</td>\n",
       "      <td>0</td>\n",
       "      <td>0</td>\n",
       "      <td>0</td>\n",
       "      <td>0</td>\n",
       "    </tr>\n",
       "    <tr>\n",
       "      <th>14317947</th>\n",
       "      <td>8.0</td>\n",
       "      <td>5.0</td>\n",
       "      <td>5.565414</td>\n",
       "      <td>9467.0</td>\n",
       "      <td>8.0</td>\n",
       "      <td>5.0</td>\n",
       "      <td>1247.0</td>\n",
       "      <td>33615858.0</td>\n",
       "      <td>-117846022.0</td>\n",
       "      <td>44800.0</td>\n",
       "      <td>...</td>\n",
       "      <td>0</td>\n",
       "      <td>0</td>\n",
       "      <td>1</td>\n",
       "      <td>0</td>\n",
       "      <td>0</td>\n",
       "      <td>0</td>\n",
       "      <td>0</td>\n",
       "      <td>0</td>\n",
       "      <td>0</td>\n",
       "      <td>0</td>\n",
       "    </tr>\n",
       "    <tr>\n",
       "      <th>14374964</th>\n",
       "      <td>3.0</td>\n",
       "      <td>3.0</td>\n",
       "      <td>5.565414</td>\n",
       "      <td>2444.0</td>\n",
       "      <td>3.0</td>\n",
       "      <td>2.0</td>\n",
       "      <td>474.0</td>\n",
       "      <td>33642065.0</td>\n",
       "      <td>-117703523.0</td>\n",
       "      <td>5200.0</td>\n",
       "      <td>...</td>\n",
       "      <td>0</td>\n",
       "      <td>0</td>\n",
       "      <td>1</td>\n",
       "      <td>0</td>\n",
       "      <td>0</td>\n",
       "      <td>0</td>\n",
       "      <td>0</td>\n",
       "      <td>0</td>\n",
       "      <td>0</td>\n",
       "      <td>0</td>\n",
       "    </tr>\n",
       "    <tr>\n",
       "      <th>14296390</th>\n",
       "      <td>7.0</td>\n",
       "      <td>7.0</td>\n",
       "      <td>5.565414</td>\n",
       "      <td>8164.0</td>\n",
       "      <td>6.0</td>\n",
       "      <td>4.0</td>\n",
       "      <td>1027.0</td>\n",
       "      <td>33622594.0</td>\n",
       "      <td>-117866057.0</td>\n",
       "      <td>16000.0</td>\n",
       "      <td>...</td>\n",
       "      <td>0</td>\n",
       "      <td>0</td>\n",
       "      <td>1</td>\n",
       "      <td>0</td>\n",
       "      <td>0</td>\n",
       "      <td>0</td>\n",
       "      <td>0</td>\n",
       "      <td>0</td>\n",
       "      <td>0</td>\n",
       "      <td>0</td>\n",
       "    </tr>\n",
       "    <tr>\n",
       "      <th>12545569</th>\n",
       "      <td>4.0</td>\n",
       "      <td>5.0</td>\n",
       "      <td>10.000000</td>\n",
       "      <td>7985.0</td>\n",
       "      <td>4.0</td>\n",
       "      <td>0.0</td>\n",
       "      <td>0.0</td>\n",
       "      <td>33762784.0</td>\n",
       "      <td>-118158971.0</td>\n",
       "      <td>12014.0</td>\n",
       "      <td>...</td>\n",
       "      <td>0</td>\n",
       "      <td>0</td>\n",
       "      <td>1</td>\n",
       "      <td>0</td>\n",
       "      <td>0</td>\n",
       "      <td>0</td>\n",
       "      <td>0</td>\n",
       "      <td>0</td>\n",
       "      <td>0</td>\n",
       "      <td>0</td>\n",
       "    </tr>\n",
       "    <tr>\n",
       "      <th>17241917</th>\n",
       "      <td>7.0</td>\n",
       "      <td>6.0</td>\n",
       "      <td>5.565414</td>\n",
       "      <td>7970.0</td>\n",
       "      <td>7.0</td>\n",
       "      <td>4.0</td>\n",
       "      <td>1135.0</td>\n",
       "      <td>34249615.0</td>\n",
       "      <td>-118789522.0</td>\n",
       "      <td>35688.0</td>\n",
       "      <td>...</td>\n",
       "      <td>0</td>\n",
       "      <td>0</td>\n",
       "      <td>1</td>\n",
       "      <td>0</td>\n",
       "      <td>0</td>\n",
       "      <td>0</td>\n",
       "      <td>0</td>\n",
       "      <td>0</td>\n",
       "      <td>0</td>\n",
       "      <td>0</td>\n",
       "    </tr>\n",
       "    <tr>\n",
       "      <th>11006773</th>\n",
       "      <td>3.0</td>\n",
       "      <td>4.0</td>\n",
       "      <td>4.000000</td>\n",
       "      <td>3165.0</td>\n",
       "      <td>3.0</td>\n",
       "      <td>0.0</td>\n",
       "      <td>0.0</td>\n",
       "      <td>34311237.0</td>\n",
       "      <td>-118403188.0</td>\n",
       "      <td>3589145.0</td>\n",
       "      <td>...</td>\n",
       "      <td>0</td>\n",
       "      <td>0</td>\n",
       "      <td>0</td>\n",
       "      <td>0</td>\n",
       "      <td>0</td>\n",
       "      <td>0</td>\n",
       "      <td>1</td>\n",
       "      <td>0</td>\n",
       "      <td>0</td>\n",
       "      <td>0</td>\n",
       "    </tr>\n",
       "    <tr>\n",
       "      <th>12107635</th>\n",
       "      <td>3.0</td>\n",
       "      <td>2.0</td>\n",
       "      <td>4.000000</td>\n",
       "      <td>1209.0</td>\n",
       "      <td>3.0</td>\n",
       "      <td>0.0</td>\n",
       "      <td>0.0</td>\n",
       "      <td>34162800.0</td>\n",
       "      <td>-118142000.0</td>\n",
       "      <td>7504.0</td>\n",
       "      <td>...</td>\n",
       "      <td>0</td>\n",
       "      <td>0</td>\n",
       "      <td>0</td>\n",
       "      <td>0</td>\n",
       "      <td>1</td>\n",
       "      <td>0</td>\n",
       "      <td>0</td>\n",
       "      <td>0</td>\n",
       "      <td>0</td>\n",
       "      <td>0</td>\n",
       "    </tr>\n",
       "    <tr>\n",
       "      <th>10736758</th>\n",
       "      <td>5.0</td>\n",
       "      <td>5.0</td>\n",
       "      <td>10.000000</td>\n",
       "      <td>6818.0</td>\n",
       "      <td>5.0</td>\n",
       "      <td>0.0</td>\n",
       "      <td>0.0</td>\n",
       "      <td>34176005.0</td>\n",
       "      <td>-118666721.0</td>\n",
       "      <td>60355.0</td>\n",
       "      <td>...</td>\n",
       "      <td>0</td>\n",
       "      <td>0</td>\n",
       "      <td>1</td>\n",
       "      <td>0</td>\n",
       "      <td>0</td>\n",
       "      <td>0</td>\n",
       "      <td>0</td>\n",
       "      <td>0</td>\n",
       "      <td>0</td>\n",
       "      <td>0</td>\n",
       "    </tr>\n",
       "  </tbody>\n",
       "</table>\n",
       "<p>10 rows × 63 columns</p>\n",
       "</div>"
      ],
      "text/plain": [
       "          bathroomcnt  bedroomcnt  buildingqualitytypeid  \\\n",
       "parcelid                                                   \n",
       "11654953         15.0         7.0               5.565414   \n",
       "11989106          5.0         5.0              12.000000   \n",
       "14317947          8.0         5.0               5.565414   \n",
       "14374964          3.0         3.0               5.565414   \n",
       "14296390          7.0         7.0               5.565414   \n",
       "12545569          4.0         5.0              10.000000   \n",
       "17241917          7.0         6.0               5.565414   \n",
       "11006773          3.0         4.0               4.000000   \n",
       "12107635          3.0         2.0               4.000000   \n",
       "10736758          5.0         5.0              10.000000   \n",
       "\n",
       "          calculatedfinishedsquarefeet  fullbathcnt  garagecarcnt  \\\n",
       "parcelid                                                            \n",
       "11654953                       20013.0         15.0           0.0   \n",
       "11989106                        8163.0          5.0           0.0   \n",
       "14317947                        9467.0          8.0           5.0   \n",
       "14374964                        2444.0          3.0           2.0   \n",
       "14296390                        8164.0          6.0           4.0   \n",
       "12545569                        7985.0          4.0           0.0   \n",
       "17241917                        7970.0          7.0           4.0   \n",
       "11006773                        3165.0          3.0           0.0   \n",
       "12107635                        1209.0          3.0           0.0   \n",
       "10736758                        6818.0          5.0           0.0   \n",
       "\n",
       "          garagetotalsqft    latitude    longitude  lotsizesquarefeet  ...  \\\n",
       "parcelid                                                               ...   \n",
       "11654953              0.0  34122666.0 -118414718.0            99022.0  ...   \n",
       "11989106              0.0  34073187.0 -118326893.0            20095.0  ...   \n",
       "14317947           1247.0  33615858.0 -117846022.0            44800.0  ...   \n",
       "14374964            474.0  33642065.0 -117703523.0             5200.0  ...   \n",
       "14296390           1027.0  33622594.0 -117866057.0            16000.0  ...   \n",
       "12545569              0.0  33762784.0 -118158971.0            12014.0  ...   \n",
       "17241917           1135.0  34249615.0 -118789522.0            35688.0  ...   \n",
       "11006773              0.0  34311237.0 -118403188.0          3589145.0  ...   \n",
       "12107635              0.0  34162800.0 -118142000.0             7504.0  ...   \n",
       "10736758              0.0  34176005.0 -118666721.0            60355.0  ...   \n",
       "\n",
       "          land_use_id__248  land_use_id__260  land_use_id__261  \\\n",
       "parcelid                                                         \n",
       "11654953                 0                 0                 1   \n",
       "11989106                 0                 0                 1   \n",
       "14317947                 0                 0                 1   \n",
       "14374964                 0                 0                 1   \n",
       "14296390                 0                 0                 1   \n",
       "12545569                 0                 0                 1   \n",
       "17241917                 0                 0                 1   \n",
       "11006773                 0                 0                 0   \n",
       "12107635                 0                 0                 0   \n",
       "10736758                 0                 0                 1   \n",
       "\n",
       "          land_use_id__263  land_use_id__264  land_use_id__265  \\\n",
       "parcelid                                                         \n",
       "11654953                 0                 0                 0   \n",
       "11989106                 0                 0                 0   \n",
       "14317947                 0                 0                 0   \n",
       "14374964                 0                 0                 0   \n",
       "14296390                 0                 0                 0   \n",
       "12545569                 0                 0                 0   \n",
       "17241917                 0                 0                 0   \n",
       "11006773                 0                 0                 0   \n",
       "12107635                 0                 1                 0   \n",
       "10736758                 0                 0                 0   \n",
       "\n",
       "          land_use_id__266  land_use_id__267  land_use_id__269  \\\n",
       "parcelid                                                         \n",
       "11654953                 0                 0                 0   \n",
       "11989106                 0                 0                 0   \n",
       "14317947                 0                 0                 0   \n",
       "14374964                 0                 0                 0   \n",
       "14296390                 0                 0                 0   \n",
       "12545569                 0                 0                 0   \n",
       "17241917                 0                 0                 0   \n",
       "11006773                 1                 0                 0   \n",
       "12107635                 0                 0                 0   \n",
       "10736758                 0                 0                 0   \n",
       "\n",
       "          land_use_id__275  \n",
       "parcelid                    \n",
       "11654953                 0  \n",
       "11989106                 0  \n",
       "14317947                 0  \n",
       "14374964                 0  \n",
       "14296390                 0  \n",
       "12545569                 0  \n",
       "17241917                 0  \n",
       "11006773                 0  \n",
       "12107635                 0  \n",
       "10736758                 0  \n",
       "\n",
       "[10 rows x 63 columns]"
      ]
     },
     "execution_count": 84,
     "metadata": {},
     "output_type": "execute_result"
    }
   ],
   "source": [
    "X_test.iloc[top_10_idx]"
   ]
  },
  {
   "cell_type": "code",
   "execution_count": 85,
   "metadata": {},
   "outputs": [
    {
     "data": {
      "text/plain": [
       "parcelid\n",
       "11654953   -0.3711\n",
       "11989106    0.0411\n",
       "14317947    0.0742\n",
       "14374964   -0.0429\n",
       "14296390    0.0742\n",
       "12545569   -0.3397\n",
       "17241917    0.0344\n",
       "11006773    0.0411\n",
       "12107635    0.0469\n",
       "10736758    0.0257\n",
       "Name: logerror, dtype: float64"
      ]
     },
     "execution_count": 85,
     "metadata": {},
     "output_type": "execute_result"
    }
   ],
   "source": [
    "y_test.iloc[top_10_idx]"
   ]
  },
  {
   "cell_type": "markdown",
   "metadata": {},
   "source": [
    "Note, we get two of these estimations incorrect! This record looks like quite the outlier though, with 15 bathrooms and 20,000 sq ft."
   ]
  },
  {
   "cell_type": "markdown",
   "metadata": {},
   "source": [
    "# Using the classifier of overestimation prediction identification you made in step 5, use the information of January of 2017 information and predict if the prices were overestimated or not. Compare your result with the actual logerror value."
   ]
  },
  {
   "cell_type": "markdown",
   "metadata": {},
   "source": [
    "To do this, we need to load the data, and process it in the same way we processed the 2016 data (imputation, etc)."
   ]
  },
  {
   "cell_type": "code",
   "execution_count": 86,
   "metadata": {},
   "outputs": [
    {
     "name": "stderr",
     "output_type": "stream",
     "text": [
      "/Library/Frameworks/Python.framework/Versions/3.7/lib/python3.7/site-packages/IPython/core/interactiveshell.py:3072: DtypeWarning: Columns (49) have mixed types.Specify dtype option on import or set low_memory=False.\n",
      "  interactivity=interactivity, compiler=compiler, result=result)\n"
     ]
    },
    {
     "name": "stdout",
     "output_type": "stream",
     "text": [
      "(77613, 3)\n",
      "(2985217, 58)\n"
     ]
    }
   ],
   "source": [
    "# Read in raw data sources\n",
    "raw_2017_train = pd.read_csv('train_2017.csv')\n",
    "raw_2017_property = pd.read_csv('properties_2017.csv')\n",
    "\n",
    "print(raw_2017_train.shape)\n",
    "print(raw_2017_property.shape)"
   ]
  },
  {
   "cell_type": "code",
   "execution_count": 87,
   "metadata": {},
   "outputs": [
    {
     "name": "stdout",
     "output_type": "stream",
     "text": [
      "(77613, 60)\n",
      "(7025, 60)\n"
     ]
    }
   ],
   "source": [
    "raw_2017_data = raw_2017_train.merge(raw_2017_property, how='inner', on='parcelid')\n",
    "print(raw_2017_data.shape)\n",
    "\n",
    "jan_2017 = raw_2017_data[pd.to_datetime(raw_2017_data.transactiondate).dt.month.eq(1)]\n",
    "print(jan_2017.shape)\n",
    "\n",
    "# Lets drop all the rows that are NaN, but were filled in 2016. Not looking to experiment with imputing in our test dataset.\n",
    "jan_2017 = jan_2017[jan_2017.roomcnt.notnull()]"
   ]
  },
  {
   "cell_type": "markdown",
   "metadata": {},
   "source": [
    "## Now, we have to repeat all of our same imputations on the 2017 data!"
   ]
  },
  {
   "cell_type": "code",
   "execution_count": 88,
   "metadata": {},
   "outputs": [],
   "source": [
    "idx = jan_2017.index"
   ]
  },
  {
   "cell_type": "code",
   "execution_count": 89,
   "metadata": {},
   "outputs": [],
   "source": [
    "jan_2017['finishedsquarefeet6'] = jan_2017['finishedsquarefeet6'].fillna(pd.Series(fsqft6_model.predict(jan_2017[['roomcnt', 'bedroomcnt']]), index=idx))\n",
    "jan_2017['calculatedfinishedsquarefeet'] = jan_2017['calculatedfinishedsquarefeet'].fillna(pd.Series(calcsqft_model.predict(jan_2017[['bathroomcnt', 'bedroomcnt']]), index=idx))"
   ]
  },
  {
   "cell_type": "code",
   "execution_count": 90,
   "metadata": {},
   "outputs": [],
   "source": [
    "jan_2017.loc[jan_2017['threequarterbathnbr'].isnull() &\n",
    "             jan_2017['fullbathcnt'].isnull(), 'fullbathcnt'] = jan_2017.loc[jan_2017['threequarterbathnbr'].isnull() &\n",
    "                                                                             jan_2017['fullbathcnt'].isnull(), 'bathroomcnt']\n",
    "\n",
    "jan_2017['threequarterbathnbr'] = np.where(jan_2017['threequarterbathnbr'].isnull(), \n",
    "                                           (jan_2017['bathroomcnt'] - jan_2017['fullbathcnt']) * 2,\n",
    "                                           jan_2017['threequarterbathnbr'])"
   ]
  },
  {
   "cell_type": "code",
   "execution_count": 91,
   "metadata": {},
   "outputs": [],
   "source": [
    "jan_2017['poolcnt'] = jan_2017['poolcnt'].fillna(0)\n",
    "jan_2017['poolsizesum'] = np.where(jan_2017['poolsizesum'].isna(),\n",
    "                                   jan_2017['poolcnt'] * median_pool_sqft, \n",
    "                                   jan_2017['poolsizesum'])\n",
    "jan_2017['spa_hottub'] = jan_2017['pooltypeid2'].astype(bool) | jan_2017['pooltypeid10'].astype(bool) | jan_2017['hashottuborspa'].astype(bool)"
   ]
  },
  {
   "cell_type": "code",
   "execution_count": 92,
   "metadata": {},
   "outputs": [],
   "source": [
    "jan_2017['garagecarcnt'] = jan_2017['garagecarcnt'].fillna(0)\n",
    "\n",
    "# Now, lets fill missing square footage by the mean sqft/bay. First, we notice some listings have sqft=0, despite having 1+ car locations. We wipe these.\n",
    "jan_2017.loc[jan_2017['garagecarcnt'].ge(1) &\n",
    "             jan_2017['garagetotalsqft'].eq(0), 'garagetotalsqft'] = np.NaN\n",
    "\n",
    "# Fill the NaN/None values scaled by num cars\n",
    "jan_2017['garagetotalsqft'] = jan_2017.garagetotalsqft.fillna(jan_2017.garagecarcnt*ave_sq_ft_per_car)"
   ]
  },
  {
   "cell_type": "code",
   "execution_count": 93,
   "metadata": {},
   "outputs": [],
   "source": [
    "jan_2017['airconditioningtypeid'] = jan_2017['airconditioningtypeid'].fillna(5)\n",
    "\n",
    "# I am going to attempt to make a new feature, 'advanced_ac', to capture the perceived more premium AC systems.\n",
    "jan_2017['has_airconditioning'] = jan_2017['airconditioningtypeid'].ne(5).astype(int)\n",
    "jan_2017['advanced_ac'] = jan_2017['airconditioningtypeid'].isin((2,3,4,9)).astype(int)\n",
    "\n",
    "ac_dummies = pd.get_dummies(jan_2017['airconditioningtypeid'])\n",
    "ac_dummies.columns = \"ac_id__\" + ac_dummies.columns.astype(int).astype(str)"
   ]
  },
  {
   "cell_type": "code",
   "execution_count": 94,
   "metadata": {},
   "outputs": [],
   "source": [
    "heat_impute = np.random.choice(a=list(heat_dist_dict.keys()), p=list(heat_dist_dict.values()), size=jan_2017['heatingorsystemtypeid'].isna().sum())\n",
    "\n",
    "# I will engineer a few extra featuers as well, of what I think might be valuable\n",
    "jan_2017.loc[jan_2017['heatingorsystemtypeid'].isna(), 'heatingorsystemtypeid'] = heat_impute\n",
    "jan_2017['has_heat'] = jan_2017['airconditioningtypeid'].eq(1) | jan_2017['heatingorsystemtypeid'].eq(2).astype(int)\n",
    "jan_2017['central_air'] = jan_2017['airconditioningtypeid'].eq(1) | jan_2017['heatingorsystemtypeid'].eq(2).astype(int)\n",
    "\n",
    "heat_dummies = pd.get_dummies(jan_2017['heatingorsystemtypeid'])\n",
    "heat_dummies.columns = \"heating_id__\" + heat_dummies.columns.astype(int).astype(str)"
   ]
  },
  {
   "cell_type": "code",
   "execution_count": 95,
   "metadata": {},
   "outputs": [],
   "source": [
    "# I'm imputing this data with the mean of the training data, not the mean of the new data\n",
    "jan_2017['buildingqualitytypeid'] = jan_2017['buildingqualitytypeid'].fillna(raw_2016_data['buildingqualitytypeid'].mean())"
   ]
  },
  {
   "cell_type": "code",
   "execution_count": 96,
   "metadata": {},
   "outputs": [],
   "source": [
    "jan_2017['yearbuilt'] = jan_2017['yearbuilt'].fillna(raw_2016_data['yearbuilt'].mean())"
   ]
  },
  {
   "cell_type": "code",
   "execution_count": 97,
   "metadata": {},
   "outputs": [],
   "source": [
    "jan_2017['unitcnt'] = jan_2017['unitcnt'].fillna(1)"
   ]
  },
  {
   "cell_type": "code",
   "execution_count": 98,
   "metadata": {},
   "outputs": [],
   "source": [
    "x_cols = ['threequarterbathnbr', 'buildingqualitytypeid', 'calculatedfinishedsquarefeet', 'yearbuilt', 'bathroomcnt', 'unitcnt']\n",
    "jan_2017['numberofstories'] = jan_2017['numberofstories'].fillna(pd.Series(stories_model.predict(jan_2017[x_cols]), index=idx))"
   ]
  },
  {
   "cell_type": "code",
   "execution_count": 99,
   "metadata": {},
   "outputs": [],
   "source": [
    "land_use_dummies = pd.get_dummies(jan_2017['propertylandusetypeid'])\n",
    "land_use_dummies.columns = \"land_use_id__\" + land_use_dummies.columns.astype(int).astype(str)"
   ]
  },
  {
   "cell_type": "code",
   "execution_count": 100,
   "metadata": {},
   "outputs": [],
   "source": [
    "x_cols = ['has_airconditioning', 'yearbuilt', 'poolsizesum']\n",
    "jan_2017['lotsizesquarefeet'] = jan_2017['lotsizesquarefeet'].fillna(pd.Series(lotsqft_model.predict(jan_2017[x_cols])))"
   ]
  },
  {
   "cell_type": "code",
   "execution_count": 101,
   "metadata": {},
   "outputs": [],
   "source": [
    "x_cols = ['calculatedfinishedsquarefeet', 'bathroomcnt']\n",
    "jan_2017['taxvaluedollarcnt'] = jan_2017['taxvaluedollarcnt'].fillna(pd.Series(tax_model0.predict(jan_2017[x_cols]), index=idx))\n",
    "jan_2017['landtaxvaluedollarcnt'] = jan_2017['landtaxvaluedollarcnt'].fillna(pd.Series(tax_model1.predict(jan_2017[['taxvaluedollarcnt'] + x_cols]), index=idx))\n",
    "jan_2017['structuretaxvaluedollarcnt'] = jan_2017['structuretaxvaluedollarcnt'].fillna(pd.Series(tax_model2.predict(jan_2017[['taxvaluedollarcnt', 'landtaxvaluedollarcnt'] + x_cols]), index=idx))\n",
    "jan_2017['taxamount'] = jan_2017['taxamount'].fillna(pd.Series(tax_model3.predict(jan_2017[['taxvaluedollarcnt', 'landtaxvaluedollarcnt', 'structuretaxvaluedollarcnt'] + x_cols]), index=idx))"
   ]
  },
  {
   "cell_type": "code",
   "execution_count": 102,
   "metadata": {},
   "outputs": [],
   "source": [
    "date_int = pd.to_datetime(jan_2017['transactiondate']).astype(int)\n",
    "jan_2017['date_numeric'] = date_int.astype(str).str[:-11].astype(int)"
   ]
  },
  {
   "cell_type": "markdown",
   "metadata": {},
   "source": [
    "### Finally, we can get our 2017 test set."
   ]
  },
  {
   "cell_type": "code",
   "execution_count": 103,
   "metadata": {},
   "outputs": [
    {
     "data": {
      "text/html": [
       "<div>\n",
       "<style scoped>\n",
       "    .dataframe tbody tr th:only-of-type {\n",
       "        vertical-align: middle;\n",
       "    }\n",
       "\n",
       "    .dataframe tbody tr th {\n",
       "        vertical-align: top;\n",
       "    }\n",
       "\n",
       "    .dataframe thead th {\n",
       "        text-align: right;\n",
       "    }\n",
       "</style>\n",
       "<table border=\"1\" class=\"dataframe\">\n",
       "  <thead>\n",
       "    <tr style=\"text-align: right;\">\n",
       "      <th></th>\n",
       "      <th>logerror</th>\n",
       "      <th>bathroomcnt</th>\n",
       "      <th>bedroomcnt</th>\n",
       "      <th>buildingqualitytypeid</th>\n",
       "      <th>calculatedfinishedsquarefeet</th>\n",
       "      <th>fullbathcnt</th>\n",
       "      <th>garagecarcnt</th>\n",
       "      <th>garagetotalsqft</th>\n",
       "      <th>latitude</th>\n",
       "      <th>longitude</th>\n",
       "      <th>...</th>\n",
       "      <th>land_use_id__247</th>\n",
       "      <th>land_use_id__248</th>\n",
       "      <th>land_use_id__260</th>\n",
       "      <th>land_use_id__261</th>\n",
       "      <th>land_use_id__263</th>\n",
       "      <th>land_use_id__265</th>\n",
       "      <th>land_use_id__266</th>\n",
       "      <th>land_use_id__267</th>\n",
       "      <th>land_use_id__269</th>\n",
       "      <th>land_use_id__275</th>\n",
       "    </tr>\n",
       "    <tr>\n",
       "      <th>parcelid</th>\n",
       "      <th></th>\n",
       "      <th></th>\n",
       "      <th></th>\n",
       "      <th></th>\n",
       "      <th></th>\n",
       "      <th></th>\n",
       "      <th></th>\n",
       "      <th></th>\n",
       "      <th></th>\n",
       "      <th></th>\n",
       "      <th></th>\n",
       "      <th></th>\n",
       "      <th></th>\n",
       "      <th></th>\n",
       "      <th></th>\n",
       "      <th></th>\n",
       "      <th></th>\n",
       "      <th></th>\n",
       "      <th></th>\n",
       "      <th></th>\n",
       "      <th></th>\n",
       "    </tr>\n",
       "  </thead>\n",
       "  <tbody>\n",
       "    <tr>\n",
       "      <th>14297519</th>\n",
       "      <td>0.025595</td>\n",
       "      <td>3.5</td>\n",
       "      <td>4.0</td>\n",
       "      <td>5.565414</td>\n",
       "      <td>3100.0</td>\n",
       "      <td>3.0</td>\n",
       "      <td>2.0</td>\n",
       "      <td>633.00000</td>\n",
       "      <td>33634931.0</td>\n",
       "      <td>-117869207.0</td>\n",
       "      <td>...</td>\n",
       "      <td>0</td>\n",
       "      <td>0</td>\n",
       "      <td>0</td>\n",
       "      <td>1</td>\n",
       "      <td>0</td>\n",
       "      <td>0</td>\n",
       "      <td>0</td>\n",
       "      <td>0</td>\n",
       "      <td>0</td>\n",
       "      <td>0</td>\n",
       "    </tr>\n",
       "    <tr>\n",
       "      <th>17052889</th>\n",
       "      <td>0.055619</td>\n",
       "      <td>1.0</td>\n",
       "      <td>2.0</td>\n",
       "      <td>5.565414</td>\n",
       "      <td>1465.0</td>\n",
       "      <td>1.0</td>\n",
       "      <td>1.0</td>\n",
       "      <td>255.07356</td>\n",
       "      <td>34449266.0</td>\n",
       "      <td>-119281531.0</td>\n",
       "      <td>...</td>\n",
       "      <td>0</td>\n",
       "      <td>0</td>\n",
       "      <td>0</td>\n",
       "      <td>1</td>\n",
       "      <td>0</td>\n",
       "      <td>0</td>\n",
       "      <td>0</td>\n",
       "      <td>0</td>\n",
       "      <td>0</td>\n",
       "      <td>0</td>\n",
       "    </tr>\n",
       "    <tr>\n",
       "      <th>14186244</th>\n",
       "      <td>0.005383</td>\n",
       "      <td>2.0</td>\n",
       "      <td>3.0</td>\n",
       "      <td>5.565414</td>\n",
       "      <td>1243.0</td>\n",
       "      <td>2.0</td>\n",
       "      <td>2.0</td>\n",
       "      <td>440.00000</td>\n",
       "      <td>33886168.0</td>\n",
       "      <td>-117823170.0</td>\n",
       "      <td>...</td>\n",
       "      <td>0</td>\n",
       "      <td>0</td>\n",
       "      <td>0</td>\n",
       "      <td>1</td>\n",
       "      <td>0</td>\n",
       "      <td>0</td>\n",
       "      <td>0</td>\n",
       "      <td>0</td>\n",
       "      <td>0</td>\n",
       "      <td>0</td>\n",
       "    </tr>\n",
       "    <tr>\n",
       "      <th>12177905</th>\n",
       "      <td>-0.103410</td>\n",
       "      <td>3.0</td>\n",
       "      <td>4.0</td>\n",
       "      <td>8.000000</td>\n",
       "      <td>2376.0</td>\n",
       "      <td>3.0</td>\n",
       "      <td>0.0</td>\n",
       "      <td>0.00000</td>\n",
       "      <td>34245180.0</td>\n",
       "      <td>-118240722.0</td>\n",
       "      <td>...</td>\n",
       "      <td>0</td>\n",
       "      <td>0</td>\n",
       "      <td>0</td>\n",
       "      <td>1</td>\n",
       "      <td>0</td>\n",
       "      <td>0</td>\n",
       "      <td>0</td>\n",
       "      <td>0</td>\n",
       "      <td>0</td>\n",
       "      <td>0</td>\n",
       "    </tr>\n",
       "    <tr>\n",
       "      <th>10887214</th>\n",
       "      <td>0.006940</td>\n",
       "      <td>3.0</td>\n",
       "      <td>3.0</td>\n",
       "      <td>8.000000</td>\n",
       "      <td>1312.0</td>\n",
       "      <td>3.0</td>\n",
       "      <td>0.0</td>\n",
       "      <td>0.00000</td>\n",
       "      <td>34185120.0</td>\n",
       "      <td>-118414640.0</td>\n",
       "      <td>...</td>\n",
       "      <td>0</td>\n",
       "      <td>0</td>\n",
       "      <td>0</td>\n",
       "      <td>0</td>\n",
       "      <td>0</td>\n",
       "      <td>0</td>\n",
       "      <td>1</td>\n",
       "      <td>0</td>\n",
       "      <td>0</td>\n",
       "      <td>0</td>\n",
       "    </tr>\n",
       "  </tbody>\n",
       "</table>\n",
       "<p>5 rows × 57 columns</p>\n",
       "</div>"
      ],
      "text/plain": [
       "          logerror  bathroomcnt  bedroomcnt  buildingqualitytypeid  \\\n",
       "parcelid                                                             \n",
       "14297519  0.025595          3.5         4.0               5.565414   \n",
       "17052889  0.055619          1.0         2.0               5.565414   \n",
       "14186244  0.005383          2.0         3.0               5.565414   \n",
       "12177905 -0.103410          3.0         4.0               8.000000   \n",
       "10887214  0.006940          3.0         3.0               8.000000   \n",
       "\n",
       "          calculatedfinishedsquarefeet  fullbathcnt  garagecarcnt  \\\n",
       "parcelid                                                            \n",
       "14297519                        3100.0          3.0           2.0   \n",
       "17052889                        1465.0          1.0           1.0   \n",
       "14186244                        1243.0          2.0           2.0   \n",
       "12177905                        2376.0          3.0           0.0   \n",
       "10887214                        1312.0          3.0           0.0   \n",
       "\n",
       "          garagetotalsqft    latitude    longitude  ...  land_use_id__247  \\\n",
       "parcelid                                            ...                     \n",
       "14297519        633.00000  33634931.0 -117869207.0  ...                 0   \n",
       "17052889        255.07356  34449266.0 -119281531.0  ...                 0   \n",
       "14186244        440.00000  33886168.0 -117823170.0  ...                 0   \n",
       "12177905          0.00000  34245180.0 -118240722.0  ...                 0   \n",
       "10887214          0.00000  34185120.0 -118414640.0  ...                 0   \n",
       "\n",
       "          land_use_id__248  land_use_id__260  land_use_id__261  \\\n",
       "parcelid                                                         \n",
       "14297519                 0                 0                 1   \n",
       "17052889                 0                 0                 1   \n",
       "14186244                 0                 0                 1   \n",
       "12177905                 0                 0                 1   \n",
       "10887214                 0                 0                 0   \n",
       "\n",
       "          land_use_id__263  land_use_id__265  land_use_id__266  \\\n",
       "parcelid                                                         \n",
       "14297519                 0                 0                 0   \n",
       "17052889                 0                 0                 0   \n",
       "14186244                 0                 0                 0   \n",
       "12177905                 0                 0                 0   \n",
       "10887214                 0                 0                 1   \n",
       "\n",
       "          land_use_id__267  land_use_id__269  land_use_id__275  \n",
       "parcelid                                                        \n",
       "14297519                 0                 0                 0  \n",
       "17052889                 0                 0                 0  \n",
       "14186244                 0                 0                 0  \n",
       "12177905                 0                 0                 0  \n",
       "10887214                 0                 0                 0  \n",
       "\n",
       "[5 rows x 57 columns]"
      ]
     },
     "execution_count": 103,
     "metadata": {},
     "output_type": "execute_result"
    }
   ],
   "source": [
    "final_jan_2017 = pd.concat((jan_2017.drop(columns=to_drop), heat_dummies, ac_dummies, land_use_dummies), axis=1).set_index('parcelid').sort_values('date_numeric')\n",
    "final_jan_2017.head()"
   ]
  },
  {
   "cell_type": "markdown",
   "metadata": {},
   "source": [
    "Because we were creating dummies without *really* checking the contents of the data, we need to make sure we don't have new features in this dataset that do not exist in the original dataset."
   ]
  },
  {
   "cell_type": "code",
   "execution_count": 104,
   "metadata": {},
   "outputs": [
    {
     "data": {
      "text/plain": [
       "[]"
      ]
     },
     "execution_count": 104,
     "metadata": {},
     "output_type": "execute_result"
    }
   ],
   "source": [
    "bad_new_dummies = [col for col in final_jan_2017.columns if col not in final_2016_data.columns]\n",
    "bad_new_dummies"
   ]
  },
  {
   "cell_type": "markdown",
   "metadata": {},
   "source": [
    "Good. Now, we can check if there are missing features."
   ]
  },
  {
   "cell_type": "code",
   "execution_count": 105,
   "metadata": {},
   "outputs": [
    {
     "data": {
      "text/plain": [
       "['heating_id__10',\n",
       " 'heating_id__11',\n",
       " 'heating_id__12',\n",
       " 'heating_id__14',\n",
       " 'ac_id__3',\n",
       " 'land_use_id__47',\n",
       " 'land_use_id__264']"
      ]
     },
     "execution_count": 105,
     "metadata": {},
     "output_type": "execute_result"
    }
   ],
   "source": [
    "missing_old_dummies = [col for col in final_2016_data.columns if col not in final_jan_2017.columns]\n",
    "missing_old_dummies"
   ]
  },
  {
   "cell_type": "markdown",
   "metadata": {},
   "source": [
    "We can add in these dummies into our 2017 dataset as zeros."
   ]
  },
  {
   "cell_type": "code",
   "execution_count": 106,
   "metadata": {},
   "outputs": [],
   "source": [
    "for col in missing_old_dummies:\n",
    "    final_jan_2017[col] = 0"
   ]
  },
  {
   "cell_type": "markdown",
   "metadata": {},
   "source": [
    "Finally, we can re-arrange the columns so our model can make sense of them."
   ]
  },
  {
   "cell_type": "code",
   "execution_count": 107,
   "metadata": {},
   "outputs": [],
   "source": [
    "final_jan_2017 = final_jan_2017[final_2016_data.columns.tolist()]\n",
    "final_jan_2017 = final_jan_2017[~final_jan_2017.isna().any(axis=1)]\n",
    "\n",
    "y_col = 'logerror'\n",
    "X_cols = [col for col in final_2016_data.columns if col != y_col]\n",
    "\n",
    "X_2017 = final_jan_2017[X_cols]\n",
    "y_2017 = final_jan_2017[y_col].gt(0).astype(int)"
   ]
  },
  {
   "cell_type": "markdown",
   "metadata": {},
   "source": [
    "### Now we can make our predictions!"
   ]
  },
  {
   "cell_type": "code",
   "execution_count": 108,
   "metadata": {},
   "outputs": [],
   "source": [
    "predict_2017 = logr.predict(logr_scaler.transform(X_2017))"
   ]
  },
  {
   "cell_type": "code",
   "execution_count": 109,
   "metadata": {},
   "outputs": [
    {
     "name": "stdout",
     "output_type": "stream",
     "text": [
      "Logistic Regression Overpriced Classifier January 2017 MSE: 0.4001452432824982\n"
     ]
    }
   ],
   "source": [
    "mse = mean_squared_error(y_2017, predict_2017)\n",
    "print(f'Logistic Regression Overpriced Classifier January 2017 MSE: {mse}')  "
   ]
  },
  {
   "cell_type": "code",
   "execution_count": null,
   "metadata": {},
   "outputs": [],
   "source": []
  },
  {
   "cell_type": "code",
   "execution_count": null,
   "metadata": {},
   "outputs": [],
   "source": []
  },
  {
   "cell_type": "code",
   "execution_count": null,
   "metadata": {},
   "outputs": [],
   "source": []
  }
 ],
 "metadata": {
  "kernelspec": {
   "display_name": "Python 3",
   "language": "python",
   "name": "python3"
  },
  "language_info": {
   "codemirror_mode": {
    "name": "ipython",
    "version": 3
   },
   "file_extension": ".py",
   "mimetype": "text/x-python",
   "name": "python",
   "nbconvert_exporter": "python",
   "pygments_lexer": "ipython3",
   "version": "3.7.6"
  }
 },
 "nbformat": 4,
 "nbformat_minor": 4
}
