{
 "cells": [
  {
   "cell_type": "code",
   "execution_count": 2,
   "metadata": {},
   "outputs": [],
   "source": [
    "import pandas as pd\n",
    "import os"
   ]
  },
  {
   "cell_type": "code",
   "execution_count": 5,
   "metadata": {},
   "outputs": [],
   "source": [
    "files = [os.path.join('raw_state_county_data', file) for file in os.listdir('raw_state_county_data') if file.endswith('xlsx')]"
   ]
  },
  {
   "cell_type": "code",
   "execution_count": 72,
   "metadata": {},
   "outputs": [],
   "source": [
    "state_data_list = list()\n",
    "\n",
    "cols = {'State': 'state',\n",
    "        'County': 'county',\n",
    "        ('Diabetes prevalence', '% Adults with Diabetes'): 'diabetes_rate',\n",
    "        ('Food insecurity', '% Food Insecure'): 'food_insecurity',\n",
    "        ('Children eligible for free or reduced price lunch', '% Enrolled in Free or Reduced Lunch'): 'free_lunch'}\n",
    "\n",
    "for file in files[:]:\n",
    "    county_data = pd.read_excel(file, sheet_name='Additional Measure Data', header=[0, 1])\n",
    "    new_cols = [col_tup if not any('Unnamed' in col for col in col_tup) else col_tup[1] for col_tup in county_data.columns]\n",
    "    county_data.columns = new_cols\n",
    "\n",
    "    try:\n",
    "        county_data['County'] = county_data['County'].fillna('')\n",
    "    except KeyError:\n",
    "        try:\n",
    "            county_data['County'] = county_data['Parish'].fillna('')\n",
    "        except KeyError:\n",
    "            county_data['County'] = county_data['Borough'].fillna('')\n",
    "    \n",
    "    state_data = county_data[cols.keys()]\n",
    "    state_data = state_data.rename(columns=cols).set_index(['state', 'county'])\n",
    "\n",
    "    state_data.fillna(state_data.iloc[0])\n",
    "    \n",
    "    state_data_list.append(state_data)\n",
    "    "
   ]
  },
  {
   "cell_type": "code",
   "execution_count": 73,
   "metadata": {},
   "outputs": [],
   "source": [
    "final = pd.concat(state_data_list)"
   ]
  },
  {
   "cell_type": "code",
   "execution_count": 74,
   "metadata": {},
   "outputs": [
    {
     "data": {
      "text/html": [
       "<div>\n",
       "<style scoped>\n",
       "    .dataframe tbody tr th:only-of-type {\n",
       "        vertical-align: middle;\n",
       "    }\n",
       "\n",
       "    .dataframe tbody tr th {\n",
       "        vertical-align: top;\n",
       "    }\n",
       "\n",
       "    .dataframe thead th {\n",
       "        text-align: right;\n",
       "    }\n",
       "</style>\n",
       "<table border=\"1\" class=\"dataframe\">\n",
       "  <thead>\n",
       "    <tr style=\"text-align: right;\">\n",
       "      <th></th>\n",
       "      <th></th>\n",
       "      <th>diabetes_rate</th>\n",
       "      <th>food_insecurity</th>\n",
       "      <th>free_lunch</th>\n",
       "    </tr>\n",
       "    <tr>\n",
       "      <th>state</th>\n",
       "      <th>county</th>\n",
       "      <th></th>\n",
       "      <th></th>\n",
       "      <th></th>\n",
       "    </tr>\n",
       "  </thead>\n",
       "  <tbody>\n",
       "    <tr>\n",
       "      <th rowspan=\"5\" valign=\"top\">Hawaii</th>\n",
       "      <th></th>\n",
       "      <td>10.3</td>\n",
       "      <td>11.3</td>\n",
       "      <td>47.124759</td>\n",
       "    </tr>\n",
       "    <tr>\n",
       "      <th>Hawaii</th>\n",
       "      <td>10.3</td>\n",
       "      <td>11.8</td>\n",
       "      <td>63.334669</td>\n",
       "    </tr>\n",
       "    <tr>\n",
       "      <th>Honolulu</th>\n",
       "      <td>10.4</td>\n",
       "      <td>10.5</td>\n",
       "      <td>43.225504</td>\n",
       "    </tr>\n",
       "    <tr>\n",
       "      <th>Kalawao</th>\n",
       "      <td>10.2</td>\n",
       "      <td>17.8</td>\n",
       "      <td>NaN</td>\n",
       "    </tr>\n",
       "    <tr>\n",
       "      <th>Kauai</th>\n",
       "      <td>9.7</td>\n",
       "      <td>9.7</td>\n",
       "      <td>47.585227</td>\n",
       "    </tr>\n",
       "    <tr>\n",
       "      <th>...</th>\n",
       "      <th>...</th>\n",
       "      <td>...</td>\n",
       "      <td>...</td>\n",
       "      <td>...</td>\n",
       "    </tr>\n",
       "    <tr>\n",
       "      <th rowspan=\"5\" valign=\"top\">North Dakota</th>\n",
       "      <th>Traill</th>\n",
       "      <td>13.0</td>\n",
       "      <td>5.1</td>\n",
       "      <td>24.583031</td>\n",
       "    </tr>\n",
       "    <tr>\n",
       "      <th>Walsh</th>\n",
       "      <td>9.9</td>\n",
       "      <td>5.3</td>\n",
       "      <td>37.486218</td>\n",
       "    </tr>\n",
       "    <tr>\n",
       "      <th>Ward</th>\n",
       "      <td>8.8</td>\n",
       "      <td>7.1</td>\n",
       "      <td>27.825233</td>\n",
       "    </tr>\n",
       "    <tr>\n",
       "      <th>Wells</th>\n",
       "      <td>9.7</td>\n",
       "      <td>5.1</td>\n",
       "      <td>29.251701</td>\n",
       "    </tr>\n",
       "    <tr>\n",
       "      <th>Williams</th>\n",
       "      <td>9.4</td>\n",
       "      <td>5.8</td>\n",
       "      <td>28.699089</td>\n",
       "    </tr>\n",
       "  </tbody>\n",
       "</table>\n",
       "<p>3193 rows × 3 columns</p>\n",
       "</div>"
      ],
      "text/plain": [
       "                       diabetes_rate  food_insecurity  free_lunch\n",
       "state        county                                              \n",
       "Hawaii                          10.3             11.3   47.124759\n",
       "             Hawaii             10.3             11.8   63.334669\n",
       "             Honolulu           10.4             10.5   43.225504\n",
       "             Kalawao            10.2             17.8         NaN\n",
       "             Kauai               9.7              9.7   47.585227\n",
       "...                              ...              ...         ...\n",
       "North Dakota Traill             13.0              5.1   24.583031\n",
       "             Walsh               9.9              5.3   37.486218\n",
       "             Ward                8.8              7.1   27.825233\n",
       "             Wells               9.7              5.1   29.251701\n",
       "             Williams            9.4              5.8   28.699089\n",
       "\n",
       "[3193 rows x 3 columns]"
      ]
     },
     "execution_count": 74,
     "metadata": {},
     "output_type": "execute_result"
    }
   ],
   "source": [
    "final"
   ]
  },
  {
   "cell_type": "code",
   "execution_count": null,
   "metadata": {},
   "outputs": [],
   "source": []
  },
  {
   "cell_type": "code",
   "execution_count": null,
   "metadata": {},
   "outputs": [],
   "source": []
  },
  {
   "cell_type": "code",
   "execution_count": null,
   "metadata": {},
   "outputs": [],
   "source": []
  },
  {
   "cell_type": "code",
   "execution_count": null,
   "metadata": {},
   "outputs": [],
   "source": []
  },
  {
   "cell_type": "code",
   "execution_count": null,
   "metadata": {},
   "outputs": [],
   "source": []
  },
  {
   "cell_type": "code",
   "execution_count": null,
   "metadata": {},
   "outputs": [],
   "source": []
  },
  {
   "cell_type": "code",
   "execution_count": null,
   "metadata": {},
   "outputs": [],
   "source": []
  },
  {
   "cell_type": "code",
   "execution_count": null,
   "metadata": {},
   "outputs": [],
   "source": []
  },
  {
   "cell_type": "code",
   "execution_count": null,
   "metadata": {},
   "outputs": [],
   "source": []
  },
  {
   "cell_type": "code",
   "execution_count": null,
   "metadata": {},
   "outputs": [],
   "source": []
  },
  {
   "cell_type": "code",
   "execution_count": null,
   "metadata": {},
   "outputs": [],
   "source": []
  },
  {
   "cell_type": "code",
   "execution_count": null,
   "metadata": {},
   "outputs": [],
   "source": []
  },
  {
   "cell_type": "code",
   "execution_count": null,
   "metadata": {},
   "outputs": [],
   "source": []
  },
  {
   "cell_type": "code",
   "execution_count": null,
   "metadata": {},
   "outputs": [],
   "source": []
  },
  {
   "cell_type": "code",
   "execution_count": null,
   "metadata": {},
   "outputs": [],
   "source": []
  },
  {
   "cell_type": "code",
   "execution_count": null,
   "metadata": {},
   "outputs": [],
   "source": []
  },
  {
   "cell_type": "code",
   "execution_count": null,
   "metadata": {},
   "outputs": [],
   "source": []
  },
  {
   "cell_type": "code",
   "execution_count": null,
   "metadata": {},
   "outputs": [],
   "source": []
  },
  {
   "cell_type": "code",
   "execution_count": null,
   "metadata": {},
   "outputs": [],
   "source": []
  },
  {
   "cell_type": "code",
   "execution_count": null,
   "metadata": {},
   "outputs": [],
   "source": []
  },
  {
   "cell_type": "code",
   "execution_count": null,
   "metadata": {},
   "outputs": [],
   "source": []
  },
  {
   "cell_type": "code",
   "execution_count": null,
   "metadata": {},
   "outputs": [],
   "source": []
  }
 ],
 "metadata": {
  "kernelspec": {
   "display_name": "Python 3",
   "language": "python",
   "name": "python3"
  },
  "language_info": {
   "codemirror_mode": {
    "name": "ipython",
    "version": 3
   },
   "file_extension": ".py",
   "mimetype": "text/x-python",
   "name": "python",
   "nbconvert_exporter": "python",
   "pygments_lexer": "ipython3",
   "version": "3.7.6"
  }
 },
 "nbformat": 4,
 "nbformat_minor": 4
}
