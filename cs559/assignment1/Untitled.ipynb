{
 "cells": [
  {
   "cell_type": "code",
   "execution_count": 1,
   "metadata": {},
   "outputs": [],
   "source": [
    "import ibmdata"
   ]
  },
  {
   "cell_type": "code",
   "execution_count": 3,
   "metadata": {},
   "outputs": [],
   "source": [
    "def kerf_wafer_sum_puller():\n",
    "    t = ibmdata.isdw.tables\n",
    "    tw = t.testedwafer.c\n",
    "    parm = t.testparm.c\n",
    "    pwf = t.ptilewaferfact.c\n",
    "    df = t.ptilewaferfact.select(\n",
    "        tw.lot_id,\n",
    "        tw.wafer_id,\n",
    "        parm.parm_label,\n",
    "        pwf.ptile50,\n",
    "        pwf.yield_,\n",
    "        where=[\n",
    "            parm.parm_label.in_('DI51_C5_M7125P125A_ST_A102_4M_Perfect'),\n",
    "            tw.family_code.in_('US'),\n",
    "            tw.last_test_date.gt('CURRENT_DATE - %d days' % 200),\n",
    "        ],\n",
    "    logsql=True\n",
    "    )\n",
    "    return df"
   ]
  },
  {
   "cell_type": "code",
   "execution_count": null,
   "metadata": {},
   "outputs": [],
   "source": []
  }
 ],
 "metadata": {
  "kernelspec": {
   "display_name": "Python 3",
   "language": "python",
   "name": "python3"
  },
  "language_info": {
   "codemirror_mode": {
    "name": "ipython",
    "version": 3
   },
   "file_extension": ".py",
   "mimetype": "text/x-python",
   "name": "python",
   "nbconvert_exporter": "python",
   "pygments_lexer": "ipython3",
   "version": "3.7.6"
  }
 },
 "nbformat": 4,
 "nbformat_minor": 4
}
