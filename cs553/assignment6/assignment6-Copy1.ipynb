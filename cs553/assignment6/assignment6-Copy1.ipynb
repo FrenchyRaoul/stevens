{
 "cells": [
  {
   "cell_type": "code",
   "execution_count": 1,
   "metadata": {},
   "outputs": [
    {
     "name": "stderr",
     "output_type": "stream",
     "text": [
      "unable to import 'smart_open.gcs', disabling that module\n"
     ]
    }
   ],
   "source": [
    "import pandas as pd\n",
    "import numpy as np\n",
    "from collections import Counter\n",
    "from functools import partial\n",
    "from math import log\n",
    "from typing import Tuple\n",
    "from pprint import pprint\n",
    "import matplotlib.pyplot as plt\n",
    "\n",
    "\n",
    "import gensim\n",
    "from gensim.models import LsiModel\n",
    "from gensim.utils import simple_preprocess\n",
    "from gensim.parsing.preprocessing import STOPWORDS\n",
    "from gensim import corpora, models\n",
    "from gensim.models.coherencemodel import CoherenceModel\n",
    "\n",
    "import nltk\n",
    "from nltk import word_tokenize, pos_tag, ne_chunk\n",
    "from nltk.stem import WordNetLemmatizer, SnowballStemmer\n",
    "from nltk.tokenize import RegexpTokenizer\n",
    "\n",
    "from sklearn.cluster import KMeans\n",
    "from sklearn.decomposition import TruncatedSVD\n",
    "from sklearn.model_selection import train_test_split\n",
    "\n",
    "stemmer = SnowballStemmer(\"english\")\n",
    "\n",
    "pd.set_option('display.max_columns', 200)"
   ]
  },
  {
   "cell_type": "markdown",
   "metadata": {},
   "source": [
    "# Read Data and Preprocess"
   ]
  },
  {
   "cell_type": "code",
   "execution_count": 2,
   "metadata": {},
   "outputs": [],
   "source": [
    "filename = '../2019VAERSData/2019VAERSDATA.csv'\n",
    "\n",
    "# rawdata = pd.read_csv(filename, header=[0], error_bad_lines=False, encoding=\"ISO-8859-1\")\n",
    "rawdata = pd.read_csv(filename, header=[0], error_bad_lines=False, encoding=\"latin-1\")\n",
    "\n",
    "rawdata.columns = rawdata.columns.str.lower()\n",
    "\n",
    "\n",
    "scrub = ['\\x97', '\\x96', '\\x91', '\\x80', '\\xad']\n",
    "for byte in scrub:\n",
    "    rawdata['symptom_text'] = rawdata['symptom_text'].str.replace(byte, ' ')\n",
    "    \n",
    "rawdata['symptom_text'] = rawdata['symptom_text'].str.replace('ç', 'c').fillna('')\n",
    "\n",
    "dropcols = ['died', 'er_visit', 'hospital', 'disable']\n",
    "\n",
    "\n",
    "serious_bool = rawdata[dropcols].eq('Y').any(axis=1)\n",
    "rawdata['serious'] = serious_bool.map({True: 'Y', False: 'N'})\n",
    "\n",
    "\n",
    "data = rawdata.drop(columns=dropcols)\n",
    "data = data.set_index('vaers_id')"
   ]
  },
  {
   "cell_type": "code",
   "execution_count": 3,
   "metadata": {},
   "outputs": [
    {
     "data": {
      "text/html": [
       "<div>\n",
       "<style scoped>\n",
       "    .dataframe tbody tr th:only-of-type {\n",
       "        vertical-align: middle;\n",
       "    }\n",
       "\n",
       "    .dataframe tbody tr th {\n",
       "        vertical-align: top;\n",
       "    }\n",
       "\n",
       "    .dataframe thead th {\n",
       "        text-align: right;\n",
       "    }\n",
       "</style>\n",
       "<table border=\"1\" class=\"dataframe\">\n",
       "  <thead>\n",
       "    <tr style=\"text-align: right;\">\n",
       "      <th></th>\n",
       "      <th>recvdate</th>\n",
       "      <th>state</th>\n",
       "      <th>age_yrs</th>\n",
       "      <th>cage_yr</th>\n",
       "      <th>cage_mo</th>\n",
       "      <th>sex</th>\n",
       "      <th>rpt_date</th>\n",
       "      <th>symptom_text</th>\n",
       "      <th>datedied</th>\n",
       "      <th>l_threat</th>\n",
       "      <th>hospdays</th>\n",
       "      <th>x_stay</th>\n",
       "      <th>recovd</th>\n",
       "      <th>vax_date</th>\n",
       "      <th>onset_date</th>\n",
       "      <th>numdays</th>\n",
       "      <th>lab_data</th>\n",
       "      <th>v_adminby</th>\n",
       "      <th>v_fundby</th>\n",
       "      <th>other_meds</th>\n",
       "      <th>cur_ill</th>\n",
       "      <th>history</th>\n",
       "      <th>prior_vax</th>\n",
       "      <th>splttype</th>\n",
       "      <th>form_vers</th>\n",
       "      <th>todays_date</th>\n",
       "      <th>birth_defect</th>\n",
       "      <th>ofc_visit</th>\n",
       "      <th>er_ed_visit</th>\n",
       "      <th>allergies</th>\n",
       "      <th>serious</th>\n",
       "    </tr>\n",
       "    <tr>\n",
       "      <th>vaers_id</th>\n",
       "      <th></th>\n",
       "      <th></th>\n",
       "      <th></th>\n",
       "      <th></th>\n",
       "      <th></th>\n",
       "      <th></th>\n",
       "      <th></th>\n",
       "      <th></th>\n",
       "      <th></th>\n",
       "      <th></th>\n",
       "      <th></th>\n",
       "      <th></th>\n",
       "      <th></th>\n",
       "      <th></th>\n",
       "      <th></th>\n",
       "      <th></th>\n",
       "      <th></th>\n",
       "      <th></th>\n",
       "      <th></th>\n",
       "      <th></th>\n",
       "      <th></th>\n",
       "      <th></th>\n",
       "      <th></th>\n",
       "      <th></th>\n",
       "      <th></th>\n",
       "      <th></th>\n",
       "      <th></th>\n",
       "      <th></th>\n",
       "      <th></th>\n",
       "      <th></th>\n",
       "      <th></th>\n",
       "    </tr>\n",
       "  </thead>\n",
       "  <tbody>\n",
       "    <tr>\n",
       "      <th>794156</th>\n",
       "      <td>01/01/2019</td>\n",
       "      <td>NaN</td>\n",
       "      <td>69.0</td>\n",
       "      <td>69.0</td>\n",
       "      <td>NaN</td>\n",
       "      <td>F</td>\n",
       "      <td>NaN</td>\n",
       "      <td>Severe pain Lt. shoulder area, very localized ...</td>\n",
       "      <td>NaN</td>\n",
       "      <td>NaN</td>\n",
       "      <td>NaN</td>\n",
       "      <td>NaN</td>\n",
       "      <td>Y</td>\n",
       "      <td>10/29/2018</td>\n",
       "      <td>10/30/2018</td>\n",
       "      <td>1.0</td>\n",
       "      <td>NaN</td>\n",
       "      <td>PVT</td>\n",
       "      <td>NaN</td>\n",
       "      <td>NaN</td>\n",
       "      <td>none</td>\n",
       "      <td>none</td>\n",
       "      <td>NaN</td>\n",
       "      <td>NaN</td>\n",
       "      <td>2</td>\n",
       "      <td>01/01/2019</td>\n",
       "      <td>NaN</td>\n",
       "      <td>Y</td>\n",
       "      <td>NaN</td>\n",
       "      <td>tetracycline</td>\n",
       "      <td>N</td>\n",
       "    </tr>\n",
       "    <tr>\n",
       "      <th>794157</th>\n",
       "      <td>01/01/2019</td>\n",
       "      <td>IL</td>\n",
       "      <td>68.0</td>\n",
       "      <td>68.0</td>\n",
       "      <td>NaN</td>\n",
       "      <td>F</td>\n",
       "      <td>NaN</td>\n",
       "      <td>Much joint pain/aching, lack of energy, listle...</td>\n",
       "      <td>NaN</td>\n",
       "      <td>NaN</td>\n",
       "      <td>NaN</td>\n",
       "      <td>NaN</td>\n",
       "      <td>N</td>\n",
       "      <td>12/28/2018</td>\n",
       "      <td>12/29/2018</td>\n",
       "      <td>1.0</td>\n",
       "      <td>None</td>\n",
       "      <td>PHM</td>\n",
       "      <td>NaN</td>\n",
       "      <td>Levothyroxine, sertraline, vitamin B complex, ...</td>\n",
       "      <td>None</td>\n",
       "      <td>Hypothryoidism</td>\n",
       "      <td>Arm soreness at site of injection</td>\n",
       "      <td>NaN</td>\n",
       "      <td>2</td>\n",
       "      <td>01/01/2019</td>\n",
       "      <td>NaN</td>\n",
       "      <td>NaN</td>\n",
       "      <td>NaN</td>\n",
       "      <td>None</td>\n",
       "      <td>N</td>\n",
       "    </tr>\n",
       "    <tr>\n",
       "      <th>794158</th>\n",
       "      <td>01/01/2019</td>\n",
       "      <td>MA</td>\n",
       "      <td>62.0</td>\n",
       "      <td>62.0</td>\n",
       "      <td>NaN</td>\n",
       "      <td>F</td>\n",
       "      <td>NaN</td>\n",
       "      <td>Headache, Fever, Chills, Body Aches, Nausea la...</td>\n",
       "      <td>NaN</td>\n",
       "      <td>NaN</td>\n",
       "      <td>NaN</td>\n",
       "      <td>NaN</td>\n",
       "      <td>Y</td>\n",
       "      <td>12/30/2018</td>\n",
       "      <td>12/31/2018</td>\n",
       "      <td>1.0</td>\n",
       "      <td>NaN</td>\n",
       "      <td>PHM</td>\n",
       "      <td>NaN</td>\n",
       "      <td>Fish Oil, vitamin D, magnesium.</td>\n",
       "      <td>None</td>\n",
       "      <td>None</td>\n",
       "      <td>NaN</td>\n",
       "      <td>NaN</td>\n",
       "      <td>2</td>\n",
       "      <td>01/01/2019</td>\n",
       "      <td>NaN</td>\n",
       "      <td>NaN</td>\n",
       "      <td>NaN</td>\n",
       "      <td>None</td>\n",
       "      <td>N</td>\n",
       "    </tr>\n",
       "    <tr>\n",
       "      <th>794159</th>\n",
       "      <td>01/01/2019</td>\n",
       "      <td>UT</td>\n",
       "      <td>5.0</td>\n",
       "      <td>5.0</td>\n",
       "      <td>NaN</td>\n",
       "      <td>M</td>\n",
       "      <td>NaN</td>\n",
       "      <td>Site is swollen, red and warm to the touch. Pa...</td>\n",
       "      <td>NaN</td>\n",
       "      <td>NaN</td>\n",
       "      <td>NaN</td>\n",
       "      <td>NaN</td>\n",
       "      <td>Y</td>\n",
       "      <td>12/27/2018</td>\n",
       "      <td>12/28/2018</td>\n",
       "      <td>1.0</td>\n",
       "      <td>None</td>\n",
       "      <td>PVT</td>\n",
       "      <td>NaN</td>\n",
       "      <td>Unknown</td>\n",
       "      <td>Small red spot on his cheek at time of visit.</td>\n",
       "      <td>None</td>\n",
       "      <td>NaN</td>\n",
       "      <td>NaN</td>\n",
       "      <td>2</td>\n",
       "      <td>01/01/2019</td>\n",
       "      <td>NaN</td>\n",
       "      <td>NaN</td>\n",
       "      <td>NaN</td>\n",
       "      <td>Amoxicillin</td>\n",
       "      <td>N</td>\n",
       "    </tr>\n",
       "    <tr>\n",
       "      <th>794160</th>\n",
       "      <td>01/01/2019</td>\n",
       "      <td>TX</td>\n",
       "      <td>79.0</td>\n",
       "      <td>79.0</td>\n",
       "      <td>NaN</td>\n",
       "      <td>F</td>\n",
       "      <td>NaN</td>\n",
       "      <td>FLU LIKE: CHILLS ACHE ALL OVER; STRONG PAIN, W...</td>\n",
       "      <td>NaN</td>\n",
       "      <td>NaN</td>\n",
       "      <td>NaN</td>\n",
       "      <td>NaN</td>\n",
       "      <td>N</td>\n",
       "      <td>12/28/2018</td>\n",
       "      <td>12/28/2018</td>\n",
       "      <td>0.0</td>\n",
       "      <td>NONE TODAY IS A HOLIDAY</td>\n",
       "      <td>PVT</td>\n",
       "      <td>NaN</td>\n",
       "      <td>ATORVASTATIN; CELEBREX; XYZAL; D-3; ELIQUIS; A...</td>\n",
       "      <td>SINUSITIS; ATHROSCLEROSIS; DIABETES; HYPERCHOL...</td>\n",
       "      <td>SAME AS ITEM 11 ABOVE</td>\n",
       "      <td>NaN</td>\n",
       "      <td>NaN</td>\n",
       "      <td>2</td>\n",
       "      <td>01/01/2019</td>\n",
       "      <td>NaN</td>\n",
       "      <td>Y</td>\n",
       "      <td>Y</td>\n",
       "      <td>ACE INHIBITORS</td>\n",
       "      <td>N</td>\n",
       "    </tr>\n",
       "  </tbody>\n",
       "</table>\n",
       "</div>"
      ],
      "text/plain": [
       "            recvdate state  age_yrs  cage_yr  cage_mo sex rpt_date  \\\n",
       "vaers_id                                                             \n",
       "794156    01/01/2019   NaN     69.0     69.0      NaN   F      NaN   \n",
       "794157    01/01/2019    IL     68.0     68.0      NaN   F      NaN   \n",
       "794158    01/01/2019    MA     62.0     62.0      NaN   F      NaN   \n",
       "794159    01/01/2019    UT      5.0      5.0      NaN   M      NaN   \n",
       "794160    01/01/2019    TX     79.0     79.0      NaN   F      NaN   \n",
       "\n",
       "                                               symptom_text datedied l_threat  \\\n",
       "vaers_id                                                                        \n",
       "794156    Severe pain Lt. shoulder area, very localized ...      NaN      NaN   \n",
       "794157    Much joint pain/aching, lack of energy, listle...      NaN      NaN   \n",
       "794158    Headache, Fever, Chills, Body Aches, Nausea la...      NaN      NaN   \n",
       "794159    Site is swollen, red and warm to the touch. Pa...      NaN      NaN   \n",
       "794160    FLU LIKE: CHILLS ACHE ALL OVER; STRONG PAIN, W...      NaN      NaN   \n",
       "\n",
       "          hospdays x_stay recovd    vax_date  onset_date  numdays  \\\n",
       "vaers_id                                                            \n",
       "794156         NaN    NaN      Y  10/29/2018  10/30/2018      1.0   \n",
       "794157         NaN    NaN      N  12/28/2018  12/29/2018      1.0   \n",
       "794158         NaN    NaN      Y  12/30/2018  12/31/2018      1.0   \n",
       "794159         NaN    NaN      Y  12/27/2018  12/28/2018      1.0   \n",
       "794160         NaN    NaN      N  12/28/2018  12/28/2018      0.0   \n",
       "\n",
       "                         lab_data v_adminby v_fundby  \\\n",
       "vaers_id                                               \n",
       "794156                        NaN       PVT      NaN   \n",
       "794157                       None       PHM      NaN   \n",
       "794158                        NaN       PHM      NaN   \n",
       "794159                       None       PVT      NaN   \n",
       "794160    NONE TODAY IS A HOLIDAY       PVT      NaN   \n",
       "\n",
       "                                                 other_meds  \\\n",
       "vaers_id                                                      \n",
       "794156                                                  NaN   \n",
       "794157    Levothyroxine, sertraline, vitamin B complex, ...   \n",
       "794158                      Fish Oil, vitamin D, magnesium.   \n",
       "794159                                              Unknown   \n",
       "794160    ATORVASTATIN; CELEBREX; XYZAL; D-3; ELIQUIS; A...   \n",
       "\n",
       "                                                    cur_ill  \\\n",
       "vaers_id                                                      \n",
       "794156                                                 none   \n",
       "794157                                                 None   \n",
       "794158                                                 None   \n",
       "794159        Small red spot on his cheek at time of visit.   \n",
       "794160    SINUSITIS; ATHROSCLEROSIS; DIABETES; HYPERCHOL...   \n",
       "\n",
       "                        history                          prior_vax splttype  \\\n",
       "vaers_id                                                                      \n",
       "794156                     none                                NaN      NaN   \n",
       "794157           Hypothryoidism  Arm soreness at site of injection      NaN   \n",
       "794158                     None                                NaN      NaN   \n",
       "794159                     None                                NaN      NaN   \n",
       "794160    SAME AS ITEM 11 ABOVE                                NaN      NaN   \n",
       "\n",
       "          form_vers todays_date birth_defect ofc_visit er_ed_visit  \\\n",
       "vaers_id                                                             \n",
       "794156            2  01/01/2019          NaN         Y         NaN   \n",
       "794157            2  01/01/2019          NaN       NaN         NaN   \n",
       "794158            2  01/01/2019          NaN       NaN         NaN   \n",
       "794159            2  01/01/2019          NaN       NaN         NaN   \n",
       "794160            2  01/01/2019          NaN         Y           Y   \n",
       "\n",
       "               allergies serious  \n",
       "vaers_id                          \n",
       "794156      tetracycline       N  \n",
       "794157              None       N  \n",
       "794158              None       N  \n",
       "794159       Amoxicillin       N  \n",
       "794160    ACE INHIBITORS       N  "
      ]
     },
     "execution_count": 3,
     "metadata": {},
     "output_type": "execute_result"
    }
   ],
   "source": [
    "data.head()"
   ]
  },
  {
   "cell_type": "markdown",
   "metadata": {},
   "source": [
    "# Process Data/Tokenize"
   ]
  },
  {
   "cell_type": "code",
   "execution_count": 4,
   "metadata": {},
   "outputs": [],
   "source": [
    "def lemmatize_stemming(text):\n",
    "    return stemmer.stem(WordNetLemmatizer().lemmatize(text, pos='v'))\n",
    "\n",
    "def preprocess(text):\n",
    "    result = []\n",
    "    for token in gensim.utils.simple_preprocess(text):\n",
    "        if token not in gensim.parsing.preprocessing.STOPWORDS and len(token) > 3:\n",
    "            result.append(lemmatize_stemming(token))\n",
    "    return result"
   ]
  },
  {
   "cell_type": "code",
   "execution_count": 5,
   "metadata": {},
   "outputs": [
    {
     "name": "stdout",
     "output_type": "stream",
     "text": [
      "original document: \n",
      "['I', 'had', 'the', 'FLUZONE', 'shot', 'quad', '2018-19', '.5ml', 'and', 'became', 'sick.', 'First', 'day', 'I', 'was', 'very', 'tired', 'with', 'severe', 'muscle', 'pain', 'and', 'the', 'second', 'day', 'developed', 'harsh', 'voice,', 'sore', 'throat', 'which', 'continued', 'to', 'get', 'worse', 'with', 'chest', 'congestion,', 'coughing', 'and', 'discolored', 'mucous.']\n",
      "\n",
      "\n",
      " tokenized and lemmatized document: \n",
      "['fluzon', 'shoot', 'quad', 'sick', 'tire', 'sever', 'muscl', 'pain', 'second', 'develop', 'harsh', 'voic', 'sore', 'throat', 'continu', 'wors', 'chest', 'congest', 'cough', 'discolor', 'mucous']\n"
     ]
    }
   ],
   "source": [
    "doc_sample = data['symptom_text'].iloc[55]\n",
    "print('original document: ')\n",
    "words = []\n",
    "for word in doc_sample.split(' '):\n",
    "    words.append(word)\n",
    "print(words)\n",
    "print('\\n\\n tokenized and lemmatized document: ')\n",
    "print(preprocess(doc_sample))"
   ]
  },
  {
   "cell_type": "code",
   "execution_count": 6,
   "metadata": {},
   "outputs": [],
   "source": [
    "processed_docs = data['symptom_text'].map(preprocess)"
   ]
  },
  {
   "cell_type": "code",
   "execution_count": 7,
   "metadata": {},
   "outputs": [],
   "source": [
    "processed_docs = list()\n",
    "for n, doc in enumerate(data['symptom_text']):\n",
    "    processed_docs.append(preprocess(doc))"
   ]
  },
  {
   "cell_type": "code",
   "execution_count": 8,
   "metadata": {},
   "outputs": [],
   "source": [
    "dictionary = gensim.corpora.Dictionary(processed_docs)\n",
    "\n",
    "dictionary.filter_extremes(no_below=15, no_above=0.5)\n",
    "\n",
    "bow_corpus = [dictionary.doc2bow(doc) for doc in processed_docs]"
   ]
  },
  {
   "cell_type": "code",
   "execution_count": null,
   "metadata": {},
   "outputs": [],
   "source": []
  },
  {
   "cell_type": "code",
   "execution_count": 9,
   "metadata": {},
   "outputs": [
    {
     "name": "stdout",
     "output_type": "stream",
     "text": [
      "Word 6 (\"leav\") appears 2 time.\n",
      "Word 9 (\"pain\") appears 2 time.\n",
      "Word 15 (\"take\") appears 1 time.\n",
      "Word 22 (\"hour\") appears 1 time.\n",
      "Word 39 (\"right\") appears 1 time.\n",
      "Word 42 (\"shingrix\") appears 1 time.\n",
      "Word 50 (\"symptom\") appears 1 time.\n",
      "Word 73 (\"dose\") appears 1 time.\n",
      "Word 114 (\"receiv\") appears 1 time.\n",
      "Word 140 (\"issu\") appears 1 time.\n",
      "Word 176 (\"resolv\") appears 1 time.\n",
      "Word 226 (\"place\") appears 1 time.\n",
      "Word 255 (\"injuri\") appears 1 time.\n",
      "Word 273 (\"medic\") appears 1 time.\n",
      "Word 426 (\"infect\") appears 1 time.\n",
      "Word 530 (\"sharp\") appears 1 time.\n",
      "Word 677 (\"eye\") appears 1 time.\n",
      "Word 678 (\"stab\") appears 1 time.\n"
     ]
    }
   ],
   "source": [
    "bow_doc_50 = bow_corpus[50]\n",
    "for i in range(len(bow_doc_50)):\n",
    "    print(\"Word {} (\\\"{}\\\") appears {} time.\".format(bow_doc_50[i][0], \n",
    "                                               dictionary[bow_doc_50[i][0]], \n",
    "bow_doc_50[i][1]))"
   ]
  },
  {
   "cell_type": "code",
   "execution_count": null,
   "metadata": {},
   "outputs": [],
   "source": []
  },
  {
   "cell_type": "code",
   "execution_count": 10,
   "metadata": {},
   "outputs": [],
   "source": [
    "tfidf = models.TfidfModel(bow_corpus)\n",
    "corpus_tfidf = tfidf[bow_corpus]"
   ]
  },
  {
   "cell_type": "code",
   "execution_count": 11,
   "metadata": {},
   "outputs": [],
   "source": [
    "# for doc in tfidf[bow_corpus]:\n",
    "#     print([[dictionary[id], np.around(freq, decimals=2)] for id, freq in doc])"
   ]
  },
  {
   "cell_type": "code",
   "execution_count": 12,
   "metadata": {},
   "outputs": [],
   "source": [
    "flattened = [{dictionary[tok_id]: np.around(freq, decimals=2) for tok_id, freq in doc} for doc in tfidf[bow_corpus]]\n",
    "\n",
    "tfidf_df = pd.DataFrame(flattened).fillna(0)"
   ]
  },
  {
   "cell_type": "markdown",
   "metadata": {},
   "source": [
    "# SVD"
   ]
  },
  {
   "cell_type": "code",
   "execution_count": 57,
   "metadata": {},
   "outputs": [
    {
     "data": {
      "text/plain": [
       "(44344, 3090)"
      ]
     },
     "execution_count": 57,
     "metadata": {},
     "output_type": "execute_result"
    }
   ],
   "source": [
    "tfidf_df.shape"
   ]
  },
  {
   "cell_type": "code",
   "execution_count": null,
   "metadata": {},
   "outputs": [],
   "source": []
  },
  {
   "cell_type": "code",
   "execution_count": 60,
   "metadata": {},
   "outputs": [
    {
     "data": {
      "text/plain": [
       "(44344, 13943)"
      ]
     },
     "execution_count": 60,
     "metadata": {},
     "output_type": "execute_result"
    }
   ],
   "source": [
    "from sklearn.feature_extraction.text import TfidfVectorizer\n",
    "\n",
    "clean = [' '.join(toklist) for toklist in processed_docs]\n",
    "\n",
    "vectorizer = TfidfVectorizer(stop_words='english', \n",
    "#                              max_features= 1000, # keep top 1000 terms \n",
    "                             max_df = 0.5, \n",
    "                             smooth_idf=True)\n",
    "\n",
    "# X = vectorizer.fit_transform(tfidf_df)\n",
    "X = vectorizer.fit_transform(clean)\n",
    "\n",
    "\n",
    "X.shape # check shape of the document-term matrix"
   ]
  },
  {
   "cell_type": "code",
   "execution_count": 61,
   "metadata": {},
   "outputs": [
    {
     "data": {
      "text/plain": [
       "5"
      ]
     },
     "execution_count": 61,
     "metadata": {},
     "output_type": "execute_result"
    }
   ],
   "source": [
    "# SVD represent documents and terms in vectors \n",
    "svd_model = TruncatedSVD(n_components=5, algorithm='randomized', n_iter=500, random_state=0)\n",
    "\n",
    "lsa_fit = svd_model.fit(X)\n",
    "\n",
    "len(svd_model.components_)"
   ]
  },
  {
   "cell_type": "code",
   "execution_count": 62,
   "metadata": {},
   "outputs": [
    {
     "name": "stdout",
     "output_type": "stream",
     "text": [
      "Topic 0: 0.395*\"report\" + 0.245*\"unknown\" + 0.242*\"receiv\" + 0.223*\"medic\" + 0.214*\"shingrix\"\n",
      "\n",
      "Topic 1: 0.322*\"inject\" + 0.315*\"pain\" + 0.295*\"site\" + 0.234*\"swell\" + 0.178*\"shingrix\"\n",
      "\n",
      "Topic 2: 0.217*\"store\" + 0.206*\"temperatur\" + 0.178*\"improp\" + 0.172*\"excurs\" + 0.159*\"effect\"\n",
      "\n",
      "Topic 3: 0.33*\"error\" + 0.236*\"medic\" + 0.177*\"holder\" + 0.173*\"market\" + 0.17*\"author\"\n",
      "\n",
      "Topic 4: 0.342*\"fever\" + 0.268*\"headach\" + 0.255*\"chill\" + 0.252*\"ach\" + 0.177*\"bodi\"\n",
      "\n"
     ]
    }
   ],
   "source": [
    "terms = vectorizer.get_feature_names()\n",
    "\n",
    "for i, comp in enumerate(svd_model.components_):\n",
    "    terms_comp = zip(terms, comp)\n",
    "    sorted_terms = sorted(terms_comp, key= lambda x:x[1], reverse=True)[:5]\n",
    "    print(\"Topic \"+str(i)+\": \" + ' + '.join([f'{round(score, 3)}*\"{token}\"' for token, score in sorted_terms]))\n",
    "    print()"
   ]
  },
  {
   "cell_type": "code",
   "execution_count": 63,
   "metadata": {},
   "outputs": [],
   "source": [
    "lsa = svd_model.fit_transform(X)"
   ]
  },
  {
   "cell_type": "code",
   "execution_count": 64,
   "metadata": {},
   "outputs": [
    {
     "data": {
      "text/plain": [
       "(44344, 5)"
      ]
     },
     "execution_count": 64,
     "metadata": {},
     "output_type": "execute_result"
    }
   ],
   "source": [
    "lsa.shape"
   ]
  },
  {
   "cell_type": "code",
   "execution_count": 72,
   "metadata": {},
   "outputs": [
    {
     "data": {
      "text/html": [
       "<div>\n",
       "<style scoped>\n",
       "    .dataframe tbody tr th:only-of-type {\n",
       "        vertical-align: middle;\n",
       "    }\n",
       "\n",
       "    .dataframe tbody tr th {\n",
       "        vertical-align: top;\n",
       "    }\n",
       "\n",
       "    .dataframe thead th {\n",
       "        text-align: right;\n",
       "    }\n",
       "</style>\n",
       "<table border=\"1\" class=\"dataframe\">\n",
       "  <thead>\n",
       "    <tr style=\"text-align: right;\">\n",
       "      <th></th>\n",
       "      <th>0</th>\n",
       "      <th>1</th>\n",
       "      <th>2</th>\n",
       "      <th>3</th>\n",
       "      <th>4</th>\n",
       "      <th>serious</th>\n",
       "    </tr>\n",
       "  </thead>\n",
       "  <tbody>\n",
       "    <tr>\n",
       "      <th>0</th>\n",
       "      <td>0.0925035923928197</td>\n",
       "      <td>0.1828946713596375</td>\n",
       "      <td>0.0436996435116073</td>\n",
       "      <td>0.0565895118377970</td>\n",
       "      <td>0.0911208245846005</td>\n",
       "      <td>False</td>\n",
       "    </tr>\n",
       "    <tr>\n",
       "      <th>1</th>\n",
       "      <td>0.1760624791820814</td>\n",
       "      <td>0.2755701821215781</td>\n",
       "      <td>0.0920659543261978</td>\n",
       "      <td>0.0843333326712484</td>\n",
       "      <td>0.0236866521777341</td>\n",
       "      <td>False</td>\n",
       "    </tr>\n",
       "    <tr>\n",
       "      <th>2</th>\n",
       "      <td>0.1228272214355704</td>\n",
       "      <td>0.2628677031626135</td>\n",
       "      <td>0.1461262354222940</td>\n",
       "      <td>0.0701204863231548</td>\n",
       "      <td>0.5893325952981532</td>\n",
       "      <td>False</td>\n",
       "    </tr>\n",
       "    <tr>\n",
       "      <th>3</th>\n",
       "      <td>0.1452155427808711</td>\n",
       "      <td>0.3127582223210220</td>\n",
       "      <td>0.1114532397262689</td>\n",
       "      <td>0.1490856140060599</td>\n",
       "      <td>-0.1705233456507348</td>\n",
       "      <td>False</td>\n",
       "    </tr>\n",
       "    <tr>\n",
       "      <th>4</th>\n",
       "      <td>0.1303801007342366</td>\n",
       "      <td>0.2847634732194826</td>\n",
       "      <td>0.1078267789429053</td>\n",
       "      <td>0.1160164840837709</td>\n",
       "      <td>0.0731425184061566</td>\n",
       "      <td>False</td>\n",
       "    </tr>\n",
       "    <tr>\n",
       "      <th>...</th>\n",
       "      <td>...</td>\n",
       "      <td>...</td>\n",
       "      <td>...</td>\n",
       "      <td>...</td>\n",
       "      <td>...</td>\n",
       "      <td>...</td>\n",
       "    </tr>\n",
       "    <tr>\n",
       "      <th>44339</th>\n",
       "      <td>0.0460471650637189</td>\n",
       "      <td>0.0844648540616939</td>\n",
       "      <td>0.0280945842978133</td>\n",
       "      <td>0.0522931427648896</td>\n",
       "      <td>0.0581923696845113</td>\n",
       "      <td>True</td>\n",
       "    </tr>\n",
       "    <tr>\n",
       "      <th>44340</th>\n",
       "      <td>0.1203766539286707</td>\n",
       "      <td>0.1235945453683373</td>\n",
       "      <td>0.0532730124528454</td>\n",
       "      <td>0.0727483182293498</td>\n",
       "      <td>-0.0540303217879448</td>\n",
       "      <td>False</td>\n",
       "    </tr>\n",
       "    <tr>\n",
       "      <th>44341</th>\n",
       "      <td>0.1005003395626734</td>\n",
       "      <td>0.1460324683577454</td>\n",
       "      <td>0.0616482213143295</td>\n",
       "      <td>0.0565806960611376</td>\n",
       "      <td>0.2863151274241458</td>\n",
       "      <td>False</td>\n",
       "    </tr>\n",
       "    <tr>\n",
       "      <th>44342</th>\n",
       "      <td>0.1456512883517405</td>\n",
       "      <td>0.1699560206956388</td>\n",
       "      <td>0.0417926451352442</td>\n",
       "      <td>0.0601793237753495</td>\n",
       "      <td>-0.0442910221661931</td>\n",
       "      <td>False</td>\n",
       "    </tr>\n",
       "    <tr>\n",
       "      <th>44343</th>\n",
       "      <td>0.0535774481036156</td>\n",
       "      <td>0.1010007649414564</td>\n",
       "      <td>0.0528800832607777</td>\n",
       "      <td>0.0778226281162103</td>\n",
       "      <td>-0.0398090363768574</td>\n",
       "      <td>False</td>\n",
       "    </tr>\n",
       "  </tbody>\n",
       "</table>\n",
       "<p>44344 rows × 6 columns</p>\n",
       "</div>"
      ],
      "text/plain": [
       "                       0                  1                  2  \\\n",
       "0     0.0925035923928197 0.1828946713596375 0.0436996435116073   \n",
       "1     0.1760624791820814 0.2755701821215781 0.0920659543261978   \n",
       "2     0.1228272214355704 0.2628677031626135 0.1461262354222940   \n",
       "3     0.1452155427808711 0.3127582223210220 0.1114532397262689   \n",
       "4     0.1303801007342366 0.2847634732194826 0.1078267789429053   \n",
       "...                  ...                ...                ...   \n",
       "44339 0.0460471650637189 0.0844648540616939 0.0280945842978133   \n",
       "44340 0.1203766539286707 0.1235945453683373 0.0532730124528454   \n",
       "44341 0.1005003395626734 0.1460324683577454 0.0616482213143295   \n",
       "44342 0.1456512883517405 0.1699560206956388 0.0417926451352442   \n",
       "44343 0.0535774481036156 0.1010007649414564 0.0528800832607777   \n",
       "\n",
       "                       3                   4  serious  \n",
       "0     0.0565895118377970  0.0911208245846005    False  \n",
       "1     0.0843333326712484  0.0236866521777341    False  \n",
       "2     0.0701204863231548  0.5893325952981532    False  \n",
       "3     0.1490856140060599 -0.1705233456507348    False  \n",
       "4     0.1160164840837709  0.0731425184061566    False  \n",
       "...                  ...                 ...      ...  \n",
       "44339 0.0522931427648896  0.0581923696845113     True  \n",
       "44340 0.0727483182293498 -0.0540303217879448    False  \n",
       "44341 0.0565806960611376  0.2863151274241458    False  \n",
       "44342 0.0601793237753495 -0.0442910221661931    False  \n",
       "44343 0.0778226281162103 -0.0398090363768574    False  \n",
       "\n",
       "[44344 rows x 6 columns]"
      ]
     },
     "execution_count": 72,
     "metadata": {},
     "output_type": "execute_result"
    }
   ],
   "source": [
    "pd.options.display.float_format = '{:,.16f}'.format\n",
    "topic_encoded_df = pd.DataFrame(lsa)\n",
    "topic_encoded_df[\"serious\"] = data['serious'].map({'Y': True, 'N': False}).tolist()\n",
    "topic_encoded_df"
   ]
  },
  {
   "cell_type": "code",
   "execution_count": 74,
   "metadata": {},
   "outputs": [],
   "source": [
    "topic_encoded_df['topic'] = topic_encoded_df[[0, 1, 2, 3, 4]].abs().idxmax(axis=1)"
   ]
  },
  {
   "cell_type": "code",
   "execution_count": 76,
   "metadata": {},
   "outputs": [
    {
     "data": {
      "text/html": [
       "<div>\n",
       "<style scoped>\n",
       "    .dataframe tbody tr th:only-of-type {\n",
       "        vertical-align: middle;\n",
       "    }\n",
       "\n",
       "    .dataframe tbody tr th {\n",
       "        vertical-align: top;\n",
       "    }\n",
       "\n",
       "    .dataframe thead th {\n",
       "        text-align: right;\n",
       "    }\n",
       "</style>\n",
       "<table border=\"1\" class=\"dataframe\">\n",
       "  <thead>\n",
       "    <tr style=\"text-align: right;\">\n",
       "      <th></th>\n",
       "      <th>0</th>\n",
       "      <th>1</th>\n",
       "      <th>2</th>\n",
       "      <th>3</th>\n",
       "      <th>4</th>\n",
       "      <th>serious</th>\n",
       "      <th>topic</th>\n",
       "    </tr>\n",
       "  </thead>\n",
       "  <tbody>\n",
       "    <tr>\n",
       "      <th>0</th>\n",
       "      <td>0.0925035923928197</td>\n",
       "      <td>0.1828946713596375</td>\n",
       "      <td>0.0436996435116073</td>\n",
       "      <td>0.0565895118377970</td>\n",
       "      <td>0.0911208245846005</td>\n",
       "      <td>False</td>\n",
       "      <td>1</td>\n",
       "    </tr>\n",
       "    <tr>\n",
       "      <th>1</th>\n",
       "      <td>0.1760624791820814</td>\n",
       "      <td>0.2755701821215781</td>\n",
       "      <td>0.0920659543261978</td>\n",
       "      <td>0.0843333326712484</td>\n",
       "      <td>0.0236866521777341</td>\n",
       "      <td>False</td>\n",
       "      <td>1</td>\n",
       "    </tr>\n",
       "    <tr>\n",
       "      <th>2</th>\n",
       "      <td>0.1228272214355704</td>\n",
       "      <td>0.2628677031626135</td>\n",
       "      <td>0.1461262354222940</td>\n",
       "      <td>0.0701204863231548</td>\n",
       "      <td>0.5893325952981532</td>\n",
       "      <td>False</td>\n",
       "      <td>4</td>\n",
       "    </tr>\n",
       "    <tr>\n",
       "      <th>3</th>\n",
       "      <td>0.1452155427808711</td>\n",
       "      <td>0.3127582223210220</td>\n",
       "      <td>0.1114532397262689</td>\n",
       "      <td>0.1490856140060599</td>\n",
       "      <td>-0.1705233456507348</td>\n",
       "      <td>False</td>\n",
       "      <td>1</td>\n",
       "    </tr>\n",
       "    <tr>\n",
       "      <th>4</th>\n",
       "      <td>0.1303801007342366</td>\n",
       "      <td>0.2847634732194826</td>\n",
       "      <td>0.1078267789429053</td>\n",
       "      <td>0.1160164840837709</td>\n",
       "      <td>0.0731425184061566</td>\n",
       "      <td>False</td>\n",
       "      <td>1</td>\n",
       "    </tr>\n",
       "    <tr>\n",
       "      <th>...</th>\n",
       "      <td>...</td>\n",
       "      <td>...</td>\n",
       "      <td>...</td>\n",
       "      <td>...</td>\n",
       "      <td>...</td>\n",
       "      <td>...</td>\n",
       "      <td>...</td>\n",
       "    </tr>\n",
       "    <tr>\n",
       "      <th>44339</th>\n",
       "      <td>0.0460471650637189</td>\n",
       "      <td>0.0844648540616939</td>\n",
       "      <td>0.0280945842978133</td>\n",
       "      <td>0.0522931427648896</td>\n",
       "      <td>0.0581923696845113</td>\n",
       "      <td>True</td>\n",
       "      <td>1</td>\n",
       "    </tr>\n",
       "    <tr>\n",
       "      <th>44340</th>\n",
       "      <td>0.1203766539286707</td>\n",
       "      <td>0.1235945453683373</td>\n",
       "      <td>0.0532730124528454</td>\n",
       "      <td>0.0727483182293498</td>\n",
       "      <td>-0.0540303217879448</td>\n",
       "      <td>False</td>\n",
       "      <td>1</td>\n",
       "    </tr>\n",
       "    <tr>\n",
       "      <th>44341</th>\n",
       "      <td>0.1005003395626734</td>\n",
       "      <td>0.1460324683577454</td>\n",
       "      <td>0.0616482213143295</td>\n",
       "      <td>0.0565806960611376</td>\n",
       "      <td>0.2863151274241458</td>\n",
       "      <td>False</td>\n",
       "      <td>4</td>\n",
       "    </tr>\n",
       "    <tr>\n",
       "      <th>44342</th>\n",
       "      <td>0.1456512883517405</td>\n",
       "      <td>0.1699560206956388</td>\n",
       "      <td>0.0417926451352442</td>\n",
       "      <td>0.0601793237753495</td>\n",
       "      <td>-0.0442910221661931</td>\n",
       "      <td>False</td>\n",
       "      <td>1</td>\n",
       "    </tr>\n",
       "    <tr>\n",
       "      <th>44343</th>\n",
       "      <td>0.0535774481036156</td>\n",
       "      <td>0.1010007649414564</td>\n",
       "      <td>0.0528800832607777</td>\n",
       "      <td>0.0778226281162103</td>\n",
       "      <td>-0.0398090363768574</td>\n",
       "      <td>False</td>\n",
       "      <td>1</td>\n",
       "    </tr>\n",
       "  </tbody>\n",
       "</table>\n",
       "<p>44344 rows × 7 columns</p>\n",
       "</div>"
      ],
      "text/plain": [
       "                       0                  1                  2  \\\n",
       "0     0.0925035923928197 0.1828946713596375 0.0436996435116073   \n",
       "1     0.1760624791820814 0.2755701821215781 0.0920659543261978   \n",
       "2     0.1228272214355704 0.2628677031626135 0.1461262354222940   \n",
       "3     0.1452155427808711 0.3127582223210220 0.1114532397262689   \n",
       "4     0.1303801007342366 0.2847634732194826 0.1078267789429053   \n",
       "...                  ...                ...                ...   \n",
       "44339 0.0460471650637189 0.0844648540616939 0.0280945842978133   \n",
       "44340 0.1203766539286707 0.1235945453683373 0.0532730124528454   \n",
       "44341 0.1005003395626734 0.1460324683577454 0.0616482213143295   \n",
       "44342 0.1456512883517405 0.1699560206956388 0.0417926451352442   \n",
       "44343 0.0535774481036156 0.1010007649414564 0.0528800832607777   \n",
       "\n",
       "                       3                   4  serious  topic  \n",
       "0     0.0565895118377970  0.0911208245846005    False      1  \n",
       "1     0.0843333326712484  0.0236866521777341    False      1  \n",
       "2     0.0701204863231548  0.5893325952981532    False      4  \n",
       "3     0.1490856140060599 -0.1705233456507348    False      1  \n",
       "4     0.1160164840837709  0.0731425184061566    False      1  \n",
       "...                  ...                 ...      ...    ...  \n",
       "44339 0.0522931427648896  0.0581923696845113     True      1  \n",
       "44340 0.0727483182293498 -0.0540303217879448    False      1  \n",
       "44341 0.0565806960611376  0.2863151274241458    False      4  \n",
       "44342 0.0601793237753495 -0.0442910221661931    False      1  \n",
       "44343 0.0778226281162103 -0.0398090363768574    False      1  \n",
       "\n",
       "[44344 rows x 7 columns]"
      ]
     },
     "execution_count": 76,
     "metadata": {},
     "output_type": "execute_result"
    }
   ],
   "source": [
    "topic_encoded_df"
   ]
  },
  {
   "cell_type": "code",
   "execution_count": 80,
   "metadata": {},
   "outputs": [
    {
     "data": {
      "text/html": [
       "<div>\n",
       "<style scoped>\n",
       "    .dataframe tbody tr th:only-of-type {\n",
       "        vertical-align: middle;\n",
       "    }\n",
       "\n",
       "    .dataframe tbody tr th {\n",
       "        vertical-align: top;\n",
       "    }\n",
       "\n",
       "    .dataframe thead th {\n",
       "        text-align: right;\n",
       "    }\n",
       "</style>\n",
       "<table border=\"1\" class=\"dataframe\">\n",
       "  <thead>\n",
       "    <tr style=\"text-align: right;\">\n",
       "      <th>serious</th>\n",
       "      <th>False</th>\n",
       "      <th>True</th>\n",
       "    </tr>\n",
       "    <tr>\n",
       "      <th>topic</th>\n",
       "      <th></th>\n",
       "      <th></th>\n",
       "    </tr>\n",
       "  </thead>\n",
       "  <tbody>\n",
       "    <tr>\n",
       "      <th>0</th>\n",
       "      <td>18650</td>\n",
       "      <td>1549</td>\n",
       "    </tr>\n",
       "    <tr>\n",
       "      <th>1</th>\n",
       "      <td>13686</td>\n",
       "      <td>562</td>\n",
       "    </tr>\n",
       "    <tr>\n",
       "      <th>2</th>\n",
       "      <td>363</td>\n",
       "      <td>214</td>\n",
       "    </tr>\n",
       "    <tr>\n",
       "      <th>3</th>\n",
       "      <td>1881</td>\n",
       "      <td>19</td>\n",
       "    </tr>\n",
       "    <tr>\n",
       "      <th>4</th>\n",
       "      <td>6786</td>\n",
       "      <td>634</td>\n",
       "    </tr>\n",
       "  </tbody>\n",
       "</table>\n",
       "</div>"
      ],
      "text/plain": [
       "serious  False  True \n",
       "topic                \n",
       "0        18650   1549\n",
       "1        13686    562\n",
       "2          363    214\n",
       "3         1881     19\n",
       "4         6786    634"
      ]
     },
     "execution_count": 80,
     "metadata": {},
     "output_type": "execute_result"
    }
   ],
   "source": [
    "crosstab = pd.crosstab(topic_encoded_df.topic, topic_encoded_df.serious)\n",
    "crosstab"
   ]
  },
  {
   "cell_type": "code",
   "execution_count": 79,
   "metadata": {},
   "outputs": [],
   "source": [
    "from scipy import stats"
   ]
  },
  {
   "cell_type": "code",
   "execution_count": 81,
   "metadata": {},
   "outputs": [
    {
     "data": {
      "text/plain": [
       "(1192.3039088501807,\n",
       " 7.423020764198414e-257,\n",
       " 4,\n",
       " array([[18842.50031571,  1356.49968429],\n",
       "        [13291.15027963,   956.84972037],\n",
       "        [  538.25054122,    38.74945878],\n",
       "        [ 1772.40212881,   127.59787119],\n",
       "        [ 6921.69673462,   498.30326538]]))"
      ]
     },
     "execution_count": 81,
     "metadata": {},
     "output_type": "execute_result"
    }
   ],
   "source": [
    "stats.chi2_contingency(crosstab)"
   ]
  },
  {
   "cell_type": "code",
   "execution_count": null,
   "metadata": {},
   "outputs": [],
   "source": []
  },
  {
   "cell_type": "code",
   "execution_count": null,
   "metadata": {},
   "outputs": [],
   "source": []
  },
  {
   "cell_type": "code",
   "execution_count": null,
   "metadata": {},
   "outputs": [],
   "source": []
  },
  {
   "cell_type": "markdown",
   "metadata": {},
   "source": [
    "# Example 2"
   ]
  },
  {
   "cell_type": "code",
   "execution_count": 25,
   "metadata": {},
   "outputs": [],
   "source": [
    "# from sklearn.feature_extraction.text import CountVectorizer\n",
    "\n",
    "# # cv = CountVectorizer(ngram_range=(1, 1))\n",
    "# # X = cv.fit_transform(tfidf_df)\n",
    "\n",
    "# U, s, Vh = np.linalg.svd(tfidf_df)"
   ]
  },
  {
   "cell_type": "code",
   "execution_count": 26,
   "metadata": {},
   "outputs": [],
   "source": [
    "# terms = tfidf.columns[:10] #cv.vocabulary_\n",
    "# for i, component in enumerate(Vh[:10]):\n",
    "#     terms_components = zip(terms, component)\n",
    "#     sorted_terms = sorted(terms_components, key=lambda x:x[1], reverse=True)[:10] # take features for topic\n",
    "#     print(\"topic : \", i)\n",
    "#     for term_socres in sorted_terms:\n",
    "#         print(10*\" \", term_socres[0])\n",
    "#     print(50*'*')"
   ]
  },
  {
   "cell_type": "markdown",
   "metadata": {},
   "source": [
    "# LSA"
   ]
  },
  {
   "cell_type": "code",
   "execution_count": 13,
   "metadata": {},
   "outputs": [],
   "source": [
    "# doc_term_matrix = bow_corpus\n",
    "\n",
    "\n",
    "def compute_coherence_values(dictionary, bow_corpus, doc_clean, stop, start=2, step=3):\n",
    "    \"\"\"\n",
    "    Input   : dictionary : Gensim dictionary\n",
    "              corpus : Gensim corpus\n",
    "              texts : List of input texts\n",
    "              stop : Max num of topics\n",
    "    purpose : Compute c_v coherence for various number of topics\n",
    "    Output  : model_list : List of LSA topic models\n",
    "              coherence_values : Coherence values corresponding to the LDA model with respective number of topics\n",
    "    \"\"\"\n",
    "    coherence_values = []\n",
    "    model_list = []\n",
    "    for num_topics in range(start, stop, step):\n",
    "        # generate LSA model\n",
    "        model = LsiModel(bow_corpus, num_topics=num_topics, id2word=dictionary)  # train model\n",
    "        model_list.append(model)\n",
    "        coherencemodel = CoherenceModel(model=model, texts=doc_clean, dictionary=dictionary, coherence='c_v')\n",
    "        coherence_values.append(coherencemodel.get_coherence())\n",
    "    return model_list, coherence_values\n",
    "\n",
    "def plot_graph(processed_docs, start, stop, step):\n",
    "    model_list, coherence_values = compute_coherence_values(dictionary, bow_corpus, processed_docs,\n",
    "                                                            stop, start, step)\n",
    "    # Show graph\n",
    "    x = range(start, stop, step)\n",
    "    plt.plot(x, coherence_values)\n",
    "    plt.xlabel(\"Number of Topics\")\n",
    "    plt.ylabel(\"Coherence score\")\n",
    "    plt.legend((\"coherence_values\"), loc='best')\n",
    "    plt.show()"
   ]
  },
  {
   "cell_type": "code",
   "execution_count": null,
   "metadata": {},
   "outputs": [],
   "source": []
  },
  {
   "cell_type": "code",
   "execution_count": 14,
   "metadata": {},
   "outputs": [
    {
     "data": {
      "image/png": "[encoded data removed]",
      "text/plain": [
       "<Figure size 432x288 with 1 Axes>"
      ]
     },
     "metadata": {
      "needs_background": "light"
     },
     "output_type": "display_data"
    }
   ],
   "source": [
    "start, stop, step = (2, 10, 1)\n",
    "\n",
    "plot_graph(processed_docs, start, stop, step)"
   ]
  },
  {
   "cell_type": "code",
   "execution_count": null,
   "metadata": {},
   "outputs": [],
   "source": []
  },
  {
   "cell_type": "code",
   "execution_count": null,
   "metadata": {},
   "outputs": [],
   "source": []
  },
  {
   "cell_type": "code",
   "execution_count": null,
   "metadata": {},
   "outputs": [],
   "source": [
    "\n",
    "\n"
   ]
  },
  {
   "cell_type": "code",
   "execution_count": 18,
   "metadata": {},
   "outputs": [],
   "source": [
    "NUM_TOPICS = 5\n",
    "# Build the LDA model\n",
    "lda_model = models.LdaModel(corpus=bow_corpus, num_topics=NUM_TOPICS, id2word=dictionary)\n",
    " \n",
    "# Build the LSI model\n",
    "lsi_model = models.LsiModel(corpus=bow_corpus, num_topics=NUM_TOPICS, id2word=dictionary)"
   ]
  },
  {
   "cell_type": "code",
   "execution_count": 19,
   "metadata": {},
   "outputs": [
    {
     "name": "stdout",
     "output_type": "stream",
     "text": [
      "LDA Model:\n",
      "Topic #0: 0.073*\"report\" + 0.040*\"dose\" + 0.031*\"medic\" + 0.030*\"date\" + 0.024*\"receiv\"\n",
      "Topic #1: 0.053*\"report\" + 0.045*\"unknown\" + 0.041*\"receiv\" + 0.040*\"shingrix\" + 0.027*\"date\"\n",
      "Topic #2: 0.042*\"zoster\" + 0.040*\"medic\" + 0.035*\"shingl\" + 0.029*\"live\" + 0.028*\"zostavax\"\n",
      "Topic #3: 0.051*\"medic\" + 0.035*\"receiv\" + 0.030*\"report\" + 0.029*\"case\" + 0.025*\"error\"\n",
      "Topic #4: 0.027*\"pain\" + 0.016*\"inject\" + 0.016*\"swell\" + 0.013*\"leav\" + 0.012*\"site\"\n",
      "====================\n",
      "LSI Model:\n",
      "Topic #0: 0.471*\"report\" + 0.337*\"receiv\" + 0.320*\"unknown\" + 0.236*\"date\" + 0.208*\"shingrix\"\n",
      "Topic #1: -0.603*\"influenza\" + -0.304*\"virus\" + -0.269*\"infect\" + -0.201*\"type\" + 0.157*\"inject\"\n",
      "Topic #2: 0.405*\"inject\" + 0.387*\"site\" + -0.343*\"medic\" + 0.293*\"pain\" + 0.250*\"shingrix\"\n",
      "Topic #3: 0.473*\"site\" + 0.461*\"inject\" + -0.339*\"shingrix\" + 0.306*\"medic\" + -0.226*\"unknown\"\n",
      "Topic #4: -0.388*\"report\" + 0.283*\"medic\" + 0.269*\"pain\" + 0.170*\"zostavax\" + 0.163*\"shingl\"\n",
      "====================\n"
     ]
    }
   ],
   "source": [
    "print(\"LDA Model:\")\n",
    " \n",
    "for idx in range(NUM_TOPICS):\n",
    "    # Print the first 10 most representative topics\n",
    "    print(\"Topic #%s:\" % idx, lda_model.print_topic(idx, 5))\n",
    " \n",
    "print(\"=\" * 20)\n",
    " \n",
    "print(\"LSI Model:\")\n",
    " \n",
    "for idx in range(NUM_TOPICS):\n",
    "    # Print the first 10 most representative topics\n",
    "    print(\"Topic #%s:\" % idx, lsi_model.print_topic(idx, 5))\n",
    " \n",
    "print(\"=\" * 20)"
   ]
  },
  {
   "cell_type": "code",
   "execution_count": null,
   "metadata": {},
   "outputs": [],
   "source": [
    "lsi_model."
   ]
  },
  {
   "cell_type": "code",
   "execution_count": null,
   "metadata": {},
   "outputs": [],
   "source": []
  },
  {
   "cell_type": "markdown",
   "metadata": {},
   "source": [
    "# LDA"
   ]
  },
  {
   "cell_type": "code",
   "execution_count": 82,
   "metadata": {},
   "outputs": [
    {
     "name": "stdout",
     "output_type": "stream",
     "text": [
      "Topic: 0 \n",
      "Words: 0.053*\"medic\" + 0.039*\"receiv\" + 0.033*\"case\" + 0.031*\"report\" + 0.031*\"error\"\n",
      "Topic: 1 \n",
      "Words: 0.017*\"medic\" + 0.016*\"zoster\" + 0.011*\"influenza\" + 0.011*\"shingl\" + 0.011*\"zostavax\"\n",
      "Topic: 2 \n",
      "Words: 0.023*\"subject\" + 0.021*\"pregnanc\" + 0.019*\"mother\" + 0.019*\"report\" + 0.016*\"minut\"\n",
      "Topic: 3 \n",
      "Words: 0.033*\"pain\" + 0.032*\"report\" + 0.028*\"receiv\" + 0.027*\"shingrix\" + 0.027*\"inject\"\n",
      "Topic: 4 \n",
      "Words: 0.075*\"report\" + 0.039*\"dose\" + 0.035*\"date\" + 0.030*\"medic\" + 0.030*\"unknown\"\n"
     ]
    }
   ],
   "source": [
    "lda_model = gensim.models.LdaMulticore(bow_corpus, num_topics=5, id2word=dictionary, passes=2, workers=2)"
   ]
  },
  {
   "cell_type": "code",
   "execution_count": 88,
   "metadata": {},
   "outputs": [
    {
     "name": "stdout",
     "output_type": "stream",
     "text": [
      "Topic 0: 0.053*\"medic\" + 0.039*\"receiv\" + 0.033*\"case\" + 0.031*\"report\" + 0.031*\"error\"\n",
      "Topic 1: 0.017*\"medic\" + 0.016*\"zoster\" + 0.011*\"influenza\" + 0.011*\"shingl\" + 0.011*\"zostavax\"\n",
      "Topic 2: 0.023*\"subject\" + 0.021*\"pregnanc\" + 0.019*\"mother\" + 0.019*\"report\" + 0.016*\"minut\"\n",
      "Topic 3: 0.033*\"pain\" + 0.032*\"report\" + 0.028*\"receiv\" + 0.027*\"shingrix\" + 0.027*\"inject\"\n",
      "Topic 4: 0.075*\"report\" + 0.039*\"dose\" + 0.035*\"date\" + 0.030*\"medic\" + 0.030*\"unknown\"\n"
     ]
    }
   ],
   "source": [
    "for idx, topic in lda_model.print_topics(-1, num_words=5):\n",
    "    print('Topic {}: {}'.format(idx, topic))"
   ]
  },
  {
   "cell_type": "code",
   "execution_count": null,
   "metadata": {},
   "outputs": [],
   "source": []
  },
  {
   "cell_type": "code",
   "execution_count": 87,
   "metadata": {},
   "outputs": [],
   "source": [
    "lda_model_tfidf = gensim.models.LdaMulticore(corpus_tfidf, num_topics=5, id2word=dictionary, passes=2, workers=4)"
   ]
  },
  {
   "cell_type": "code",
   "execution_count": 89,
   "metadata": {},
   "outputs": [
    {
     "name": "stdout",
     "output_type": "stream",
     "text": [
      "Topic 0: 0.010*\"rash\" + 0.006*\"state\" + 0.006*\"fever\" + 0.006*\"shoot\" + 0.006*\"pain\"\n",
      "Topic 1: 0.022*\"ach\" + 0.022*\"headach\" + 0.021*\"fever\" + 0.020*\"chill\" + 0.016*\"bodi\"\n",
      "Topic 2: 0.021*\"swell\" + 0.020*\"pain\" + 0.017*\"inject\" + 0.016*\"site\" + 0.016*\"red\"\n",
      "Topic 3: 0.032*\"shingrix\" + 0.019*\"unknown\" + 0.016*\"report\" + 0.015*\"shingl\" + 0.014*\"zoster\"\n",
      "Topic 4: 0.020*\"medic\" + 0.018*\"error\" + 0.017*\"report\" + 0.014*\"advers\" + 0.012*\"dose\"\n"
     ]
    }
   ],
   "source": [
    "for idx, topic in lda_model_tfidf.print_topics(-1, num_words=5):\n",
    "    print('Topic {}: {}'.format(idx, topic))"
   ]
  },
  {
   "cell_type": "code",
   "execution_count": null,
   "metadata": {},
   "outputs": [],
   "source": []
  },
  {
   "cell_type": "code",
   "execution_count": 116,
   "metadata": {},
   "outputs": [],
   "source": [
    "# # lda_topics = list()\n",
    "# lda_tfidf_topics = list()\n",
    "\n",
    "for doc in bow_corpus:\n",
    "    topics = lda_model.get_document_topics(doc)\n",
    "    lda_topics.append(max(topics, key=lambda tup: tup[1])[0])\n",
    "    \n",
    "    topics = lda_model_tfidf.get_document_topics(doc)\n",
    "    lda_tfidf_topics.append(max(topics, key=lambda tup: tup[1])[0])"
   ]
  },
  {
   "cell_type": "code",
   "execution_count": 117,
   "metadata": {},
   "outputs": [
    {
     "data": {
      "text/plain": [
       "44344"
      ]
     },
     "execution_count": 117,
     "metadata": {},
     "output_type": "execute_result"
    }
   ],
   "source": [
    "len(lda_topics)"
   ]
  },
  {
   "cell_type": "code",
   "execution_count": 118,
   "metadata": {},
   "outputs": [
    {
     "data": {
      "text/plain": [
       "44344"
      ]
     },
     "execution_count": 118,
     "metadata": {},
     "output_type": "execute_result"
    }
   ],
   "source": [
    "len(lda_tfidf_topics)"
   ]
  },
  {
   "cell_type": "code",
   "execution_count": 125,
   "metadata": {},
   "outputs": [],
   "source": [
    "lda_serious = data[['serious']].copy()\n",
    "lda_serious['serious'] = lda_serious['serious'].map({'Y': True, 'N': False})\n",
    "lda_serious['topic'] = lda_topics"
   ]
  },
  {
   "cell_type": "code",
   "execution_count": 126,
   "metadata": {},
   "outputs": [
    {
     "data": {
      "text/html": [
       "<div>\n",
       "<style scoped>\n",
       "    .dataframe tbody tr th:only-of-type {\n",
       "        vertical-align: middle;\n",
       "    }\n",
       "\n",
       "    .dataframe tbody tr th {\n",
       "        vertical-align: top;\n",
       "    }\n",
       "\n",
       "    .dataframe thead th {\n",
       "        text-align: right;\n",
       "    }\n",
       "</style>\n",
       "<table border=\"1\" class=\"dataframe\">\n",
       "  <thead>\n",
       "    <tr style=\"text-align: right;\">\n",
       "      <th></th>\n",
       "      <th>serious</th>\n",
       "      <th>topic</th>\n",
       "    </tr>\n",
       "    <tr>\n",
       "      <th>vaers_id</th>\n",
       "      <th></th>\n",
       "      <th></th>\n",
       "    </tr>\n",
       "  </thead>\n",
       "  <tbody>\n",
       "    <tr>\n",
       "      <th>794156</th>\n",
       "      <td>False</td>\n",
       "      <td>3</td>\n",
       "    </tr>\n",
       "    <tr>\n",
       "      <th>794157</th>\n",
       "      <td>False</td>\n",
       "      <td>3</td>\n",
       "    </tr>\n",
       "    <tr>\n",
       "      <th>794158</th>\n",
       "      <td>False</td>\n",
       "      <td>3</td>\n",
       "    </tr>\n",
       "    <tr>\n",
       "      <th>794159</th>\n",
       "      <td>False</td>\n",
       "      <td>3</td>\n",
       "    </tr>\n",
       "    <tr>\n",
       "      <th>794160</th>\n",
       "      <td>False</td>\n",
       "      <td>3</td>\n",
       "    </tr>\n",
       "    <tr>\n",
       "      <th>...</th>\n",
       "      <td>...</td>\n",
       "      <td>...</td>\n",
       "    </tr>\n",
       "    <tr>\n",
       "      <th>852706</th>\n",
       "      <td>True</td>\n",
       "      <td>3</td>\n",
       "    </tr>\n",
       "    <tr>\n",
       "      <th>852710</th>\n",
       "      <td>False</td>\n",
       "      <td>3</td>\n",
       "    </tr>\n",
       "    <tr>\n",
       "      <th>852719</th>\n",
       "      <td>False</td>\n",
       "      <td>3</td>\n",
       "    </tr>\n",
       "    <tr>\n",
       "      <th>852815</th>\n",
       "      <td>False</td>\n",
       "      <td>3</td>\n",
       "    </tr>\n",
       "    <tr>\n",
       "      <th>852816</th>\n",
       "      <td>False</td>\n",
       "      <td>3</td>\n",
       "    </tr>\n",
       "  </tbody>\n",
       "</table>\n",
       "<p>44344 rows × 2 columns</p>\n",
       "</div>"
      ],
      "text/plain": [
       "          serious  topic\n",
       "vaers_id                \n",
       "794156      False      3\n",
       "794157      False      3\n",
       "794158      False      3\n",
       "794159      False      3\n",
       "794160      False      3\n",
       "...           ...    ...\n",
       "852706       True      3\n",
       "852710      False      3\n",
       "852719      False      3\n",
       "852815      False      3\n",
       "852816      False      3\n",
       "\n",
       "[44344 rows x 2 columns]"
      ]
     },
     "execution_count": 126,
     "metadata": {},
     "output_type": "execute_result"
    }
   ],
   "source": [
    "lda_serious"
   ]
  },
  {
   "cell_type": "code",
   "execution_count": 127,
   "metadata": {},
   "outputs": [
    {
     "data": {
      "text/html": [
       "<div>\n",
       "<style scoped>\n",
       "    .dataframe tbody tr th:only-of-type {\n",
       "        vertical-align: middle;\n",
       "    }\n",
       "\n",
       "    .dataframe tbody tr th {\n",
       "        vertical-align: top;\n",
       "    }\n",
       "\n",
       "    .dataframe thead th {\n",
       "        text-align: right;\n",
       "    }\n",
       "</style>\n",
       "<table border=\"1\" class=\"dataframe\">\n",
       "  <thead>\n",
       "    <tr style=\"text-align: right;\">\n",
       "      <th>serious</th>\n",
       "      <th>False</th>\n",
       "      <th>True</th>\n",
       "    </tr>\n",
       "    <tr>\n",
       "      <th>topic</th>\n",
       "      <th></th>\n",
       "      <th></th>\n",
       "    </tr>\n",
       "  </thead>\n",
       "  <tbody>\n",
       "    <tr>\n",
       "      <th>0</th>\n",
       "      <td>2857</td>\n",
       "      <td>22</td>\n",
       "    </tr>\n",
       "    <tr>\n",
       "      <th>1</th>\n",
       "      <td>3117</td>\n",
       "      <td>1893</td>\n",
       "    </tr>\n",
       "    <tr>\n",
       "      <th>2</th>\n",
       "      <td>1858</td>\n",
       "      <td>90</td>\n",
       "    </tr>\n",
       "    <tr>\n",
       "      <th>3</th>\n",
       "      <td>27376</td>\n",
       "      <td>832</td>\n",
       "    </tr>\n",
       "    <tr>\n",
       "      <th>4</th>\n",
       "      <td>6158</td>\n",
       "      <td>141</td>\n",
       "    </tr>\n",
       "  </tbody>\n",
       "</table>\n",
       "</div>"
      ],
      "text/plain": [
       "serious  False  True \n",
       "topic                \n",
       "0         2857     22\n",
       "1         3117   1893\n",
       "2         1858     90\n",
       "3        27376    832\n",
       "4         6158    141"
      ]
     },
     "execution_count": 127,
     "metadata": {},
     "output_type": "execute_result"
    }
   ],
   "source": [
    "crosstab = pd.crosstab(lda_serious.topic, lda_serious.serious)\n",
    "crosstab"
   ]
  },
  {
   "cell_type": "code",
   "execution_count": 128,
   "metadata": {},
   "outputs": [
    {
     "data": {
      "text/plain": [
       "(8736.110115777028,\n",
       " 0.0,\n",
       " 4,\n",
       " array([[ 2685.65564676,   193.34435324],\n",
       "        [ 4673.54456071,   336.45543929],\n",
       "        [ 1817.17860364,   130.82139636],\n",
       "        [26313.64171027,  1894.35828973],\n",
       "        [ 5875.97947862,   423.02052138]]))"
      ]
     },
     "execution_count": 128,
     "metadata": {},
     "output_type": "execute_result"
    }
   ],
   "source": [
    "stats.chi2_contingency(crosstab)"
   ]
  },
  {
   "cell_type": "code",
   "execution_count": 131,
   "metadata": {},
   "outputs": [
    {
     "data": {
      "text/plain": [
       "topic\n",
       "0    0.7641542202153525\n",
       "1   37.7844311377245532\n",
       "2    4.6201232032854209\n",
       "3    2.9495178672716960\n",
       "4    2.2384505477059853\n",
       "dtype: float64"
      ]
     },
     "execution_count": 131,
     "metadata": {},
     "output_type": "execute_result"
    }
   ],
   "source": [
    "crosstab[True] / (crosstab[True] + crosstab[False]) * 100"
   ]
  },
  {
   "cell_type": "code",
   "execution_count": null,
   "metadata": {},
   "outputs": [],
   "source": []
  },
  {
   "cell_type": "code",
   "execution_count": null,
   "metadata": {},
   "outputs": [],
   "source": []
  },
  {
   "cell_type": "code",
   "execution_count": null,
   "metadata": {},
   "outputs": [],
   "source": []
  },
  {
   "cell_type": "code",
   "execution_count": 132,
   "metadata": {},
   "outputs": [],
   "source": [
    "lda_serious = data[['serious']].copy()\n",
    "lda_serious['serious'] = lda_serious['serious'].map({'Y': True, 'N': False})\n",
    "lda_serious['topic'] = lda_tfidf_topics"
   ]
  },
  {
   "cell_type": "code",
   "execution_count": 133,
   "metadata": {},
   "outputs": [
    {
     "data": {
      "text/html": [
       "<div>\n",
       "<style scoped>\n",
       "    .dataframe tbody tr th:only-of-type {\n",
       "        vertical-align: middle;\n",
       "    }\n",
       "\n",
       "    .dataframe tbody tr th {\n",
       "        vertical-align: top;\n",
       "    }\n",
       "\n",
       "    .dataframe thead th {\n",
       "        text-align: right;\n",
       "    }\n",
       "</style>\n",
       "<table border=\"1\" class=\"dataframe\">\n",
       "  <thead>\n",
       "    <tr style=\"text-align: right;\">\n",
       "      <th>serious</th>\n",
       "      <th>False</th>\n",
       "      <th>True</th>\n",
       "    </tr>\n",
       "    <tr>\n",
       "      <th>topic</th>\n",
       "      <th></th>\n",
       "      <th></th>\n",
       "    </tr>\n",
       "  </thead>\n",
       "  <tbody>\n",
       "    <tr>\n",
       "      <th>0</th>\n",
       "      <td>8615</td>\n",
       "      <td>1211</td>\n",
       "    </tr>\n",
       "    <tr>\n",
       "      <th>1</th>\n",
       "      <td>6357</td>\n",
       "      <td>184</td>\n",
       "    </tr>\n",
       "    <tr>\n",
       "      <th>2</th>\n",
       "      <td>10139</td>\n",
       "      <td>406</td>\n",
       "    </tr>\n",
       "    <tr>\n",
       "      <th>3</th>\n",
       "      <td>7451</td>\n",
       "      <td>1006</td>\n",
       "    </tr>\n",
       "    <tr>\n",
       "      <th>4</th>\n",
       "      <td>8804</td>\n",
       "      <td>171</td>\n",
       "    </tr>\n",
       "  </tbody>\n",
       "</table>\n",
       "</div>"
      ],
      "text/plain": [
       "serious  False  True \n",
       "topic                \n",
       "0         8615   1211\n",
       "1         6357    184\n",
       "2        10139    406\n",
       "3         7451   1006\n",
       "4         8804    171"
      ]
     },
     "execution_count": 133,
     "metadata": {},
     "output_type": "execute_result"
    }
   ],
   "source": [
    "crosstab = pd.crosstab(lda_serious.topic, lda_serious.serious)\n",
    "crosstab"
   ]
  },
  {
   "cell_type": "code",
   "execution_count": 134,
   "metadata": {},
   "outputs": [
    {
     "data": {
      "text/plain": [
       "(1484.35956273134,\n",
       " 0.0,\n",
       " 4,\n",
       " array([[9166.11753563,  659.88246437],\n",
       "        [6101.72753924,  439.27246076],\n",
       "        [9836.8318149 ,  708.1681851 ],\n",
       "        [7889.05515966,  567.94484034],\n",
       "        [8372.26795057,  602.73204943]]))"
      ]
     },
     "execution_count": 134,
     "metadata": {},
     "output_type": "execute_result"
    }
   ],
   "source": [
    "stats.chi2_contingency(crosstab)"
   ]
  },
  {
   "cell_type": "code",
   "execution_count": 135,
   "metadata": {},
   "outputs": [
    {
     "data": {
      "text/plain": [
       "topic\n",
       "0   12.3244453490738852\n",
       "1    2.8130255312643326\n",
       "2    3.8501659554291132\n",
       "3   11.8954712072839079\n",
       "4    1.9052924791086352\n",
       "dtype: float64"
      ]
     },
     "execution_count": 135,
     "metadata": {},
     "output_type": "execute_result"
    }
   ],
   "source": [
    "crosstab[True] / (crosstab[True] + crosstab[False]) * 100"
   ]
  },
  {
   "cell_type": "code",
   "execution_count": 137,
   "metadata": {},
   "outputs": [
    {
     "data": {
      "text/plain": [
       "6.715677430994046"
      ]
     },
     "execution_count": 137,
     "metadata": {},
     "output_type": "execute_result"
    }
   ],
   "source": [
    "crosstab[True].sum() / (crosstab[True].sum() + crosstab[False].sum()) * 100"
   ]
  },
  {
   "cell_type": "code",
   "execution_count": null,
   "metadata": {},
   "outputs": [],
   "source": []
  },
  {
   "cell_type": "code",
   "execution_count": null,
   "metadata": {},
   "outputs": [],
   "source": []
  },
  {
   "cell_type": "code",
   "execution_count": 81,
   "metadata": {},
   "outputs": [
    {
     "data": {
      "text/plain": [
       "(1192.3039088501807,\n",
       " 7.423020764198414e-257,\n",
       " 4,\n",
       " array([[18842.50031571,  1356.49968429],\n",
       "        [13291.15027963,   956.84972037],\n",
       "        [  538.25054122,    38.74945878],\n",
       "        [ 1772.40212881,   127.59787119],\n",
       "        [ 6921.69673462,   498.30326538]]))"
      ]
     },
     "execution_count": 81,
     "metadata": {},
     "output_type": "execute_result"
    }
   ],
   "source": [
    "stats.chi2_contingency(crosstab)"
   ]
  },
  {
   "cell_type": "code",
   "execution_count": null,
   "metadata": {},
   "outputs": [],
   "source": []
  },
  {
   "cell_type": "code",
   "execution_count": null,
   "metadata": {},
   "outputs": [],
   "source": []
  },
  {
   "cell_type": "code",
   "execution_count": null,
   "metadata": {},
   "outputs": [],
   "source": []
  },
  {
   "cell_type": "code",
   "execution_count": null,
   "metadata": {},
   "outputs": [],
   "source": []
  },
  {
   "cell_type": "code",
   "execution_count": null,
   "metadata": {},
   "outputs": [],
   "source": []
  },
  {
   "cell_type": "code",
   "execution_count": null,
   "metadata": {},
   "outputs": [],
   "source": []
  },
  {
   "cell_type": "code",
   "execution_count": 123,
   "metadata": {},
   "outputs": [
    {
     "data": {
      "text/html": [
       "<div>\n",
       "<style scoped>\n",
       "    .dataframe tbody tr th:only-of-type {\n",
       "        vertical-align: middle;\n",
       "    }\n",
       "\n",
       "    .dataframe tbody tr th {\n",
       "        vertical-align: top;\n",
       "    }\n",
       "\n",
       "    .dataframe thead th {\n",
       "        text-align: right;\n",
       "    }\n",
       "</style>\n",
       "<table border=\"1\" class=\"dataframe\">\n",
       "  <thead>\n",
       "    <tr style=\"text-align: right;\">\n",
       "      <th></th>\n",
       "      <th>serious</th>\n",
       "      <th>topic</th>\n",
       "    </tr>\n",
       "    <tr>\n",
       "      <th>vaers_id</th>\n",
       "      <th></th>\n",
       "      <th></th>\n",
       "    </tr>\n",
       "  </thead>\n",
       "  <tbody>\n",
       "    <tr>\n",
       "      <th>794156</th>\n",
       "      <td>N</td>\n",
       "      <td>3</td>\n",
       "    </tr>\n",
       "    <tr>\n",
       "      <th>794157</th>\n",
       "      <td>N</td>\n",
       "      <td>3</td>\n",
       "    </tr>\n",
       "    <tr>\n",
       "      <th>794158</th>\n",
       "      <td>N</td>\n",
       "      <td>3</td>\n",
       "    </tr>\n",
       "    <tr>\n",
       "      <th>794159</th>\n",
       "      <td>N</td>\n",
       "      <td>3</td>\n",
       "    </tr>\n",
       "    <tr>\n",
       "      <th>794160</th>\n",
       "      <td>N</td>\n",
       "      <td>3</td>\n",
       "    </tr>\n",
       "    <tr>\n",
       "      <th>...</th>\n",
       "      <td>...</td>\n",
       "      <td>...</td>\n",
       "    </tr>\n",
       "    <tr>\n",
       "      <th>852706</th>\n",
       "      <td>Y</td>\n",
       "      <td>3</td>\n",
       "    </tr>\n",
       "    <tr>\n",
       "      <th>852710</th>\n",
       "      <td>N</td>\n",
       "      <td>3</td>\n",
       "    </tr>\n",
       "    <tr>\n",
       "      <th>852719</th>\n",
       "      <td>N</td>\n",
       "      <td>3</td>\n",
       "    </tr>\n",
       "    <tr>\n",
       "      <th>852815</th>\n",
       "      <td>N</td>\n",
       "      <td>3</td>\n",
       "    </tr>\n",
       "    <tr>\n",
       "      <th>852816</th>\n",
       "      <td>N</td>\n",
       "      <td>3</td>\n",
       "    </tr>\n",
       "  </tbody>\n",
       "</table>\n",
       "<p>44344 rows × 2 columns</p>\n",
       "</div>"
      ],
      "text/plain": [
       "         serious  topic\n",
       "vaers_id               \n",
       "794156         N      3\n",
       "794157         N      3\n",
       "794158         N      3\n",
       "794159         N      3\n",
       "794160         N      3\n",
       "...          ...    ...\n",
       "852706         Y      3\n",
       "852710         N      3\n",
       "852719         N      3\n",
       "852815         N      3\n",
       "852816         N      3\n",
       "\n",
       "[44344 rows x 2 columns]"
      ]
     },
     "execution_count": 123,
     "metadata": {},
     "output_type": "execute_result"
    }
   ],
   "source": [
    "lda_serious"
   ]
  },
  {
   "cell_type": "code",
   "execution_count": null,
   "metadata": {},
   "outputs": [],
   "source": []
  },
  {
   "cell_type": "code",
   "execution_count": 112,
   "metadata": {},
   "outputs": [
    {
     "data": {
      "text/plain": [
       "3"
      ]
     },
     "execution_count": 112,
     "metadata": {},
     "output_type": "execute_result"
    }
   ],
   "source": [
    "max(a, key=lambda tup: tup[1])[0]"
   ]
  },
  {
   "cell_type": "code",
   "execution_count": null,
   "metadata": {},
   "outputs": [],
   "source": [
    "max"
   ]
  },
  {
   "cell_type": "code",
   "execution_count": null,
   "metadata": {},
   "outputs": [],
   "source": []
  },
  {
   "cell_type": "code",
   "execution_count": null,
   "metadata": {},
   "outputs": [],
   "source": []
  },
  {
   "cell_type": "code",
   "execution_count": 107,
   "metadata": {},
   "outputs": [
    {
     "data": {
      "text/plain": [
       "[(0, 0.025375519),\n",
       " (1, 0.026072707),\n",
       " (2, 0.025612371),\n",
       " (3, 0.89705414),\n",
       " (4, 0.025885278)]"
      ]
     },
     "execution_count": 107,
     "metadata": {},
     "output_type": "execute_result"
    }
   ],
   "source": [
    "lda_model.get_document_topics(bow_corpus[555])"
   ]
  },
  {
   "cell_type": "code",
   "execution_count": null,
   "metadata": {},
   "outputs": [],
   "source": []
  },
  {
   "cell_type": "code",
   "execution_count": null,
   "metadata": {},
   "outputs": [],
   "source": []
  },
  {
   "cell_type": "code",
   "execution_count": null,
   "metadata": {},
   "outputs": [],
   "source": []
  },
  {
   "cell_type": "code",
   "execution_count": 100,
   "metadata": {},
   "outputs": [],
   "source": [
    "topics.chunksize"
   ]
  },
  {
   "cell_type": "code",
   "execution_count": 102,
   "metadata": {},
   "outputs": [
    {
     "data": {
      "text/plain": [
       "<gensim.models.ldamulticore.LdaMulticore at 0x150758510>"
      ]
     },
     "execution_count": 102,
     "metadata": {},
     "output_type": "execute_result"
    }
   ],
   "source": [
    "topics.obj.g"
   ]
  },
  {
   "cell_type": "code",
   "execution_count": null,
   "metadata": {},
   "outputs": [],
   "source": []
  },
  {
   "cell_type": "code",
   "execution_count": null,
   "metadata": {},
   "outputs": [],
   "source": []
  },
  {
   "cell_type": "code",
   "execution_count": null,
   "metadata": {},
   "outputs": [],
   "source": []
  },
  {
   "cell_type": "code",
   "execution_count": null,
   "metadata": {},
   "outputs": [],
   "source": []
  },
  {
   "cell_type": "code",
   "execution_count": null,
   "metadata": {},
   "outputs": [],
   "source": []
  },
  {
   "cell_type": "code",
   "execution_count": 11,
   "metadata": {},
   "outputs": [
    {
     "data": {
      "text/plain": [
       "KMeans(algorithm='auto', copy_x=True, init='k-means++', max_iter=100,\n",
       "       n_clusters=5, n_init=1, n_jobs=None, precompute_distances='auto',\n",
       "       random_state=None, tol=0.0001, verbose=0)"
      ]
     },
     "execution_count": 11,
     "metadata": {},
     "output_type": "execute_result"
    }
   ],
   "source": [
    "# add columns age/sex/curr ill/num days to clustering\n",
    "clusters = 5\n",
    "model = KMeans(n_clusters=clusters, init='k-means++', max_iter=100, n_init=1)\n",
    "model.fit(merged)\n",
    "\n",
    "# tfidf['cluster'] = model.labels_"
   ]
  },
  {
   "cell_type": "code",
   "execution_count": 30,
   "metadata": {},
   "outputs": [
    {
     "name": "stdout",
     "output_type": "stream",
     "text": [
      "Cluster 0 (size=14944):\n",
      "-----------------------------------------\n",
      "patienr, unknowingly, reportable, datasheet, receive, dosde, vaccince, medicaitons, shingritz, cascading\n",
      "\n",
      "Cluster 1 (size=6794):\n",
      "-----------------------------------------\n",
      "vaccince, patienr, fetzima, givein, rarity, dawned, swellin, rednes, reactio, sitagliptin\n",
      "\n",
      "Cluster 2 (size=6855):\n",
      "-----------------------------------------\n",
      "arlv, patienr, pail, injectio, dawned, sitagliptin, shingritz, swellin, rednes, rarity\n",
      "\n",
      "Cluster 3 (size=11178):\n",
      "-----------------------------------------\n",
      "pail, arlv, injectio, patienr, dawned, fetzima, sitagliptin, headach, chileed, shingritz\n",
      "\n",
      "Cluster 4 (size=4573):\n",
      "-----------------------------------------\n",
      "patienr, vaccince, arlv, pail, givein, injectio, sitagliptin, dawned, psychotropics, lefse\n",
      "\n"
     ]
    }
   ],
   "source": [
    "for cluster_index in range(clusters):\n",
    "    cluster = merged[(model.labels_ == cluster_index)]\n",
    "#     cluster = tfidf[tfidf.cluster.eq(cluster_index)]\n",
    "\n",
    "    tfidf = cluster[:, 5:]\n",
    "    tfidf_mean = tfidf.mean(axis=0)\n",
    "    tfidf_mean = np.squeeze(np.asarray(tfidf_mean))\n",
    "    \n",
    "    ave_age = cluster[:, 0].mean()\n",
    "    male = \n",
    "    \n",
    "    top_ten = tfidf_mean.argsort()[-10:][::-1]\n",
    "    \n",
    "    print(f\"Cluster {cluster_index} (size={len(cluster)}):\")\n",
    "    print(\"-----------------------------------------\")\n",
    "    print(', '.join(ind_to_token[idx] for idx in top_ten))\n",
    "    print()"
   ]
  },
  {
   "cell_type": "code",
   "execution_count": null,
   "metadata": {},
   "outputs": [],
   "source": [
    "cluster[:, 0].mean()"
   ]
  },
  {
   "cell_type": "code",
   "execution_count": null,
   "metadata": {},
   "outputs": [],
   "source": []
  },
  {
   "cell_type": "code",
   "execution_count": null,
   "metadata": {},
   "outputs": [],
   "source": []
  },
  {
   "cell_type": "code",
   "execution_count": 31,
   "metadata": {},
   "outputs": [
    {
     "data": {
      "text/plain": [
       "21.287338727312488"
      ]
     },
     "execution_count": 31,
     "metadata": {},
     "output_type": "execute_result"
    }
   ],
   "source": [
    "cluster[:, 0].mean()"
   ]
  },
  {
   "cell_type": "code",
   "execution_count": 26,
   "metadata": {},
   "outputs": [
    {
     "data": {
      "text/plain": [
       "45.967172807380685"
      ]
     },
     "execution_count": 26,
     "metadata": {},
     "output_type": "execute_result"
    }
   ],
   "source": [
    "merged[:, 0].mean()"
   ]
  },
  {
   "cell_type": "code",
   "execution_count": 28,
   "metadata": {},
   "outputs": [
    {
     "data": {
      "text/plain": [
       "array([[0., 0., 0., ..., 0., 0., 0.],\n",
       "       [0., 0., 0., ..., 0., 0., 0.],\n",
       "       [0., 0., 0., ..., 0., 0., 0.],\n",
       "       ...,\n",
       "       [0., 0., 0., ..., 0., 0., 0.],\n",
       "       [0., 0., 0., ..., 0., 0., 0.],\n",
       "       [0., 0., 0., ..., 0., 0., 0.]])"
      ]
     },
     "execution_count": 28,
     "metadata": {},
     "output_type": "execute_result"
    }
   ],
   "source": [
    "cluster"
   ]
  },
  {
   "cell_type": "code",
   "execution_count": null,
   "metadata": {},
   "outputs": [],
   "source": []
  },
  {
   "cell_type": "code",
   "execution_count": null,
   "metadata": {},
   "outputs": [],
   "source": []
  },
  {
   "cell_type": "markdown",
   "metadata": {},
   "source": [
    "distance measure:  \n",
    "\n",
    "https://scikit-learn.org/stable/modules/clustering.html#k-means  \n",
    "within-cluster sum-of-squares"
   ]
  },
  {
   "cell_type": "code",
   "execution_count": null,
   "metadata": {},
   "outputs": [],
   "source": []
  },
  {
   "cell_type": "code",
   "execution_count": null,
   "metadata": {},
   "outputs": [],
   "source": []
  },
  {
   "cell_type": "code",
   "execution_count": null,
   "metadata": {},
   "outputs": [],
   "source": []
  },
  {
   "cell_type": "code",
   "execution_count": null,
   "metadata": {},
   "outputs": [],
   "source": []
  },
  {
   "cell_type": "code",
   "execution_count": null,
   "metadata": {},
   "outputs": [],
   "source": []
  },
  {
   "cell_type": "code",
   "execution_count": 314,
   "metadata": {},
   "outputs": [
    {
     "data": {
      "text/plain": [
       "(44344, 31)"
      ]
     },
     "execution_count": 314,
     "metadata": {},
     "output_type": "execute_result"
    }
   ],
   "source": [
    "data.shape"
   ]
  },
  {
   "cell_type": "code",
   "execution_count": 315,
   "metadata": {},
   "outputs": [],
   "source": [
    "data['cluster'] = model.labels_"
   ]
  },
  {
   "cell_type": "code",
   "execution_count": 316,
   "metadata": {},
   "outputs": [
    {
     "data": {
      "text/html": [
       "<div>\n",
       "<style scoped>\n",
       "    .dataframe tbody tr th:only-of-type {\n",
       "        vertical-align: middle;\n",
       "    }\n",
       "\n",
       "    .dataframe tbody tr th {\n",
       "        vertical-align: top;\n",
       "    }\n",
       "\n",
       "    .dataframe thead th {\n",
       "        text-align: right;\n",
       "    }\n",
       "</style>\n",
       "<table border=\"1\" class=\"dataframe\">\n",
       "  <thead>\n",
       "    <tr style=\"text-align: right;\">\n",
       "      <th></th>\n",
       "      <th>RECVDATE</th>\n",
       "      <th>STATE</th>\n",
       "      <th>AGE_YRS</th>\n",
       "      <th>CAGE_YR</th>\n",
       "      <th>CAGE_MO</th>\n",
       "      <th>SEX</th>\n",
       "      <th>RPT_DATE</th>\n",
       "      <th>SYMPTOM_TEXT</th>\n",
       "      <th>DATEDIED</th>\n",
       "      <th>L_THREAT</th>\n",
       "      <th>HOSPDAYS</th>\n",
       "      <th>X_STAY</th>\n",
       "      <th>RECOVD</th>\n",
       "      <th>VAX_DATE</th>\n",
       "      <th>ONSET_DATE</th>\n",
       "      <th>NUMDAYS</th>\n",
       "      <th>LAB_DATA</th>\n",
       "      <th>V_ADMINBY</th>\n",
       "      <th>V_FUNDBY</th>\n",
       "      <th>OTHER_MEDS</th>\n",
       "      <th>CUR_ILL</th>\n",
       "      <th>HISTORY</th>\n",
       "      <th>PRIOR_VAX</th>\n",
       "      <th>SPLTTYPE</th>\n",
       "      <th>FORM_VERS</th>\n",
       "      <th>TODAYS_DATE</th>\n",
       "      <th>BIRTH_DEFECT</th>\n",
       "      <th>OFC_VISIT</th>\n",
       "      <th>ER_ED_VISIT</th>\n",
       "      <th>ALLERGIES</th>\n",
       "      <th>SERIOUS</th>\n",
       "      <th>cluster</th>\n",
       "    </tr>\n",
       "    <tr>\n",
       "      <th>VAERS_ID</th>\n",
       "      <th></th>\n",
       "      <th></th>\n",
       "      <th></th>\n",
       "      <th></th>\n",
       "      <th></th>\n",
       "      <th></th>\n",
       "      <th></th>\n",
       "      <th></th>\n",
       "      <th></th>\n",
       "      <th></th>\n",
       "      <th></th>\n",
       "      <th></th>\n",
       "      <th></th>\n",
       "      <th></th>\n",
       "      <th></th>\n",
       "      <th></th>\n",
       "      <th></th>\n",
       "      <th></th>\n",
       "      <th></th>\n",
       "      <th></th>\n",
       "      <th></th>\n",
       "      <th></th>\n",
       "      <th></th>\n",
       "      <th></th>\n",
       "      <th></th>\n",
       "      <th></th>\n",
       "      <th></th>\n",
       "      <th></th>\n",
       "      <th></th>\n",
       "      <th></th>\n",
       "      <th></th>\n",
       "      <th></th>\n",
       "    </tr>\n",
       "  </thead>\n",
       "  <tbody>\n",
       "    <tr>\n",
       "      <th>794156</th>\n",
       "      <td>01/01/2019</td>\n",
       "      <td>NaN</td>\n",
       "      <td>69.0</td>\n",
       "      <td>69.0</td>\n",
       "      <td>NaN</td>\n",
       "      <td>F</td>\n",
       "      <td>NaN</td>\n",
       "      <td>Severe pain Lt. shoulder area, very localized ...</td>\n",
       "      <td>NaN</td>\n",
       "      <td>NaN</td>\n",
       "      <td>NaN</td>\n",
       "      <td>NaN</td>\n",
       "      <td>Y</td>\n",
       "      <td>10/29/2018</td>\n",
       "      <td>10/30/2018</td>\n",
       "      <td>1.0</td>\n",
       "      <td>NaN</td>\n",
       "      <td>PVT</td>\n",
       "      <td>NaN</td>\n",
       "      <td>NaN</td>\n",
       "      <td>none</td>\n",
       "      <td>none</td>\n",
       "      <td>NaN</td>\n",
       "      <td>NaN</td>\n",
       "      <td>2</td>\n",
       "      <td>01/01/2019</td>\n",
       "      <td>NaN</td>\n",
       "      <td>Y</td>\n",
       "      <td>NaN</td>\n",
       "      <td>tetracycline</td>\n",
       "      <td>N</td>\n",
       "      <td>2</td>\n",
       "    </tr>\n",
       "    <tr>\n",
       "      <th>794157</th>\n",
       "      <td>01/01/2019</td>\n",
       "      <td>IL</td>\n",
       "      <td>68.0</td>\n",
       "      <td>68.0</td>\n",
       "      <td>NaN</td>\n",
       "      <td>F</td>\n",
       "      <td>NaN</td>\n",
       "      <td>Much joint pain/aching, lack of energy, listle...</td>\n",
       "      <td>NaN</td>\n",
       "      <td>NaN</td>\n",
       "      <td>NaN</td>\n",
       "      <td>NaN</td>\n",
       "      <td>N</td>\n",
       "      <td>12/28/2018</td>\n",
       "      <td>12/29/2018</td>\n",
       "      <td>1.0</td>\n",
       "      <td>None</td>\n",
       "      <td>PHM</td>\n",
       "      <td>NaN</td>\n",
       "      <td>Levothyroxine, sertraline, vitamin B complex, ...</td>\n",
       "      <td>None</td>\n",
       "      <td>Hypothryoidism</td>\n",
       "      <td>Arm soreness at site of injection</td>\n",
       "      <td>NaN</td>\n",
       "      <td>2</td>\n",
       "      <td>01/01/2019</td>\n",
       "      <td>NaN</td>\n",
       "      <td>NaN</td>\n",
       "      <td>NaN</td>\n",
       "      <td>None</td>\n",
       "      <td>N</td>\n",
       "      <td>1</td>\n",
       "    </tr>\n",
       "    <tr>\n",
       "      <th>794158</th>\n",
       "      <td>01/01/2019</td>\n",
       "      <td>MA</td>\n",
       "      <td>62.0</td>\n",
       "      <td>62.0</td>\n",
       "      <td>NaN</td>\n",
       "      <td>F</td>\n",
       "      <td>NaN</td>\n",
       "      <td>Headache, Fever, Chills, Body Aches, Nausea la...</td>\n",
       "      <td>NaN</td>\n",
       "      <td>NaN</td>\n",
       "      <td>NaN</td>\n",
       "      <td>NaN</td>\n",
       "      <td>Y</td>\n",
       "      <td>12/30/2018</td>\n",
       "      <td>12/31/2018</td>\n",
       "      <td>1.0</td>\n",
       "      <td>NaN</td>\n",
       "      <td>PHM</td>\n",
       "      <td>NaN</td>\n",
       "      <td>Fish Oil, vitamin D, magnesium.</td>\n",
       "      <td>None</td>\n",
       "      <td>None</td>\n",
       "      <td>NaN</td>\n",
       "      <td>NaN</td>\n",
       "      <td>2</td>\n",
       "      <td>01/01/2019</td>\n",
       "      <td>NaN</td>\n",
       "      <td>NaN</td>\n",
       "      <td>NaN</td>\n",
       "      <td>None</td>\n",
       "      <td>N</td>\n",
       "      <td>2</td>\n",
       "    </tr>\n",
       "    <tr>\n",
       "      <th>794159</th>\n",
       "      <td>01/01/2019</td>\n",
       "      <td>UT</td>\n",
       "      <td>5.0</td>\n",
       "      <td>5.0</td>\n",
       "      <td>NaN</td>\n",
       "      <td>M</td>\n",
       "      <td>NaN</td>\n",
       "      <td>Site is swollen, red and warm to the touch. Pa...</td>\n",
       "      <td>NaN</td>\n",
       "      <td>NaN</td>\n",
       "      <td>NaN</td>\n",
       "      <td>NaN</td>\n",
       "      <td>Y</td>\n",
       "      <td>12/27/2018</td>\n",
       "      <td>12/28/2018</td>\n",
       "      <td>1.0</td>\n",
       "      <td>None</td>\n",
       "      <td>PVT</td>\n",
       "      <td>NaN</td>\n",
       "      <td>Unknown</td>\n",
       "      <td>Small red spot on his cheek at time of visit.</td>\n",
       "      <td>None</td>\n",
       "      <td>NaN</td>\n",
       "      <td>NaN</td>\n",
       "      <td>2</td>\n",
       "      <td>01/01/2019</td>\n",
       "      <td>NaN</td>\n",
       "      <td>NaN</td>\n",
       "      <td>NaN</td>\n",
       "      <td>Amoxicillin</td>\n",
       "      <td>N</td>\n",
       "      <td>1</td>\n",
       "    </tr>\n",
       "    <tr>\n",
       "      <th>794160</th>\n",
       "      <td>01/01/2019</td>\n",
       "      <td>TX</td>\n",
       "      <td>79.0</td>\n",
       "      <td>79.0</td>\n",
       "      <td>NaN</td>\n",
       "      <td>F</td>\n",
       "      <td>NaN</td>\n",
       "      <td>FLU LIKE: CHILLS ACHE ALL OVER; STRONG PAIN, W...</td>\n",
       "      <td>NaN</td>\n",
       "      <td>NaN</td>\n",
       "      <td>NaN</td>\n",
       "      <td>NaN</td>\n",
       "      <td>N</td>\n",
       "      <td>12/28/2018</td>\n",
       "      <td>12/28/2018</td>\n",
       "      <td>0.0</td>\n",
       "      <td>NONE TODAY IS A HOLIDAY</td>\n",
       "      <td>PVT</td>\n",
       "      <td>NaN</td>\n",
       "      <td>ATORVASTATIN; CELEBREX; XYZAL; D-3; ELIQUIS; A...</td>\n",
       "      <td>SINUSITIS; ATHROSCLEROSIS; DIABETES; HYPERCHOL...</td>\n",
       "      <td>SAME AS ITEM 11 ABOVE</td>\n",
       "      <td>NaN</td>\n",
       "      <td>NaN</td>\n",
       "      <td>2</td>\n",
       "      <td>01/01/2019</td>\n",
       "      <td>NaN</td>\n",
       "      <td>Y</td>\n",
       "      <td>Y</td>\n",
       "      <td>ACE INHIBITORS</td>\n",
       "      <td>N</td>\n",
       "      <td>1</td>\n",
       "    </tr>\n",
       "  </tbody>\n",
       "</table>\n",
       "</div>"
      ],
      "text/plain": [
       "            RECVDATE STATE  AGE_YRS  CAGE_YR  CAGE_MO SEX RPT_DATE  \\\n",
       "VAERS_ID                                                             \n",
       "794156    01/01/2019   NaN     69.0     69.0      NaN   F      NaN   \n",
       "794157    01/01/2019    IL     68.0     68.0      NaN   F      NaN   \n",
       "794158    01/01/2019    MA     62.0     62.0      NaN   F      NaN   \n",
       "794159    01/01/2019    UT      5.0      5.0      NaN   M      NaN   \n",
       "794160    01/01/2019    TX     79.0     79.0      NaN   F      NaN   \n",
       "\n",
       "                                               SYMPTOM_TEXT DATEDIED L_THREAT  \\\n",
       "VAERS_ID                                                                        \n",
       "794156    Severe pain Lt. shoulder area, very localized ...      NaN      NaN   \n",
       "794157    Much joint pain/aching, lack of energy, listle...      NaN      NaN   \n",
       "794158    Headache, Fever, Chills, Body Aches, Nausea la...      NaN      NaN   \n",
       "794159    Site is swollen, red and warm to the touch. Pa...      NaN      NaN   \n",
       "794160    FLU LIKE: CHILLS ACHE ALL OVER; STRONG PAIN, W...      NaN      NaN   \n",
       "\n",
       "          HOSPDAYS X_STAY RECOVD    VAX_DATE  ONSET_DATE  NUMDAYS  \\\n",
       "VAERS_ID                                                            \n",
       "794156         NaN    NaN      Y  10/29/2018  10/30/2018      1.0   \n",
       "794157         NaN    NaN      N  12/28/2018  12/29/2018      1.0   \n",
       "794158         NaN    NaN      Y  12/30/2018  12/31/2018      1.0   \n",
       "794159         NaN    NaN      Y  12/27/2018  12/28/2018      1.0   \n",
       "794160         NaN    NaN      N  12/28/2018  12/28/2018      0.0   \n",
       "\n",
       "                         LAB_DATA V_ADMINBY V_FUNDBY  \\\n",
       "VAERS_ID                                               \n",
       "794156                        NaN       PVT      NaN   \n",
       "794157                       None       PHM      NaN   \n",
       "794158                        NaN       PHM      NaN   \n",
       "794159                       None       PVT      NaN   \n",
       "794160    NONE TODAY IS A HOLIDAY       PVT      NaN   \n",
       "\n",
       "                                                 OTHER_MEDS  \\\n",
       "VAERS_ID                                                      \n",
       "794156                                                  NaN   \n",
       "794157    Levothyroxine, sertraline, vitamin B complex, ...   \n",
       "794158                      Fish Oil, vitamin D, magnesium.   \n",
       "794159                                              Unknown   \n",
       "794160    ATORVASTATIN; CELEBREX; XYZAL; D-3; ELIQUIS; A...   \n",
       "\n",
       "                                                    CUR_ILL  \\\n",
       "VAERS_ID                                                      \n",
       "794156                                                 none   \n",
       "794157                                                 None   \n",
       "794158                                                 None   \n",
       "794159        Small red spot on his cheek at time of visit.   \n",
       "794160    SINUSITIS; ATHROSCLEROSIS; DIABETES; HYPERCHOL...   \n",
       "\n",
       "                        HISTORY                          PRIOR_VAX SPLTTYPE  \\\n",
       "VAERS_ID                                                                      \n",
       "794156                     none                                NaN      NaN   \n",
       "794157           Hypothryoidism  Arm soreness at site of injection      NaN   \n",
       "794158                     None                                NaN      NaN   \n",
       "794159                     None                                NaN      NaN   \n",
       "794160    SAME AS ITEM 11 ABOVE                                NaN      NaN   \n",
       "\n",
       "          FORM_VERS TODAYS_DATE BIRTH_DEFECT OFC_VISIT ER_ED_VISIT  \\\n",
       "VAERS_ID                                                             \n",
       "794156            2  01/01/2019          NaN         Y         NaN   \n",
       "794157            2  01/01/2019          NaN       NaN         NaN   \n",
       "794158            2  01/01/2019          NaN       NaN         NaN   \n",
       "794159            2  01/01/2019          NaN       NaN         NaN   \n",
       "794160            2  01/01/2019          NaN         Y           Y   \n",
       "\n",
       "               ALLERGIES SERIOUS  cluster  \n",
       "VAERS_ID                                   \n",
       "794156      tetracycline       N        2  \n",
       "794157              None       N        1  \n",
       "794158              None       N        2  \n",
       "794159       Amoxicillin       N        1  \n",
       "794160    ACE INHIBITORS       N        1  "
      ]
     },
     "execution_count": 316,
     "metadata": {},
     "output_type": "execute_result"
    }
   ],
   "source": [
    "data.head()"
   ]
  },
  {
   "cell_type": "code",
   "execution_count": 318,
   "metadata": {},
   "outputs": [
    {
     "data": {
      "text/html": [
       "<div>\n",
       "<style scoped>\n",
       "    .dataframe tbody tr th:only-of-type {\n",
       "        vertical-align: middle;\n",
       "    }\n",
       "\n",
       "    .dataframe tbody tr th {\n",
       "        vertical-align: top;\n",
       "    }\n",
       "\n",
       "    .dataframe thead th {\n",
       "        text-align: right;\n",
       "    }\n",
       "</style>\n",
       "<table border=\"1\" class=\"dataframe\">\n",
       "  <thead>\n",
       "    <tr style=\"text-align: right;\">\n",
       "      <th>SERIOUS</th>\n",
       "      <th>N</th>\n",
       "      <th>Y</th>\n",
       "    </tr>\n",
       "    <tr>\n",
       "      <th>cluster</th>\n",
       "      <th></th>\n",
       "      <th></th>\n",
       "    </tr>\n",
       "  </thead>\n",
       "  <tbody>\n",
       "    <tr>\n",
       "      <th>0</th>\n",
       "      <td>5615</td>\n",
       "      <td>127</td>\n",
       "    </tr>\n",
       "    <tr>\n",
       "      <th>1</th>\n",
       "      <td>5180</td>\n",
       "      <td>70</td>\n",
       "    </tr>\n",
       "    <tr>\n",
       "      <th>2</th>\n",
       "      <td>23078</td>\n",
       "      <td>2002</td>\n",
       "    </tr>\n",
       "    <tr>\n",
       "      <th>3</th>\n",
       "      <td>2692</td>\n",
       "      <td>694</td>\n",
       "    </tr>\n",
       "    <tr>\n",
       "      <th>4</th>\n",
       "      <td>4801</td>\n",
       "      <td>85</td>\n",
       "    </tr>\n",
       "  </tbody>\n",
       "</table>\n",
       "</div>"
      ],
      "text/plain": [
       "SERIOUS      N     Y\n",
       "cluster             \n",
       "0         5615   127\n",
       "1         5180    70\n",
       "2        23078  2002\n",
       "3         2692   694\n",
       "4         4801    85"
      ]
     },
     "execution_count": 318,
     "metadata": {},
     "output_type": "execute_result"
    }
   ],
   "source": [
    "pd.crosstab(data.cluster, data.SERIOUS)"
   ]
  },
  {
   "cell_type": "code",
   "execution_count": 317,
   "metadata": {},
   "outputs": [
    {
     "data": {
      "text/html": [
       "<div>\n",
       "<style scoped>\n",
       "    .dataframe tbody tr th:only-of-type {\n",
       "        vertical-align: middle;\n",
       "    }\n",
       "\n",
       "    .dataframe tbody tr th {\n",
       "        vertical-align: top;\n",
       "    }\n",
       "\n",
       "    .dataframe thead tr th {\n",
       "        text-align: left;\n",
       "    }\n",
       "\n",
       "    .dataframe thead tr:last-of-type th {\n",
       "        text-align: right;\n",
       "    }\n",
       "</style>\n",
       "<table border=\"1\" class=\"dataframe\">\n",
       "  <thead>\n",
       "    <tr>\n",
       "      <th></th>\n",
       "      <th colspan=\"2\" halign=\"left\">AGE_YRS</th>\n",
       "      <th colspan=\"2\" halign=\"left\">CAGE_MO</th>\n",
       "      <th colspan=\"2\" halign=\"left\">CAGE_YR</th>\n",
       "      <th colspan=\"2\" halign=\"left\">FORM_VERS</th>\n",
       "      <th>HOSPDAYS</th>\n",
       "      <th colspan=\"2\" halign=\"left\">NUMDAYS</th>\n",
       "    </tr>\n",
       "    <tr>\n",
       "      <th>SERIOUS</th>\n",
       "      <th>N</th>\n",
       "      <th>Y</th>\n",
       "      <th>N</th>\n",
       "      <th>Y</th>\n",
       "      <th>N</th>\n",
       "      <th>Y</th>\n",
       "      <th>N</th>\n",
       "      <th>Y</th>\n",
       "      <th>Y</th>\n",
       "      <th>N</th>\n",
       "      <th>Y</th>\n",
       "    </tr>\n",
       "    <tr>\n",
       "      <th>cluster</th>\n",
       "      <th></th>\n",
       "      <th></th>\n",
       "      <th></th>\n",
       "      <th></th>\n",
       "      <th></th>\n",
       "      <th></th>\n",
       "      <th></th>\n",
       "      <th></th>\n",
       "      <th></th>\n",
       "      <th></th>\n",
       "      <th></th>\n",
       "    </tr>\n",
       "  </thead>\n",
       "  <tbody>\n",
       "    <tr>\n",
       "      <th>0</th>\n",
       "      <td>20.800842</td>\n",
       "      <td>29.995897</td>\n",
       "      <td>0.329412</td>\n",
       "      <td>0.125000</td>\n",
       "      <td>20.980066</td>\n",
       "      <td>34.583333</td>\n",
       "      <td>1.914337</td>\n",
       "      <td>1.960630</td>\n",
       "      <td>11.714286</td>\n",
       "      <td>43.760192</td>\n",
       "      <td>259.485714</td>\n",
       "    </tr>\n",
       "    <tr>\n",
       "      <th>1</th>\n",
       "      <td>53.331225</td>\n",
       "      <td>42.505156</td>\n",
       "      <td>0.338415</td>\n",
       "      <td>0.350000</td>\n",
       "      <td>53.379281</td>\n",
       "      <td>43.727273</td>\n",
       "      <td>1.971622</td>\n",
       "      <td>1.642857</td>\n",
       "      <td>2.437500</td>\n",
       "      <td>8.633550</td>\n",
       "      <td>45.477612</td>\n",
       "    </tr>\n",
       "    <tr>\n",
       "      <th>2</th>\n",
       "      <td>45.248608</td>\n",
       "      <td>37.005634</td>\n",
       "      <td>0.320905</td>\n",
       "      <td>0.327778</td>\n",
       "      <td>45.369581</td>\n",
       "      <td>36.641509</td>\n",
       "      <td>1.961478</td>\n",
       "      <td>1.864136</td>\n",
       "      <td>6.200739</td>\n",
       "      <td>21.420956</td>\n",
       "      <td>28.888430</td>\n",
       "    </tr>\n",
       "    <tr>\n",
       "      <th>3</th>\n",
       "      <td>35.641392</td>\n",
       "      <td>66.529412</td>\n",
       "      <td>0.381116</td>\n",
       "      <td>NaN</td>\n",
       "      <td>34.528746</td>\n",
       "      <td>62.333333</td>\n",
       "      <td>2.000000</td>\n",
       "      <td>2.000000</td>\n",
       "      <td>3.666667</td>\n",
       "      <td>70.727273</td>\n",
       "      <td>197.685185</td>\n",
       "    </tr>\n",
       "    <tr>\n",
       "      <th>4</th>\n",
       "      <td>65.462022</td>\n",
       "      <td>64.638158</td>\n",
       "      <td>0.360000</td>\n",
       "      <td>NaN</td>\n",
       "      <td>65.900091</td>\n",
       "      <td>68.027027</td>\n",
       "      <td>1.999792</td>\n",
       "      <td>2.000000</td>\n",
       "      <td>7.115385</td>\n",
       "      <td>12.600000</td>\n",
       "      <td>7.225806</td>\n",
       "    </tr>\n",
       "  </tbody>\n",
       "</table>\n",
       "</div>"
      ],
      "text/plain": [
       "           AGE_YRS              CAGE_MO              CAGE_YR             \\\n",
       "SERIOUS          N          Y         N         Y          N          Y   \n",
       "cluster                                                                   \n",
       "0        20.800842  29.995897  0.329412  0.125000  20.980066  34.583333   \n",
       "1        53.331225  42.505156  0.338415  0.350000  53.379281  43.727273   \n",
       "2        45.248608  37.005634  0.320905  0.327778  45.369581  36.641509   \n",
       "3        35.641392  66.529412  0.381116       NaN  34.528746  62.333333   \n",
       "4        65.462022  64.638158  0.360000       NaN  65.900091  68.027027   \n",
       "\n",
       "        FORM_VERS             HOSPDAYS    NUMDAYS              \n",
       "SERIOUS         N         Y          Y          N           Y  \n",
       "cluster                                                        \n",
       "0        1.914337  1.960630  11.714286  43.760192  259.485714  \n",
       "1        1.971622  1.642857   2.437500   8.633550   45.477612  \n",
       "2        1.961478  1.864136   6.200739  21.420956   28.888430  \n",
       "3        2.000000  2.000000   3.666667  70.727273  197.685185  \n",
       "4        1.999792  2.000000   7.115385  12.600000    7.225806  "
      ]
     },
     "execution_count": 317,
     "metadata": {},
     "output_type": "execute_result"
    }
   ],
   "source": [
    "data.pivot_table(index='cluster', columns='SERIOUS')"
   ]
  },
  {
   "cell_type": "code",
   "execution_count": null,
   "metadata": {},
   "outputs": [],
   "source": []
  },
  {
   "cell_type": "code",
   "execution_count": 269,
   "metadata": {},
   "outputs": [
    {
     "data": {
      "text/plain": [
       "20332"
      ]
     },
     "execution_count": 269,
     "metadata": {},
     "output_type": "execute_result"
    }
   ],
   "source": [
    "vectorizer.vocabulary_['patient']"
   ]
  },
  {
   "cell_type": "code",
   "execution_count": 276,
   "metadata": {},
   "outputs": [
    {
     "data": {
      "text/plain": [
       "(44344, 30822)"
      ]
     },
     "execution_count": 276,
     "metadata": {},
     "output_type": "execute_result"
    }
   ],
   "source": [
    "tfidf.shape"
   ]
  },
  {
   "cell_type": "code",
   "execution_count": 288,
   "metadata": {},
   "outputs": [
    {
     "ename": "AttributeError",
     "evalue": "'numpy.ndarray' object has no attribute 'argwhere'",
     "output_type": "error",
     "traceback": [
      "\u001b[0;31m---------------------------------------------------------------------------\u001b[0m",
      "\u001b[0;31mAttributeError\u001b[0m                            Traceback (most recent call last)",
      "\u001b[0;32m<ipython-input-288-cc1d314e9a71>\u001b[0m in \u001b[0;36m<module>\u001b[0;34m\u001b[0m\n\u001b[0;32m----> 1\u001b[0;31m \u001b[0;34m(\u001b[0m\u001b[0mmodel\u001b[0m\u001b[0;34m.\u001b[0m\u001b[0mlabels_\u001b[0m \u001b[0;34m==\u001b[0m \u001b[0;36m3\u001b[0m\u001b[0;34m)\u001b[0m\u001b[0;34m.\u001b[0m\u001b[0margwhere\u001b[0m\u001b[0;34m(\u001b[0m\u001b[0;32mTrue\u001b[0m\u001b[0;34m)\u001b[0m\u001b[0;34m\u001b[0m\u001b[0;34m\u001b[0m\u001b[0m\n\u001b[0m",
      "\u001b[0;31mAttributeError\u001b[0m: 'numpy.ndarray' object has no attribute 'argwhere'"
     ]
    }
   ],
   "source": [
    "(model.labels_ == 3).argwhere(True)"
   ]
  },
  {
   "cell_type": "code",
   "execution_count": 305,
   "metadata": {},
   "outputs": [
    {
     "data": {
      "text/plain": [
       "array([[    1],\n",
       "       [    3],\n",
       "       [    4],\n",
       "       ...,\n",
       "       [44316],\n",
       "       [44325],\n",
       "       [44329]])"
      ]
     },
     "execution_count": 305,
     "metadata": {},
     "output_type": "execute_result"
    }
   ],
   "source": [
    "np.argwhere((model.labels_ == 1))"
   ]
  },
  {
   "cell_type": "code",
   "execution_count": null,
   "metadata": {},
   "outputs": [],
   "source": []
  },
  {
   "cell_type": "code",
   "execution_count": null,
   "metadata": {},
   "outputs": [],
   "source": []
  },
  {
   "cell_type": "code",
   "execution_count": 311,
   "metadata": {},
   "outputs": [
    {
     "data": {
      "text/plain": [
       "'Redness and swelling at injection site - 3x2 inch area'"
      ]
     },
     "execution_count": 311,
     "metadata": {},
     "output_type": "execute_result"
    }
   ],
   "source": [
    "rawdata.loc[44329].SYMPTOM_TEXT"
   ]
  },
  {
   "cell_type": "code",
   "execution_count": null,
   "metadata": {},
   "outputs": [],
   "source": []
  },
  {
   "cell_type": "code",
   "execution_count": null,
   "metadata": {},
   "outputs": [],
   "source": []
  },
  {
   "cell_type": "code",
   "execution_count": 275,
   "metadata": {},
   "outputs": [
    {
     "ename": "KeyboardInterrupt",
     "evalue": "",
     "output_type": "error",
     "traceback": [
      "\u001b[0;31m---------------------------------------------------------------------------\u001b[0m",
      "\u001b[0;31mKeyboardInterrupt\u001b[0m                         Traceback (most recent call last)",
      "\u001b[0;32m<ipython-input-275-fcc7ef8cd9c1>\u001b[0m in \u001b[0;36m<module>\u001b[0;34m\u001b[0m\n\u001b[0;32m----> 1\u001b[0;31m \u001b[0mtfidf\u001b[0m\u001b[0;34m.\u001b[0m\u001b[0mmean\u001b[0m\u001b[0;34m(\u001b[0m\u001b[0maxis\u001b[0m\u001b[0;34m=\u001b[0m\u001b[0;36m0\u001b[0m\u001b[0;34m)\u001b[0m\u001b[0;34m\u001b[0m\u001b[0;34m\u001b[0m\u001b[0m\n\u001b[0m",
      "\u001b[0;32m/Library/Frameworks/Python.framework/Versions/3.8/lib/python3.8/site-packages/pandas/core/generic.py\u001b[0m in \u001b[0;36mstat_func\u001b[0;34m(self, axis, skipna, level, numeric_only, **kwargs)\u001b[0m\n\u001b[1;32m  11615\u001b[0m         \u001b[0;32mif\u001b[0m \u001b[0mlevel\u001b[0m \u001b[0;32mis\u001b[0m \u001b[0;32mnot\u001b[0m \u001b[0;32mNone\u001b[0m\u001b[0;34m:\u001b[0m\u001b[0;34m\u001b[0m\u001b[0;34m\u001b[0m\u001b[0m\n\u001b[1;32m  11616\u001b[0m             \u001b[0;32mreturn\u001b[0m \u001b[0mself\u001b[0m\u001b[0;34m.\u001b[0m\u001b[0m_agg_by_level\u001b[0m\u001b[0;34m(\u001b[0m\u001b[0mname\u001b[0m\u001b[0;34m,\u001b[0m \u001b[0maxis\u001b[0m\u001b[0;34m=\u001b[0m\u001b[0maxis\u001b[0m\u001b[0;34m,\u001b[0m \u001b[0mlevel\u001b[0m\u001b[0;34m=\u001b[0m\u001b[0mlevel\u001b[0m\u001b[0;34m,\u001b[0m \u001b[0mskipna\u001b[0m\u001b[0;34m=\u001b[0m\u001b[0mskipna\u001b[0m\u001b[0;34m)\u001b[0m\u001b[0;34m\u001b[0m\u001b[0;34m\u001b[0m\u001b[0m\n\u001b[0;32m> 11617\u001b[0;31m         return self._reduce(\n\u001b[0m\u001b[1;32m  11618\u001b[0m             \u001b[0mf\u001b[0m\u001b[0;34m,\u001b[0m \u001b[0mname\u001b[0m\u001b[0;34m,\u001b[0m \u001b[0maxis\u001b[0m\u001b[0;34m=\u001b[0m\u001b[0maxis\u001b[0m\u001b[0;34m,\u001b[0m \u001b[0mskipna\u001b[0m\u001b[0;34m=\u001b[0m\u001b[0mskipna\u001b[0m\u001b[0;34m,\u001b[0m \u001b[0mnumeric_only\u001b[0m\u001b[0;34m=\u001b[0m\u001b[0mnumeric_only\u001b[0m\u001b[0;34m\u001b[0m\u001b[0;34m\u001b[0m\u001b[0m\n\u001b[1;32m  11619\u001b[0m         )\n",
      "\u001b[0;32m/Library/Frameworks/Python.framework/Versions/3.8/lib/python3.8/site-packages/pandas/core/frame.py\u001b[0m in \u001b[0;36m_reduce\u001b[0;34m(self, op, name, axis, skipna, numeric_only, filter_type, **kwds)\u001b[0m\n\u001b[1;32m   7922\u001b[0m             \u001b[0;32mtry\u001b[0m\u001b[0;34m:\u001b[0m\u001b[0;34m\u001b[0m\u001b[0;34m\u001b[0m\u001b[0m\n\u001b[1;32m   7923\u001b[0m                 \u001b[0mvalues\u001b[0m \u001b[0;34m=\u001b[0m \u001b[0mself\u001b[0m\u001b[0;34m.\u001b[0m\u001b[0mvalues\u001b[0m\u001b[0;34m\u001b[0m\u001b[0;34m\u001b[0m\u001b[0m\n\u001b[0;32m-> 7924\u001b[0;31m                 \u001b[0mresult\u001b[0m \u001b[0;34m=\u001b[0m \u001b[0mf\u001b[0m\u001b[0;34m(\u001b[0m\u001b[0mvalues\u001b[0m\u001b[0;34m)\u001b[0m\u001b[0;34m\u001b[0m\u001b[0;34m\u001b[0m\u001b[0m\n\u001b[0m\u001b[1;32m   7925\u001b[0m \u001b[0;34m\u001b[0m\u001b[0m\n\u001b[1;32m   7926\u001b[0m                 \u001b[0;32mif\u001b[0m \u001b[0mfilter_type\u001b[0m \u001b[0;34m==\u001b[0m \u001b[0;34m\"bool\"\u001b[0m \u001b[0;32mand\u001b[0m \u001b[0mis_object_dtype\u001b[0m\u001b[0;34m(\u001b[0m\u001b[0mvalues\u001b[0m\u001b[0;34m)\u001b[0m \u001b[0;32mand\u001b[0m \u001b[0maxis\u001b[0m \u001b[0;32mis\u001b[0m \u001b[0;32mNone\u001b[0m\u001b[0;34m:\u001b[0m\u001b[0;34m\u001b[0m\u001b[0;34m\u001b[0m\u001b[0m\n",
      "\u001b[0;32m/Library/Frameworks/Python.framework/Versions/3.8/lib/python3.8/site-packages/pandas/core/frame.py\u001b[0m in \u001b[0;36mf\u001b[0;34m(x)\u001b[0m\n\u001b[1;32m   7906\u001b[0m \u001b[0;34m\u001b[0m\u001b[0m\n\u001b[1;32m   7907\u001b[0m         \u001b[0;32mdef\u001b[0m \u001b[0mf\u001b[0m\u001b[0;34m(\u001b[0m\u001b[0mx\u001b[0m\u001b[0;34m)\u001b[0m\u001b[0;34m:\u001b[0m\u001b[0;34m\u001b[0m\u001b[0;34m\u001b[0m\u001b[0m\n\u001b[0;32m-> 7908\u001b[0;31m             \u001b[0;32mreturn\u001b[0m \u001b[0mop\u001b[0m\u001b[0;34m(\u001b[0m\u001b[0mx\u001b[0m\u001b[0;34m,\u001b[0m \u001b[0maxis\u001b[0m\u001b[0;34m=\u001b[0m\u001b[0maxis\u001b[0m\u001b[0;34m,\u001b[0m \u001b[0mskipna\u001b[0m\u001b[0;34m=\u001b[0m\u001b[0mskipna\u001b[0m\u001b[0;34m,\u001b[0m \u001b[0;34m**\u001b[0m\u001b[0mkwds\u001b[0m\u001b[0;34m)\u001b[0m\u001b[0;34m\u001b[0m\u001b[0;34m\u001b[0m\u001b[0m\n\u001b[0m\u001b[1;32m   7909\u001b[0m \u001b[0;34m\u001b[0m\u001b[0m\n\u001b[1;32m   7910\u001b[0m         \u001b[0;31m# exclude timedelta/datetime unless we are uniform types\u001b[0m\u001b[0;34m\u001b[0m\u001b[0;34m\u001b[0m\u001b[0;34m\u001b[0m\u001b[0m\n",
      "\u001b[0;32m/Library/Frameworks/Python.framework/Versions/3.8/lib/python3.8/site-packages/pandas/core/nanops.py\u001b[0m in \u001b[0;36m_f\u001b[0;34m(*args, **kwargs)\u001b[0m\n\u001b[1;32m     68\u001b[0m             \u001b[0;32mtry\u001b[0m\u001b[0;34m:\u001b[0m\u001b[0;34m\u001b[0m\u001b[0;34m\u001b[0m\u001b[0m\n\u001b[1;32m     69\u001b[0m                 \u001b[0;32mwith\u001b[0m \u001b[0mnp\u001b[0m\u001b[0;34m.\u001b[0m\u001b[0merrstate\u001b[0m\u001b[0;34m(\u001b[0m\u001b[0minvalid\u001b[0m\u001b[0;34m=\u001b[0m\u001b[0;34m\"ignore\"\u001b[0m\u001b[0;34m)\u001b[0m\u001b[0;34m:\u001b[0m\u001b[0;34m\u001b[0m\u001b[0;34m\u001b[0m\u001b[0m\n\u001b[0;32m---> 70\u001b[0;31m                     \u001b[0;32mreturn\u001b[0m \u001b[0mf\u001b[0m\u001b[0;34m(\u001b[0m\u001b[0;34m*\u001b[0m\u001b[0margs\u001b[0m\u001b[0;34m,\u001b[0m \u001b[0;34m**\u001b[0m\u001b[0mkwargs\u001b[0m\u001b[0;34m)\u001b[0m\u001b[0;34m\u001b[0m\u001b[0;34m\u001b[0m\u001b[0m\n\u001b[0m\u001b[1;32m     71\u001b[0m             \u001b[0;32mexcept\u001b[0m \u001b[0mValueError\u001b[0m \u001b[0;32mas\u001b[0m \u001b[0me\u001b[0m\u001b[0;34m:\u001b[0m\u001b[0;34m\u001b[0m\u001b[0;34m\u001b[0m\u001b[0m\n\u001b[1;32m     72\u001b[0m                 \u001b[0;31m# we want to transform an object array\u001b[0m\u001b[0;34m\u001b[0m\u001b[0;34m\u001b[0m\u001b[0;34m\u001b[0m\u001b[0m\n",
      "\u001b[0;32m/Library/Frameworks/Python.framework/Versions/3.8/lib/python3.8/site-packages/pandas/core/nanops.py\u001b[0m in \u001b[0;36mf\u001b[0;34m(values, axis, skipna, **kwds)\u001b[0m\n\u001b[1;32m    118\u001b[0m                         \u001b[0mresult\u001b[0m \u001b[0;34m=\u001b[0m \u001b[0malt\u001b[0m\u001b[0;34m(\u001b[0m\u001b[0mvalues\u001b[0m\u001b[0;34m,\u001b[0m \u001b[0maxis\u001b[0m\u001b[0;34m=\u001b[0m\u001b[0maxis\u001b[0m\u001b[0;34m,\u001b[0m \u001b[0mskipna\u001b[0m\u001b[0;34m=\u001b[0m\u001b[0mskipna\u001b[0m\u001b[0;34m,\u001b[0m \u001b[0;34m**\u001b[0m\u001b[0mkwds\u001b[0m\u001b[0;34m)\u001b[0m\u001b[0;34m\u001b[0m\u001b[0;34m\u001b[0m\u001b[0m\n\u001b[1;32m    119\u001b[0m                 \u001b[0;32melse\u001b[0m\u001b[0;34m:\u001b[0m\u001b[0;34m\u001b[0m\u001b[0;34m\u001b[0m\u001b[0m\n\u001b[0;32m--> 120\u001b[0;31m                     \u001b[0mresult\u001b[0m \u001b[0;34m=\u001b[0m \u001b[0malt\u001b[0m\u001b[0;34m(\u001b[0m\u001b[0mvalues\u001b[0m\u001b[0;34m,\u001b[0m \u001b[0maxis\u001b[0m\u001b[0;34m=\u001b[0m\u001b[0maxis\u001b[0m\u001b[0;34m,\u001b[0m \u001b[0mskipna\u001b[0m\u001b[0;34m=\u001b[0m\u001b[0mskipna\u001b[0m\u001b[0;34m,\u001b[0m \u001b[0;34m**\u001b[0m\u001b[0mkwds\u001b[0m\u001b[0;34m)\u001b[0m\u001b[0;34m\u001b[0m\u001b[0;34m\u001b[0m\u001b[0m\n\u001b[0m\u001b[1;32m    121\u001b[0m             \u001b[0;32mexcept\u001b[0m \u001b[0mException\u001b[0m\u001b[0;34m:\u001b[0m\u001b[0;34m\u001b[0m\u001b[0;34m\u001b[0m\u001b[0m\n\u001b[1;32m    122\u001b[0m                 \u001b[0;32mtry\u001b[0m\u001b[0;34m:\u001b[0m\u001b[0;34m\u001b[0m\u001b[0;34m\u001b[0m\u001b[0m\n",
      "\u001b[0;32m/Library/Frameworks/Python.framework/Versions/3.8/lib/python3.8/site-packages/pandas/core/nanops.py\u001b[0m in \u001b[0;36mnanmean\u001b[0;34m(values, axis, skipna, mask)\u001b[0m\n\u001b[1;32m    533\u001b[0m     \u001b[0;36m1.5\u001b[0m\u001b[0;34m\u001b[0m\u001b[0;34m\u001b[0m\u001b[0m\n\u001b[1;32m    534\u001b[0m     \"\"\"\n\u001b[0;32m--> 535\u001b[0;31m     values, mask, dtype, dtype_max, _ = _get_values(\n\u001b[0m\u001b[1;32m    536\u001b[0m         \u001b[0mvalues\u001b[0m\u001b[0;34m,\u001b[0m \u001b[0mskipna\u001b[0m\u001b[0;34m,\u001b[0m \u001b[0mfill_value\u001b[0m\u001b[0;34m=\u001b[0m\u001b[0;36m0\u001b[0m\u001b[0;34m,\u001b[0m \u001b[0mmask\u001b[0m\u001b[0;34m=\u001b[0m\u001b[0mmask\u001b[0m\u001b[0;34m\u001b[0m\u001b[0;34m\u001b[0m\u001b[0m\n\u001b[1;32m    537\u001b[0m     )\n",
      "\u001b[0;32m/Library/Frameworks/Python.framework/Versions/3.8/lib/python3.8/site-packages/pandas/core/nanops.py\u001b[0m in \u001b[0;36m_get_values\u001b[0;34m(values, skipna, fill_value, fill_value_typ, mask)\u001b[0m\n\u001b[1;32m    307\u001b[0m \u001b[0;34m\u001b[0m\u001b[0m\n\u001b[1;32m    308\u001b[0m     \u001b[0;32mif\u001b[0m \u001b[0mskipna\u001b[0m \u001b[0;32mand\u001b[0m \u001b[0mcopy\u001b[0m\u001b[0;34m:\u001b[0m\u001b[0;34m\u001b[0m\u001b[0;34m\u001b[0m\u001b[0m\n\u001b[0;32m--> 309\u001b[0;31m         \u001b[0mvalues\u001b[0m \u001b[0;34m=\u001b[0m \u001b[0mvalues\u001b[0m\u001b[0;34m.\u001b[0m\u001b[0mcopy\u001b[0m\u001b[0;34m(\u001b[0m\u001b[0;34m)\u001b[0m\u001b[0;34m\u001b[0m\u001b[0;34m\u001b[0m\u001b[0m\n\u001b[0m\u001b[1;32m    310\u001b[0m         \u001b[0;32mif\u001b[0m \u001b[0mdtype_ok\u001b[0m\u001b[0;34m:\u001b[0m\u001b[0;34m\u001b[0m\u001b[0;34m\u001b[0m\u001b[0m\n\u001b[1;32m    311\u001b[0m             \u001b[0mnp\u001b[0m\u001b[0;34m.\u001b[0m\u001b[0mputmask\u001b[0m\u001b[0;34m(\u001b[0m\u001b[0mvalues\u001b[0m\u001b[0;34m,\u001b[0m \u001b[0mmask\u001b[0m\u001b[0;34m,\u001b[0m \u001b[0mfill_value\u001b[0m\u001b[0;34m)\u001b[0m\u001b[0;34m\u001b[0m\u001b[0;34m\u001b[0m\u001b[0m\n",
      "\u001b[0;31mKeyboardInterrupt\u001b[0m: "
     ]
    }
   ],
   "source": [
    "tfidf.mean(axis=0)"
   ]
  },
  {
   "cell_type": "code",
   "execution_count": null,
   "metadata": {},
   "outputs": [],
   "source": []
  },
  {
   "cell_type": "code",
   "execution_count": null,
   "metadata": {},
   "outputs": [],
   "source": []
  },
  {
   "cell_type": "code",
   "execution_count": null,
   "metadata": {},
   "outputs": [],
   "source": []
  },
  {
   "cell_type": "code",
   "execution_count": 218,
   "metadata": {},
   "outputs": [
    {
     "data": {
      "text/plain": [
       "(30822,)"
      ]
     },
     "execution_count": 218,
     "metadata": {},
     "output_type": "execute_result"
    }
   ],
   "source": [
    "tfidf_mean.shape"
   ]
  },
  {
   "cell_type": "code",
   "execution_count": null,
   "metadata": {},
   "outputs": [],
   "source": []
  },
  {
   "cell_type": "code",
   "execution_count": 220,
   "metadata": {},
   "outputs": [
    {
     "data": {
      "text/plain": [
       "0.252844294441899"
      ]
     },
     "execution_count": 220,
     "metadata": {},
     "output_type": "execute_result"
    }
   ],
   "source": [
    "tfidf_mean.max()"
   ]
  },
  {
   "cell_type": "code",
   "execution_count": 221,
   "metadata": {},
   "outputs": [
    {
     "data": {
      "text/plain": [
       "24680"
      ]
     },
     "execution_count": 221,
     "metadata": {},
     "output_type": "execute_result"
    }
   ],
   "source": [
    "tfidf_mean.argmax()"
   ]
  },
  {
   "cell_type": "code",
   "execution_count": 222,
   "metadata": {},
   "outputs": [
    {
     "data": {
      "text/plain": [
       "array([24680, 20332, 28000, 20084, 22913, 23349, 10801, 23346, 12905,\n",
       "        9118])"
      ]
     },
     "execution_count": 222,
     "metadata": {},
     "output_type": "execute_result"
    }
   ],
   "source": [
    "tfidf_mean.argsort()[-10:][::-1]"
   ]
  },
  {
   "cell_type": "code",
   "execution_count": null,
   "metadata": {},
   "outputs": [],
   "source": []
  },
  {
   "cell_type": "code",
   "execution_count": 131,
   "metadata": {},
   "outputs": [],
   "source": []
  },
  {
   "cell_type": "code",
   "execution_count": 231,
   "metadata": {},
   "outputs": [
    {
     "data": {
      "text/plain": [
       "'case'"
      ]
     },
     "execution_count": 231,
     "metadata": {},
     "output_type": "execute_result"
    }
   ],
   "source": [
    "ind_to_word[9118]"
   ]
  },
  {
   "cell_type": "code",
   "execution_count": 211,
   "metadata": {},
   "outputs": [],
   "source": [
    "c = cluster[:, 3635]"
   ]
  },
  {
   "cell_type": "code",
   "execution_count": 212,
   "metadata": {},
   "outputs": [
    {
     "data": {
      "text/plain": [
       "0.0"
      ]
     },
     "execution_count": 212,
     "metadata": {},
     "output_type": "execute_result"
    }
   ],
   "source": [
    "c.max()"
   ]
  },
  {
   "cell_type": "code",
   "execution_count": 213,
   "metadata": {},
   "outputs": [
    {
     "data": {
      "text/plain": [
       "0.0"
      ]
     },
     "execution_count": 213,
     "metadata": {},
     "output_type": "execute_result"
    }
   ],
   "source": [
    "c.min()"
   ]
  },
  {
   "cell_type": "code",
   "execution_count": 210,
   "metadata": {},
   "outputs": [
    {
     "data": {
      "text/plain": [
       "(4406, 30822)"
      ]
     },
     "execution_count": 210,
     "metadata": {},
     "output_type": "execute_result"
    }
   ],
   "source": [
    "cluster.shape"
   ]
  },
  {
   "cell_type": "code",
   "execution_count": 214,
   "metadata": {},
   "outputs": [
    {
     "data": {
      "text/plain": [
       "array([[0.        , 0.        , 0.        , ..., 0.        , 0.        ,\n",
       "        0.        ],\n",
       "       [0.        , 0.        , 0.        , ..., 0.        , 0.        ,\n",
       "        0.        ],\n",
       "       [0.        , 0.16143788, 0.        , ..., 0.        , 0.        ,\n",
       "        0.        ],\n",
       "       ...,\n",
       "       [0.        , 0.        , 0.        , ..., 0.        , 0.        ,\n",
       "        0.        ],\n",
       "       [0.        , 0.        , 0.        , ..., 0.        , 0.        ,\n",
       "        0.        ],\n",
       "       [0.        , 0.        , 0.        , ..., 0.        , 0.        ,\n",
       "        0.        ]])"
      ]
     },
     "execution_count": 214,
     "metadata": {},
     "output_type": "execute_result"
    }
   ],
   "source": [
    "cluster"
   ]
  },
  {
   "cell_type": "code",
   "execution_count": null,
   "metadata": {},
   "outputs": [],
   "source": []
  },
  {
   "cell_type": "code",
   "execution_count": null,
   "metadata": {},
   "outputs": [],
   "source": []
  },
  {
   "cell_type": "code",
   "execution_count": 173,
   "metadata": {},
   "outputs": [
    {
     "data": {
      "text/plain": [
       "<1x30822 sparse matrix of type '<class 'numpy.float64'>'\n",
       "\twith 163 stored elements in Compressed Sparse Row format>"
      ]
     },
     "execution_count": 173,
     "metadata": {},
     "output_type": "execute_result"
    }
   ],
   "source": [
    "cluster[983]"
   ]
  },
  {
   "cell_type": "code",
   "execution_count": null,
   "metadata": {},
   "outputs": [],
   "source": []
  },
  {
   "cell_type": "code",
   "execution_count": null,
   "metadata": {},
   "outputs": [],
   "source": []
  },
  {
   "cell_type": "code",
   "execution_count": null,
   "metadata": {},
   "outputs": [],
   "source": []
  },
  {
   "cell_type": "code",
   "execution_count": null,
   "metadata": {},
   "outputs": [],
   "source": []
  },
  {
   "cell_type": "code",
   "execution_count": null,
   "metadata": {},
   "outputs": [],
   "source": []
  },
  {
   "cell_type": "code",
   "execution_count": 139,
   "metadata": {},
   "outputs": [
    {
     "data": {
      "text/plain": [
       "1"
      ]
     },
     "execution_count": 139,
     "metadata": {},
     "output_type": "execute_result"
    }
   ],
   "source": [
    "sum([1 for text in rawdata['SYMPTOM_TEXT'].fillna('') if '2019434226' in text])"
   ]
  },
  {
   "cell_type": "code",
   "execution_count": null,
   "metadata": {},
   "outputs": [],
   "source": []
  },
  {
   "cell_type": "code",
   "execution_count": null,
   "metadata": {},
   "outputs": [],
   "source": []
  },
  {
   "cell_type": "code",
   "execution_count": null,
   "metadata": {},
   "outputs": [],
   "source": []
  },
  {
   "cell_type": "code",
   "execution_count": 107,
   "metadata": {},
   "outputs": [
    {
     "data": {
      "text/plain": [
       "7089"
      ]
     },
     "execution_count": 107,
     "metadata": {},
     "output_type": "execute_result"
    }
   ],
   "source": [
    "sum((model.labels_ == 8))"
   ]
  },
  {
   "cell_type": "code",
   "execution_count": null,
   "metadata": {},
   "outputs": [],
   "source": []
  },
  {
   "cell_type": "code",
   "execution_count": null,
   "metadata": {},
   "outputs": [],
   "source": []
  },
  {
   "cell_type": "code",
   "execution_count": 46,
   "metadata": {},
   "outputs": [
    {
     "data": {
      "text/html": [
       "<div>\n",
       "<style scoped>\n",
       "    .dataframe tbody tr th:only-of-type {\n",
       "        vertical-align: middle;\n",
       "    }\n",
       "\n",
       "    .dataframe tbody tr th {\n",
       "        vertical-align: top;\n",
       "    }\n",
       "\n",
       "    .dataframe thead th {\n",
       "        text-align: right;\n",
       "    }\n",
       "</style>\n",
       "<table border=\"1\" class=\"dataframe\">\n",
       "  <thead>\n",
       "    <tr style=\"text-align: right;\">\n",
       "      <th></th>\n",
       "      <th>NUM_DAYS</th>\n",
       "      <th>SYMPTOM_TEXT</th>\n",
       "      <th>CUR_ILL</th>\n",
       "      <th>HISTORY</th>\n",
       "      <th>PRIOR_VAX</th>\n",
       "      <th>BIRTH_DEFECT</th>\n",
       "      <th>SERIOUS</th>\n",
       "    </tr>\n",
       "    <tr>\n",
       "      <th>VAERS_ID</th>\n",
       "      <th></th>\n",
       "      <th></th>\n",
       "      <th></th>\n",
       "      <th></th>\n",
       "      <th></th>\n",
       "      <th></th>\n",
       "      <th></th>\n",
       "    </tr>\n",
       "  </thead>\n",
       "  <tbody>\n",
       "    <tr>\n",
       "      <th>794190</th>\n",
       "      <td>NaN</td>\n",
       "      <td>Information has been received on 19-DEC-2018 r...</td>\n",
       "      <td>NaN</td>\n",
       "      <td>NaN</td>\n",
       "      <td>NaN</td>\n",
       "      <td>NaN</td>\n",
       "      <td>Y</td>\n",
       "    </tr>\n",
       "    <tr>\n",
       "      <th>794191</th>\n",
       "      <td>NaN</td>\n",
       "      <td>Information has been received on 19-DEC-2018 r...</td>\n",
       "      <td>NaN</td>\n",
       "      <td>NaN</td>\n",
       "      <td>NaN</td>\n",
       "      <td>NaN</td>\n",
       "      <td>Y</td>\n",
       "    </tr>\n",
       "    <tr>\n",
       "      <th>794195</th>\n",
       "      <td>NaN</td>\n",
       "      <td>This is a literature case, initially received ...</td>\n",
       "      <td>NaN</td>\n",
       "      <td>Medical History/Concurrent Conditions: Asthma</td>\n",
       "      <td>NaN</td>\n",
       "      <td>NaN</td>\n",
       "      <td>Y</td>\n",
       "    </tr>\n",
       "    <tr>\n",
       "      <th>794197</th>\n",
       "      <td>NaN</td>\n",
       "      <td>As soon as I got the shots and was going to pu...</td>\n",
       "      <td>NaN</td>\n",
       "      <td>Back and neck pain  Depression High blood pres...</td>\n",
       "      <td>NaN</td>\n",
       "      <td>NaN</td>\n",
       "      <td>Y</td>\n",
       "    </tr>\n",
       "    <tr>\n",
       "      <th>794210</th>\n",
       "      <td>NaN</td>\n",
       "      <td>Tdap shot, tar stool, cramps in stomach, letha...</td>\n",
       "      <td>NaN</td>\n",
       "      <td>NaN</td>\n",
       "      <td>NaN</td>\n",
       "      <td>NaN</td>\n",
       "      <td>Y</td>\n",
       "    </tr>\n",
       "    <tr>\n",
       "      <th>794217</th>\n",
       "      <td>NaN</td>\n",
       "      <td>Vomiting started the day after the vaccine. Pa...</td>\n",
       "      <td>none</td>\n",
       "      <td>none</td>\n",
       "      <td>NaN</td>\n",
       "      <td>NaN</td>\n",
       "      <td>Y</td>\n",
       "    </tr>\n",
       "    <tr>\n",
       "      <th>794268</th>\n",
       "      <td>NaN</td>\n",
       "      <td>Simple Febrile Seizure at home, lasting no mor...</td>\n",
       "      <td>None</td>\n",
       "      <td>Macrocrania- monitoring</td>\n",
       "      <td>NaN</td>\n",
       "      <td>NaN</td>\n",
       "      <td>Y</td>\n",
       "    </tr>\n",
       "    <tr>\n",
       "      <th>794271</th>\n",
       "      <td>NaN</td>\n",
       "      <td>Pt is complaining of left upper arm pain/shoul...</td>\n",
       "      <td>none listed</td>\n",
       "      <td>thyroid</td>\n",
       "      <td>NaN</td>\n",
       "      <td>NaN</td>\n",
       "      <td>Y</td>\n",
       "    </tr>\n",
       "    <tr>\n",
       "      <th>794291</th>\n",
       "      <td>NaN</td>\n",
       "      <td>Information has been received from a lawyer re...</td>\n",
       "      <td>NaN</td>\n",
       "      <td>NaN</td>\n",
       "      <td>NaN</td>\n",
       "      <td>NaN</td>\n",
       "      <td>Y</td>\n",
       "    </tr>\n",
       "    <tr>\n",
       "      <th>794330</th>\n",
       "      <td>NaN</td>\n",
       "      <td>Developed fever and diarrhea that evening. Mom...</td>\n",
       "      <td>None</td>\n",
       "      <td>None</td>\n",
       "      <td>NaN</td>\n",
       "      <td>NaN</td>\n",
       "      <td>Y</td>\n",
       "    </tr>\n",
       "    <tr>\n",
       "      <th>794340</th>\n",
       "      <td>NaN</td>\n",
       "      <td>Information has been received from a lawyer re...</td>\n",
       "      <td>Routine health maintenance</td>\n",
       "      <td>NaN</td>\n",
       "      <td>NaN</td>\n",
       "      <td>NaN</td>\n",
       "      <td>Y</td>\n",
       "    </tr>\n",
       "    <tr>\n",
       "      <th>794341</th>\n",
       "      <td>NaN</td>\n",
       "      <td>This initial spontaneous report was received f...</td>\n",
       "      <td>Routine health maintenance</td>\n",
       "      <td>NaN</td>\n",
       "      <td>NaN</td>\n",
       "      <td>NaN</td>\n",
       "      <td>Y</td>\n",
       "    </tr>\n",
       "    <tr>\n",
       "      <th>794349</th>\n",
       "      <td>NaN</td>\n",
       "      <td>After vaccination he had a fever of 103 for 4 ...</td>\n",
       "      <td>7 days prior acute life threatening event/ bri...</td>\n",
       "      <td>none</td>\n",
       "      <td>NaN</td>\n",
       "      <td>NaN</td>\n",
       "      <td>Y</td>\n",
       "    </tr>\n",
       "    <tr>\n",
       "      <th>794350</th>\n",
       "      <td>NaN</td>\n",
       "      <td>5-10 minute long seizure with cyanosis and pos...</td>\n",
       "      <td>none</td>\n",
       "      <td>plagiocephaly and torticollis</td>\n",
       "      <td>NaN</td>\n",
       "      <td>NaN</td>\n",
       "      <td>Y</td>\n",
       "    </tr>\n",
       "    <tr>\n",
       "      <th>794354</th>\n",
       "      <td>NaN</td>\n",
       "      <td>Pain and inflammation in the left arm.</td>\n",
       "      <td>none</td>\n",
       "      <td>NaN</td>\n",
       "      <td>NaN</td>\n",
       "      <td>NaN</td>\n",
       "      <td>Y</td>\n",
       "    </tr>\n",
       "    <tr>\n",
       "      <th>794387</th>\n",
       "      <td>NaN</td>\n",
       "      <td>Per note from ER physician: 10/20/2018. HPI: 5...</td>\n",
       "      <td>Degenerative cervical spinal stenosis; Strabis...</td>\n",
       "      <td>Degenerative cervical spinal stenosis; Strabis...</td>\n",
       "      <td>NaN</td>\n",
       "      <td>NaN</td>\n",
       "      <td>Y</td>\n",
       "    </tr>\n",
       "  </tbody>\n",
       "</table>\n",
       "</div>"
      ],
      "text/plain": [
       "          NUM_DAYS                                       SYMPTOM_TEXT  \\\n",
       "VAERS_ID                                                                \n",
       "794190         NaN  Information has been received on 19-DEC-2018 r...   \n",
       "794191         NaN  Information has been received on 19-DEC-2018 r...   \n",
       "794195         NaN  This is a literature case, initially received ...   \n",
       "794197         NaN  As soon as I got the shots and was going to pu...   \n",
       "794210         NaN  Tdap shot, tar stool, cramps in stomach, letha...   \n",
       "794217         NaN  Vomiting started the day after the vaccine. Pa...   \n",
       "794268         NaN  Simple Febrile Seizure at home, lasting no mor...   \n",
       "794271         NaN  Pt is complaining of left upper arm pain/shoul...   \n",
       "794291         NaN  Information has been received from a lawyer re...   \n",
       "794330         NaN  Developed fever and diarrhea that evening. Mom...   \n",
       "794340         NaN  Information has been received from a lawyer re...   \n",
       "794341         NaN  This initial spontaneous report was received f...   \n",
       "794349         NaN  After vaccination he had a fever of 103 for 4 ...   \n",
       "794350         NaN  5-10 minute long seizure with cyanosis and pos...   \n",
       "794354         NaN             Pain and inflammation in the left arm.   \n",
       "794387         NaN  Per note from ER physician: 10/20/2018. HPI: 5...   \n",
       "\n",
       "                                                    CUR_ILL  \\\n",
       "VAERS_ID                                                      \n",
       "794190                                                  NaN   \n",
       "794191                                                  NaN   \n",
       "794195                                                  NaN   \n",
       "794197                                                  NaN   \n",
       "794210                                                  NaN   \n",
       "794217                                                 none   \n",
       "794268                                                 None   \n",
       "794271                                          none listed   \n",
       "794291                                                  NaN   \n",
       "794330                                                 None   \n",
       "794340                           Routine health maintenance   \n",
       "794341                           Routine health maintenance   \n",
       "794349    7 days prior acute life threatening event/ bri...   \n",
       "794350                                                 none   \n",
       "794354                                                 none   \n",
       "794387    Degenerative cervical spinal stenosis; Strabis...   \n",
       "\n",
       "                                                    HISTORY PRIOR_VAX  \\\n",
       "VAERS_ID                                                                \n",
       "794190                                                  NaN       NaN   \n",
       "794191                                                  NaN       NaN   \n",
       "794195        Medical History/Concurrent Conditions: Asthma       NaN   \n",
       "794197    Back and neck pain  Depression High blood pres...       NaN   \n",
       "794210                                                  NaN       NaN   \n",
       "794217                                                 none       NaN   \n",
       "794268                              Macrocrania- monitoring       NaN   \n",
       "794271                                              thyroid       NaN   \n",
       "794291                                                  NaN       NaN   \n",
       "794330                                                 None       NaN   \n",
       "794340                                                  NaN       NaN   \n",
       "794341                                                  NaN       NaN   \n",
       "794349                                                 none       NaN   \n",
       "794350                        plagiocephaly and torticollis       NaN   \n",
       "794354                                                  NaN       NaN   \n",
       "794387    Degenerative cervical spinal stenosis; Strabis...       NaN   \n",
       "\n",
       "         BIRTH_DEFECT SERIOUS  \n",
       "VAERS_ID                       \n",
       "794190            NaN       Y  \n",
       "794191            NaN       Y  \n",
       "794195            NaN       Y  \n",
       "794197            NaN       Y  \n",
       "794210            NaN       Y  \n",
       "794217            NaN       Y  \n",
       "794268            NaN       Y  \n",
       "794271            NaN       Y  \n",
       "794291            NaN       Y  \n",
       "794330            NaN       Y  \n",
       "794340            NaN       Y  \n",
       "794341            NaN       Y  \n",
       "794349            NaN       Y  \n",
       "794350            NaN       Y  \n",
       "794354            NaN       Y  \n",
       "794387            NaN       Y  "
      ]
     },
     "execution_count": 46,
     "metadata": {},
     "output_type": "execute_result"
    }
   ],
   "source": [
    "data.loc[data.SERIOUS.eq('Y'), ['NUM_DAYS', 'SYMPTOM_TEXT', 'CUR_ILL', 'HISTORY', 'PRIOR_VAX', 'BIRTH_DEFECT', 'SERIOUS']].head(16)"
   ]
  },
  {
   "cell_type": "code",
   "execution_count": 20,
   "metadata": {},
   "outputs": [
    {
     "data": {
      "text/plain": [
       "0        N\n",
       "1        N\n",
       "2        N\n",
       "3        N\n",
       "4        N\n",
       "        ..\n",
       "44339    Y\n",
       "44340    N\n",
       "44341    N\n",
       "44342    N\n",
       "44343    N\n",
       "Length: 44344, dtype: object"
      ]
     },
     "execution_count": 20,
     "metadata": {},
     "output_type": "execute_result"
    }
   ],
   "source": [
    "serious_bool.map({True: 'Y', False: 'N'})"
   ]
  },
  {
   "cell_type": "code",
   "execution_count": null,
   "metadata": {},
   "outputs": [],
   "source": []
  }
 ],
 "metadata": {
  "kernelspec": {
   "display_name": "Python 3",
   "language": "python",
   "name": "python3"
  },
  "language_info": {
   "codemirror_mode": {
    "name": "ipython",
    "version": 3
   },
   "file_extension": ".py",
   "mimetype": "text/x-python",
   "name": "python",
   "nbconvert_exporter": "python",
   "pygments_lexer": "ipython3",
   "version": "3.7.6"
  }
 },
 "nbformat": 4,
 "nbformat_minor": 4
}
