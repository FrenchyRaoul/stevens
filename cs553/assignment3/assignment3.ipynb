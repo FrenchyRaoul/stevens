{
 "cells": [
  {
   "cell_type": "code",
   "execution_count": 1,
   "metadata": {},
   "outputs": [],
   "source": [
    "import pandas as pd\n",
    "import numpy as np\n",
    "from collections import Counter\n",
    "from functools import partial\n",
    "from math import log\n",
    "\n",
    "import nltk\n",
    "from nltk import word_tokenize, pos_tag, ne_chunk\n",
    "from nltk.stem.porter import PorterStemmer\n",
    "from nltk.corpus import stopwords as sw\n",
    "\n",
    "from sklearn.cluster import KMeans\n",
    "\n",
    "from sklearn.model_selection import train_test_split\n",
    "\n",
    "from typing import Tuple\n",
    " \n",
    "stop_words = set(sw.words('english')) \n",
    "# nltk.download()\n",
    "\n",
    "pd.set_option('display.max_columns', 200)"
   ]
  },
  {
   "cell_type": "code",
   "execution_count": 2,
   "metadata": {},
   "outputs": [],
   "source": [
    "punctuation = set(\"\"\",';][=-`?><\":}{+_~!@#$#%^&*()\\\\|}\"]'\"\"\")\n",
    "punctuation.add(\"''\")\n",
    "punctuation.add(\"``\")\n",
    "\n",
    "\n",
    "def tokenize(text, stem=True, remove_stopwords=True, remove_punctuation=True):\n",
    "    tokens = nltk.word_tokenize(text)\n",
    "    \n",
    "    if stem:\n",
    "        tokens = [PorterStemmer().stem(item) for item in tokens]\n",
    "        \n",
    "    if remove_stopwords:\n",
    "        tokens = [tok for tok in tokens if tok not in stop_words]\n",
    "        \n",
    "    # TAG HERE, before punctuation removal.\n",
    "        \n",
    "    if remove_punctuation:\n",
    "        tokens = [tok for tok in tokens if tok not in punctuation]\n",
    "        \n",
    "    return tokens"
   ]
  },
  {
   "cell_type": "code",
   "execution_count": null,
   "metadata": {},
   "outputs": [],
   "source": []
  },
  {
   "cell_type": "markdown",
   "metadata": {},
   "source": [
    "# Read Data and Preprocess"
   ]
  },
  {
   "cell_type": "code",
   "execution_count": 3,
   "metadata": {},
   "outputs": [],
   "source": [
    "filename = '2019VAERSData/2019VAERSDATA.csv'\n",
    "\n",
    "# rawdata = pd.read_csv(filename, header=[0], error_bad_lines=False, encoding=\"ISO-8859-1\")\n",
    "rawdata = pd.read_csv(filename, header=[0], error_bad_lines=False, encoding=\"latin-1\")\n",
    "\n",
    "scrub = ['\\x97', '\\x96', '\\x91', '\\x80', '\\xad']\n",
    "for byte in scrub:\n",
    "    rawdata['SYMPTOM_TEXT'] = rawdata['SYMPTOM_TEXT'].str.replace(byte, ' ')\n",
    "    \n",
    "rawdata['SYMPTOM_TEXT'] = rawdata['SYMPTOM_TEXT'].str.replace('ç', 'c')\n",
    "\n",
    "serious_bool = rawdata[['DIED', 'ER_VISIT', 'HOSPITAL', 'DISABLE']].eq('Y').any(axis=1)\n",
    "rawdata['SERIOUS'] = serious_bool.map({True: 'Y', False: 'N'})\n",
    "\n",
    "dropcols = ['DIED', 'ER_VISIT', 'HOSPITAL', 'DISABLE']\n",
    "data = rawdata.drop(columns=dropcols)\n",
    "data = data.set_index('VAERS_ID')"
   ]
  },
  {
   "cell_type": "code",
   "execution_count": 4,
   "metadata": {
    "scrolled": false
   },
   "outputs": [
    {
     "data": {
      "text/html": [
       "<div>\n",
       "<style scoped>\n",
       "    .dataframe tbody tr th:only-of-type {\n",
       "        vertical-align: middle;\n",
       "    }\n",
       "\n",
       "    .dataframe tbody tr th {\n",
       "        vertical-align: top;\n",
       "    }\n",
       "\n",
       "    .dataframe thead th {\n",
       "        text-align: right;\n",
       "    }\n",
       "</style>\n",
       "<table border=\"1\" class=\"dataframe\">\n",
       "  <thead>\n",
       "    <tr style=\"text-align: right;\">\n",
       "      <th></th>\n",
       "      <th>RECVDATE</th>\n",
       "      <th>STATE</th>\n",
       "      <th>AGE_YRS</th>\n",
       "      <th>CAGE_YR</th>\n",
       "      <th>CAGE_MO</th>\n",
       "      <th>SEX</th>\n",
       "      <th>RPT_DATE</th>\n",
       "      <th>SYMPTOM_TEXT</th>\n",
       "      <th>DATEDIED</th>\n",
       "      <th>L_THREAT</th>\n",
       "      <th>HOSPDAYS</th>\n",
       "      <th>X_STAY</th>\n",
       "      <th>RECOVD</th>\n",
       "      <th>VAX_DATE</th>\n",
       "      <th>ONSET_DATE</th>\n",
       "      <th>NUMDAYS</th>\n",
       "      <th>LAB_DATA</th>\n",
       "      <th>V_ADMINBY</th>\n",
       "      <th>V_FUNDBY</th>\n",
       "      <th>OTHER_MEDS</th>\n",
       "      <th>CUR_ILL</th>\n",
       "      <th>HISTORY</th>\n",
       "      <th>PRIOR_VAX</th>\n",
       "      <th>SPLTTYPE</th>\n",
       "      <th>FORM_VERS</th>\n",
       "      <th>TODAYS_DATE</th>\n",
       "      <th>BIRTH_DEFECT</th>\n",
       "      <th>OFC_VISIT</th>\n",
       "      <th>ER_ED_VISIT</th>\n",
       "      <th>ALLERGIES</th>\n",
       "      <th>SERIOUS</th>\n",
       "    </tr>\n",
       "    <tr>\n",
       "      <th>VAERS_ID</th>\n",
       "      <th></th>\n",
       "      <th></th>\n",
       "      <th></th>\n",
       "      <th></th>\n",
       "      <th></th>\n",
       "      <th></th>\n",
       "      <th></th>\n",
       "      <th></th>\n",
       "      <th></th>\n",
       "      <th></th>\n",
       "      <th></th>\n",
       "      <th></th>\n",
       "      <th></th>\n",
       "      <th></th>\n",
       "      <th></th>\n",
       "      <th></th>\n",
       "      <th></th>\n",
       "      <th></th>\n",
       "      <th></th>\n",
       "      <th></th>\n",
       "      <th></th>\n",
       "      <th></th>\n",
       "      <th></th>\n",
       "      <th></th>\n",
       "      <th></th>\n",
       "      <th></th>\n",
       "      <th></th>\n",
       "      <th></th>\n",
       "      <th></th>\n",
       "      <th></th>\n",
       "      <th></th>\n",
       "    </tr>\n",
       "  </thead>\n",
       "  <tbody>\n",
       "    <tr>\n",
       "      <th>794156</th>\n",
       "      <td>01/01/2019</td>\n",
       "      <td>NaN</td>\n",
       "      <td>69.0</td>\n",
       "      <td>69.0</td>\n",
       "      <td>NaN</td>\n",
       "      <td>F</td>\n",
       "      <td>NaN</td>\n",
       "      <td>Severe pain Lt. shoulder area, very localized ...</td>\n",
       "      <td>NaN</td>\n",
       "      <td>NaN</td>\n",
       "      <td>NaN</td>\n",
       "      <td>NaN</td>\n",
       "      <td>Y</td>\n",
       "      <td>10/29/2018</td>\n",
       "      <td>10/30/2018</td>\n",
       "      <td>1.0</td>\n",
       "      <td>NaN</td>\n",
       "      <td>PVT</td>\n",
       "      <td>NaN</td>\n",
       "      <td>NaN</td>\n",
       "      <td>none</td>\n",
       "      <td>none</td>\n",
       "      <td>NaN</td>\n",
       "      <td>NaN</td>\n",
       "      <td>2</td>\n",
       "      <td>01/01/2019</td>\n",
       "      <td>NaN</td>\n",
       "      <td>Y</td>\n",
       "      <td>NaN</td>\n",
       "      <td>tetracycline</td>\n",
       "      <td>N</td>\n",
       "    </tr>\n",
       "    <tr>\n",
       "      <th>794157</th>\n",
       "      <td>01/01/2019</td>\n",
       "      <td>IL</td>\n",
       "      <td>68.0</td>\n",
       "      <td>68.0</td>\n",
       "      <td>NaN</td>\n",
       "      <td>F</td>\n",
       "      <td>NaN</td>\n",
       "      <td>Much joint pain/aching, lack of energy, listle...</td>\n",
       "      <td>NaN</td>\n",
       "      <td>NaN</td>\n",
       "      <td>NaN</td>\n",
       "      <td>NaN</td>\n",
       "      <td>N</td>\n",
       "      <td>12/28/2018</td>\n",
       "      <td>12/29/2018</td>\n",
       "      <td>1.0</td>\n",
       "      <td>None</td>\n",
       "      <td>PHM</td>\n",
       "      <td>NaN</td>\n",
       "      <td>Levothyroxine, sertraline, vitamin B complex, ...</td>\n",
       "      <td>None</td>\n",
       "      <td>Hypothryoidism</td>\n",
       "      <td>Arm soreness at site of injection</td>\n",
       "      <td>NaN</td>\n",
       "      <td>2</td>\n",
       "      <td>01/01/2019</td>\n",
       "      <td>NaN</td>\n",
       "      <td>NaN</td>\n",
       "      <td>NaN</td>\n",
       "      <td>None</td>\n",
       "      <td>N</td>\n",
       "    </tr>\n",
       "    <tr>\n",
       "      <th>794158</th>\n",
       "      <td>01/01/2019</td>\n",
       "      <td>MA</td>\n",
       "      <td>62.0</td>\n",
       "      <td>62.0</td>\n",
       "      <td>NaN</td>\n",
       "      <td>F</td>\n",
       "      <td>NaN</td>\n",
       "      <td>Headache, Fever, Chills, Body Aches, Nausea la...</td>\n",
       "      <td>NaN</td>\n",
       "      <td>NaN</td>\n",
       "      <td>NaN</td>\n",
       "      <td>NaN</td>\n",
       "      <td>Y</td>\n",
       "      <td>12/30/2018</td>\n",
       "      <td>12/31/2018</td>\n",
       "      <td>1.0</td>\n",
       "      <td>NaN</td>\n",
       "      <td>PHM</td>\n",
       "      <td>NaN</td>\n",
       "      <td>Fish Oil, vitamin D, magnesium.</td>\n",
       "      <td>None</td>\n",
       "      <td>None</td>\n",
       "      <td>NaN</td>\n",
       "      <td>NaN</td>\n",
       "      <td>2</td>\n",
       "      <td>01/01/2019</td>\n",
       "      <td>NaN</td>\n",
       "      <td>NaN</td>\n",
       "      <td>NaN</td>\n",
       "      <td>None</td>\n",
       "      <td>N</td>\n",
       "    </tr>\n",
       "    <tr>\n",
       "      <th>794159</th>\n",
       "      <td>01/01/2019</td>\n",
       "      <td>UT</td>\n",
       "      <td>5.0</td>\n",
       "      <td>5.0</td>\n",
       "      <td>NaN</td>\n",
       "      <td>M</td>\n",
       "      <td>NaN</td>\n",
       "      <td>Site is swollen, red and warm to the touch. Pa...</td>\n",
       "      <td>NaN</td>\n",
       "      <td>NaN</td>\n",
       "      <td>NaN</td>\n",
       "      <td>NaN</td>\n",
       "      <td>Y</td>\n",
       "      <td>12/27/2018</td>\n",
       "      <td>12/28/2018</td>\n",
       "      <td>1.0</td>\n",
       "      <td>None</td>\n",
       "      <td>PVT</td>\n",
       "      <td>NaN</td>\n",
       "      <td>Unknown</td>\n",
       "      <td>Small red spot on his cheek at time of visit.</td>\n",
       "      <td>None</td>\n",
       "      <td>NaN</td>\n",
       "      <td>NaN</td>\n",
       "      <td>2</td>\n",
       "      <td>01/01/2019</td>\n",
       "      <td>NaN</td>\n",
       "      <td>NaN</td>\n",
       "      <td>NaN</td>\n",
       "      <td>Amoxicillin</td>\n",
       "      <td>N</td>\n",
       "    </tr>\n",
       "    <tr>\n",
       "      <th>794160</th>\n",
       "      <td>01/01/2019</td>\n",
       "      <td>TX</td>\n",
       "      <td>79.0</td>\n",
       "      <td>79.0</td>\n",
       "      <td>NaN</td>\n",
       "      <td>F</td>\n",
       "      <td>NaN</td>\n",
       "      <td>FLU LIKE: CHILLS ACHE ALL OVER; STRONG PAIN, W...</td>\n",
       "      <td>NaN</td>\n",
       "      <td>NaN</td>\n",
       "      <td>NaN</td>\n",
       "      <td>NaN</td>\n",
       "      <td>N</td>\n",
       "      <td>12/28/2018</td>\n",
       "      <td>12/28/2018</td>\n",
       "      <td>0.0</td>\n",
       "      <td>NONE TODAY IS A HOLIDAY</td>\n",
       "      <td>PVT</td>\n",
       "      <td>NaN</td>\n",
       "      <td>ATORVASTATIN; CELEBREX; XYZAL; D-3; ELIQUIS; A...</td>\n",
       "      <td>SINUSITIS; ATHROSCLEROSIS; DIABETES; HYPERCHOL...</td>\n",
       "      <td>SAME AS ITEM 11 ABOVE</td>\n",
       "      <td>NaN</td>\n",
       "      <td>NaN</td>\n",
       "      <td>2</td>\n",
       "      <td>01/01/2019</td>\n",
       "      <td>NaN</td>\n",
       "      <td>Y</td>\n",
       "      <td>Y</td>\n",
       "      <td>ACE INHIBITORS</td>\n",
       "      <td>N</td>\n",
       "    </tr>\n",
       "  </tbody>\n",
       "</table>\n",
       "</div>"
      ],
      "text/plain": [
       "            RECVDATE STATE  AGE_YRS  CAGE_YR  CAGE_MO SEX RPT_DATE  \\\n",
       "VAERS_ID                                                             \n",
       "794156    01/01/2019   NaN     69.0     69.0      NaN   F      NaN   \n",
       "794157    01/01/2019    IL     68.0     68.0      NaN   F      NaN   \n",
       "794158    01/01/2019    MA     62.0     62.0      NaN   F      NaN   \n",
       "794159    01/01/2019    UT      5.0      5.0      NaN   M      NaN   \n",
       "794160    01/01/2019    TX     79.0     79.0      NaN   F      NaN   \n",
       "\n",
       "                                               SYMPTOM_TEXT DATEDIED L_THREAT  \\\n",
       "VAERS_ID                                                                        \n",
       "794156    Severe pain Lt. shoulder area, very localized ...      NaN      NaN   \n",
       "794157    Much joint pain/aching, lack of energy, listle...      NaN      NaN   \n",
       "794158    Headache, Fever, Chills, Body Aches, Nausea la...      NaN      NaN   \n",
       "794159    Site is swollen, red and warm to the touch. Pa...      NaN      NaN   \n",
       "794160    FLU LIKE: CHILLS ACHE ALL OVER; STRONG PAIN, W...      NaN      NaN   \n",
       "\n",
       "          HOSPDAYS X_STAY RECOVD    VAX_DATE  ONSET_DATE  NUMDAYS  \\\n",
       "VAERS_ID                                                            \n",
       "794156         NaN    NaN      Y  10/29/2018  10/30/2018      1.0   \n",
       "794157         NaN    NaN      N  12/28/2018  12/29/2018      1.0   \n",
       "794158         NaN    NaN      Y  12/30/2018  12/31/2018      1.0   \n",
       "794159         NaN    NaN      Y  12/27/2018  12/28/2018      1.0   \n",
       "794160         NaN    NaN      N  12/28/2018  12/28/2018      0.0   \n",
       "\n",
       "                         LAB_DATA V_ADMINBY V_FUNDBY  \\\n",
       "VAERS_ID                                               \n",
       "794156                        NaN       PVT      NaN   \n",
       "794157                       None       PHM      NaN   \n",
       "794158                        NaN       PHM      NaN   \n",
       "794159                       None       PVT      NaN   \n",
       "794160    NONE TODAY IS A HOLIDAY       PVT      NaN   \n",
       "\n",
       "                                                 OTHER_MEDS  \\\n",
       "VAERS_ID                                                      \n",
       "794156                                                  NaN   \n",
       "794157    Levothyroxine, sertraline, vitamin B complex, ...   \n",
       "794158                      Fish Oil, vitamin D, magnesium.   \n",
       "794159                                              Unknown   \n",
       "794160    ATORVASTATIN; CELEBREX; XYZAL; D-3; ELIQUIS; A...   \n",
       "\n",
       "                                                    CUR_ILL  \\\n",
       "VAERS_ID                                                      \n",
       "794156                                                 none   \n",
       "794157                                                 None   \n",
       "794158                                                 None   \n",
       "794159        Small red spot on his cheek at time of visit.   \n",
       "794160    SINUSITIS; ATHROSCLEROSIS; DIABETES; HYPERCHOL...   \n",
       "\n",
       "                        HISTORY                          PRIOR_VAX SPLTTYPE  \\\n",
       "VAERS_ID                                                                      \n",
       "794156                     none                                NaN      NaN   \n",
       "794157           Hypothryoidism  Arm soreness at site of injection      NaN   \n",
       "794158                     None                                NaN      NaN   \n",
       "794159                     None                                NaN      NaN   \n",
       "794160    SAME AS ITEM 11 ABOVE                                NaN      NaN   \n",
       "\n",
       "          FORM_VERS TODAYS_DATE BIRTH_DEFECT OFC_VISIT ER_ED_VISIT  \\\n",
       "VAERS_ID                                                             \n",
       "794156            2  01/01/2019          NaN         Y         NaN   \n",
       "794157            2  01/01/2019          NaN       NaN         NaN   \n",
       "794158            2  01/01/2019          NaN       NaN         NaN   \n",
       "794159            2  01/01/2019          NaN       NaN         NaN   \n",
       "794160            2  01/01/2019          NaN         Y           Y   \n",
       "\n",
       "               ALLERGIES SERIOUS  \n",
       "VAERS_ID                          \n",
       "794156      tetracycline       N  \n",
       "794157              None       N  \n",
       "794158              None       N  \n",
       "794159       Amoxicillin       N  \n",
       "794160    ACE INHIBITORS       N  "
      ]
     },
     "execution_count": 4,
     "metadata": {},
     "output_type": "execute_result"
    }
   ],
   "source": [
    "data.head()"
   ]
  },
  {
   "cell_type": "markdown",
   "metadata": {},
   "source": [
    "# Process Data/Tokenize"
   ]
  },
  {
   "cell_type": "code",
   "execution_count": 5,
   "metadata": {},
   "outputs": [],
   "source": [
    "from nltk import word_tokenize, wordpunct_tokenize\n",
    "from nltk.stem import WordNetLemmatizer \n",
    "from nltk.corpus import stopwords\n",
    "\n",
    "punctuation = set(\"\"\"./,';][=-`?><\":}{+_~!@#$#%^&*()\\\\|}\"]°'×¢´\"\"\")\n",
    "# punctuation.add(\"''\")\n",
    "# punctuation.add(\"``\")\n",
    "\n",
    "class LemmaTokenizer:\n",
    "    def __init__(self):\n",
    "        self.wnl = WordNetLemmatizer()\n",
    "    def __call__(self, doc):\n",
    "        return [self.wnl.lemmatize(t) for t in wordpunct_tokenize(doc) if not all(char in punctuation for char in t)]\n",
    "\n",
    "from sklearn.feature_extraction.text import TfidfVectorizer"
   ]
  },
  {
   "cell_type": "code",
   "execution_count": 6,
   "metadata": {},
   "outputs": [],
   "source": [
    "lt = LemmaTokenizer()\n",
    "lemma_stop_words = {lt.wnl.lemmatize(word) for word in stop_words}"
   ]
  },
  {
   "cell_type": "code",
   "execution_count": 7,
   "metadata": {},
   "outputs": [
    {
     "name": "stdout",
     "output_type": "stream",
     "text": [
      "(44344, 30822)\n"
     ]
    }
   ],
   "source": [
    "vectorizer = TfidfVectorizer(tokenizer=lt, stop_words=lemma_stop_words, sublinear_tf=True)\n",
    "X = vectorizer.fit_transform(rawdata['SYMPTOM_TEXT'].fillna(''))\n",
    "\n",
    "# tfidf = pd.DataFrame(X.todense(), columns=vectorizer.get_feature_names())\n",
    "\n",
    "print(X.shape)\n",
    "\n",
    "ind_to_token = {value: key for key, value in vectorizer.vocabulary_.items()}"
   ]
  },
  {
   "cell_type": "code",
   "execution_count": null,
   "metadata": {},
   "outputs": [],
   "source": []
  },
  {
   "cell_type": "code",
   "execution_count": 8,
   "metadata": {},
   "outputs": [],
   "source": [
    "X_array = X.toarray()"
   ]
  },
  {
   "cell_type": "code",
   "execution_count": 9,
   "metadata": {},
   "outputs": [
    {
     "data": {
      "text/plain": [
       "(44344, 30822)"
      ]
     },
     "execution_count": 9,
     "metadata": {},
     "output_type": "execute_result"
    }
   ],
   "source": [
    "X_array.shape"
   ]
  },
  {
   "cell_type": "code",
   "execution_count": 10,
   "metadata": {},
   "outputs": [],
   "source": [
    "additional_features = data[['AGE_YRS', 'SEX', 'CUR_ILL', 'PRIOR_VAX']].copy()\n",
    "additional_features['AGE_YRS'] = additional_features['AGE_YRS']\n",
    "additional_features['SEX'] = additional_features['SEX'].map({'F': 0, 'M': 1}).fillna(0.5)\n",
    "additional_features['CUR_ILL'] = additional_features['CUR_ILL'].isna().astype(int)\n",
    "additional_features['PRIOR_VAX'] = additional_features['PRIOR_VAX'].isna().astype(int)\n",
    "\n",
    "for col in ('AGE_YRS', 'SEX'):\n",
    "    additional_features[col] = additional_features[col].fillna(additional_features[col].mean())\n",
    "\n",
    "cols = additional_features.to_numpy()\n",
    "\n",
    "merged = np.hstack((cols, X_array))"
   ]
  },
  {
   "cell_type": "code",
   "execution_count": null,
   "metadata": {},
   "outputs": [],
   "source": []
  },
  {
   "cell_type": "code",
   "execution_count": 11,
   "metadata": {},
   "outputs": [
    {
     "data": {
      "text/plain": [
       "KMeans(algorithm='auto', copy_x=True, init='k-means++', max_iter=100,\n",
       "       n_clusters=5, n_init=1, n_jobs=None, precompute_distances='auto',\n",
       "       random_state=None, tol=0.0001, verbose=0)"
      ]
     },
     "execution_count": 11,
     "metadata": {},
     "output_type": "execute_result"
    }
   ],
   "source": [
    "# add columns age/sex/curr ill/num days to clustering\n",
    "clusters = 5\n",
    "model = KMeans(n_clusters=clusters, init='k-means++', max_iter=100, n_init=1)\n",
    "model.fit(merged)\n",
    "\n",
    "# tfidf['cluster'] = model.labels_"
   ]
  },
  {
   "cell_type": "code",
   "execution_count": 30,
   "metadata": {},
   "outputs": [
    {
     "name": "stdout",
     "output_type": "stream",
     "text": [
      "Cluster 0 (size=14944):\n",
      "-----------------------------------------\n",
      "patienr, unknowingly, reportable, datasheet, receive, dosde, vaccince, medicaitons, shingritz, cascading\n",
      "\n",
      "Cluster 1 (size=6794):\n",
      "-----------------------------------------\n",
      "vaccince, patienr, fetzima, givein, rarity, dawned, swellin, rednes, reactio, sitagliptin\n",
      "\n",
      "Cluster 2 (size=6855):\n",
      "-----------------------------------------\n",
      "arlv, patienr, pail, injectio, dawned, sitagliptin, shingritz, swellin, rednes, rarity\n",
      "\n",
      "Cluster 3 (size=11178):\n",
      "-----------------------------------------\n",
      "pail, arlv, injectio, patienr, dawned, fetzima, sitagliptin, headach, chileed, shingritz\n",
      "\n",
      "Cluster 4 (size=4573):\n",
      "-----------------------------------------\n",
      "patienr, vaccince, arlv, pail, givein, injectio, sitagliptin, dawned, psychotropics, lefse\n",
      "\n"
     ]
    }
   ],
   "source": [
    "for cluster_index in range(clusters):\n",
    "    cluster = merged[(model.labels_ == cluster_index)]\n",
    "#     cluster = tfidf[tfidf.cluster.eq(cluster_index)]\n",
    "\n",
    "    tfidf = cluster[:, 5:]\n",
    "    tfidf_mean = tfidf.mean(axis=0)\n",
    "    tfidf_mean = np.squeeze(np.asarray(tfidf_mean))\n",
    "    \n",
    "    ave_age = cluster[:, 0].mean()\n",
    "    male = \n",
    "    \n",
    "    top_ten = tfidf_mean.argsort()[-10:][::-1]\n",
    "    \n",
    "    print(f\"Cluster {cluster_index} (size={len(cluster)}):\")\n",
    "    print(\"-----------------------------------------\")\n",
    "    print(', '.join(ind_to_token[idx] for idx in top_ten))\n",
    "    print()"
   ]
  },
  {
   "cell_type": "code",
   "execution_count": null,
   "metadata": {},
   "outputs": [],
   "source": [
    "cluster[:, 0].mean()"
   ]
  },
  {
   "cell_type": "code",
   "execution_count": null,
   "metadata": {},
   "outputs": [],
   "source": []
  },
  {
   "cell_type": "code",
   "execution_count": null,
   "metadata": {},
   "outputs": [],
   "source": []
  },
  {
   "cell_type": "code",
   "execution_count": 31,
   "metadata": {},
   "outputs": [
    {
     "data": {
      "text/plain": [
       "21.287338727312488"
      ]
     },
     "execution_count": 31,
     "metadata": {},
     "output_type": "execute_result"
    }
   ],
   "source": [
    "cluster[:, 0].mean()"
   ]
  },
  {
   "cell_type": "code",
   "execution_count": 26,
   "metadata": {},
   "outputs": [
    {
     "data": {
      "text/plain": [
       "45.967172807380685"
      ]
     },
     "execution_count": 26,
     "metadata": {},
     "output_type": "execute_result"
    }
   ],
   "source": [
    "merged[:, 0].mean()"
   ]
  },
  {
   "cell_type": "code",
   "execution_count": 28,
   "metadata": {},
   "outputs": [
    {
     "data": {
      "text/plain": [
       "array([[0., 0., 0., ..., 0., 0., 0.],\n",
       "       [0., 0., 0., ..., 0., 0., 0.],\n",
       "       [0., 0., 0., ..., 0., 0., 0.],\n",
       "       ...,\n",
       "       [0., 0., 0., ..., 0., 0., 0.],\n",
       "       [0., 0., 0., ..., 0., 0., 0.],\n",
       "       [0., 0., 0., ..., 0., 0., 0.]])"
      ]
     },
     "execution_count": 28,
     "metadata": {},
     "output_type": "execute_result"
    }
   ],
   "source": [
    "cluster"
   ]
  },
  {
   "cell_type": "code",
   "execution_count": null,
   "metadata": {},
   "outputs": [],
   "source": []
  },
  {
   "cell_type": "code",
   "execution_count": null,
   "metadata": {},
   "outputs": [],
   "source": []
  },
  {
   "cell_type": "markdown",
   "metadata": {},
   "source": [
    "distance measure:  \n",
    "\n",
    "https://scikit-learn.org/stable/modules/clustering.html#k-means  \n",
    "within-cluster sum-of-squares"
   ]
  },
  {
   "cell_type": "code",
   "execution_count": null,
   "metadata": {},
   "outputs": [],
   "source": []
  },
  {
   "cell_type": "code",
   "execution_count": null,
   "metadata": {},
   "outputs": [],
   "source": []
  },
  {
   "cell_type": "code",
   "execution_count": null,
   "metadata": {},
   "outputs": [],
   "source": []
  },
  {
   "cell_type": "code",
   "execution_count": null,
   "metadata": {},
   "outputs": [],
   "source": []
  },
  {
   "cell_type": "code",
   "execution_count": null,
   "metadata": {},
   "outputs": [],
   "source": []
  },
  {
   "cell_type": "code",
   "execution_count": 314,
   "metadata": {},
   "outputs": [
    {
     "data": {
      "text/plain": [
       "(44344, 31)"
      ]
     },
     "execution_count": 314,
     "metadata": {},
     "output_type": "execute_result"
    }
   ],
   "source": [
    "data.shape"
   ]
  },
  {
   "cell_type": "code",
   "execution_count": 315,
   "metadata": {},
   "outputs": [],
   "source": [
    "data['cluster'] = model.labels_"
   ]
  },
  {
   "cell_type": "code",
   "execution_count": 316,
   "metadata": {},
   "outputs": [
    {
     "data": {
      "text/html": [
       "<div>\n",
       "<style scoped>\n",
       "    .dataframe tbody tr th:only-of-type {\n",
       "        vertical-align: middle;\n",
       "    }\n",
       "\n",
       "    .dataframe tbody tr th {\n",
       "        vertical-align: top;\n",
       "    }\n",
       "\n",
       "    .dataframe thead th {\n",
       "        text-align: right;\n",
       "    }\n",
       "</style>\n",
       "<table border=\"1\" class=\"dataframe\">\n",
       "  <thead>\n",
       "    <tr style=\"text-align: right;\">\n",
       "      <th></th>\n",
       "      <th>RECVDATE</th>\n",
       "      <th>STATE</th>\n",
       "      <th>AGE_YRS</th>\n",
       "      <th>CAGE_YR</th>\n",
       "      <th>CAGE_MO</th>\n",
       "      <th>SEX</th>\n",
       "      <th>RPT_DATE</th>\n",
       "      <th>SYMPTOM_TEXT</th>\n",
       "      <th>DATEDIED</th>\n",
       "      <th>L_THREAT</th>\n",
       "      <th>HOSPDAYS</th>\n",
       "      <th>X_STAY</th>\n",
       "      <th>RECOVD</th>\n",
       "      <th>VAX_DATE</th>\n",
       "      <th>ONSET_DATE</th>\n",
       "      <th>NUMDAYS</th>\n",
       "      <th>LAB_DATA</th>\n",
       "      <th>V_ADMINBY</th>\n",
       "      <th>V_FUNDBY</th>\n",
       "      <th>OTHER_MEDS</th>\n",
       "      <th>CUR_ILL</th>\n",
       "      <th>HISTORY</th>\n",
       "      <th>PRIOR_VAX</th>\n",
       "      <th>SPLTTYPE</th>\n",
       "      <th>FORM_VERS</th>\n",
       "      <th>TODAYS_DATE</th>\n",
       "      <th>BIRTH_DEFECT</th>\n",
       "      <th>OFC_VISIT</th>\n",
       "      <th>ER_ED_VISIT</th>\n",
       "      <th>ALLERGIES</th>\n",
       "      <th>SERIOUS</th>\n",
       "      <th>cluster</th>\n",
       "    </tr>\n",
       "    <tr>\n",
       "      <th>VAERS_ID</th>\n",
       "      <th></th>\n",
       "      <th></th>\n",
       "      <th></th>\n",
       "      <th></th>\n",
       "      <th></th>\n",
       "      <th></th>\n",
       "      <th></th>\n",
       "      <th></th>\n",
       "      <th></th>\n",
       "      <th></th>\n",
       "      <th></th>\n",
       "      <th></th>\n",
       "      <th></th>\n",
       "      <th></th>\n",
       "      <th></th>\n",
       "      <th></th>\n",
       "      <th></th>\n",
       "      <th></th>\n",
       "      <th></th>\n",
       "      <th></th>\n",
       "      <th></th>\n",
       "      <th></th>\n",
       "      <th></th>\n",
       "      <th></th>\n",
       "      <th></th>\n",
       "      <th></th>\n",
       "      <th></th>\n",
       "      <th></th>\n",
       "      <th></th>\n",
       "      <th></th>\n",
       "      <th></th>\n",
       "      <th></th>\n",
       "    </tr>\n",
       "  </thead>\n",
       "  <tbody>\n",
       "    <tr>\n",
       "      <th>794156</th>\n",
       "      <td>01/01/2019</td>\n",
       "      <td>NaN</td>\n",
       "      <td>69.0</td>\n",
       "      <td>69.0</td>\n",
       "      <td>NaN</td>\n",
       "      <td>F</td>\n",
       "      <td>NaN</td>\n",
       "      <td>Severe pain Lt. shoulder area, very localized ...</td>\n",
       "      <td>NaN</td>\n",
       "      <td>NaN</td>\n",
       "      <td>NaN</td>\n",
       "      <td>NaN</td>\n",
       "      <td>Y</td>\n",
       "      <td>10/29/2018</td>\n",
       "      <td>10/30/2018</td>\n",
       "      <td>1.0</td>\n",
       "      <td>NaN</td>\n",
       "      <td>PVT</td>\n",
       "      <td>NaN</td>\n",
       "      <td>NaN</td>\n",
       "      <td>none</td>\n",
       "      <td>none</td>\n",
       "      <td>NaN</td>\n",
       "      <td>NaN</td>\n",
       "      <td>2</td>\n",
       "      <td>01/01/2019</td>\n",
       "      <td>NaN</td>\n",
       "      <td>Y</td>\n",
       "      <td>NaN</td>\n",
       "      <td>tetracycline</td>\n",
       "      <td>N</td>\n",
       "      <td>2</td>\n",
       "    </tr>\n",
       "    <tr>\n",
       "      <th>794157</th>\n",
       "      <td>01/01/2019</td>\n",
       "      <td>IL</td>\n",
       "      <td>68.0</td>\n",
       "      <td>68.0</td>\n",
       "      <td>NaN</td>\n",
       "      <td>F</td>\n",
       "      <td>NaN</td>\n",
       "      <td>Much joint pain/aching, lack of energy, listle...</td>\n",
       "      <td>NaN</td>\n",
       "      <td>NaN</td>\n",
       "      <td>NaN</td>\n",
       "      <td>NaN</td>\n",
       "      <td>N</td>\n",
       "      <td>12/28/2018</td>\n",
       "      <td>12/29/2018</td>\n",
       "      <td>1.0</td>\n",
       "      <td>None</td>\n",
       "      <td>PHM</td>\n",
       "      <td>NaN</td>\n",
       "      <td>Levothyroxine, sertraline, vitamin B complex, ...</td>\n",
       "      <td>None</td>\n",
       "      <td>Hypothryoidism</td>\n",
       "      <td>Arm soreness at site of injection</td>\n",
       "      <td>NaN</td>\n",
       "      <td>2</td>\n",
       "      <td>01/01/2019</td>\n",
       "      <td>NaN</td>\n",
       "      <td>NaN</td>\n",
       "      <td>NaN</td>\n",
       "      <td>None</td>\n",
       "      <td>N</td>\n",
       "      <td>1</td>\n",
       "    </tr>\n",
       "    <tr>\n",
       "      <th>794158</th>\n",
       "      <td>01/01/2019</td>\n",
       "      <td>MA</td>\n",
       "      <td>62.0</td>\n",
       "      <td>62.0</td>\n",
       "      <td>NaN</td>\n",
       "      <td>F</td>\n",
       "      <td>NaN</td>\n",
       "      <td>Headache, Fever, Chills, Body Aches, Nausea la...</td>\n",
       "      <td>NaN</td>\n",
       "      <td>NaN</td>\n",
       "      <td>NaN</td>\n",
       "      <td>NaN</td>\n",
       "      <td>Y</td>\n",
       "      <td>12/30/2018</td>\n",
       "      <td>12/31/2018</td>\n",
       "      <td>1.0</td>\n",
       "      <td>NaN</td>\n",
       "      <td>PHM</td>\n",
       "      <td>NaN</td>\n",
       "      <td>Fish Oil, vitamin D, magnesium.</td>\n",
       "      <td>None</td>\n",
       "      <td>None</td>\n",
       "      <td>NaN</td>\n",
       "      <td>NaN</td>\n",
       "      <td>2</td>\n",
       "      <td>01/01/2019</td>\n",
       "      <td>NaN</td>\n",
       "      <td>NaN</td>\n",
       "      <td>NaN</td>\n",
       "      <td>None</td>\n",
       "      <td>N</td>\n",
       "      <td>2</td>\n",
       "    </tr>\n",
       "    <tr>\n",
       "      <th>794159</th>\n",
       "      <td>01/01/2019</td>\n",
       "      <td>UT</td>\n",
       "      <td>5.0</td>\n",
       "      <td>5.0</td>\n",
       "      <td>NaN</td>\n",
       "      <td>M</td>\n",
       "      <td>NaN</td>\n",
       "      <td>Site is swollen, red and warm to the touch. Pa...</td>\n",
       "      <td>NaN</td>\n",
       "      <td>NaN</td>\n",
       "      <td>NaN</td>\n",
       "      <td>NaN</td>\n",
       "      <td>Y</td>\n",
       "      <td>12/27/2018</td>\n",
       "      <td>12/28/2018</td>\n",
       "      <td>1.0</td>\n",
       "      <td>None</td>\n",
       "      <td>PVT</td>\n",
       "      <td>NaN</td>\n",
       "      <td>Unknown</td>\n",
       "      <td>Small red spot on his cheek at time of visit.</td>\n",
       "      <td>None</td>\n",
       "      <td>NaN</td>\n",
       "      <td>NaN</td>\n",
       "      <td>2</td>\n",
       "      <td>01/01/2019</td>\n",
       "      <td>NaN</td>\n",
       "      <td>NaN</td>\n",
       "      <td>NaN</td>\n",
       "      <td>Amoxicillin</td>\n",
       "      <td>N</td>\n",
       "      <td>1</td>\n",
       "    </tr>\n",
       "    <tr>\n",
       "      <th>794160</th>\n",
       "      <td>01/01/2019</td>\n",
       "      <td>TX</td>\n",
       "      <td>79.0</td>\n",
       "      <td>79.0</td>\n",
       "      <td>NaN</td>\n",
       "      <td>F</td>\n",
       "      <td>NaN</td>\n",
       "      <td>FLU LIKE: CHILLS ACHE ALL OVER; STRONG PAIN, W...</td>\n",
       "      <td>NaN</td>\n",
       "      <td>NaN</td>\n",
       "      <td>NaN</td>\n",
       "      <td>NaN</td>\n",
       "      <td>N</td>\n",
       "      <td>12/28/2018</td>\n",
       "      <td>12/28/2018</td>\n",
       "      <td>0.0</td>\n",
       "      <td>NONE TODAY IS A HOLIDAY</td>\n",
       "      <td>PVT</td>\n",
       "      <td>NaN</td>\n",
       "      <td>ATORVASTATIN; CELEBREX; XYZAL; D-3; ELIQUIS; A...</td>\n",
       "      <td>SINUSITIS; ATHROSCLEROSIS; DIABETES; HYPERCHOL...</td>\n",
       "      <td>SAME AS ITEM 11 ABOVE</td>\n",
       "      <td>NaN</td>\n",
       "      <td>NaN</td>\n",
       "      <td>2</td>\n",
       "      <td>01/01/2019</td>\n",
       "      <td>NaN</td>\n",
       "      <td>Y</td>\n",
       "      <td>Y</td>\n",
       "      <td>ACE INHIBITORS</td>\n",
       "      <td>N</td>\n",
       "      <td>1</td>\n",
       "    </tr>\n",
       "  </tbody>\n",
       "</table>\n",
       "</div>"
      ],
      "text/plain": [
       "            RECVDATE STATE  AGE_YRS  CAGE_YR  CAGE_MO SEX RPT_DATE  \\\n",
       "VAERS_ID                                                             \n",
       "794156    01/01/2019   NaN     69.0     69.0      NaN   F      NaN   \n",
       "794157    01/01/2019    IL     68.0     68.0      NaN   F      NaN   \n",
       "794158    01/01/2019    MA     62.0     62.0      NaN   F      NaN   \n",
       "794159    01/01/2019    UT      5.0      5.0      NaN   M      NaN   \n",
       "794160    01/01/2019    TX     79.0     79.0      NaN   F      NaN   \n",
       "\n",
       "                                               SYMPTOM_TEXT DATEDIED L_THREAT  \\\n",
       "VAERS_ID                                                                        \n",
       "794156    Severe pain Lt. shoulder area, very localized ...      NaN      NaN   \n",
       "794157    Much joint pain/aching, lack of energy, listle...      NaN      NaN   \n",
       "794158    Headache, Fever, Chills, Body Aches, Nausea la...      NaN      NaN   \n",
       "794159    Site is swollen, red and warm to the touch. Pa...      NaN      NaN   \n",
       "794160    FLU LIKE: CHILLS ACHE ALL OVER; STRONG PAIN, W...      NaN      NaN   \n",
       "\n",
       "          HOSPDAYS X_STAY RECOVD    VAX_DATE  ONSET_DATE  NUMDAYS  \\\n",
       "VAERS_ID                                                            \n",
       "794156         NaN    NaN      Y  10/29/2018  10/30/2018      1.0   \n",
       "794157         NaN    NaN      N  12/28/2018  12/29/2018      1.0   \n",
       "794158         NaN    NaN      Y  12/30/2018  12/31/2018      1.0   \n",
       "794159         NaN    NaN      Y  12/27/2018  12/28/2018      1.0   \n",
       "794160         NaN    NaN      N  12/28/2018  12/28/2018      0.0   \n",
       "\n",
       "                         LAB_DATA V_ADMINBY V_FUNDBY  \\\n",
       "VAERS_ID                                               \n",
       "794156                        NaN       PVT      NaN   \n",
       "794157                       None       PHM      NaN   \n",
       "794158                        NaN       PHM      NaN   \n",
       "794159                       None       PVT      NaN   \n",
       "794160    NONE TODAY IS A HOLIDAY       PVT      NaN   \n",
       "\n",
       "                                                 OTHER_MEDS  \\\n",
       "VAERS_ID                                                      \n",
       "794156                                                  NaN   \n",
       "794157    Levothyroxine, sertraline, vitamin B complex, ...   \n",
       "794158                      Fish Oil, vitamin D, magnesium.   \n",
       "794159                                              Unknown   \n",
       "794160    ATORVASTATIN; CELEBREX; XYZAL; D-3; ELIQUIS; A...   \n",
       "\n",
       "                                                    CUR_ILL  \\\n",
       "VAERS_ID                                                      \n",
       "794156                                                 none   \n",
       "794157                                                 None   \n",
       "794158                                                 None   \n",
       "794159        Small red spot on his cheek at time of visit.   \n",
       "794160    SINUSITIS; ATHROSCLEROSIS; DIABETES; HYPERCHOL...   \n",
       "\n",
       "                        HISTORY                          PRIOR_VAX SPLTTYPE  \\\n",
       "VAERS_ID                                                                      \n",
       "794156                     none                                NaN      NaN   \n",
       "794157           Hypothryoidism  Arm soreness at site of injection      NaN   \n",
       "794158                     None                                NaN      NaN   \n",
       "794159                     None                                NaN      NaN   \n",
       "794160    SAME AS ITEM 11 ABOVE                                NaN      NaN   \n",
       "\n",
       "          FORM_VERS TODAYS_DATE BIRTH_DEFECT OFC_VISIT ER_ED_VISIT  \\\n",
       "VAERS_ID                                                             \n",
       "794156            2  01/01/2019          NaN         Y         NaN   \n",
       "794157            2  01/01/2019          NaN       NaN         NaN   \n",
       "794158            2  01/01/2019          NaN       NaN         NaN   \n",
       "794159            2  01/01/2019          NaN       NaN         NaN   \n",
       "794160            2  01/01/2019          NaN         Y           Y   \n",
       "\n",
       "               ALLERGIES SERIOUS  cluster  \n",
       "VAERS_ID                                   \n",
       "794156      tetracycline       N        2  \n",
       "794157              None       N        1  \n",
       "794158              None       N        2  \n",
       "794159       Amoxicillin       N        1  \n",
       "794160    ACE INHIBITORS       N        1  "
      ]
     },
     "execution_count": 316,
     "metadata": {},
     "output_type": "execute_result"
    }
   ],
   "source": [
    "data.head()"
   ]
  },
  {
   "cell_type": "code",
   "execution_count": 318,
   "metadata": {},
   "outputs": [
    {
     "data": {
      "text/html": [
       "<div>\n",
       "<style scoped>\n",
       "    .dataframe tbody tr th:only-of-type {\n",
       "        vertical-align: middle;\n",
       "    }\n",
       "\n",
       "    .dataframe tbody tr th {\n",
       "        vertical-align: top;\n",
       "    }\n",
       "\n",
       "    .dataframe thead th {\n",
       "        text-align: right;\n",
       "    }\n",
       "</style>\n",
       "<table border=\"1\" class=\"dataframe\">\n",
       "  <thead>\n",
       "    <tr style=\"text-align: right;\">\n",
       "      <th>SERIOUS</th>\n",
       "      <th>N</th>\n",
       "      <th>Y</th>\n",
       "    </tr>\n",
       "    <tr>\n",
       "      <th>cluster</th>\n",
       "      <th></th>\n",
       "      <th></th>\n",
       "    </tr>\n",
       "  </thead>\n",
       "  <tbody>\n",
       "    <tr>\n",
       "      <th>0</th>\n",
       "      <td>5615</td>\n",
       "      <td>127</td>\n",
       "    </tr>\n",
       "    <tr>\n",
       "      <th>1</th>\n",
       "      <td>5180</td>\n",
       "      <td>70</td>\n",
       "    </tr>\n",
       "    <tr>\n",
       "      <th>2</th>\n",
       "      <td>23078</td>\n",
       "      <td>2002</td>\n",
       "    </tr>\n",
       "    <tr>\n",
       "      <th>3</th>\n",
       "      <td>2692</td>\n",
       "      <td>694</td>\n",
       "    </tr>\n",
       "    <tr>\n",
       "      <th>4</th>\n",
       "      <td>4801</td>\n",
       "      <td>85</td>\n",
       "    </tr>\n",
       "  </tbody>\n",
       "</table>\n",
       "</div>"
      ],
      "text/plain": [
       "SERIOUS      N     Y\n",
       "cluster             \n",
       "0         5615   127\n",
       "1         5180    70\n",
       "2        23078  2002\n",
       "3         2692   694\n",
       "4         4801    85"
      ]
     },
     "execution_count": 318,
     "metadata": {},
     "output_type": "execute_result"
    }
   ],
   "source": [
    "pd.crosstab(data.cluster, data.SERIOUS)"
   ]
  },
  {
   "cell_type": "code",
   "execution_count": 317,
   "metadata": {},
   "outputs": [
    {
     "data": {
      "text/html": [
       "<div>\n",
       "<style scoped>\n",
       "    .dataframe tbody tr th:only-of-type {\n",
       "        vertical-align: middle;\n",
       "    }\n",
       "\n",
       "    .dataframe tbody tr th {\n",
       "        vertical-align: top;\n",
       "    }\n",
       "\n",
       "    .dataframe thead tr th {\n",
       "        text-align: left;\n",
       "    }\n",
       "\n",
       "    .dataframe thead tr:last-of-type th {\n",
       "        text-align: right;\n",
       "    }\n",
       "</style>\n",
       "<table border=\"1\" class=\"dataframe\">\n",
       "  <thead>\n",
       "    <tr>\n",
       "      <th></th>\n",
       "      <th colspan=\"2\" halign=\"left\">AGE_YRS</th>\n",
       "      <th colspan=\"2\" halign=\"left\">CAGE_MO</th>\n",
       "      <th colspan=\"2\" halign=\"left\">CAGE_YR</th>\n",
       "      <th colspan=\"2\" halign=\"left\">FORM_VERS</th>\n",
       "      <th>HOSPDAYS</th>\n",
       "      <th colspan=\"2\" halign=\"left\">NUMDAYS</th>\n",
       "    </tr>\n",
       "    <tr>\n",
       "      <th>SERIOUS</th>\n",
       "      <th>N</th>\n",
       "      <th>Y</th>\n",
       "      <th>N</th>\n",
       "      <th>Y</th>\n",
       "      <th>N</th>\n",
       "      <th>Y</th>\n",
       "      <th>N</th>\n",
       "      <th>Y</th>\n",
       "      <th>Y</th>\n",
       "      <th>N</th>\n",
       "      <th>Y</th>\n",
       "    </tr>\n",
       "    <tr>\n",
       "      <th>cluster</th>\n",
       "      <th></th>\n",
       "      <th></th>\n",
       "      <th></th>\n",
       "      <th></th>\n",
       "      <th></th>\n",
       "      <th></th>\n",
       "      <th></th>\n",
       "      <th></th>\n",
       "      <th></th>\n",
       "      <th></th>\n",
       "      <th></th>\n",
       "    </tr>\n",
       "  </thead>\n",
       "  <tbody>\n",
       "    <tr>\n",
       "      <th>0</th>\n",
       "      <td>20.800842</td>\n",
       "      <td>29.995897</td>\n",
       "      <td>0.329412</td>\n",
       "      <td>0.125000</td>\n",
       "      <td>20.980066</td>\n",
       "      <td>34.583333</td>\n",
       "      <td>1.914337</td>\n",
       "      <td>1.960630</td>\n",
       "      <td>11.714286</td>\n",
       "      <td>43.760192</td>\n",
       "      <td>259.485714</td>\n",
       "    </tr>\n",
       "    <tr>\n",
       "      <th>1</th>\n",
       "      <td>53.331225</td>\n",
       "      <td>42.505156</td>\n",
       "      <td>0.338415</td>\n",
       "      <td>0.350000</td>\n",
       "      <td>53.379281</td>\n",
       "      <td>43.727273</td>\n",
       "      <td>1.971622</td>\n",
       "      <td>1.642857</td>\n",
       "      <td>2.437500</td>\n",
       "      <td>8.633550</td>\n",
       "      <td>45.477612</td>\n",
       "    </tr>\n",
       "    <tr>\n",
       "      <th>2</th>\n",
       "      <td>45.248608</td>\n",
       "      <td>37.005634</td>\n",
       "      <td>0.320905</td>\n",
       "      <td>0.327778</td>\n",
       "      <td>45.369581</td>\n",
       "      <td>36.641509</td>\n",
       "      <td>1.961478</td>\n",
       "      <td>1.864136</td>\n",
       "      <td>6.200739</td>\n",
       "      <td>21.420956</td>\n",
       "      <td>28.888430</td>\n",
       "    </tr>\n",
       "    <tr>\n",
       "      <th>3</th>\n",
       "      <td>35.641392</td>\n",
       "      <td>66.529412</td>\n",
       "      <td>0.381116</td>\n",
       "      <td>NaN</td>\n",
       "      <td>34.528746</td>\n",
       "      <td>62.333333</td>\n",
       "      <td>2.000000</td>\n",
       "      <td>2.000000</td>\n",
       "      <td>3.666667</td>\n",
       "      <td>70.727273</td>\n",
       "      <td>197.685185</td>\n",
       "    </tr>\n",
       "    <tr>\n",
       "      <th>4</th>\n",
       "      <td>65.462022</td>\n",
       "      <td>64.638158</td>\n",
       "      <td>0.360000</td>\n",
       "      <td>NaN</td>\n",
       "      <td>65.900091</td>\n",
       "      <td>68.027027</td>\n",
       "      <td>1.999792</td>\n",
       "      <td>2.000000</td>\n",
       "      <td>7.115385</td>\n",
       "      <td>12.600000</td>\n",
       "      <td>7.225806</td>\n",
       "    </tr>\n",
       "  </tbody>\n",
       "</table>\n",
       "</div>"
      ],
      "text/plain": [
       "           AGE_YRS              CAGE_MO              CAGE_YR             \\\n",
       "SERIOUS          N          Y         N         Y          N          Y   \n",
       "cluster                                                                   \n",
       "0        20.800842  29.995897  0.329412  0.125000  20.980066  34.583333   \n",
       "1        53.331225  42.505156  0.338415  0.350000  53.379281  43.727273   \n",
       "2        45.248608  37.005634  0.320905  0.327778  45.369581  36.641509   \n",
       "3        35.641392  66.529412  0.381116       NaN  34.528746  62.333333   \n",
       "4        65.462022  64.638158  0.360000       NaN  65.900091  68.027027   \n",
       "\n",
       "        FORM_VERS             HOSPDAYS    NUMDAYS              \n",
       "SERIOUS         N         Y          Y          N           Y  \n",
       "cluster                                                        \n",
       "0        1.914337  1.960630  11.714286  43.760192  259.485714  \n",
       "1        1.971622  1.642857   2.437500   8.633550   45.477612  \n",
       "2        1.961478  1.864136   6.200739  21.420956   28.888430  \n",
       "3        2.000000  2.000000   3.666667  70.727273  197.685185  \n",
       "4        1.999792  2.000000   7.115385  12.600000    7.225806  "
      ]
     },
     "execution_count": 317,
     "metadata": {},
     "output_type": "execute_result"
    }
   ],
   "source": [
    "data.pivot_table(index='cluster', columns='SERIOUS')"
   ]
  },
  {
   "cell_type": "code",
   "execution_count": null,
   "metadata": {},
   "outputs": [],
   "source": []
  },
  {
   "cell_type": "code",
   "execution_count": 269,
   "metadata": {},
   "outputs": [
    {
     "data": {
      "text/plain": [
       "20332"
      ]
     },
     "execution_count": 269,
     "metadata": {},
     "output_type": "execute_result"
    }
   ],
   "source": [
    "vectorizer.vocabulary_['patient']"
   ]
  },
  {
   "cell_type": "code",
   "execution_count": 276,
   "metadata": {},
   "outputs": [
    {
     "data": {
      "text/plain": [
       "(44344, 30822)"
      ]
     },
     "execution_count": 276,
     "metadata": {},
     "output_type": "execute_result"
    }
   ],
   "source": [
    "tfidf.shape"
   ]
  },
  {
   "cell_type": "code",
   "execution_count": 288,
   "metadata": {},
   "outputs": [
    {
     "ename": "AttributeError",
     "evalue": "'numpy.ndarray' object has no attribute 'argwhere'",
     "output_type": "error",
     "traceback": [
      "\u001b[0;31m---------------------------------------------------------------------------\u001b[0m",
      "\u001b[0;31mAttributeError\u001b[0m                            Traceback (most recent call last)",
      "\u001b[0;32m<ipython-input-288-cc1d314e9a71>\u001b[0m in \u001b[0;36m<module>\u001b[0;34m\u001b[0m\n\u001b[0;32m----> 1\u001b[0;31m \u001b[0;34m(\u001b[0m\u001b[0mmodel\u001b[0m\u001b[0;34m.\u001b[0m\u001b[0mlabels_\u001b[0m \u001b[0;34m==\u001b[0m \u001b[0;36m3\u001b[0m\u001b[0;34m)\u001b[0m\u001b[0;34m.\u001b[0m\u001b[0margwhere\u001b[0m\u001b[0;34m(\u001b[0m\u001b[0;32mTrue\u001b[0m\u001b[0;34m)\u001b[0m\u001b[0;34m\u001b[0m\u001b[0;34m\u001b[0m\u001b[0m\n\u001b[0m",
      "\u001b[0;31mAttributeError\u001b[0m: 'numpy.ndarray' object has no attribute 'argwhere'"
     ]
    }
   ],
   "source": [
    "(model.labels_ == 3).argwhere(True)"
   ]
  },
  {
   "cell_type": "code",
   "execution_count": 305,
   "metadata": {},
   "outputs": [
    {
     "data": {
      "text/plain": [
       "array([[    1],\n",
       "       [    3],\n",
       "       [    4],\n",
       "       ...,\n",
       "       [44316],\n",
       "       [44325],\n",
       "       [44329]])"
      ]
     },
     "execution_count": 305,
     "metadata": {},
     "output_type": "execute_result"
    }
   ],
   "source": [
    "np.argwhere((model.labels_ == 1))"
   ]
  },
  {
   "cell_type": "code",
   "execution_count": null,
   "metadata": {},
   "outputs": [],
   "source": []
  },
  {
   "cell_type": "code",
   "execution_count": null,
   "metadata": {},
   "outputs": [],
   "source": []
  },
  {
   "cell_type": "code",
   "execution_count": 311,
   "metadata": {},
   "outputs": [
    {
     "data": {
      "text/plain": [
       "'Redness and swelling at injection site - 3x2 inch area'"
      ]
     },
     "execution_count": 311,
     "metadata": {},
     "output_type": "execute_result"
    }
   ],
   "source": [
    "rawdata.loc[44329].SYMPTOM_TEXT"
   ]
  },
  {
   "cell_type": "code",
   "execution_count": null,
   "metadata": {},
   "outputs": [],
   "source": []
  },
  {
   "cell_type": "code",
   "execution_count": null,
   "metadata": {},
   "outputs": [],
   "source": []
  },
  {
   "cell_type": "code",
   "execution_count": 275,
   "metadata": {},
   "outputs": [
    {
     "ename": "KeyboardInterrupt",
     "evalue": "",
     "output_type": "error",
     "traceback": [
      "\u001b[0;31m---------------------------------------------------------------------------\u001b[0m",
      "\u001b[0;31mKeyboardInterrupt\u001b[0m                         Traceback (most recent call last)",
      "\u001b[0;32m<ipython-input-275-fcc7ef8cd9c1>\u001b[0m in \u001b[0;36m<module>\u001b[0;34m\u001b[0m\n\u001b[0;32m----> 1\u001b[0;31m \u001b[0mtfidf\u001b[0m\u001b[0;34m.\u001b[0m\u001b[0mmean\u001b[0m\u001b[0;34m(\u001b[0m\u001b[0maxis\u001b[0m\u001b[0;34m=\u001b[0m\u001b[0;36m0\u001b[0m\u001b[0;34m)\u001b[0m\u001b[0;34m\u001b[0m\u001b[0;34m\u001b[0m\u001b[0m\n\u001b[0m",
      "\u001b[0;32m/Library/Frameworks/Python.framework/Versions/3.8/lib/python3.8/site-packages/pandas/core/generic.py\u001b[0m in \u001b[0;36mstat_func\u001b[0;34m(self, axis, skipna, level, numeric_only, **kwargs)\u001b[0m\n\u001b[1;32m  11615\u001b[0m         \u001b[0;32mif\u001b[0m \u001b[0mlevel\u001b[0m \u001b[0;32mis\u001b[0m \u001b[0;32mnot\u001b[0m \u001b[0;32mNone\u001b[0m\u001b[0;34m:\u001b[0m\u001b[0;34m\u001b[0m\u001b[0;34m\u001b[0m\u001b[0m\n\u001b[1;32m  11616\u001b[0m             \u001b[0;32mreturn\u001b[0m \u001b[0mself\u001b[0m\u001b[0;34m.\u001b[0m\u001b[0m_agg_by_level\u001b[0m\u001b[0;34m(\u001b[0m\u001b[0mname\u001b[0m\u001b[0;34m,\u001b[0m \u001b[0maxis\u001b[0m\u001b[0;34m=\u001b[0m\u001b[0maxis\u001b[0m\u001b[0;34m,\u001b[0m \u001b[0mlevel\u001b[0m\u001b[0;34m=\u001b[0m\u001b[0mlevel\u001b[0m\u001b[0;34m,\u001b[0m \u001b[0mskipna\u001b[0m\u001b[0;34m=\u001b[0m\u001b[0mskipna\u001b[0m\u001b[0;34m)\u001b[0m\u001b[0;34m\u001b[0m\u001b[0;34m\u001b[0m\u001b[0m\n\u001b[0;32m> 11617\u001b[0;31m         return self._reduce(\n\u001b[0m\u001b[1;32m  11618\u001b[0m             \u001b[0mf\u001b[0m\u001b[0;34m,\u001b[0m \u001b[0mname\u001b[0m\u001b[0;34m,\u001b[0m \u001b[0maxis\u001b[0m\u001b[0;34m=\u001b[0m\u001b[0maxis\u001b[0m\u001b[0;34m,\u001b[0m \u001b[0mskipna\u001b[0m\u001b[0;34m=\u001b[0m\u001b[0mskipna\u001b[0m\u001b[0;34m,\u001b[0m \u001b[0mnumeric_only\u001b[0m\u001b[0;34m=\u001b[0m\u001b[0mnumeric_only\u001b[0m\u001b[0;34m\u001b[0m\u001b[0;34m\u001b[0m\u001b[0m\n\u001b[1;32m  11619\u001b[0m         )\n",
      "\u001b[0;32m/Library/Frameworks/Python.framework/Versions/3.8/lib/python3.8/site-packages/pandas/core/frame.py\u001b[0m in \u001b[0;36m_reduce\u001b[0;34m(self, op, name, axis, skipna, numeric_only, filter_type, **kwds)\u001b[0m\n\u001b[1;32m   7922\u001b[0m             \u001b[0;32mtry\u001b[0m\u001b[0;34m:\u001b[0m\u001b[0;34m\u001b[0m\u001b[0;34m\u001b[0m\u001b[0m\n\u001b[1;32m   7923\u001b[0m                 \u001b[0mvalues\u001b[0m \u001b[0;34m=\u001b[0m \u001b[0mself\u001b[0m\u001b[0;34m.\u001b[0m\u001b[0mvalues\u001b[0m\u001b[0;34m\u001b[0m\u001b[0;34m\u001b[0m\u001b[0m\n\u001b[0;32m-> 7924\u001b[0;31m                 \u001b[0mresult\u001b[0m \u001b[0;34m=\u001b[0m \u001b[0mf\u001b[0m\u001b[0;34m(\u001b[0m\u001b[0mvalues\u001b[0m\u001b[0;34m)\u001b[0m\u001b[0;34m\u001b[0m\u001b[0;34m\u001b[0m\u001b[0m\n\u001b[0m\u001b[1;32m   7925\u001b[0m \u001b[0;34m\u001b[0m\u001b[0m\n\u001b[1;32m   7926\u001b[0m                 \u001b[0;32mif\u001b[0m \u001b[0mfilter_type\u001b[0m \u001b[0;34m==\u001b[0m \u001b[0;34m\"bool\"\u001b[0m \u001b[0;32mand\u001b[0m \u001b[0mis_object_dtype\u001b[0m\u001b[0;34m(\u001b[0m\u001b[0mvalues\u001b[0m\u001b[0;34m)\u001b[0m \u001b[0;32mand\u001b[0m \u001b[0maxis\u001b[0m \u001b[0;32mis\u001b[0m \u001b[0;32mNone\u001b[0m\u001b[0;34m:\u001b[0m\u001b[0;34m\u001b[0m\u001b[0;34m\u001b[0m\u001b[0m\n",
      "\u001b[0;32m/Library/Frameworks/Python.framework/Versions/3.8/lib/python3.8/site-packages/pandas/core/frame.py\u001b[0m in \u001b[0;36mf\u001b[0;34m(x)\u001b[0m\n\u001b[1;32m   7906\u001b[0m \u001b[0;34m\u001b[0m\u001b[0m\n\u001b[1;32m   7907\u001b[0m         \u001b[0;32mdef\u001b[0m \u001b[0mf\u001b[0m\u001b[0;34m(\u001b[0m\u001b[0mx\u001b[0m\u001b[0;34m)\u001b[0m\u001b[0;34m:\u001b[0m\u001b[0;34m\u001b[0m\u001b[0;34m\u001b[0m\u001b[0m\n\u001b[0;32m-> 7908\u001b[0;31m             \u001b[0;32mreturn\u001b[0m \u001b[0mop\u001b[0m\u001b[0;34m(\u001b[0m\u001b[0mx\u001b[0m\u001b[0;34m,\u001b[0m \u001b[0maxis\u001b[0m\u001b[0;34m=\u001b[0m\u001b[0maxis\u001b[0m\u001b[0;34m,\u001b[0m \u001b[0mskipna\u001b[0m\u001b[0;34m=\u001b[0m\u001b[0mskipna\u001b[0m\u001b[0;34m,\u001b[0m \u001b[0;34m**\u001b[0m\u001b[0mkwds\u001b[0m\u001b[0;34m)\u001b[0m\u001b[0;34m\u001b[0m\u001b[0;34m\u001b[0m\u001b[0m\n\u001b[0m\u001b[1;32m   7909\u001b[0m \u001b[0;34m\u001b[0m\u001b[0m\n\u001b[1;32m   7910\u001b[0m         \u001b[0;31m# exclude timedelta/datetime unless we are uniform types\u001b[0m\u001b[0;34m\u001b[0m\u001b[0;34m\u001b[0m\u001b[0;34m\u001b[0m\u001b[0m\n",
      "\u001b[0;32m/Library/Frameworks/Python.framework/Versions/3.8/lib/python3.8/site-packages/pandas/core/nanops.py\u001b[0m in \u001b[0;36m_f\u001b[0;34m(*args, **kwargs)\u001b[0m\n\u001b[1;32m     68\u001b[0m             \u001b[0;32mtry\u001b[0m\u001b[0;34m:\u001b[0m\u001b[0;34m\u001b[0m\u001b[0;34m\u001b[0m\u001b[0m\n\u001b[1;32m     69\u001b[0m                 \u001b[0;32mwith\u001b[0m \u001b[0mnp\u001b[0m\u001b[0;34m.\u001b[0m\u001b[0merrstate\u001b[0m\u001b[0;34m(\u001b[0m\u001b[0minvalid\u001b[0m\u001b[0;34m=\u001b[0m\u001b[0;34m\"ignore\"\u001b[0m\u001b[0;34m)\u001b[0m\u001b[0;34m:\u001b[0m\u001b[0;34m\u001b[0m\u001b[0;34m\u001b[0m\u001b[0m\n\u001b[0;32m---> 70\u001b[0;31m                     \u001b[0;32mreturn\u001b[0m \u001b[0mf\u001b[0m\u001b[0;34m(\u001b[0m\u001b[0;34m*\u001b[0m\u001b[0margs\u001b[0m\u001b[0;34m,\u001b[0m \u001b[0;34m**\u001b[0m\u001b[0mkwargs\u001b[0m\u001b[0;34m)\u001b[0m\u001b[0;34m\u001b[0m\u001b[0;34m\u001b[0m\u001b[0m\n\u001b[0m\u001b[1;32m     71\u001b[0m             \u001b[0;32mexcept\u001b[0m \u001b[0mValueError\u001b[0m \u001b[0;32mas\u001b[0m \u001b[0me\u001b[0m\u001b[0;34m:\u001b[0m\u001b[0;34m\u001b[0m\u001b[0;34m\u001b[0m\u001b[0m\n\u001b[1;32m     72\u001b[0m                 \u001b[0;31m# we want to transform an object array\u001b[0m\u001b[0;34m\u001b[0m\u001b[0;34m\u001b[0m\u001b[0;34m\u001b[0m\u001b[0m\n",
      "\u001b[0;32m/Library/Frameworks/Python.framework/Versions/3.8/lib/python3.8/site-packages/pandas/core/nanops.py\u001b[0m in \u001b[0;36mf\u001b[0;34m(values, axis, skipna, **kwds)\u001b[0m\n\u001b[1;32m    118\u001b[0m                         \u001b[0mresult\u001b[0m \u001b[0;34m=\u001b[0m \u001b[0malt\u001b[0m\u001b[0;34m(\u001b[0m\u001b[0mvalues\u001b[0m\u001b[0;34m,\u001b[0m \u001b[0maxis\u001b[0m\u001b[0;34m=\u001b[0m\u001b[0maxis\u001b[0m\u001b[0;34m,\u001b[0m \u001b[0mskipna\u001b[0m\u001b[0;34m=\u001b[0m\u001b[0mskipna\u001b[0m\u001b[0;34m,\u001b[0m \u001b[0;34m**\u001b[0m\u001b[0mkwds\u001b[0m\u001b[0;34m)\u001b[0m\u001b[0;34m\u001b[0m\u001b[0;34m\u001b[0m\u001b[0m\n\u001b[1;32m    119\u001b[0m                 \u001b[0;32melse\u001b[0m\u001b[0;34m:\u001b[0m\u001b[0;34m\u001b[0m\u001b[0;34m\u001b[0m\u001b[0m\n\u001b[0;32m--> 120\u001b[0;31m                     \u001b[0mresult\u001b[0m \u001b[0;34m=\u001b[0m \u001b[0malt\u001b[0m\u001b[0;34m(\u001b[0m\u001b[0mvalues\u001b[0m\u001b[0;34m,\u001b[0m \u001b[0maxis\u001b[0m\u001b[0;34m=\u001b[0m\u001b[0maxis\u001b[0m\u001b[0;34m,\u001b[0m \u001b[0mskipna\u001b[0m\u001b[0;34m=\u001b[0m\u001b[0mskipna\u001b[0m\u001b[0;34m,\u001b[0m \u001b[0;34m**\u001b[0m\u001b[0mkwds\u001b[0m\u001b[0;34m)\u001b[0m\u001b[0;34m\u001b[0m\u001b[0;34m\u001b[0m\u001b[0m\n\u001b[0m\u001b[1;32m    121\u001b[0m             \u001b[0;32mexcept\u001b[0m \u001b[0mException\u001b[0m\u001b[0;34m:\u001b[0m\u001b[0;34m\u001b[0m\u001b[0;34m\u001b[0m\u001b[0m\n\u001b[1;32m    122\u001b[0m                 \u001b[0;32mtry\u001b[0m\u001b[0;34m:\u001b[0m\u001b[0;34m\u001b[0m\u001b[0;34m\u001b[0m\u001b[0m\n",
      "\u001b[0;32m/Library/Frameworks/Python.framework/Versions/3.8/lib/python3.8/site-packages/pandas/core/nanops.py\u001b[0m in \u001b[0;36mnanmean\u001b[0;34m(values, axis, skipna, mask)\u001b[0m\n\u001b[1;32m    533\u001b[0m     \u001b[0;36m1.5\u001b[0m\u001b[0;34m\u001b[0m\u001b[0;34m\u001b[0m\u001b[0m\n\u001b[1;32m    534\u001b[0m     \"\"\"\n\u001b[0;32m--> 535\u001b[0;31m     values, mask, dtype, dtype_max, _ = _get_values(\n\u001b[0m\u001b[1;32m    536\u001b[0m         \u001b[0mvalues\u001b[0m\u001b[0;34m,\u001b[0m \u001b[0mskipna\u001b[0m\u001b[0;34m,\u001b[0m \u001b[0mfill_value\u001b[0m\u001b[0;34m=\u001b[0m\u001b[0;36m0\u001b[0m\u001b[0;34m,\u001b[0m \u001b[0mmask\u001b[0m\u001b[0;34m=\u001b[0m\u001b[0mmask\u001b[0m\u001b[0;34m\u001b[0m\u001b[0;34m\u001b[0m\u001b[0m\n\u001b[1;32m    537\u001b[0m     )\n",
      "\u001b[0;32m/Library/Frameworks/Python.framework/Versions/3.8/lib/python3.8/site-packages/pandas/core/nanops.py\u001b[0m in \u001b[0;36m_get_values\u001b[0;34m(values, skipna, fill_value, fill_value_typ, mask)\u001b[0m\n\u001b[1;32m    307\u001b[0m \u001b[0;34m\u001b[0m\u001b[0m\n\u001b[1;32m    308\u001b[0m     \u001b[0;32mif\u001b[0m \u001b[0mskipna\u001b[0m \u001b[0;32mand\u001b[0m \u001b[0mcopy\u001b[0m\u001b[0;34m:\u001b[0m\u001b[0;34m\u001b[0m\u001b[0;34m\u001b[0m\u001b[0m\n\u001b[0;32m--> 309\u001b[0;31m         \u001b[0mvalues\u001b[0m \u001b[0;34m=\u001b[0m \u001b[0mvalues\u001b[0m\u001b[0;34m.\u001b[0m\u001b[0mcopy\u001b[0m\u001b[0;34m(\u001b[0m\u001b[0;34m)\u001b[0m\u001b[0;34m\u001b[0m\u001b[0;34m\u001b[0m\u001b[0m\n\u001b[0m\u001b[1;32m    310\u001b[0m         \u001b[0;32mif\u001b[0m \u001b[0mdtype_ok\u001b[0m\u001b[0;34m:\u001b[0m\u001b[0;34m\u001b[0m\u001b[0;34m\u001b[0m\u001b[0m\n\u001b[1;32m    311\u001b[0m             \u001b[0mnp\u001b[0m\u001b[0;34m.\u001b[0m\u001b[0mputmask\u001b[0m\u001b[0;34m(\u001b[0m\u001b[0mvalues\u001b[0m\u001b[0;34m,\u001b[0m \u001b[0mmask\u001b[0m\u001b[0;34m,\u001b[0m \u001b[0mfill_value\u001b[0m\u001b[0;34m)\u001b[0m\u001b[0;34m\u001b[0m\u001b[0;34m\u001b[0m\u001b[0m\n",
      "\u001b[0;31mKeyboardInterrupt\u001b[0m: "
     ]
    }
   ],
   "source": [
    "tfidf.mean(axis=0)"
   ]
  },
  {
   "cell_type": "code",
   "execution_count": null,
   "metadata": {},
   "outputs": [],
   "source": []
  },
  {
   "cell_type": "code",
   "execution_count": null,
   "metadata": {},
   "outputs": [],
   "source": []
  },
  {
   "cell_type": "code",
   "execution_count": null,
   "metadata": {},
   "outputs": [],
   "source": []
  },
  {
   "cell_type": "code",
   "execution_count": 218,
   "metadata": {},
   "outputs": [
    {
     "data": {
      "text/plain": [
       "(30822,)"
      ]
     },
     "execution_count": 218,
     "metadata": {},
     "output_type": "execute_result"
    }
   ],
   "source": [
    "tfidf_mean.shape"
   ]
  },
  {
   "cell_type": "code",
   "execution_count": null,
   "metadata": {},
   "outputs": [],
   "source": []
  },
  {
   "cell_type": "code",
   "execution_count": 220,
   "metadata": {},
   "outputs": [
    {
     "data": {
      "text/plain": [
       "0.252844294441899"
      ]
     },
     "execution_count": 220,
     "metadata": {},
     "output_type": "execute_result"
    }
   ],
   "source": [
    "tfidf_mean.max()"
   ]
  },
  {
   "cell_type": "code",
   "execution_count": 221,
   "metadata": {},
   "outputs": [
    {
     "data": {
      "text/plain": [
       "24680"
      ]
     },
     "execution_count": 221,
     "metadata": {},
     "output_type": "execute_result"
    }
   ],
   "source": [
    "tfidf_mean.argmax()"
   ]
  },
  {
   "cell_type": "code",
   "execution_count": 222,
   "metadata": {},
   "outputs": [
    {
     "data": {
      "text/plain": [
       "array([24680, 20332, 28000, 20084, 22913, 23349, 10801, 23346, 12905,\n",
       "        9118])"
      ]
     },
     "execution_count": 222,
     "metadata": {},
     "output_type": "execute_result"
    }
   ],
   "source": [
    "tfidf_mean.argsort()[-10:][::-1]"
   ]
  },
  {
   "cell_type": "code",
   "execution_count": null,
   "metadata": {},
   "outputs": [],
   "source": []
  },
  {
   "cell_type": "code",
   "execution_count": 131,
   "metadata": {},
   "outputs": [],
   "source": []
  },
  {
   "cell_type": "code",
   "execution_count": 231,
   "metadata": {},
   "outputs": [
    {
     "data": {
      "text/plain": [
       "'case'"
      ]
     },
     "execution_count": 231,
     "metadata": {},
     "output_type": "execute_result"
    }
   ],
   "source": [
    "ind_to_word[9118]"
   ]
  },
  {
   "cell_type": "code",
   "execution_count": 211,
   "metadata": {},
   "outputs": [],
   "source": [
    "c = cluster[:, 3635]"
   ]
  },
  {
   "cell_type": "code",
   "execution_count": 212,
   "metadata": {},
   "outputs": [
    {
     "data": {
      "text/plain": [
       "0.0"
      ]
     },
     "execution_count": 212,
     "metadata": {},
     "output_type": "execute_result"
    }
   ],
   "source": [
    "c.max()"
   ]
  },
  {
   "cell_type": "code",
   "execution_count": 213,
   "metadata": {},
   "outputs": [
    {
     "data": {
      "text/plain": [
       "0.0"
      ]
     },
     "execution_count": 213,
     "metadata": {},
     "output_type": "execute_result"
    }
   ],
   "source": [
    "c.min()"
   ]
  },
  {
   "cell_type": "code",
   "execution_count": 210,
   "metadata": {},
   "outputs": [
    {
     "data": {
      "text/plain": [
       "(4406, 30822)"
      ]
     },
     "execution_count": 210,
     "metadata": {},
     "output_type": "execute_result"
    }
   ],
   "source": [
    "cluster.shape"
   ]
  },
  {
   "cell_type": "code",
   "execution_count": 214,
   "metadata": {},
   "outputs": [
    {
     "data": {
      "text/plain": [
       "array([[0.        , 0.        , 0.        , ..., 0.        , 0.        ,\n",
       "        0.        ],\n",
       "       [0.        , 0.        , 0.        , ..., 0.        , 0.        ,\n",
       "        0.        ],\n",
       "       [0.        , 0.16143788, 0.        , ..., 0.        , 0.        ,\n",
       "        0.        ],\n",
       "       ...,\n",
       "       [0.        , 0.        , 0.        , ..., 0.        , 0.        ,\n",
       "        0.        ],\n",
       "       [0.        , 0.        , 0.        , ..., 0.        , 0.        ,\n",
       "        0.        ],\n",
       "       [0.        , 0.        , 0.        , ..., 0.        , 0.        ,\n",
       "        0.        ]])"
      ]
     },
     "execution_count": 214,
     "metadata": {},
     "output_type": "execute_result"
    }
   ],
   "source": [
    "cluster"
   ]
  },
  {
   "cell_type": "code",
   "execution_count": null,
   "metadata": {},
   "outputs": [],
   "source": []
  },
  {
   "cell_type": "code",
   "execution_count": null,
   "metadata": {},
   "outputs": [],
   "source": []
  },
  {
   "cell_type": "code",
   "execution_count": 173,
   "metadata": {},
   "outputs": [
    {
     "data": {
      "text/plain": [
       "<1x30822 sparse matrix of type '<class 'numpy.float64'>'\n",
       "\twith 163 stored elements in Compressed Sparse Row format>"
      ]
     },
     "execution_count": 173,
     "metadata": {},
     "output_type": "execute_result"
    }
   ],
   "source": [
    "cluster[983]"
   ]
  },
  {
   "cell_type": "code",
   "execution_count": null,
   "metadata": {},
   "outputs": [],
   "source": []
  },
  {
   "cell_type": "code",
   "execution_count": null,
   "metadata": {},
   "outputs": [],
   "source": []
  },
  {
   "cell_type": "code",
   "execution_count": null,
   "metadata": {},
   "outputs": [],
   "source": []
  },
  {
   "cell_type": "code",
   "execution_count": null,
   "metadata": {},
   "outputs": [],
   "source": []
  },
  {
   "cell_type": "code",
   "execution_count": null,
   "metadata": {},
   "outputs": [],
   "source": []
  },
  {
   "cell_type": "code",
   "execution_count": 139,
   "metadata": {},
   "outputs": [
    {
     "data": {
      "text/plain": [
       "1"
      ]
     },
     "execution_count": 139,
     "metadata": {},
     "output_type": "execute_result"
    }
   ],
   "source": [
    "sum([1 for text in rawdata['SYMPTOM_TEXT'].fillna('') if '2019434226' in text])"
   ]
  },
  {
   "cell_type": "code",
   "execution_count": null,
   "metadata": {},
   "outputs": [],
   "source": []
  },
  {
   "cell_type": "code",
   "execution_count": null,
   "metadata": {},
   "outputs": [],
   "source": []
  },
  {
   "cell_type": "code",
   "execution_count": null,
   "metadata": {},
   "outputs": [],
   "source": []
  },
  {
   "cell_type": "code",
   "execution_count": 107,
   "metadata": {},
   "outputs": [
    {
     "data": {
      "text/plain": [
       "7089"
      ]
     },
     "execution_count": 107,
     "metadata": {},
     "output_type": "execute_result"
    }
   ],
   "source": [
    "sum((model.labels_ == 8))"
   ]
  },
  {
   "cell_type": "code",
   "execution_count": null,
   "metadata": {},
   "outputs": [],
   "source": []
  },
  {
   "cell_type": "code",
   "execution_count": null,
   "metadata": {},
   "outputs": [],
   "source": []
  },
  {
   "cell_type": "code",
   "execution_count": 46,
   "metadata": {},
   "outputs": [
    {
     "data": {
      "text/html": [
       "<div>\n",
       "<style scoped>\n",
       "    .dataframe tbody tr th:only-of-type {\n",
       "        vertical-align: middle;\n",
       "    }\n",
       "\n",
       "    .dataframe tbody tr th {\n",
       "        vertical-align: top;\n",
       "    }\n",
       "\n",
       "    .dataframe thead th {\n",
       "        text-align: right;\n",
       "    }\n",
       "</style>\n",
       "<table border=\"1\" class=\"dataframe\">\n",
       "  <thead>\n",
       "    <tr style=\"text-align: right;\">\n",
       "      <th></th>\n",
       "      <th>NUM_DAYS</th>\n",
       "      <th>SYMPTOM_TEXT</th>\n",
       "      <th>CUR_ILL</th>\n",
       "      <th>HISTORY</th>\n",
       "      <th>PRIOR_VAX</th>\n",
       "      <th>BIRTH_DEFECT</th>\n",
       "      <th>SERIOUS</th>\n",
       "    </tr>\n",
       "    <tr>\n",
       "      <th>VAERS_ID</th>\n",
       "      <th></th>\n",
       "      <th></th>\n",
       "      <th></th>\n",
       "      <th></th>\n",
       "      <th></th>\n",
       "      <th></th>\n",
       "      <th></th>\n",
       "    </tr>\n",
       "  </thead>\n",
       "  <tbody>\n",
       "    <tr>\n",
       "      <th>794190</th>\n",
       "      <td>NaN</td>\n",
       "      <td>Information has been received on 19-DEC-2018 r...</td>\n",
       "      <td>NaN</td>\n",
       "      <td>NaN</td>\n",
       "      <td>NaN</td>\n",
       "      <td>NaN</td>\n",
       "      <td>Y</td>\n",
       "    </tr>\n",
       "    <tr>\n",
       "      <th>794191</th>\n",
       "      <td>NaN</td>\n",
       "      <td>Information has been received on 19-DEC-2018 r...</td>\n",
       "      <td>NaN</td>\n",
       "      <td>NaN</td>\n",
       "      <td>NaN</td>\n",
       "      <td>NaN</td>\n",
       "      <td>Y</td>\n",
       "    </tr>\n",
       "    <tr>\n",
       "      <th>794195</th>\n",
       "      <td>NaN</td>\n",
       "      <td>This is a literature case, initially received ...</td>\n",
       "      <td>NaN</td>\n",
       "      <td>Medical History/Concurrent Conditions: Asthma</td>\n",
       "      <td>NaN</td>\n",
       "      <td>NaN</td>\n",
       "      <td>Y</td>\n",
       "    </tr>\n",
       "    <tr>\n",
       "      <th>794197</th>\n",
       "      <td>NaN</td>\n",
       "      <td>As soon as I got the shots and was going to pu...</td>\n",
       "      <td>NaN</td>\n",
       "      <td>Back and neck pain  Depression High blood pres...</td>\n",
       "      <td>NaN</td>\n",
       "      <td>NaN</td>\n",
       "      <td>Y</td>\n",
       "    </tr>\n",
       "    <tr>\n",
       "      <th>794210</th>\n",
       "      <td>NaN</td>\n",
       "      <td>Tdap shot, tar stool, cramps in stomach, letha...</td>\n",
       "      <td>NaN</td>\n",
       "      <td>NaN</td>\n",
       "      <td>NaN</td>\n",
       "      <td>NaN</td>\n",
       "      <td>Y</td>\n",
       "    </tr>\n",
       "    <tr>\n",
       "      <th>794217</th>\n",
       "      <td>NaN</td>\n",
       "      <td>Vomiting started the day after the vaccine. Pa...</td>\n",
       "      <td>none</td>\n",
       "      <td>none</td>\n",
       "      <td>NaN</td>\n",
       "      <td>NaN</td>\n",
       "      <td>Y</td>\n",
       "    </tr>\n",
       "    <tr>\n",
       "      <th>794268</th>\n",
       "      <td>NaN</td>\n",
       "      <td>Simple Febrile Seizure at home, lasting no mor...</td>\n",
       "      <td>None</td>\n",
       "      <td>Macrocrania- monitoring</td>\n",
       "      <td>NaN</td>\n",
       "      <td>NaN</td>\n",
       "      <td>Y</td>\n",
       "    </tr>\n",
       "    <tr>\n",
       "      <th>794271</th>\n",
       "      <td>NaN</td>\n",
       "      <td>Pt is complaining of left upper arm pain/shoul...</td>\n",
       "      <td>none listed</td>\n",
       "      <td>thyroid</td>\n",
       "      <td>NaN</td>\n",
       "      <td>NaN</td>\n",
       "      <td>Y</td>\n",
       "    </tr>\n",
       "    <tr>\n",
       "      <th>794291</th>\n",
       "      <td>NaN</td>\n",
       "      <td>Information has been received from a lawyer re...</td>\n",
       "      <td>NaN</td>\n",
       "      <td>NaN</td>\n",
       "      <td>NaN</td>\n",
       "      <td>NaN</td>\n",
       "      <td>Y</td>\n",
       "    </tr>\n",
       "    <tr>\n",
       "      <th>794330</th>\n",
       "      <td>NaN</td>\n",
       "      <td>Developed fever and diarrhea that evening. Mom...</td>\n",
       "      <td>None</td>\n",
       "      <td>None</td>\n",
       "      <td>NaN</td>\n",
       "      <td>NaN</td>\n",
       "      <td>Y</td>\n",
       "    </tr>\n",
       "    <tr>\n",
       "      <th>794340</th>\n",
       "      <td>NaN</td>\n",
       "      <td>Information has been received from a lawyer re...</td>\n",
       "      <td>Routine health maintenance</td>\n",
       "      <td>NaN</td>\n",
       "      <td>NaN</td>\n",
       "      <td>NaN</td>\n",
       "      <td>Y</td>\n",
       "    </tr>\n",
       "    <tr>\n",
       "      <th>794341</th>\n",
       "      <td>NaN</td>\n",
       "      <td>This initial spontaneous report was received f...</td>\n",
       "      <td>Routine health maintenance</td>\n",
       "      <td>NaN</td>\n",
       "      <td>NaN</td>\n",
       "      <td>NaN</td>\n",
       "      <td>Y</td>\n",
       "    </tr>\n",
       "    <tr>\n",
       "      <th>794349</th>\n",
       "      <td>NaN</td>\n",
       "      <td>After vaccination he had a fever of 103 for 4 ...</td>\n",
       "      <td>7 days prior acute life threatening event/ bri...</td>\n",
       "      <td>none</td>\n",
       "      <td>NaN</td>\n",
       "      <td>NaN</td>\n",
       "      <td>Y</td>\n",
       "    </tr>\n",
       "    <tr>\n",
       "      <th>794350</th>\n",
       "      <td>NaN</td>\n",
       "      <td>5-10 minute long seizure with cyanosis and pos...</td>\n",
       "      <td>none</td>\n",
       "      <td>plagiocephaly and torticollis</td>\n",
       "      <td>NaN</td>\n",
       "      <td>NaN</td>\n",
       "      <td>Y</td>\n",
       "    </tr>\n",
       "    <tr>\n",
       "      <th>794354</th>\n",
       "      <td>NaN</td>\n",
       "      <td>Pain and inflammation in the left arm.</td>\n",
       "      <td>none</td>\n",
       "      <td>NaN</td>\n",
       "      <td>NaN</td>\n",
       "      <td>NaN</td>\n",
       "      <td>Y</td>\n",
       "    </tr>\n",
       "    <tr>\n",
       "      <th>794387</th>\n",
       "      <td>NaN</td>\n",
       "      <td>Per note from ER physician: 10/20/2018. HPI: 5...</td>\n",
       "      <td>Degenerative cervical spinal stenosis; Strabis...</td>\n",
       "      <td>Degenerative cervical spinal stenosis; Strabis...</td>\n",
       "      <td>NaN</td>\n",
       "      <td>NaN</td>\n",
       "      <td>Y</td>\n",
       "    </tr>\n",
       "  </tbody>\n",
       "</table>\n",
       "</div>"
      ],
      "text/plain": [
       "          NUM_DAYS                                       SYMPTOM_TEXT  \\\n",
       "VAERS_ID                                                                \n",
       "794190         NaN  Information has been received on 19-DEC-2018 r...   \n",
       "794191         NaN  Information has been received on 19-DEC-2018 r...   \n",
       "794195         NaN  This is a literature case, initially received ...   \n",
       "794197         NaN  As soon as I got the shots and was going to pu...   \n",
       "794210         NaN  Tdap shot, tar stool, cramps in stomach, letha...   \n",
       "794217         NaN  Vomiting started the day after the vaccine. Pa...   \n",
       "794268         NaN  Simple Febrile Seizure at home, lasting no mor...   \n",
       "794271         NaN  Pt is complaining of left upper arm pain/shoul...   \n",
       "794291         NaN  Information has been received from a lawyer re...   \n",
       "794330         NaN  Developed fever and diarrhea that evening. Mom...   \n",
       "794340         NaN  Information has been received from a lawyer re...   \n",
       "794341         NaN  This initial spontaneous report was received f...   \n",
       "794349         NaN  After vaccination he had a fever of 103 for 4 ...   \n",
       "794350         NaN  5-10 minute long seizure with cyanosis and pos...   \n",
       "794354         NaN             Pain and inflammation in the left arm.   \n",
       "794387         NaN  Per note from ER physician: 10/20/2018. HPI: 5...   \n",
       "\n",
       "                                                    CUR_ILL  \\\n",
       "VAERS_ID                                                      \n",
       "794190                                                  NaN   \n",
       "794191                                                  NaN   \n",
       "794195                                                  NaN   \n",
       "794197                                                  NaN   \n",
       "794210                                                  NaN   \n",
       "794217                                                 none   \n",
       "794268                                                 None   \n",
       "794271                                          none listed   \n",
       "794291                                                  NaN   \n",
       "794330                                                 None   \n",
       "794340                           Routine health maintenance   \n",
       "794341                           Routine health maintenance   \n",
       "794349    7 days prior acute life threatening event/ bri...   \n",
       "794350                                                 none   \n",
       "794354                                                 none   \n",
       "794387    Degenerative cervical spinal stenosis; Strabis...   \n",
       "\n",
       "                                                    HISTORY PRIOR_VAX  \\\n",
       "VAERS_ID                                                                \n",
       "794190                                                  NaN       NaN   \n",
       "794191                                                  NaN       NaN   \n",
       "794195        Medical History/Concurrent Conditions: Asthma       NaN   \n",
       "794197    Back and neck pain  Depression High blood pres...       NaN   \n",
       "794210                                                  NaN       NaN   \n",
       "794217                                                 none       NaN   \n",
       "794268                              Macrocrania- monitoring       NaN   \n",
       "794271                                              thyroid       NaN   \n",
       "794291                                                  NaN       NaN   \n",
       "794330                                                 None       NaN   \n",
       "794340                                                  NaN       NaN   \n",
       "794341                                                  NaN       NaN   \n",
       "794349                                                 none       NaN   \n",
       "794350                        plagiocephaly and torticollis       NaN   \n",
       "794354                                                  NaN       NaN   \n",
       "794387    Degenerative cervical spinal stenosis; Strabis...       NaN   \n",
       "\n",
       "         BIRTH_DEFECT SERIOUS  \n",
       "VAERS_ID                       \n",
       "794190            NaN       Y  \n",
       "794191            NaN       Y  \n",
       "794195            NaN       Y  \n",
       "794197            NaN       Y  \n",
       "794210            NaN       Y  \n",
       "794217            NaN       Y  \n",
       "794268            NaN       Y  \n",
       "794271            NaN       Y  \n",
       "794291            NaN       Y  \n",
       "794330            NaN       Y  \n",
       "794340            NaN       Y  \n",
       "794341            NaN       Y  \n",
       "794349            NaN       Y  \n",
       "794350            NaN       Y  \n",
       "794354            NaN       Y  \n",
       "794387            NaN       Y  "
      ]
     },
     "execution_count": 46,
     "metadata": {},
     "output_type": "execute_result"
    }
   ],
   "source": [
    "data.loc[data.SERIOUS.eq('Y'), ['NUM_DAYS', 'SYMPTOM_TEXT', 'CUR_ILL', 'HISTORY', 'PRIOR_VAX', 'BIRTH_DEFECT', 'SERIOUS']].head(16)"
   ]
  },
  {
   "cell_type": "code",
   "execution_count": 20,
   "metadata": {},
   "outputs": [
    {
     "data": {
      "text/plain": [
       "0        N\n",
       "1        N\n",
       "2        N\n",
       "3        N\n",
       "4        N\n",
       "        ..\n",
       "44339    Y\n",
       "44340    N\n",
       "44341    N\n",
       "44342    N\n",
       "44343    N\n",
       "Length: 44344, dtype: object"
      ]
     },
     "execution_count": 20,
     "metadata": {},
     "output_type": "execute_result"
    }
   ],
   "source": [
    "serious_bool.map({True: 'Y', False: 'N'})"
   ]
  },
  {
   "cell_type": "code",
   "execution_count": null,
   "metadata": {},
   "outputs": [],
   "source": []
  }
 ],
 "metadata": {
  "kernelspec": {
   "display_name": "Python 3",
   "language": "python",
   "name": "python3"
  },
  "language_info": {
   "codemirror_mode": {
    "name": "ipython",
    "version": 3
   },
   "file_extension": ".py",
   "mimetype": "text/x-python",
   "name": "python",
   "nbconvert_exporter": "python",
   "pygments_lexer": "ipython3",
   "version": "3.8.1"
  }
 },
 "nbformat": 4,
 "nbformat_minor": 2
}
