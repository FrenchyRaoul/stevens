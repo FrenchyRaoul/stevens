{
 "cells": [
  {
   "cell_type": "code",
   "execution_count": 6,
   "metadata": {},
   "outputs": [],
   "source": [
    "from concurrent.futures import ThreadPoolExecutor, ProcessPoolExecutor\n",
    "from itertools import product\n",
    "from pandas import DataFrame\n",
    "from pathlib import Path\n",
    "import pickle\n",
    "\n",
    "from trees import run_tree_sort, Tree, Data"
   ]
  },
  {
   "cell_type": "code",
   "execution_count": 7,
   "metadata": {},
   "outputs": [],
   "source": [
    "num_nodes = [10000, 20000, 30000, 40000, 50000, 65000, 80000, 95000, 100000, 110000, 115000, 125000]"
   ]
  },
  {
   "cell_type": "code",
   "execution_count": 8,
   "metadata": {},
   "outputs": [
    {
     "name": "stdout",
     "output_type": "stream",
     "text": [
      "720\n"
     ]
    }
   ],
   "source": [
    "iters = 10\n",
    "\n",
    "parameters = list(product(num_nodes, Data, Tree, range(iters)))\n",
    "print(len(parameters))"
   ]
  },
  {
   "cell_type": "code",
   "execution_count": 9,
   "metadata": {},
   "outputs": [],
   "source": [
    "def get_chunk(size: int, parameters: list):\n",
    "    for start in range(0, len(parameters), size):\n",
    "        yield parameters[start: start+size]"
   ]
  },
  {
   "cell_type": "code",
   "execution_count": 10,
   "metadata": {},
   "outputs": [
    {
     "name": "stdout",
     "output_type": "stream",
     "text": [
      "writing file results_chunk_0_50.p\n",
      "writing file results_chunk_1_50.p\n",
      "writing file results_chunk_2_50.p\n",
      "writing file results_chunk_3_50.p\n",
      "writing file results_chunk_4_50.p\n",
      "writing file results_chunk_5_50.p\n",
      "writing file results_chunk_6_50.p\n",
      "writing file results_chunk_7_50.p\n",
      "writing file results_chunk_8_50.p\n",
      "writing file results_chunk_9_50.p\n",
      "writing file results_chunk_10_50.p\n",
      "writing file results_chunk_11_50.p\n",
      "writing file results_chunk_12_50.p\n",
      "writing file results_chunk_13_50.p\n",
      "writing file results_chunk_14_50.p\n"
     ]
    }
   ],
   "source": [
    "chunk_size = 50\n",
    "\n",
    "chunker = get_chunk(chunk_size, parameters)\n",
    "\n",
    "for n, chunk in enumerate(chunker): \n",
    "    file = Path(f'results_chunk_{n}_{chunk_size}.p')\n",
    "    if file.exists():\n",
    "        continue\n",
    "    \n",
    "    with ProcessPoolExecutor(max_workers=chunk_size) as executor:\n",
    "        futures = [executor.submit(run_tree_sort, *params) for params in chunk]\n",
    "\n",
    "    results = [fut.result() for fut in futures]\n",
    "        \n",
    "    rows = [{'num_nodes': params[0],\n",
    "             'data_type': params[1].name,\n",
    "             'tree_type': params[2].name,\n",
    "             'iteration': params[3],\n",
    "             **result} for params, result in zip(chunk, results)]\n",
    "    \n",
    "    df = DataFrame(rows)\n",
    "    \n",
    "    print(f'writing file {file}')\n",
    "    with open(file, 'wb') as fout:\n",
    "        pickle.dump(df, fout)"
   ]
  },
  {
   "cell_type": "code",
   "execution_count": null,
   "metadata": {},
   "outputs": [],
   "source": []
  },
  {
   "cell_type": "code",
   "execution_count": null,
   "metadata": {},
   "outputs": [],
   "source": []
  },
  {
   "cell_type": "code",
   "execution_count": null,
   "metadata": {},
   "outputs": [],
   "source": []
  },
  {
   "cell_type": "code",
   "execution_count": null,
   "metadata": {},
   "outputs": [],
   "source": []
  },
  {
   "cell_type": "code",
   "execution_count": null,
   "metadata": {},
   "outputs": [],
   "source": []
  },
  {
   "cell_type": "code",
   "execution_count": null,
   "metadata": {},
   "outputs": [],
   "source": []
  },
  {
   "cell_type": "code",
   "execution_count": null,
   "metadata": {},
   "outputs": [],
   "source": []
  },
  {
   "cell_type": "code",
   "execution_count": null,
   "metadata": {},
   "outputs": [],
   "source": []
  },
  {
   "cell_type": "code",
   "execution_count": null,
   "metadata": {},
   "outputs": [],
   "source": []
  }
 ],
 "metadata": {
  "kernelspec": {
   "display_name": "Python 3",
   "language": "python",
   "name": "python3"
  },
  "language_info": {
   "codemirror_mode": {
    "name": "ipython",
    "version": 3
   },
   "file_extension": ".py",
   "mimetype": "text/x-python",
   "name": "python",
   "nbconvert_exporter": "python",
   "pygments_lexer": "ipython3",
   "version": "3.9.7"
  }
 },
 "nbformat": 4,
 "nbformat_minor": 4
}
