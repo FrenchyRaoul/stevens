{
 "cells": [
  {
   "cell_type": "code",
   "execution_count": 1,
   "metadata": {},
   "outputs": [],
   "source": [
    "from concurrent.futures import ThreadPoolExecutor, ProcessPoolExecutor\n",
    "from itertools import product\n",
    "from pandas import DataFrame\n",
    "from pathlib import Path\n",
    "import pickle\n",
    "\n",
    "from sorts import run_sorts, Sorts"
   ]
  },
  {
   "cell_type": "code",
   "execution_count": 2,
   "metadata": {},
   "outputs": [],
   "source": [
    "num_strings = [10, 25, 50, 75, 100, 250, 500, 750, 1000, 2500, 5000, 7500, 10000, 12000, 14000, 16000, 18000, 20000, 22000, 24000, 25000]\n",
    "string_lengths = [25, 35, 45]"
   ]
  },
  {
   "cell_type": "code",
   "execution_count": 3,
   "metadata": {},
   "outputs": [],
   "source": [
    "# iters = 1\n",
    "\n",
    "# results = dict()\n",
    "\n",
    "# for algorithm in Sorts:\n",
    "#     results[algorithm.name] = dict()\n",
    "#     for direction in Direction:\n",
    "#         results[algorithm.name][direction.name] = dict()\n",
    "#         for num_vects, vect_size in product(input_sizes, vect_sizes):\n",
    "#             results[algorithm.name][direction.name][(num_vects, vect_size)] = [run_sorts(num_vects, vect_size, algorithm, direction)['sort'] for _ in range(iters)]"
   ]
  },
  {
   "cell_type": "code",
   "execution_count": 4,
   "metadata": {},
   "outputs": [
    {
     "name": "stdout",
     "output_type": "stream",
     "text": [
      "1260\n"
     ]
    }
   ],
   "source": [
    "iters = 10\n",
    "\n",
    "parameters = list(product(num_strings, string_lengths, Sorts, range(iters)))\n",
    "print(len(parameters))\n",
    "\n",
    "# with open('parameters.p', 'wb') as fout:\n",
    "#     pickle.dump(parameters, fout)"
   ]
  },
  {
   "cell_type": "code",
   "execution_count": 5,
   "metadata": {},
   "outputs": [],
   "source": [
    "def get_chunk(size: int, parameters: list):\n",
    "    for start in range(0, len(parameters), size):\n",
    "        yield parameters[start: start+size]"
   ]
  },
  {
   "cell_type": "code",
   "execution_count": 6,
   "metadata": {},
   "outputs": [
    {
     "name": "stdout",
     "output_type": "stream",
     "text": [
      "writing file results_chunk_1_100.p\n",
      "writing file results_chunk_2_100.p\n",
      "writing file results_chunk_3_100.p\n",
      "writing file results_chunk_4_100.p\n",
      "writing file results_chunk_5_100.p\n",
      "writing file results_chunk_6_100.p\n",
      "writing file results_chunk_7_100.p\n",
      "writing file results_chunk_8_100.p\n",
      "writing file results_chunk_9_100.p\n",
      "writing file results_chunk_10_100.p\n",
      "writing file results_chunk_11_100.p\n",
      "writing file results_chunk_12_100.p\n"
     ]
    }
   ],
   "source": [
    "chunk_size = 100\n",
    "\n",
    "chunker = get_chunk(chunk_size, parameters)\n",
    "\n",
    "for n, chunk in enumerate(chunker): \n",
    "    file = Path(f'results_chunk_{n}_{chunk_size}.p')\n",
    "    if file.exists():\n",
    "        continue\n",
    "    \n",
    "    with ProcessPoolExecutor(max_workers=100) as executor:\n",
    "        futures = [executor.submit(run_sorts, *params) for params in chunk]\n",
    "\n",
    "    results = [fut.result() for fut in futures]\n",
    "        \n",
    "\n",
    "    rows = [{'num_strings': params[0],\n",
    "             'string_length': params[1],\n",
    "             'algorithm': params[2].name,\n",
    "             'iteration': params[3],\n",
    "             'real': result['sort'][0],\n",
    "             'user': result['sort'][1],\n",
    "             'sys':  result['sort'][2]} for params, result in zip(chunk, results)]\n",
    "    \n",
    "    df = DataFrame(rows)\n",
    "    \n",
    "    print(f'writing file {file}')\n",
    "    with open(file, 'wb') as fout:\n",
    "        pickle.dump(df, fout)"
   ]
  },
  {
   "cell_type": "code",
   "execution_count": null,
   "metadata": {},
   "outputs": [],
   "source": []
  },
  {
   "cell_type": "code",
   "execution_count": null,
   "metadata": {},
   "outputs": [],
   "source": []
  },
  {
   "cell_type": "code",
   "execution_count": null,
   "metadata": {},
   "outputs": [],
   "source": []
  },
  {
   "cell_type": "code",
   "execution_count": null,
   "metadata": {},
   "outputs": [],
   "source": []
  },
  {
   "cell_type": "code",
   "execution_count": null,
   "metadata": {},
   "outputs": [],
   "source": []
  },
  {
   "cell_type": "code",
   "execution_count": null,
   "metadata": {},
   "outputs": [],
   "source": []
  },
  {
   "cell_type": "code",
   "execution_count": null,
   "metadata": {},
   "outputs": [],
   "source": []
  },
  {
   "cell_type": "code",
   "execution_count": null,
   "metadata": {},
   "outputs": [],
   "source": []
  },
  {
   "cell_type": "code",
   "execution_count": 21,
   "metadata": {},
   "outputs": [
    {
     "data": {
      "text/plain": [
       "{'generate': ('7ms', '0ms', '0ms'), 'sort': ('14131ms', '13940ms', '80ms')}"
      ]
     },
     "execution_count": 21,
     "metadata": {},
     "output_type": "execute_result"
    }
   ],
   "source": [
    "run_sorts(25000, 35, Sorts.RADIX_INSERTION)"
   ]
  },
  {
   "cell_type": "code",
   "execution_count": 38,
   "metadata": {},
   "outputs": [
    {
     "data": {
      "text/plain": [
       "{'generate': ('11ms', '10ms', '0ms'), 'sort': ('26ms', '20ms', '0ms')}"
      ]
     },
     "execution_count": 38,
     "metadata": {},
     "output_type": "execute_result"
    }
   ],
   "source": [
    "run_sorts(25000, 45, Sorts.RADIX_COUNTING)"
   ]
  },
  {
   "cell_type": "code",
   "execution_count": null,
   "metadata": {},
   "outputs": [],
   "source": []
  },
  {
   "cell_type": "code",
   "execution_count": null,
   "metadata": {},
   "outputs": [],
   "source": []
  },
  {
   "cell_type": "code",
   "execution_count": null,
   "metadata": {},
   "outputs": [],
   "source": []
  },
  {
   "cell_type": "code",
   "execution_count": null,
   "metadata": {},
   "outputs": [],
   "source": []
  },
  {
   "cell_type": "code",
   "execution_count": 8,
   "metadata": {},
   "outputs": [],
   "source": [
    "def average_tuple_samples(tuples: list):\n",
    "    n = len(tuples)\n",
    "    real, user, sys = zip(*tuples)\n",
    "    real = sum(int(time[:-2]) for time in real) / n\n",
    "    user = sum(int(time[:-2]) for time in user) / n\n",
    "    sys = sum(int(time[:-2]) for time in sys) / n\n",
    "    return real, user, sys\n",
    "\n",
    "ave_results = dict()\n",
    "\n",
    "for algorithm, directions in results.items():\n",
    "    ave_results[algorithm] = dict()\n",
    "    for direction, parameters in directions.items():\n",
    "        ave_results[algorithm][direction] = dict()\n",
    "        for n_m, samples in parameters.items():\n",
    "            ave_results[algorithm][direction][n_m] = average_tuple_samples(samples)"
   ]
  },
  {
   "cell_type": "code",
   "execution_count": null,
   "metadata": {},
   "outputs": [],
   "source": []
  },
  {
   "cell_type": "code",
   "execution_count": null,
   "metadata": {},
   "outputs": [],
   "source": []
  },
  {
   "cell_type": "code",
   "execution_count": 9,
   "metadata": {},
   "outputs": [],
   "source": [
    "rows = list()\n",
    "\n",
    "for algorithm, directions in ave_results.items():\n",
    "    for direction, parameters in directions.items():\n",
    "        for (n, m), (real, user, sys) in parameters.items():\n",
    "            rows.append({\n",
    "                'algorithm': algorithm,\n",
    "                'data': direction,\n",
    "                'n': n,\n",
    "                'm': m,\n",
    "                'real': real,\n",
    "                'user': user,\n",
    "                'sys': sys\n",
    "            })\n",
    "df = DataFrame(rows).set_index('algorithm')\n",
    "data_map = {\n",
    "    'RANDOM': \"Random Vector\",\n",
    "    'SORTED': \"Sorted Vector\",\n",
    "    'REVERSE': \"Inverse Sorted Vector\"\n",
    "}\n",
    "df['data'] = df['data'].map(data_map)"
   ]
  },
  {
   "cell_type": "code",
   "execution_count": 10,
   "metadata": {},
   "outputs": [],
   "source": [
    "insertion_data = df.loc['INSERTION']\n",
    "improved_insertion_data = df.loc['INSERTION_IMPROVED']\n",
    "merge_data = df.loc['MERGE']"
   ]
  },
  {
   "cell_type": "code",
   "execution_count": 11,
   "metadata": {},
   "outputs": [
    {
     "data": {
      "text/html": [
       "<div>\n",
       "<style scoped>\n",
       "    .dataframe tbody tr th:only-of-type {\n",
       "        vertical-align: middle;\n",
       "    }\n",
       "\n",
       "    .dataframe tbody tr th {\n",
       "        vertical-align: top;\n",
       "    }\n",
       "\n",
       "    .dataframe thead tr th {\n",
       "        text-align: left;\n",
       "    }\n",
       "\n",
       "    .dataframe thead tr:last-of-type th {\n",
       "        text-align: right;\n",
       "    }\n",
       "</style>\n",
       "<table border=\"1\" class=\"dataframe\">\n",
       "  <thead>\n",
       "    <tr>\n",
       "      <th>n</th>\n",
       "      <th colspan=\"3\" halign=\"left\">10</th>\n",
       "      <th colspan=\"3\" halign=\"left\">20</th>\n",
       "    </tr>\n",
       "    <tr>\n",
       "      <th>data</th>\n",
       "      <th>Inverse Sorted Vector</th>\n",
       "      <th>Random Vector</th>\n",
       "      <th>Sorted Vector</th>\n",
       "      <th>Inverse Sorted Vector</th>\n",
       "      <th>Random Vector</th>\n",
       "      <th>Sorted Vector</th>\n",
       "    </tr>\n",
       "    <tr>\n",
       "      <th>m</th>\n",
       "      <th></th>\n",
       "      <th></th>\n",
       "      <th></th>\n",
       "      <th></th>\n",
       "      <th></th>\n",
       "      <th></th>\n",
       "    </tr>\n",
       "  </thead>\n",
       "  <tbody>\n",
       "    <tr>\n",
       "      <th>10</th>\n",
       "      <td>0.0</td>\n",
       "      <td>0.0</td>\n",
       "      <td>0.0</td>\n",
       "      <td>0.0</td>\n",
       "      <td>0.0</td>\n",
       "      <td>0.0</td>\n",
       "    </tr>\n",
       "    <tr>\n",
       "      <th>25</th>\n",
       "      <td>0.0</td>\n",
       "      <td>0.0</td>\n",
       "      <td>0.0</td>\n",
       "      <td>0.0</td>\n",
       "      <td>0.0</td>\n",
       "      <td>0.0</td>\n",
       "    </tr>\n",
       "  </tbody>\n",
       "</table>\n",
       "</div>"
      ],
      "text/plain": [
       "n                       10                                                20  \\\n",
       "data Inverse Sorted Vector Random Vector Sorted Vector Inverse Sorted Vector   \n",
       "m                                                                              \n",
       "10                     0.0           0.0           0.0                   0.0   \n",
       "25                     0.0           0.0           0.0                   0.0   \n",
       "\n",
       "n                                 \n",
       "data Random Vector Sorted Vector  \n",
       "m                                 \n",
       "10             0.0           0.0  \n",
       "25             0.0           0.0  "
      ]
     },
     "execution_count": 11,
     "metadata": {},
     "output_type": "execute_result"
    }
   ],
   "source": [
    "insertion_data.pivot_table(index='m', columns=['n', 'data'], values='real')"
   ]
  },
  {
   "cell_type": "code",
   "execution_count": 12,
   "metadata": {},
   "outputs": [
    {
     "data": {
      "text/html": [
       "<div>\n",
       "<style scoped>\n",
       "    .dataframe tbody tr th:only-of-type {\n",
       "        vertical-align: middle;\n",
       "    }\n",
       "\n",
       "    .dataframe tbody tr th {\n",
       "        vertical-align: top;\n",
       "    }\n",
       "\n",
       "    .dataframe thead tr th {\n",
       "        text-align: left;\n",
       "    }\n",
       "\n",
       "    .dataframe thead tr:last-of-type th {\n",
       "        text-align: right;\n",
       "    }\n",
       "</style>\n",
       "<table border=\"1\" class=\"dataframe\">\n",
       "  <thead>\n",
       "    <tr>\n",
       "      <th>n</th>\n",
       "      <th colspan=\"3\" halign=\"left\">10</th>\n",
       "      <th colspan=\"3\" halign=\"left\">20</th>\n",
       "    </tr>\n",
       "    <tr>\n",
       "      <th>data</th>\n",
       "      <th>Inverse Sorted Vector</th>\n",
       "      <th>Random Vector</th>\n",
       "      <th>Sorted Vector</th>\n",
       "      <th>Inverse Sorted Vector</th>\n",
       "      <th>Random Vector</th>\n",
       "      <th>Sorted Vector</th>\n",
       "    </tr>\n",
       "    <tr>\n",
       "      <th>m</th>\n",
       "      <th></th>\n",
       "      <th></th>\n",
       "      <th></th>\n",
       "      <th></th>\n",
       "      <th></th>\n",
       "      <th></th>\n",
       "    </tr>\n",
       "  </thead>\n",
       "  <tbody>\n",
       "    <tr>\n",
       "      <th>10</th>\n",
       "      <td>0.0</td>\n",
       "      <td>0.0</td>\n",
       "      <td>0.0</td>\n",
       "      <td>0.0</td>\n",
       "      <td>0.0</td>\n",
       "      <td>0.0</td>\n",
       "    </tr>\n",
       "    <tr>\n",
       "      <th>25</th>\n",
       "      <td>0.0</td>\n",
       "      <td>0.0</td>\n",
       "      <td>0.0</td>\n",
       "      <td>0.0</td>\n",
       "      <td>0.0</td>\n",
       "      <td>0.0</td>\n",
       "    </tr>\n",
       "  </tbody>\n",
       "</table>\n",
       "</div>"
      ],
      "text/plain": [
       "n                       10                                                20  \\\n",
       "data Inverse Sorted Vector Random Vector Sorted Vector Inverse Sorted Vector   \n",
       "m                                                                              \n",
       "10                     0.0           0.0           0.0                   0.0   \n",
       "25                     0.0           0.0           0.0                   0.0   \n",
       "\n",
       "n                                 \n",
       "data Random Vector Sorted Vector  \n",
       "m                                 \n",
       "10             0.0           0.0  \n",
       "25             0.0           0.0  "
      ]
     },
     "execution_count": 12,
     "metadata": {},
     "output_type": "execute_result"
    }
   ],
   "source": [
    "improved_insertion_data.pivot_table(index='m', columns=['n', 'data'], values='real')"
   ]
  },
  {
   "cell_type": "code",
   "execution_count": 13,
   "metadata": {},
   "outputs": [
    {
     "data": {
      "text/html": [
       "<div>\n",
       "<style scoped>\n",
       "    .dataframe tbody tr th:only-of-type {\n",
       "        vertical-align: middle;\n",
       "    }\n",
       "\n",
       "    .dataframe tbody tr th {\n",
       "        vertical-align: top;\n",
       "    }\n",
       "\n",
       "    .dataframe thead tr th {\n",
       "        text-align: left;\n",
       "    }\n",
       "\n",
       "    .dataframe thead tr:last-of-type th {\n",
       "        text-align: right;\n",
       "    }\n",
       "</style>\n",
       "<table border=\"1\" class=\"dataframe\">\n",
       "  <thead>\n",
       "    <tr>\n",
       "      <th>n</th>\n",
       "      <th colspan=\"3\" halign=\"left\">10</th>\n",
       "      <th colspan=\"3\" halign=\"left\">20</th>\n",
       "    </tr>\n",
       "    <tr>\n",
       "      <th>data</th>\n",
       "      <th>Inverse Sorted Vector</th>\n",
       "      <th>Random Vector</th>\n",
       "      <th>Sorted Vector</th>\n",
       "      <th>Inverse Sorted Vector</th>\n",
       "      <th>Random Vector</th>\n",
       "      <th>Sorted Vector</th>\n",
       "    </tr>\n",
       "    <tr>\n",
       "      <th>m</th>\n",
       "      <th></th>\n",
       "      <th></th>\n",
       "      <th></th>\n",
       "      <th></th>\n",
       "      <th></th>\n",
       "      <th></th>\n",
       "    </tr>\n",
       "  </thead>\n",
       "  <tbody>\n",
       "    <tr>\n",
       "      <th>10</th>\n",
       "      <td>0.0</td>\n",
       "      <td>0.0</td>\n",
       "      <td>0.0</td>\n",
       "      <td>0.0</td>\n",
       "      <td>0.0</td>\n",
       "      <td>0.0</td>\n",
       "    </tr>\n",
       "    <tr>\n",
       "      <th>25</th>\n",
       "      <td>0.0</td>\n",
       "      <td>0.0</td>\n",
       "      <td>0.0</td>\n",
       "      <td>0.0</td>\n",
       "      <td>0.0</td>\n",
       "      <td>0.0</td>\n",
       "    </tr>\n",
       "  </tbody>\n",
       "</table>\n",
       "</div>"
      ],
      "text/plain": [
       "n                       10                                                20  \\\n",
       "data Inverse Sorted Vector Random Vector Sorted Vector Inverse Sorted Vector   \n",
       "m                                                                              \n",
       "10                     0.0           0.0           0.0                   0.0   \n",
       "25                     0.0           0.0           0.0                   0.0   \n",
       "\n",
       "n                                 \n",
       "data Random Vector Sorted Vector  \n",
       "m                                 \n",
       "10             0.0           0.0  \n",
       "25             0.0           0.0  "
      ]
     },
     "execution_count": 13,
     "metadata": {},
     "output_type": "execute_result"
    }
   ],
   "source": [
    "merge_data.pivot_table(index='m', columns=['n', 'data'], values='real')"
   ]
  },
  {
   "cell_type": "code",
   "execution_count": null,
   "metadata": {},
   "outputs": [],
   "source": []
  },
  {
   "cell_type": "code",
   "execution_count": null,
   "metadata": {},
   "outputs": [],
   "source": []
  }
 ],
 "metadata": {
  "kernelspec": {
   "display_name": "Python 3",
   "language": "python",
   "name": "python3"
  },
  "language_info": {
   "codemirror_mode": {
    "name": "ipython",
    "version": 3
   },
   "file_extension": ".py",
   "mimetype": "text/x-python",
   "name": "python",
   "nbconvert_exporter": "python",
   "pygments_lexer": "ipython3",
   "version": "3.9.7"
  }
 },
 "nbformat": 4,
 "nbformat_minor": 4
}
